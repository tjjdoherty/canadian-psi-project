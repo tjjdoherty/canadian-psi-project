{
 "cells": [
  {
   "cell_type": "markdown",
   "metadata": {},
   "source": [
    "# Feb 2025 version - Enrolment by Program, Credential type and Field of Study"
   ]
  },
  {
   "cell_type": "markdown",
   "metadata": {},
   "source": [
    "## Introduction\n",
    "\n",
    "**Goal of this workbook:**\n",
    "\n",
    "Following on from looking at domestic and international enrolment, this notebook examines program and credential specific enrolment including field of study. This is to get a more precise understanding of programs and their enrolment contributing to tuition fee revenue, which may be at risk. \n",
    "\n",
    "Source:\n",
    "[StatCan: Postsecondary enrolments, by detailed field of study, institution, and program and student characteristics](https://www150.statcan.gc.ca/t1/tbl1/en/cv.action?pid=3710027701)\n",
    "\n",
    "The new Federal IRCC rules of 2024 restricts the number of international study permits issued and Post-Graduate Work Permits (PGWP) availability, according to the program/credential type, length of the program and field of study. The field-of-study requirement further complicates the picture of enrolment and revenue changes for specific schools and offers another dimension to this situation - which programs and fields of study have proliferated and are they what the government believes we are most in need of?\n",
    "\n",
    "For clarity and ease of reference I will lay out the current guides & updates with source immediately below."
   ]
  },
  {
   "cell_type": "markdown",
   "metadata": {},
   "source": [
    "### IRCC Sources, Notices, definitions and targets (close when not needed)"
   ]
  },
  {
   "cell_type": "markdown",
   "metadata": {},
   "source": [
    "1. [PGWP: Who can apply, eligible Program types and Field of study requirements, current](https://www.canada.ca/en/immigration-refugees-citizenship/services/study-canada/work/after-graduation/eligibility.html)\n",
    "    - **Bachelor's, Master's or Doctoral degrees from a university have no field of study requirement**\n",
    "    - All other university programs and college programs must graduate in an eligible field of study. Fields of study are clasisfied by a six-digit [Classification of Instructional Programs (CIP) code](https://www23.statcan.gc.ca/imdb/p3VD.pl?Function=getVD&TVD=1420413) with a leading two-digit code followed by a trailing four-digit specifier, e.g. 14 is engineering, 14.1901 is Mechanical Engineering.\n",
    "    \n",
    "    - The PGWP eligible fields of study ([link to CIP codes](https://www.canada.ca/en/immigration-refugees-citizenship/services/study-canada/work/after-graduation/eligibility.html#field-of-study)) are:\n",
    "        - Agriculture and agri-food\n",
    "        - Education\n",
    "        - Healthcare\n",
    "        - Science, technology, engineering and mathematics (STEM)\n",
    "        - Trades (electrician, HVAC etc)\n",
    "        - Transport\n",
    "\n",
    "2. [2025 allocations under the international student cap; Jan 24, 2025](https://www.canada.ca/en/immigration-refugees-citizenship/news/notices/2025-provincial-territorial-allocations-under-international-student-cap.html)\n",
    "    - 437,000 total study permits for 2025, a 10% decrease from the 2024 cap. \n",
    "    - Master's & Doctoral students now required to submit a PAL as well but extra space has been made specifically for those programs.\n",
    "\n",
    "    - \"**Considering growth in the graduate international student sector has been sustainable**...2025 graduate student sub-allocation is based on the number of study permits that [provinces] respectively issued to graduate students in 2023\". This is an indirect admission that there is specific program-type mismanagement to be identified here.\n",
    "    - 2025 National Targets for study permits:\n",
    "        - **73.2k graduate degree students (PAL Required)**\n",
    "        - **243k permits for remaining PAL/TAL required programs for a total of 316k from PAL required groups**\n",
    "        - Exempt categories: 72.2k issued to K-12 and 48.5k to other PAL, for a grand total of 437k\n",
    "\n",
    "        - **Provincial/Terr Allocations** below are the maximum number of permits that will be processed, assuming an average approval rate from each province/territory (looks to be around 66%). The anticipated number of study permits issued by IRCC is lower than these maxima and will sum to 316k expected. Both the allocation and approved estimates will be added as data here.\n",
    "            - (Graduate, All Other, *Total*)\n",
    "            - AB: 5256, 42082, *47338*\n",
    "            - BC: 28333, 47754, *76087*\n",
    "            - MB: 1980, 16611, *18591*\n",
    "            - NB: 3112, 11673, *14785*\n",
    "            - NL: 2648, 6534, *9182*\n",
    "            - NT: 0, 705, *705*\n",
    "            - NS: 4191, 14411, *18602*\n",
    "            - NU: 0, 0, *0*\n",
    "            - ON: 32579, 149011, *181590*\n",
    "            - PE: 391, 2044, *2435*\n",
    "            - QC: 38786, 123956, *162742*\n",
    "            - SK: 2791, 14850, *17641*\n",
    "            - YT: 1, 463, *464*\n",
    "\n",
    "3. [Additional information about the International Student Program reforms; February 5, 2024](https://www.canada.ca/en/immigration-refugees-citizenship/news/notices/international-student-program-reform-more-information.html)\n",
    "    - Most study permit applications to the federal govt must include a Provincial Attestation Letter (PAL) provided by the province (on behalf of their school/PSI, PALs distributed to PSIs by province)\n",
    "        - The PAL is the accounting metric that ensures new int'l student numbers are accurate\n",
    "    - PAL Required: most non-degree graduate programs (certificates & diplomas); most post-secondary study permit apps\n",
    "    - PAL NOT Required: primary & secondary students, master's or doctoral degree students; in-Canada study permit holders\n",
    "    - Masters degree graduates now get a 3 year PGWP\n",
    "    - New students at public-private partnership college programs now ineligible for PGWP\n",
    "        - Check [CBC data](https://www.cbc.ca/news/canada/toronto/international-student-study-permits-data-1.7125827#Full%20data) - schools that have a public/private partnership, check their enrolment; is it disproportionately lower than those without, all else equal/similar?\n",
    "\n",
    "4. [Original IRCC statement; January 24, 2024](https://www.canada.ca/en/immigration-refugees-citizenship/news/2024/01/canada-to-stabilize-growth-and-decrease-number-of-new-international-student-permits-issued-to-approximately-360000-for-2024.html).\n",
    "    - **360,000 approved study permits** for 2024, a decrease of 35% from 2023\n",
    "    - *\"Those pursuing master’s and doctoral degrees, and elementary and secondary education are not included in the cap.\"*\n",
    "    - Portion of the cap allocated to each province/territory\n",
    "\n",
    "#### Older releases:\n",
    "5. [Distance Learning in COVID-19; May 14, 2020](https://www.canada.ca/en/immigration-refugees-citizenship/news/notices/pgwpp-rules-covid19.html)\n",
    "    - PGWP eligibility was not affected by students whose fall 2020 courses will be online due to COVID. Students may begin their classes while outside Canada and complete up to 50% of their program via distance learning if they cannot travel to Canada sooner. No time deducted from length of future PGWP for studies outside of Canada.\n",
    "    - Good evidence that any variation in international enrolment in 2020-21 is not work-permit related, with the long term incentive of a path to permanent residence not removed at the federal level."
   ]
  },
  {
   "cell_type": "markdown",
   "metadata": {},
   "source": [
    "### **Important notes**\n",
    "\n",
    "1. Statcan's Classification of program types [is here](https://www23.statcan.gc.ca/imdb/p3VD.pl?Function=getVD&TVD=1252482&CVD=1252483&CLV=0&MLV=2&D=1). \n",
    "    - **Graduate (second cycle) means Master's programs, or programs that otherwise require a Bachelor's degree**\n",
    "    - **Graduate (third cycle) is PhD**\n",
    "    - Certificates and Diplomas are inconsistent and have different criteria in different provinces, see pt. 4\n",
    "\n",
    "2. I'm using **up to 2022/23 enrolment data, and 2023/2024 tuition fee figures**, the latest available. From there we can update with live data on enrolment as it becomes official, and project scenarios with hypothetical declines in student enrolment to estimate revenue changes into the future.\n",
    "\n",
    "3. The easiest distinction is at Program Type, between undergraduate and graduate degrees for their tuition fee costs. However, you need to look at Credential Type for certificates and diplomas (popular at the colleges)\n",
    "\n",
    "4. There is inconsistency in where graduate diplomas/certificates sit in 'program type'.\n",
    "    - For example there are 509,000 Credential type: Diploma students across all of Canada in 22/23 and 386k of them are in 'Career, Technical or Professional Training Program' Program Type. 85k of these are sitting under 'Pre-University Program' (of 87k total in the Pre-uni category) which makes me think there are PSIs classifying a High School diploma, which wouldn't impact tuition fees. The remaining 55k are scattered across various other program types\n",
    "    - Certificate credentials are clearer - of 190k in Canada, almost all are captured in the 'Career, Technical or Professional Training Program', 'Post Career, Technical or Professional Training Program' or Undergraduate.\n",
    "    - *Post career, technical or professional training program* specifically includes **Ontario graduate certificate programs**\n",
    "\n",
    "5. I only imported the student enrolment from full programs - there were around 100,000 enrolments (out of 2.2m total enrolments in all programs) in 'non-program' some were non credit, some undergraduate, some graduate, I assume this meant students taking individual classes to complete programs at a later date, and not an end-to-end program enrolment on a schedule.\n",
    "6. The above analysis was done on full-time and part time students. As with my analysis earlier, I am only taking full-time PSI student data (a total of 1.7m in Canada)\n",
    "\n",
    "\n",
    "All this is to say the calculations here will be estimates at best, with the heavy lifting being done by the difference between domestic and international tuition fees mostly at the undergraduate and graduate degree level, as these are the most numerous and require somewhat less granularity than fees for certificates/diplomas."
   ]
  },
  {
   "cell_type": "markdown",
   "metadata": {},
   "source": [
    "## Imports"
   ]
  },
  {
   "cell_type": "code",
   "execution_count": 3,
   "metadata": {},
   "outputs": [],
   "source": [
    "import pandas as pd\n",
    "import numpy as np\n",
    "import seaborn as sns\n",
    "import plotly.graph_objects as go\n",
    "import plotly.express as px\n",
    "\n",
    "# for the preprocessing pipeline and variables to verify enrolment numbers align\n",
    "import import_ipynb\n",
    "import domestic_intl"
   ]
  },
  {
   "cell_type": "markdown",
   "metadata": {},
   "source": [
    "## Data for Program type enrolment"
   ]
  },
  {
   "cell_type": "markdown",
   "metadata": {},
   "source": [
    "Adding enrolment by program types and international/domestic students - [enrolment by program type and status of student in Canada](https://www150.statcan.gc.ca/t1/tbl1/en/cv.action?pid=3710027701). \n",
    "\n",
    "**Important notes**\n",
    "\n",
    "1. Classification of program types [is here](https://www23.statcan.gc.ca/imdb/p3VD.pl?Function=getVD&TVD=1252482&CVD=1252483&CLV=0&MLV=2&D=1). \n",
    "    - **Graduate (second cycle) means Master's programs, or those that otherwise require a Bachelor's degree**\n",
    "    - **Graduate (third cycle) is PhD**\n",
    "    - Certificates and Diplomas are inconsistent and have different criteria in different provinces, see pt. 4\n",
    "\n",
    "2. I'm using **2016-17 to 2022-2023 enrolment data**, the latest available. \n",
    "    \n",
    "\n",
    "3. The easiest distinction is at Program Type, between undergraduate and graduate degrees for their tuition fee costs. However, you need to look at Credential Type for certificates and diplomas (popular at the colleges)\n",
    "\n",
    "4. There is inconsistency in where graduate diplomas/certificates sit in 'program type'.\n",
    "    - For example there are 509,000 Credential type: Diploma students across all of Canada in 22/23 and 386k of them are in 'Career, Technical or Professional Training Program' Program Type. 85k of these are sitting under 'Pre-University Program' (of 87k total in the Pre-uni category) which makes me think there are PSIs classifying a High School diploma, which wouldn't impact tuition fees. The remaining 55k are scattered across various other program types\n",
    "    - Certificate credentials are clearer - of 190k in Canada, almost all are captured in the 'Career, Technical or Professional Training Program', 'Post Career, Technical or Professional Training Program' or Undergraduate.\n",
    "    - *Post career, technical or professional training program* specifically includes **Ontario graduate certificate programs**\n",
    "\n",
    "5. I only imported the student enrolment from full programs - in 22-23 there were around 100,000 enrolments (out of 2.2m total enrolments in all programs) in 'non-program' some were non credit, some undergraduate, some graduate, I assume this meant students taking individual classes to complete programs at a later date, and not an end-to-end program enrolment on a schedule.\n",
    "6. The above analysis was done on full-time and part time students. As with my analysis earlier, I am only taking full-time PSI student data (a total of 1.7m in Canada)\n",
    "\n",
    "\n",
    "All this is to say the calculations here will be estimates at best, with the heavy lifting being done by the difference between domestic and international tuition fees mostly at the undergraduate and graduate degree level, as these are the most numerous and require somewhat less granularity than fees for certificates/diplomas."
   ]
  },
  {
   "cell_type": "code",
   "execution_count": 4,
   "metadata": {},
   "outputs": [
    {
     "data": {
      "text/plain": [
       "1741692"
      ]
     },
     "execution_count": 4,
     "metadata": {},
     "output_type": "execute_result"
    }
   ],
   "source": [
    "canada_dom = domestic_intl.canada_dom\n",
    "canada_intl = domestic_intl.canada_intl\n",
    "\n",
    "# point 5 above \"a total of 1.7m Full-time students in 2022\" what does the data from earlier say? This was only done on fulltime students.\n",
    "canada_dom[canada_dom['FY Start'] == 2022]['Enrolment'].sum() + canada_intl[canada_intl['FY Start'] == 2022]['Enrolment'].sum()"
   ]
  },
  {
   "cell_type": "markdown",
   "metadata": {},
   "source": [
    "Above - confirms 1.74m students in earlier data (looking at enrolment numbers directly) which checks out with this data here on programs"
   ]
  },
  {
   "cell_type": "markdown",
   "metadata": {},
   "source": [
    "## StatCan data on postsecondary enrolments by field of study, institution, and program and student characteristics\n",
    "\n",
    "[Source](https://www150.statcan.gc.ca/t1/tbl1/en/cv.action?pid=3710027701)"
   ]
  },
  {
   "cell_type": "markdown",
   "metadata": {},
   "source": [
    "From the source, the following data were removed / not specified in order to not exceed the 2 million data point download limit from StatCan:\n",
    "\n",
    "- Geography and institutions:\n",
    "    - Province level enrolment was collected, but not individual institutions.\n",
    "\n",
    "- Field of Study:\n",
    "    - Sub-CIP code Program enrolment were not specifically collected, e.g. CIP 01 Agriculture enrolment was collected, but Plant Sciences [01.11] was not specifically collected, and would only appear in the aggregate CIP 01 Enrolment data\n",
    "\n",
    "- Program Type\n",
    "    - Basic Education and Skills Program enrolment was not specifically collected\n",
    "    - non-programs were not collected\n",
    "\n",
    "- Credential Type\n",
    "    - GED / High School Diploma specific enrolment was not collected\n",
    "    - Attestation or other short program credentials were not collected\n",
    "\n",
    "- Registration Status\n",
    "    - As before, only Full-time students are collected, not Part-time\n",
    "\n",
    "- Status of Student in Canada\n",
    "    - Canadian students, International Students and Not reported were collected as individual categories, but not as a total aggregated number because I'd like to examine differences in program/credential enrolment and growth of such along international/domestic lines\n",
    "\n",
    "- Reference period\n",
    "    - Years 2016/17 to years 2022/23 were collected\n",
    "\n",
    "Once sufficient areas have been eliminated we can drill down more on institutions or specific fields if warranted."
   ]
  },
  {
   "cell_type": "code",
   "execution_count": 5,
   "metadata": {},
   "outputs": [],
   "source": [
    "# import the new csv file\n",
    "progs = pd.read_csv('/Users/thomasdoherty/Desktop/canadian-psi-project/psi_data/statcan_data/progs_credentials_fields.csv')"
   ]
  },
  {
   "cell_type": "code",
   "execution_count": 6,
   "metadata": {},
   "outputs": [
    {
     "data": {
      "text/html": [
       "<div>\n",
       "<style scoped>\n",
       "    .dataframe tbody tr th:only-of-type {\n",
       "        vertical-align: middle;\n",
       "    }\n",
       "\n",
       "    .dataframe tbody tr th {\n",
       "        vertical-align: top;\n",
       "    }\n",
       "\n",
       "    .dataframe thead th {\n",
       "        text-align: right;\n",
       "    }\n",
       "</style>\n",
       "<table border=\"1\" class=\"dataframe\">\n",
       "  <thead>\n",
       "    <tr style=\"text-align: right;\">\n",
       "      <th></th>\n",
       "      <th>REF_DATE</th>\n",
       "      <th>GEO</th>\n",
       "      <th>DGUID</th>\n",
       "      <th>Field of study</th>\n",
       "      <th>Program type</th>\n",
       "      <th>Credential type</th>\n",
       "      <th>Institution type</th>\n",
       "      <th>Registration status</th>\n",
       "      <th>Status of student in Canada</th>\n",
       "      <th>Gender</th>\n",
       "      <th>...</th>\n",
       "      <th>UOM_ID</th>\n",
       "      <th>SCALAR_FACTOR</th>\n",
       "      <th>SCALAR_ID</th>\n",
       "      <th>VECTOR</th>\n",
       "      <th>COORDINATE</th>\n",
       "      <th>VALUE</th>\n",
       "      <th>STATUS</th>\n",
       "      <th>SYMBOL</th>\n",
       "      <th>TERMINATED</th>\n",
       "      <th>DECIMALS</th>\n",
       "    </tr>\n",
       "  </thead>\n",
       "  <tbody>\n",
       "    <tr>\n",
       "      <th>46459</th>\n",
       "      <td>2019/2020</td>\n",
       "      <td>Ontario</td>\n",
       "      <td>2021A000235</td>\n",
       "      <td>Engineering/engineering-related technologies/t...</td>\n",
       "      <td>Qualifying program for career, technical or pr...</td>\n",
       "      <td>Total, credential type</td>\n",
       "      <td>Total, institution type</td>\n",
       "      <td>Full-time student</td>\n",
       "      <td>Canadian students</td>\n",
       "      <td>Total, gender</td>\n",
       "      <td>...</td>\n",
       "      <td>223</td>\n",
       "      <td>units</td>\n",
       "      <td>0</td>\n",
       "      <td>v1611404508</td>\n",
       "      <td>125.131.3.1.1.2.2.1</td>\n",
       "      <td>3</td>\n",
       "      <td>NaN</td>\n",
       "      <td>NaN</td>\n",
       "      <td>NaN</td>\n",
       "      <td>0</td>\n",
       "    </tr>\n",
       "    <tr>\n",
       "      <th>66428</th>\n",
       "      <td>2022/2023</td>\n",
       "      <td>Saskatchewan</td>\n",
       "      <td>2021A000247</td>\n",
       "      <td>History [54.]</td>\n",
       "      <td>Graduate program (second cycle)</td>\n",
       "      <td>Total, credential type</td>\n",
       "      <td>Total, institution type</td>\n",
       "      <td>Full-time student</td>\n",
       "      <td>Canadian students</td>\n",
       "      <td>Total, gender</td>\n",
       "      <td>...</td>\n",
       "      <td>223</td>\n",
       "      <td>units</td>\n",
       "      <td>0</td>\n",
       "      <td>v1614384161</td>\n",
       "      <td>188.462.13.1.1.2.2.1</td>\n",
       "      <td>18</td>\n",
       "      <td>NaN</td>\n",
       "      <td>NaN</td>\n",
       "      <td>NaN</td>\n",
       "      <td>0</td>\n",
       "    </tr>\n",
       "    <tr>\n",
       "      <th>62177</th>\n",
       "      <td>2022/2023</td>\n",
       "      <td>Saskatchewan</td>\n",
       "      <td>2021A000247</td>\n",
       "      <td>Education [13.]</td>\n",
       "      <td>Graduate program (second cycle)</td>\n",
       "      <td>Certificate</td>\n",
       "      <td>Total, institution type</td>\n",
       "      <td>Full-time student</td>\n",
       "      <td>Canadian students</td>\n",
       "      <td>Total, gender</td>\n",
       "      <td>...</td>\n",
       "      <td>223</td>\n",
       "      <td>units</td>\n",
       "      <td>0</td>\n",
       "      <td>v1614264804</td>\n",
       "      <td>188.73.13.3.1.2.2.1</td>\n",
       "      <td>3</td>\n",
       "      <td>NaN</td>\n",
       "      <td>NaN</td>\n",
       "      <td>NaN</td>\n",
       "      <td>0</td>\n",
       "    </tr>\n",
       "    <tr>\n",
       "      <th>80952</th>\n",
       "      <td>2020/2021</td>\n",
       "      <td>British Columbia</td>\n",
       "      <td>2021A000259</td>\n",
       "      <td>Visual and performing arts [50.]</td>\n",
       "      <td>Post career, technical or professional trainin...</td>\n",
       "      <td>Total, credential type</td>\n",
       "      <td>Total, institution type</td>\n",
       "      <td>Full-time student</td>\n",
       "      <td>International students</td>\n",
       "      <td>Total, gender</td>\n",
       "      <td>...</td>\n",
       "      <td>223</td>\n",
       "      <td>units</td>\n",
       "      <td>0</td>\n",
       "      <td>v1615484919</td>\n",
       "      <td>226.392.5.1.1.2.3.1</td>\n",
       "      <td>15</td>\n",
       "      <td>NaN</td>\n",
       "      <td>NaN</td>\n",
       "      <td>NaN</td>\n",
       "      <td>0</td>\n",
       "    </tr>\n",
       "    <tr>\n",
       "      <th>72339</th>\n",
       "      <td>2020/2021</td>\n",
       "      <td>Alberta</td>\n",
       "      <td>2021A000248</td>\n",
       "      <td>Visual and performing arts [50.]</td>\n",
       "      <td>Total, program type</td>\n",
       "      <td>Not applicable, credential type</td>\n",
       "      <td>Total, institution type</td>\n",
       "      <td>Full-time student</td>\n",
       "      <td>International students</td>\n",
       "      <td>Total, gender</td>\n",
       "      <td>...</td>\n",
       "      <td>223</td>\n",
       "      <td>units</td>\n",
       "      <td>0</td>\n",
       "      <td>v1614732374</td>\n",
       "      <td>199.392.1.9.1.2.3.1</td>\n",
       "      <td>0</td>\n",
       "      <td>NaN</td>\n",
       "      <td>NaN</td>\n",
       "      <td>NaN</td>\n",
       "      <td>0</td>\n",
       "    </tr>\n",
       "    <tr>\n",
       "      <th>40919</th>\n",
       "      <td>2021/2022</td>\n",
       "      <td>Quebec</td>\n",
       "      <td>2021A000224</td>\n",
       "      <td>Public administration and social service profe...</td>\n",
       "      <td>Career, technical or professional training pro...</td>\n",
       "      <td>Diploma</td>\n",
       "      <td>Total, institution type</td>\n",
       "      <td>Full-time student</td>\n",
       "      <td>International students</td>\n",
       "      <td>Total, gender</td>\n",
       "      <td>...</td>\n",
       "      <td>223</td>\n",
       "      <td>units</td>\n",
       "      <td>0</td>\n",
       "      <td>v1609887274</td>\n",
       "      <td>31.341.4.4.1.2.3.1</td>\n",
       "      <td>66</td>\n",
       "      <td>NaN</td>\n",
       "      <td>NaN</td>\n",
       "      <td>NaN</td>\n",
       "      <td>0</td>\n",
       "    </tr>\n",
       "  </tbody>\n",
       "</table>\n",
       "<p>6 rows × 21 columns</p>\n",
       "</div>"
      ],
      "text/plain": [
       "        REF_DATE               GEO        DGUID  \\\n",
       "46459  2019/2020           Ontario  2021A000235   \n",
       "66428  2022/2023      Saskatchewan  2021A000247   \n",
       "62177  2022/2023      Saskatchewan  2021A000247   \n",
       "80952  2020/2021  British Columbia  2021A000259   \n",
       "72339  2020/2021           Alberta  2021A000248   \n",
       "40919  2021/2022            Quebec  2021A000224   \n",
       "\n",
       "                                          Field of study  \\\n",
       "46459  Engineering/engineering-related technologies/t...   \n",
       "66428                                      History [54.]   \n",
       "62177                                    Education [13.]   \n",
       "80952                   Visual and performing arts [50.]   \n",
       "72339                   Visual and performing arts [50.]   \n",
       "40919  Public administration and social service profe...   \n",
       "\n",
       "                                            Program type  \\\n",
       "46459  Qualifying program for career, technical or pr...   \n",
       "66428                    Graduate program (second cycle)   \n",
       "62177                    Graduate program (second cycle)   \n",
       "80952  Post career, technical or professional trainin...   \n",
       "72339                                Total, program type   \n",
       "40919  Career, technical or professional training pro...   \n",
       "\n",
       "                       Credential type          Institution type  \\\n",
       "46459           Total, credential type  Total, institution type    \n",
       "66428           Total, credential type  Total, institution type    \n",
       "62177                      Certificate  Total, institution type    \n",
       "80952           Total, credential type  Total, institution type    \n",
       "72339  Not applicable, credential type  Total, institution type    \n",
       "40919                          Diploma  Total, institution type    \n",
       "\n",
       "      Registration status Status of student in Canada         Gender  ...  \\\n",
       "46459   Full-time student           Canadian students  Total, gender  ...   \n",
       "66428   Full-time student           Canadian students  Total, gender  ...   \n",
       "62177   Full-time student           Canadian students  Total, gender  ...   \n",
       "80952   Full-time student      International students  Total, gender  ...   \n",
       "72339   Full-time student      International students  Total, gender  ...   \n",
       "40919   Full-time student      International students  Total, gender  ...   \n",
       "\n",
       "      UOM_ID  SCALAR_FACTOR SCALAR_ID       VECTOR            COORDINATE  \\\n",
       "46459    223          units         0  v1611404508   125.131.3.1.1.2.2.1   \n",
       "66428    223          units         0  v1614384161  188.462.13.1.1.2.2.1   \n",
       "62177    223          units         0  v1614264804   188.73.13.3.1.2.2.1   \n",
       "80952    223          units         0  v1615484919   226.392.5.1.1.2.3.1   \n",
       "72339    223          units         0  v1614732374   199.392.1.9.1.2.3.1   \n",
       "40919    223          units         0  v1609887274    31.341.4.4.1.2.3.1   \n",
       "\n",
       "      VALUE  STATUS  SYMBOL  TERMINATED  DECIMALS  \n",
       "46459     3     NaN     NaN         NaN         0  \n",
       "66428    18     NaN     NaN         NaN         0  \n",
       "62177     3     NaN     NaN         NaN         0  \n",
       "80952    15     NaN     NaN         NaN         0  \n",
       "72339     0     NaN     NaN         NaN         0  \n",
       "40919    66     NaN     NaN         NaN         0  \n",
       "\n",
       "[6 rows x 21 columns]"
      ]
     },
     "execution_count": 6,
     "metadata": {},
     "output_type": "execute_result"
    }
   ],
   "source": [
    "progs.sample(6)"
   ]
  },
  {
   "cell_type": "code",
   "execution_count": 7,
   "metadata": {},
   "outputs": [
    {
     "name": "stdout",
     "output_type": "stream",
     "text": [
      "Index(['STATUS', 'SYMBOL', 'TERMINATED'], dtype='object')\n",
      "Index(['STATUS', 'SYMBOL', 'TERMINATED'], dtype='object')\n"
     ]
    }
   ],
   "source": [
    "# check for columns where records are missing values\n",
    "print(progs.columns[progs.isnull().all()])\n",
    "print(progs.columns[progs.isnull().any()])"
   ]
  },
  {
   "cell_type": "code",
   "execution_count": 8,
   "metadata": {},
   "outputs": [
    {
     "data": {
      "text/plain": [
       "Registration status\n",
       "Full-time student    84506\n",
       "Name: count, dtype: int64"
      ]
     },
     "execution_count": 8,
     "metadata": {},
     "output_type": "execute_result"
    }
   ],
   "source": [
    "# confirm this is all full-time students\n",
    "progs['Registration status'].value_counts()"
   ]
  },
  {
   "cell_type": "code",
   "execution_count": 9,
   "metadata": {},
   "outputs": [
    {
     "data": {
      "text/plain": [
       "Status of student in Canada\n",
       "Canadian students                            43528\n",
       "International students                       35897\n",
       "Not reported, status of student in Canada     5081\n",
       "Name: count, dtype: int64"
      ]
     },
     "execution_count": 9,
     "metadata": {},
     "output_type": "execute_result"
    }
   ],
   "source": [
    "progs['Status of student in Canada'].value_counts()"
   ]
  },
  {
   "cell_type": "markdown",
   "metadata": {},
   "source": [
    "## Preprocessing pipeline"
   ]
  },
  {
   "cell_type": "markdown",
   "metadata": {},
   "source": [
    "Custom Transformers (CTs) defined in utils package"
   ]
  },
  {
   "cell_type": "markdown",
   "metadata": {},
   "source": [
    "### Mar 1 test utils package - commented out below"
   ]
  },
  {
   "cell_type": "code",
   "execution_count": null,
   "metadata": {},
   "outputs": [],
   "source": [
    "# # Custom transformer (CT) for dropping unnecessary columns from the dataframe\n",
    "\n",
    "# DropColumns = domestic_intl.DropColumns\n",
    "\n",
    "# RenameColumns = domestic_intl.RenameColumns\n",
    "\n",
    "# FormatDate = domestic_intl.FormatDate\n",
    "\n",
    "# AddInstitutionAndProvince = domestic_intl.AddInstitutionAndProvince\n",
    "\n",
    "# AbbreviateInstitutionNames = domestic_intl.AbbreviateInstitutionNames\n",
    "\n",
    "# # Removing territories from the data\n",
    "\n",
    "# class RemoveTerritories(BaseEstimator, TransformerMixin):\n",
    "#     def __init__(self, column, territories):\n",
    "#         \"\"\"\n",
    "#         :param column: The column where we look for territory names\n",
    "#         :param territories: A list of territory names (e.g. [\"Yukon\", \"Northwest Territories\", \"Nunavut\"])\n",
    "#         \"\"\"\n",
    "#         self.column = column\n",
    "#         self.territories = territories # territories defined above\n",
    "\n",
    "#     def fit(self, X, y=None):\n",
    "#         return self\n",
    "\n",
    "#     def transform(self, X):\n",
    "#         \"\"\"\n",
    "#         Removes rows where the specified column contains any of the territory names.\n",
    "#         \"\"\"\n",
    "#         X = X.copy()\n",
    "#         # Build a regex pattern that matches any of the territory strings\n",
    "#         pattern = '|'.join(self.territories)\n",
    "\n",
    "#         # Keep rows that do NOT contain any of the territory names (case-insensitive).\n",
    "#         # If the column is sometimes NaN, na=False ensures we don't error out.\n",
    "#         return X[~X[self.column].str.contains(pattern, case=False, na=False)]\n",
    "    \n",
    "\n",
    "# # reorder the columns for ease of reading\n",
    "\n",
    "# class ReorderColumns(BaseEstimator, TransformerMixin):\n",
    "#     def __init__(self, desired_order):\n",
    "#         \"\"\"\n",
    "#         parameter - desired_order: A list specifying the columns in the order desired.\n",
    "#         e.g. [\"FY Start\", \"Province/Territory\", \"Institution Name\", ...]\n",
    "#         \"\"\"\n",
    "#         self.desired_order = desired_order\n",
    "\n",
    "#     def fit(self, X, y=None):\n",
    "#         return self\n",
    "\n",
    "#     def transform(self, X):\n",
    "#         \"\"\"\n",
    "#         Reorders the columns to the specified order. Any columns not in 'desired_order'\n",
    "#         are appended at the end in their existing order.\n",
    "#         \"\"\"\n",
    "#         X = X.copy()\n",
    "        \n",
    "#         # Columns that are explicitly ordered\n",
    "#         ordered_cols = [c for c in self.desired_order if c in X.columns]\n",
    "        \n",
    "#         # Any remaining columns not in 'desired_order'\n",
    "#         leftover_cols = [c for c in X.columns if c not in ordered_cols]\n",
    "        \n",
    "#         # Final order is the desired columns first, then leftover\n",
    "#         final_order = ordered_cols + leftover_cols\n",
    "        \n",
    "#         return X[final_order]\n",
    "    \n",
    "# # pivot Canadian status (domestic/international/unreported) into three columns of the same record, all else being equal\n",
    "\n",
    "# class PivotCanadianStatus(BaseEstimator, TransformerMixin):\n",
    "#     def __init__(\n",
    "#         self, \n",
    "#         index_cols=[\n",
    "#             \"FY Start\", \n",
    "#             \"Province/Territory\", \n",
    "#             \"Institution Name\", \n",
    "#             \"Program type\", \n",
    "#             \"Credential type\", \n",
    "#             \"Field of study\"\n",
    "#             ],\n",
    "#         pivot_col=\"Canadian Status\",\n",
    "#         values_col=\"Enrolment\"\n",
    "#     ):\n",
    "#         \"\"\"\n",
    "#         Parameter - index_cols: The columns to keep as index in the pivot (remain in rows).\n",
    "#         Parameter - pivot_col: The column whose unique values become new columns (e.g., 'Canadian Status').\n",
    "#         Parameter - values_col: The numeric column to place in new columns (e.g., 'Enrolment').\n",
    "#         \"\"\"\n",
    "#         self.index_cols = index_cols\n",
    "#         self.pivot_col = pivot_col\n",
    "#         self.values_col = values_col\n",
    "\n",
    "#     def fit(self, X, y=None):\n",
    "#         return self\n",
    "\n",
    "#     def transform(self, X):\n",
    "#         \"\"\"\n",
    "#         Pivots the dataframe so that 'Canadian Status' becomes columns:\n",
    "#           -> 'Domestic Enrolment', 'International Enrolment'.\n",
    "\n",
    "#         After pivoting, renames columns accordingly and returns the wide table.\n",
    "#         \"\"\"\n",
    "#         X = X.copy()\n",
    "\n",
    "#         # 1. Pivot\n",
    "#         pivoted = X.pivot_table(\n",
    "#             index=self.index_cols,\n",
    "#             columns=self.pivot_col,\n",
    "#             values=self.values_col,\n",
    "#             aggfunc='sum'  # If duplicates exist, sum them\n",
    "#         ).reset_index()\n",
    "\n",
    "#         # 2. Rename columns from 'Canadian students' -> 'Domestic Enrolment' etc.\n",
    "#         col_rename_map = {\n",
    "#             'Canadian students': 'Domestic Enrolment',\n",
    "#             'International students': 'International Enrolment',\n",
    "#             'Not reported, status of student in Canada': 'CA Status Unreported Enrolment'\n",
    "#         }\n",
    "#         pivoted = pivoted.rename(columns=col_rename_map)\n",
    "\n",
    "#         # 3. convert new Domestic and International Enrolment columns to integers\n",
    "#         pivoted['Domestic Enrolment'] = pivoted['Domestic Enrolment'].fillna(0).astype(int)\n",
    "#         pivoted['International Enrolment'] = pivoted['International Enrolment'].fillna(0).astype(int)\n",
    "#         pivoted['CA Status Unreported Enrolment'] = pivoted['CA Status Unreported Enrolment'].fillna(0).astype(int)\n",
    "\n",
    "#         # 4. Reorder columns if desired\n",
    "#         # Ensure Domestic and International appear last in an expected order\n",
    "#         final_cols = [c for c in pivoted.columns if c not in col_rename_map.values()]\n",
    "#         final_cols += ['Domestic Enrolment', 'International Enrolment', 'CA Status Unreported Enrolment']\n",
    "#         final_cols = [c for c in final_cols if c in pivoted.columns]  # Only keep existing columns\n",
    "\n",
    "#         return pivoted[final_cols]"
   ]
  },
  {
   "cell_type": "markdown",
   "metadata": {},
   "source": [
    "### Defined variables (provinces, territories, abbreviations, Francophone institutions etc)"
   ]
  },
  {
   "cell_type": "code",
   "execution_count": 10,
   "metadata": {},
   "outputs": [],
   "source": [
    "from utils.constants import PROVINCES_TERRITORIES_CA, PROVINCES_CA, TERRITORIES, PROVINCE_CODES, ABBREVIATIONS\n",
    "from utils.pipeline_transformers import DropColumns, RenameColumns, FormatDate, AddInstitutionAndProvince, AbbreviateInstitutionNames, RemoveTerritories, ReorderColumns, PivotCanadianStatus"
   ]
  },
  {
   "cell_type": "code",
   "execution_count": 11,
   "metadata": {},
   "outputs": [],
   "source": [
    "# Define the pipeline\n",
    "from sklearn.pipeline import Pipeline\n",
    "\n",
    "program_pipeline = Pipeline(steps=[\n",
    "    # drop columns\n",
    "    ('drop_columns', DropColumns(columns=[\n",
    "        'DGUID', 'Registration status', 'Institution type', 'Gender', 'UOM', 'UOM_ID',\n",
    "        'SCALAR_FACTOR', 'SCALAR_ID', 'VECTOR', 'COORDINATE', 'STATUS', 'SYMBOL', 'TERMINATED', 'DECIMALS'\n",
    "    ])),\n",
    "    # rename columns\n",
    "    ('rename_columns', RenameColumns(column_names={\n",
    "        \"GEO\": \"Province/Territory\",\n",
    "        \"REF_DATE\": \"FY Start\",\n",
    "        \"VALUE\": \"Enrolment\",\n",
    "        \"Status of student in Canada\": \"Canadian Status\"\n",
    "    })),\n",
    "    # drop record step -  Yukon / NWT / Nunavut\n",
    "    ('remove_territories', RemoveTerritories(\n",
    "        column=\"Province/Territory\",\n",
    "        territories=TERRITORIES\n",
    "    )),\n",
    "    # formatting data type steps\n",
    "    ('format_fy', FormatDate(column=\"FY Start\")),\n",
    "    # ('format_enrolment', FormatValue(column=\"Enrolment\")),\n",
    "    \n",
    "    # Add Institution Name and Province columns\n",
    "    ('add_institution_and_province', AddInstitutionAndProvince(\n",
    "        column='Province/Territory',\n",
    "        institution_col='Institution Name', \n",
    "        province_col='Province/Territory', \n",
    "        provinces=PROVINCES_TERRITORIES_CA\n",
    "    )),\n",
    "    \n",
    "    # Abbreviate institution names\n",
    "    ('abbreviate_institution_names', AbbreviateInstitutionNames(\n",
    "        column='Institution Name', \n",
    "        replacements=ABBREVIATIONS\n",
    "    )),\n",
    "\n",
    "    #Reorder the columns\n",
    "    ('reorder_columns', ReorderColumns(desired_order=[\n",
    "        \"FY Start\", \n",
    "        \"Province/Territory\", \n",
    "        \"Institution Name\", \n",
    "        \"Program type\",\n",
    "        \"Credential type\",\n",
    "        \"Field of study\",\n",
    "        \"Canadian Status\",\n",
    "        \"Enrolment\"\n",
    "    ])),\n",
    "\n",
    "    # pivot the Canadian status column\n",
    "    ('pivot_canadian_status', PivotCanadianStatus())\n",
    "])"
   ]
  },
  {
   "cell_type": "code",
   "execution_count": 12,
   "metadata": {},
   "outputs": [],
   "source": [
    "cleaned_progs = program_pipeline.fit_transform(progs)"
   ]
  },
  {
   "cell_type": "code",
   "execution_count": 13,
   "metadata": {},
   "outputs": [
    {
     "data": {
      "text/html": [
       "<div>\n",
       "<style scoped>\n",
       "    .dataframe tbody tr th:only-of-type {\n",
       "        vertical-align: middle;\n",
       "    }\n",
       "\n",
       "    .dataframe tbody tr th {\n",
       "        vertical-align: top;\n",
       "    }\n",
       "\n",
       "    .dataframe thead th {\n",
       "        text-align: right;\n",
       "    }\n",
       "</style>\n",
       "<table border=\"1\" class=\"dataframe\">\n",
       "  <thead>\n",
       "    <tr style=\"text-align: right;\">\n",
       "      <th></th>\n",
       "      <th>FY Start</th>\n",
       "      <th>Province/Territory</th>\n",
       "      <th>Institution Name</th>\n",
       "      <th>Program type</th>\n",
       "      <th>Credential type</th>\n",
       "      <th>Field of study</th>\n",
       "      <th>Domestic Enrolment</th>\n",
       "      <th>International Enrolment</th>\n",
       "      <th>CA Status Unreported Enrolment</th>\n",
       "    </tr>\n",
       "  </thead>\n",
       "  <tbody>\n",
       "    <tr>\n",
       "      <th>20917</th>\n",
       "      <td>2019</td>\n",
       "      <td>Manitoba</td>\n",
       "      <td>Manitoba (total)</td>\n",
       "      <td>Post career, technical or professional trainin...</td>\n",
       "      <td>Total, credential type</td>\n",
       "      <td>Social sciences [45.]</td>\n",
       "      <td>6</td>\n",
       "      <td>15</td>\n",
       "      <td>0</td>\n",
       "    </tr>\n",
       "    <tr>\n",
       "      <th>4296</th>\n",
       "      <td>2016</td>\n",
       "      <td>Ontario</td>\n",
       "      <td>Ontario (total)</td>\n",
       "      <td>Graduate program (third cycle)</td>\n",
       "      <td>Total, credential type</td>\n",
       "      <td>Legal professions and studies [22.]</td>\n",
       "      <td>168</td>\n",
       "      <td>48</td>\n",
       "      <td>0</td>\n",
       "    </tr>\n",
       "    <tr>\n",
       "      <th>5062</th>\n",
       "      <td>2016</td>\n",
       "      <td>Prince Edward Island</td>\n",
       "      <td>Prince Edward Island (total)</td>\n",
       "      <td>Undergraduate program</td>\n",
       "      <td>Degree (includes applied degree)</td>\n",
       "      <td>Agricultural and veterinary sciences/services/...</td>\n",
       "      <td>228</td>\n",
       "      <td>90</td>\n",
       "      <td>0</td>\n",
       "    </tr>\n",
       "    <tr>\n",
       "      <th>5863</th>\n",
       "      <td>2016</td>\n",
       "      <td>Saskatchewan</td>\n",
       "      <td>Saskatchewan (total)</td>\n",
       "      <td>Post-baccalaureate non-graduate program</td>\n",
       "      <td>Degree (includes applied degree)</td>\n",
       "      <td>Business, management, marketing and related su...</td>\n",
       "      <td>3</td>\n",
       "      <td>27</td>\n",
       "      <td>0</td>\n",
       "    </tr>\n",
       "    <tr>\n",
       "      <th>5696</th>\n",
       "      <td>2016</td>\n",
       "      <td>Saskatchewan</td>\n",
       "      <td>Saskatchewan (total)</td>\n",
       "      <td>Career, technical or professional training pro...</td>\n",
       "      <td>Diploma</td>\n",
       "      <td>Culinary, entertainment, and personal services...</td>\n",
       "      <td>60</td>\n",
       "      <td>0</td>\n",
       "      <td>0</td>\n",
       "    </tr>\n",
       "    <tr>\n",
       "      <th>25700</th>\n",
       "      <td>2020</td>\n",
       "      <td>Canada</td>\n",
       "      <td>Canada (total)</td>\n",
       "      <td>Career, technical or professional training pro...</td>\n",
       "      <td>Total, credential type</td>\n",
       "      <td>Agricultural and veterinary sciences/services/...</td>\n",
       "      <td>6327</td>\n",
       "      <td>567</td>\n",
       "      <td>12</td>\n",
       "    </tr>\n",
       "  </tbody>\n",
       "</table>\n",
       "</div>"
      ],
      "text/plain": [
       "       FY Start    Province/Territory              Institution Name  \\\n",
       "20917      2019              Manitoba              Manitoba (total)   \n",
       "4296       2016               Ontario               Ontario (total)   \n",
       "5062       2016  Prince Edward Island  Prince Edward Island (total)   \n",
       "5863       2016          Saskatchewan          Saskatchewan (total)   \n",
       "5696       2016          Saskatchewan          Saskatchewan (total)   \n",
       "25700      2020                Canada                Canada (total)   \n",
       "\n",
       "                                            Program type  \\\n",
       "20917  Post career, technical or professional trainin...   \n",
       "4296                      Graduate program (third cycle)   \n",
       "5062                               Undergraduate program   \n",
       "5863             Post-baccalaureate non-graduate program   \n",
       "5696   Career, technical or professional training pro...   \n",
       "25700  Career, technical or professional training pro...   \n",
       "\n",
       "                        Credential type  \\\n",
       "20917            Total, credential type   \n",
       "4296             Total, credential type   \n",
       "5062   Degree (includes applied degree)   \n",
       "5863   Degree (includes applied degree)   \n",
       "5696                            Diploma   \n",
       "25700            Total, credential type   \n",
       "\n",
       "                                          Field of study  Domestic Enrolment  \\\n",
       "20917                              Social sciences [45.]                   6   \n",
       "4296                 Legal professions and studies [22.]                 168   \n",
       "5062   Agricultural and veterinary sciences/services/...                 228   \n",
       "5863   Business, management, marketing and related su...                   3   \n",
       "5696   Culinary, entertainment, and personal services...                  60   \n",
       "25700  Agricultural and veterinary sciences/services/...                6327   \n",
       "\n",
       "       International Enrolment  CA Status Unreported Enrolment  \n",
       "20917                       15                               0  \n",
       "4296                        48                               0  \n",
       "5062                        90                               0  \n",
       "5863                        27                               0  \n",
       "5696                         0                               0  \n",
       "25700                      567                              12  "
      ]
     },
     "execution_count": 13,
     "metadata": {},
     "output_type": "execute_result"
    }
   ],
   "source": [
    "cleaned_progs.sample(6)"
   ]
  },
  {
   "cell_type": "code",
   "execution_count": 63,
   "metadata": {},
   "outputs": [
    {
     "data": {
      "text/plain": [
       "Index(['FY Start', 'Province/Territory', 'Institution Name', 'Program type',\n",
       "       'Credential type', 'Field of study', 'Domestic Enrolment',\n",
       "       'International Enrolment', 'CA Status Unreported Enrolment'],\n",
       "      dtype='object', name='Canadian Status')"
      ]
     },
     "execution_count": 63,
     "metadata": {},
     "output_type": "execute_result"
    }
   ],
   "source": [
    "cleaned_progs.columns"
   ]
  },
  {
   "cell_type": "markdown",
   "metadata": {},
   "source": [
    "#### Pivoting table to create one record of international and domestic enrolment (commented out until we need)"
   ]
  },
  {
   "cell_type": "code",
   "execution_count": 18,
   "metadata": {},
   "outputs": [],
   "source": [
    "# # create an international student percentage column\n",
    "# combined_df['% International'] = round((combined_df['International Enrolment'] / (combined_df['Domestic Enrolment'] + combined_df['International Enrolment'])) * 100, 2)"
   ]
  },
  {
   "cell_type": "markdown",
   "metadata": {},
   "source": [
    "## Cleaning up N/As and Not Reported records\n",
    "\n",
    "Several instances of 'Not reported, status of student', 'Not applicable, credential type' etc to be examined to see if we can discard and make space for more valuable records"
   ]
  },
  {
   "cell_type": "code",
   "execution_count": 19,
   "metadata": {},
   "outputs": [
    {
     "data": {
      "text/plain": [
       "Status of student in Canada\n",
       "Canadian students                            43528\n",
       "International students                       35897\n",
       "Not reported, status of student in Canada     5081\n",
       "Name: count, dtype: int64"
      ]
     },
     "execution_count": 19,
     "metadata": {},
     "output_type": "execute_result"
    }
   ],
   "source": [
    "progs['Status of student in Canada'].value_counts()"
   ]
  },
  {
   "cell_type": "markdown",
   "metadata": {},
   "source": [
    "### Pre- Feb 26 work, incorporate with new data pulled on Feb 26"
   ]
  },
  {
   "cell_type": "code",
   "execution_count": null,
   "metadata": {},
   "outputs": [],
   "source": [
    "# import the csv file\n",
    "programs = pd.read_csv('/Users/thomasdoherty/Desktop/canadian-psi-project/psi_data/statcan_data/statcan-program-int-can-enrolment.csv')"
   ]
  },
  {
   "cell_type": "code",
   "execution_count": null,
   "metadata": {},
   "outputs": [
    {
     "data": {
      "text/html": [
       "<div>\n",
       "<style scoped>\n",
       "    .dataframe tbody tr th:only-of-type {\n",
       "        vertical-align: middle;\n",
       "    }\n",
       "\n",
       "    .dataframe tbody tr th {\n",
       "        vertical-align: top;\n",
       "    }\n",
       "\n",
       "    .dataframe thead th {\n",
       "        text-align: right;\n",
       "    }\n",
       "</style>\n",
       "<table border=\"1\" class=\"dataframe\">\n",
       "  <thead>\n",
       "    <tr style=\"text-align: right;\">\n",
       "      <th></th>\n",
       "      <th>REF_DATE</th>\n",
       "      <th>GEO</th>\n",
       "      <th>DGUID</th>\n",
       "      <th>Field of study</th>\n",
       "      <th>Program type</th>\n",
       "      <th>Credential type</th>\n",
       "      <th>Institution type</th>\n",
       "      <th>Registration status</th>\n",
       "      <th>Status of student in Canada</th>\n",
       "      <th>Gender</th>\n",
       "      <th>...</th>\n",
       "      <th>UOM_ID</th>\n",
       "      <th>SCALAR_FACTOR</th>\n",
       "      <th>SCALAR_ID</th>\n",
       "      <th>VECTOR</th>\n",
       "      <th>COORDINATE</th>\n",
       "      <th>VALUE</th>\n",
       "      <th>STATUS</th>\n",
       "      <th>SYMBOL</th>\n",
       "      <th>TERMINATED</th>\n",
       "      <th>DECIMALS</th>\n",
       "    </tr>\n",
       "  </thead>\n",
       "  <tbody>\n",
       "    <tr>\n",
       "      <th>2437</th>\n",
       "      <td>2022/2023</td>\n",
       "      <td>Trent University, Ontario</td>\n",
       "      <td>NaN</td>\n",
       "      <td>Total, field of study</td>\n",
       "      <td>Total, program type</td>\n",
       "      <td>Degree (includes applied degree)</td>\n",
       "      <td>Total, institution type</td>\n",
       "      <td>Full-time student</td>\n",
       "      <td>Canadian students</td>\n",
       "      <td>Total, gender</td>\n",
       "      <td>...</td>\n",
       "      <td>223</td>\n",
       "      <td>units</td>\n",
       "      <td>0</td>\n",
       "      <td>v1612357617</td>\n",
       "      <td>138.1.1.5.1.2.2.1</td>\n",
       "      <td>8958</td>\n",
       "      <td>NaN</td>\n",
       "      <td>NaN</td>\n",
       "      <td>NaN</td>\n",
       "      <td>0</td>\n",
       "    </tr>\n",
       "    <tr>\n",
       "      <th>4256</th>\n",
       "      <td>2022/2023</td>\n",
       "      <td>University of British Columbia, British Columbia</td>\n",
       "      <td>NaN</td>\n",
       "      <td>Total, field of study</td>\n",
       "      <td>Undergraduate program</td>\n",
       "      <td>Total, credential type</td>\n",
       "      <td>Total, institution type</td>\n",
       "      <td>Full-time student</td>\n",
       "      <td>International students</td>\n",
       "      <td>Total, gender</td>\n",
       "      <td>...</td>\n",
       "      <td>223</td>\n",
       "      <td>units</td>\n",
       "      <td>0</td>\n",
       "      <td>v1615559531</td>\n",
       "      <td>227.1.8.1.1.2.3.1</td>\n",
       "      <td>9915</td>\n",
       "      <td>NaN</td>\n",
       "      <td>NaN</td>\n",
       "      <td>NaN</td>\n",
       "      <td>0</td>\n",
       "    </tr>\n",
       "    <tr>\n",
       "      <th>2791</th>\n",
       "      <td>2022/2023</td>\n",
       "      <td>Confederation College of Applied Arts and Tech...</td>\n",
       "      <td>NaN</td>\n",
       "      <td>Total, field of study</td>\n",
       "      <td>Career, technical or professional training pro...</td>\n",
       "      <td>Other type of credential associated with a pro...</td>\n",
       "      <td>Total, institution type</td>\n",
       "      <td>Full-time student</td>\n",
       "      <td>International students</td>\n",
       "      <td>Total, gender</td>\n",
       "      <td>...</td>\n",
       "      <td>223</td>\n",
       "      <td>units</td>\n",
       "      <td>0</td>\n",
       "      <td>v1612972684</td>\n",
       "      <td>153.1.4.8.1.2.3.1</td>\n",
       "      <td>357</td>\n",
       "      <td>NaN</td>\n",
       "      <td>NaN</td>\n",
       "      <td>NaN</td>\n",
       "      <td>0</td>\n",
       "    </tr>\n",
       "    <tr>\n",
       "      <th>122</th>\n",
       "      <td>2022/2023</td>\n",
       "      <td>Prince Edward Island</td>\n",
       "      <td>2021A000211</td>\n",
       "      <td>Total, field of study</td>\n",
       "      <td>Career, technical or professional training pro...</td>\n",
       "      <td>Certificate</td>\n",
       "      <td>Total, institution type</td>\n",
       "      <td>Full-time student</td>\n",
       "      <td>International students</td>\n",
       "      <td>Total, gender</td>\n",
       "      <td>...</td>\n",
       "      <td>223</td>\n",
       "      <td>units</td>\n",
       "      <td>0</td>\n",
       "      <td>v1608870141</td>\n",
       "      <td>5.1.4.3.1.2.3.1</td>\n",
       "      <td>48</td>\n",
       "      <td>NaN</td>\n",
       "      <td>NaN</td>\n",
       "      <td>NaN</td>\n",
       "      <td>0</td>\n",
       "    </tr>\n",
       "  </tbody>\n",
       "</table>\n",
       "<p>4 rows × 21 columns</p>\n",
       "</div>"
      ],
      "text/plain": [
       "       REF_DATE                                                GEO  \\\n",
       "2437  2022/2023                          Trent University, Ontario   \n",
       "4256  2022/2023   University of British Columbia, British Columbia   \n",
       "2791  2022/2023  Confederation College of Applied Arts and Tech...   \n",
       "122   2022/2023                               Prince Edward Island   \n",
       "\n",
       "            DGUID         Field of study  \\\n",
       "2437          NaN  Total, field of study   \n",
       "4256          NaN  Total, field of study   \n",
       "2791          NaN  Total, field of study   \n",
       "122   2021A000211  Total, field of study   \n",
       "\n",
       "                                           Program type  \\\n",
       "2437                                Total, program type   \n",
       "4256                              Undergraduate program   \n",
       "2791  Career, technical or professional training pro...   \n",
       "122   Career, technical or professional training pro...   \n",
       "\n",
       "                                        Credential type  \\\n",
       "2437                   Degree (includes applied degree)   \n",
       "4256                             Total, credential type   \n",
       "2791  Other type of credential associated with a pro...   \n",
       "122                                         Certificate   \n",
       "\n",
       "              Institution type Registration status  \\\n",
       "2437  Total, institution type    Full-time student   \n",
       "4256  Total, institution type    Full-time student   \n",
       "2791  Total, institution type    Full-time student   \n",
       "122   Total, institution type    Full-time student   \n",
       "\n",
       "     Status of student in Canada         Gender  ... UOM_ID  SCALAR_FACTOR  \\\n",
       "2437           Canadian students  Total, gender  ...    223          units   \n",
       "4256      International students  Total, gender  ...    223          units   \n",
       "2791      International students  Total, gender  ...    223          units   \n",
       "122       International students  Total, gender  ...    223          units   \n",
       "\n",
       "     SCALAR_ID       VECTOR         COORDINATE VALUE  STATUS  SYMBOL  \\\n",
       "2437         0  v1612357617  138.1.1.5.1.2.2.1  8958     NaN     NaN   \n",
       "4256         0  v1615559531  227.1.8.1.1.2.3.1  9915     NaN     NaN   \n",
       "2791         0  v1612972684  153.1.4.8.1.2.3.1   357     NaN     NaN   \n",
       "122          0  v1608870141    5.1.4.3.1.2.3.1    48     NaN     NaN   \n",
       "\n",
       "      TERMINATED  DECIMALS  \n",
       "2437         NaN         0  \n",
       "4256         NaN         0  \n",
       "2791         NaN         0  \n",
       "122          NaN         0  \n",
       "\n",
       "[4 rows x 21 columns]"
      ]
     },
     "metadata": {},
     "output_type": "display_data"
    }
   ],
   "source": [
    "programs.sample(4)"
   ]
  },
  {
   "cell_type": "markdown",
   "metadata": {},
   "source": [
    "### Data audit\n",
    "\n",
    "Per the earlier analysis, ensure this data concerns only Full-time students and other features to align with enrolment data."
   ]
  },
  {
   "cell_type": "code",
   "execution_count": null,
   "metadata": {},
   "outputs": [
    {
     "data": {
      "text/plain": [
       "array(['Full-time student'], dtype=object)"
      ]
     },
     "metadata": {},
     "output_type": "display_data"
    }
   ],
   "source": [
    "# check registration status is all Full-time student - no other status\n",
    "programs['Registration status'].unique()"
   ]
  },
  {
   "cell_type": "code",
   "execution_count": null,
   "metadata": {},
   "outputs": [
    {
     "data": {
      "text/plain": [
       "array(['Total, field of study'], dtype=object)"
      ]
     },
     "metadata": {},
     "output_type": "display_data"
    }
   ],
   "source": [
    "# is field of study providing any useful information? - No, just total. Remove in next step\n",
    "programs['Field of study'].unique()"
   ]
  },
  {
   "cell_type": "code",
   "execution_count": null,
   "metadata": {},
   "outputs": [
    {
     "data": {
      "text/plain": [
       "array(['Total, credential type', 'Certificate', 'Diploma',\n",
       "       'Degree (includes applied degree)',\n",
       "       'Other type of credential associated with a program',\n",
       "       'Not applicable, credential type', 'Associate degree'],\n",
       "      dtype=object)"
      ]
     },
     "metadata": {},
     "output_type": "display_data"
    }
   ],
   "source": [
    "programs['Credential type'].unique()"
   ]
  },
  {
   "cell_type": "code",
   "execution_count": null,
   "metadata": {},
   "outputs": [
    {
     "data": {
      "text/plain": [
       "array(['Canadian students', 'International students'], dtype=object)"
      ]
     },
     "metadata": {},
     "output_type": "display_data"
    }
   ],
   "source": [
    "programs['Status of student in Canada'].unique()"
   ]
  },
  {
   "cell_type": "markdown",
   "metadata": {},
   "source": [
    "### Cleaning of program-type enrolment - using pipeline"
   ]
  },
  {
   "cell_type": "markdown",
   "metadata": {},
   "source": [
    "The same steps can be used with the custom transformers already defined, we just tweak the column names that we want dropping / reformatting.\n",
    "\n",
    "We will also make three more custom transformers:\n",
    "1. For removing the territories from the data.\n",
    "2. Reordering the columns for Institution name coming immediately after province\n",
    "3. To pivot the Canadian Students/International Students into two international / domestic enrolment columns, which should cut down the number of records by around half"
   ]
  },
  {
   "cell_type": "code",
   "execution_count": null,
   "metadata": {},
   "outputs": [],
   "source": [
    "\n",
    "    \n",
    "\n",
    "\n"
   ]
  },
  {
   "cell_type": "code",
   "execution_count": null,
   "metadata": {},
   "outputs": [],
   "source": [
    "program_pipeline = Pipeline(steps=[\n",
    "    # drop columns\n",
    "    ('drop_columns', DropColumns(columns=[\n",
    "        'DGUID', 'Registration status', 'Field of study', 'Institution type', 'Gender', 'UOM', 'UOM_ID',\n",
    "        'SCALAR_FACTOR', 'SCALAR_ID', 'VECTOR', 'COORDINATE', 'STATUS', 'SYMBOL', 'TERMINATED', 'DECIMALS'\n",
    "    ])),\n",
    "    # rename columns\n",
    "    ('rename_columns', RenameColumns(rename_map={\n",
    "        \"GEO\": \"Province/Territory\",\n",
    "        \"REF_DATE\": \"FY Start\",\n",
    "        \"VALUE\": \"Enrolment\",\n",
    "        \"Status of student in Canada\": \"Canadian Status\",\n",
    "    })),\n",
    "    # drop record step -  Yukon / NWT / Nunavut\n",
    "    ('remove_territories', RemoveTerritories(\n",
    "        column=\"Province/Territory\",\n",
    "        territories=[\"Yukon\", \"Northwest Territories\", \"Nunavut\"]\n",
    "    )),\n",
    "    # formatting data type steps\n",
    "    ('format_fy', FormatFYStart(column=\"FY Start\")),\n",
    "    ('format_enrolment', FormatValue(column=\"Enrolment\")),\n",
    "    \n",
    "    # Add Institution Name and Province columns\n",
    "    ('add_institution_and_province', AddInstitutionAndProvince(\n",
    "        column='Province/Territory',\n",
    "        institution_col='Institution Name', \n",
    "        province_col='Province/Territory', \n",
    "        provinces=provinces_territories_ca\n",
    "    )),\n",
    "    \n",
    "    # Abbreviate institution names\n",
    "    ('abbreviate_institution_names', AbbreviateInstitutionNames(\n",
    "        column='Institution Name', \n",
    "        replacements=abbreviations\n",
    "    )),\n",
    "\n",
    "    # Reorder the columns\n",
    "    ('reorder_columns', ReorderColumns(desired_order=[\n",
    "        \"FY Start\", \n",
    "        \"Province/Territory\", \n",
    "        \"Institution Name\", \n",
    "        \"Program type\",\n",
    "        \"Credential type\",\n",
    "        \"Canadian Status\",\n",
    "        \"Enrolment\"\n",
    "    ])),\n",
    "\n",
    "    # pivot the Canadian status column\n",
    "    ('pivot_canadian_status', PivotCanadianStatus())\n",
    "])"
   ]
  },
  {
   "cell_type": "code",
   "execution_count": null,
   "metadata": {},
   "outputs": [],
   "source": [
    "cleaned_program_df = program_pipeline.fit_transform(programs)"
   ]
  },
  {
   "cell_type": "code",
   "execution_count": null,
   "metadata": {},
   "outputs": [
    {
     "data": {
      "text/html": [
       "<div>\n",
       "<style scoped>\n",
       "    .dataframe tbody tr th:only-of-type {\n",
       "        vertical-align: middle;\n",
       "    }\n",
       "\n",
       "    .dataframe tbody tr th {\n",
       "        vertical-align: top;\n",
       "    }\n",
       "\n",
       "    .dataframe thead th {\n",
       "        text-align: right;\n",
       "    }\n",
       "</style>\n",
       "<table border=\"1\" class=\"dataframe\">\n",
       "  <thead>\n",
       "    <tr style=\"text-align: right;\">\n",
       "      <th>Canadian Status</th>\n",
       "      <th>FY Start</th>\n",
       "      <th>Province/Territory</th>\n",
       "      <th>Institution Name</th>\n",
       "      <th>Program type</th>\n",
       "      <th>Credential type</th>\n",
       "      <th>Domestic Enrolment</th>\n",
       "      <th>International Enrolment</th>\n",
       "    </tr>\n",
       "  </thead>\n",
       "  <tbody>\n",
       "    <tr>\n",
       "      <th>403</th>\n",
       "      <td>2022</td>\n",
       "      <td>British Columbia</td>\n",
       "      <td>College of New Caledonia</td>\n",
       "      <td>Career, technical or professional training pro...</td>\n",
       "      <td>Total, credential type</td>\n",
       "      <td>696</td>\n",
       "      <td>387</td>\n",
       "    </tr>\n",
       "    <tr>\n",
       "      <th>1699</th>\n",
       "      <td>2022</td>\n",
       "      <td>Ontario</td>\n",
       "      <td>U of Ottawa-U d'Ottawa</td>\n",
       "      <td>Total, program type</td>\n",
       "      <td>Not applicable, credential type</td>\n",
       "      <td>1095</td>\n",
       "      <td>522</td>\n",
       "    </tr>\n",
       "    <tr>\n",
       "      <th>404</th>\n",
       "      <td>2022</td>\n",
       "      <td>British Columbia</td>\n",
       "      <td>College of New Caledonia</td>\n",
       "      <td>Post career, technical or professional trainin...</td>\n",
       "      <td>Diploma</td>\n",
       "      <td>3</td>\n",
       "      <td>201</td>\n",
       "    </tr>\n",
       "    <tr>\n",
       "      <th>685</th>\n",
       "      <td>2022</td>\n",
       "      <td>British Columbia</td>\n",
       "      <td>U of the Fraser Valley</td>\n",
       "      <td>Post career, technical or professional trainin...</td>\n",
       "      <td>Total, credential type</td>\n",
       "      <td>0</td>\n",
       "      <td>0</td>\n",
       "    </tr>\n",
       "    <tr>\n",
       "      <th>1038</th>\n",
       "      <td>2022</td>\n",
       "      <td>Newfoundland and Labrador</td>\n",
       "      <td>Newfoundland and Labrador (total)</td>\n",
       "      <td>Post-baccalaureate non-graduate program</td>\n",
       "      <td>Degree (includes applied degree)</td>\n",
       "      <td>315</td>\n",
       "      <td>0</td>\n",
       "    </tr>\n",
       "  </tbody>\n",
       "</table>\n",
       "</div>"
      ],
      "text/plain": [
       "Canadian Status FY Start         Province/Territory  \\\n",
       "403                 2022           British Columbia   \n",
       "1699                2022                    Ontario   \n",
       "404                 2022           British Columbia   \n",
       "685                 2022           British Columbia   \n",
       "1038                2022  Newfoundland and Labrador   \n",
       "\n",
       "Canadian Status                   Institution Name  \\\n",
       "403                       College of New Caledonia   \n",
       "1699                        U of Ottawa-U d'Ottawa   \n",
       "404                       College of New Caledonia   \n",
       "685                         U of the Fraser Valley   \n",
       "1038             Newfoundland and Labrador (total)   \n",
       "\n",
       "Canadian Status                                       Program type  \\\n",
       "403              Career, technical or professional training pro...   \n",
       "1699                                           Total, program type   \n",
       "404              Post career, technical or professional trainin...   \n",
       "685              Post career, technical or professional trainin...   \n",
       "1038                       Post-baccalaureate non-graduate program   \n",
       "\n",
       "Canadian Status                   Credential type  Domestic Enrolment  \\\n",
       "403                        Total, credential type                 696   \n",
       "1699              Not applicable, credential type                1095   \n",
       "404                                       Diploma                   3   \n",
       "685                        Total, credential type                   0   \n",
       "1038             Degree (includes applied degree)                 315   \n",
       "\n",
       "Canadian Status  International Enrolment  \n",
       "403                                  387  \n",
       "1699                                 522  \n",
       "404                                  201  \n",
       "685                                    0  \n",
       "1038                                   0  "
      ]
     },
     "metadata": {},
     "output_type": "display_data"
    }
   ],
   "source": [
    "cleaned_program_df.sample(5)"
   ]
  },
  {
   "cell_type": "markdown",
   "metadata": {},
   "source": [
    "Quick Audit of a few items - no Nunavut/Yukon, check program types"
   ]
  },
  {
   "cell_type": "code",
   "execution_count": null,
   "metadata": {},
   "outputs": [
    {
     "data": {
      "text/plain": [
       "array(['Alberta', 'British Columbia', 'Manitoba', 'New Brunswick',\n",
       "       'Newfoundland and Labrador', 'Nova Scotia', 'Ontario',\n",
       "       'Prince Edward Island', 'Quebec', 'Saskatchewan'], dtype=object)"
      ]
     },
     "metadata": {},
     "output_type": "display_data"
    }
   ],
   "source": [
    "cleaned_program_df['Province/Territory'].unique()"
   ]
  },
  {
   "cell_type": "code",
   "execution_count": null,
   "metadata": {},
   "outputs": [
    {
     "data": {
      "text/plain": [
       "array(['Career, technical or professional training program',\n",
       "       'Graduate program (second cycle)',\n",
       "       'Graduate program (third cycle)',\n",
       "       'Post career, technical or professional training program',\n",
       "       'Post-baccalaureate non-graduate program', 'Total, program type',\n",
       "       'Undergraduate program', 'Pre-university program'], dtype=object)"
      ]
     },
     "metadata": {},
     "output_type": "display_data"
    }
   ],
   "source": [
    "cleaned_program_df['Program type'].unique()"
   ]
  },
  {
   "cell_type": "code",
   "execution_count": null,
   "metadata": {},
   "outputs": [
    {
     "data": {
      "text/html": [
       "<div>\n",
       "<style scoped>\n",
       "    .dataframe tbody tr th:only-of-type {\n",
       "        vertical-align: middle;\n",
       "    }\n",
       "\n",
       "    .dataframe tbody tr th {\n",
       "        vertical-align: top;\n",
       "    }\n",
       "\n",
       "    .dataframe thead th {\n",
       "        text-align: right;\n",
       "    }\n",
       "</style>\n",
       "<table border=\"1\" class=\"dataframe\">\n",
       "  <thead>\n",
       "    <tr style=\"text-align: right;\">\n",
       "      <th>Canadian Status</th>\n",
       "      <th>FY Start</th>\n",
       "      <th>Province/Territory</th>\n",
       "      <th>Institution Name</th>\n",
       "      <th>Program type</th>\n",
       "      <th>Credential type</th>\n",
       "      <th>Domestic Enrolment</th>\n",
       "      <th>International Enrolment</th>\n",
       "    </tr>\n",
       "  </thead>\n",
       "  <tbody>\n",
       "    <tr>\n",
       "      <th>1772</th>\n",
       "      <td>2022</td>\n",
       "      <td>Ontario</td>\n",
       "      <td>York U</td>\n",
       "      <td>Graduate program (second cycle)</td>\n",
       "      <td>Degree (includes applied degree)</td>\n",
       "      <td>1704</td>\n",
       "      <td>1008</td>\n",
       "    </tr>\n",
       "    <tr>\n",
       "      <th>1773</th>\n",
       "      <td>2022</td>\n",
       "      <td>Ontario</td>\n",
       "      <td>York U</td>\n",
       "      <td>Graduate program (second cycle)</td>\n",
       "      <td>Diploma</td>\n",
       "      <td>9</td>\n",
       "      <td>9</td>\n",
       "    </tr>\n",
       "    <tr>\n",
       "      <th>1774</th>\n",
       "      <td>2022</td>\n",
       "      <td>Ontario</td>\n",
       "      <td>York U</td>\n",
       "      <td>Graduate program (second cycle)</td>\n",
       "      <td>Total, credential type</td>\n",
       "      <td>1716</td>\n",
       "      <td>1014</td>\n",
       "    </tr>\n",
       "    <tr>\n",
       "      <th>1775</th>\n",
       "      <td>2022</td>\n",
       "      <td>Ontario</td>\n",
       "      <td>York U</td>\n",
       "      <td>Graduate program (third cycle)</td>\n",
       "      <td>Degree (includes applied degree)</td>\n",
       "      <td>1485</td>\n",
       "      <td>357</td>\n",
       "    </tr>\n",
       "    <tr>\n",
       "      <th>1776</th>\n",
       "      <td>2022</td>\n",
       "      <td>Ontario</td>\n",
       "      <td>York U</td>\n",
       "      <td>Graduate program (third cycle)</td>\n",
       "      <td>Total, credential type</td>\n",
       "      <td>1485</td>\n",
       "      <td>357</td>\n",
       "    </tr>\n",
       "    <tr>\n",
       "      <th>1777</th>\n",
       "      <td>2022</td>\n",
       "      <td>Ontario</td>\n",
       "      <td>York U</td>\n",
       "      <td>Total, program type</td>\n",
       "      <td>Certificate</td>\n",
       "      <td>21</td>\n",
       "      <td>6</td>\n",
       "    </tr>\n",
       "    <tr>\n",
       "      <th>1778</th>\n",
       "      <td>2022</td>\n",
       "      <td>Ontario</td>\n",
       "      <td>York U</td>\n",
       "      <td>Total, program type</td>\n",
       "      <td>Degree (includes applied degree)</td>\n",
       "      <td>36054</td>\n",
       "      <td>8379</td>\n",
       "    </tr>\n",
       "    <tr>\n",
       "      <th>1779</th>\n",
       "      <td>2022</td>\n",
       "      <td>Ontario</td>\n",
       "      <td>York U</td>\n",
       "      <td>Total, program type</td>\n",
       "      <td>Diploma</td>\n",
       "      <td>9</td>\n",
       "      <td>9</td>\n",
       "    </tr>\n",
       "    <tr>\n",
       "      <th>1780</th>\n",
       "      <td>2022</td>\n",
       "      <td>Ontario</td>\n",
       "      <td>York U</td>\n",
       "      <td>Total, program type</td>\n",
       "      <td>Not applicable, credential type</td>\n",
       "      <td>57</td>\n",
       "      <td>300</td>\n",
       "    </tr>\n",
       "    <tr>\n",
       "      <th>1781</th>\n",
       "      <td>2022</td>\n",
       "      <td>Ontario</td>\n",
       "      <td>York U</td>\n",
       "      <td>Total, program type</td>\n",
       "      <td>Total, credential type</td>\n",
       "      <td>36144</td>\n",
       "      <td>8697</td>\n",
       "    </tr>\n",
       "    <tr>\n",
       "      <th>1782</th>\n",
       "      <td>2022</td>\n",
       "      <td>Ontario</td>\n",
       "      <td>York U</td>\n",
       "      <td>Undergraduate program</td>\n",
       "      <td>Certificate</td>\n",
       "      <td>21</td>\n",
       "      <td>6</td>\n",
       "    </tr>\n",
       "    <tr>\n",
       "      <th>1783</th>\n",
       "      <td>2022</td>\n",
       "      <td>Ontario</td>\n",
       "      <td>York U</td>\n",
       "      <td>Undergraduate program</td>\n",
       "      <td>Degree (includes applied degree)</td>\n",
       "      <td>32862</td>\n",
       "      <td>7017</td>\n",
       "    </tr>\n",
       "    <tr>\n",
       "      <th>1784</th>\n",
       "      <td>2022</td>\n",
       "      <td>Ontario</td>\n",
       "      <td>York U</td>\n",
       "      <td>Undergraduate program</td>\n",
       "      <td>Total, credential type</td>\n",
       "      <td>32883</td>\n",
       "      <td>7020</td>\n",
       "    </tr>\n",
       "  </tbody>\n",
       "</table>\n",
       "</div>"
      ],
      "text/plain": [
       "Canadian Status FY Start Province/Territory Institution Name  \\\n",
       "1772                2022            Ontario           York U   \n",
       "1773                2022            Ontario           York U   \n",
       "1774                2022            Ontario           York U   \n",
       "1775                2022            Ontario           York U   \n",
       "1776                2022            Ontario           York U   \n",
       "1777                2022            Ontario           York U   \n",
       "1778                2022            Ontario           York U   \n",
       "1779                2022            Ontario           York U   \n",
       "1780                2022            Ontario           York U   \n",
       "1781                2022            Ontario           York U   \n",
       "1782                2022            Ontario           York U   \n",
       "1783                2022            Ontario           York U   \n",
       "1784                2022            Ontario           York U   \n",
       "\n",
       "Canadian Status                     Program type  \\\n",
       "1772             Graduate program (second cycle)   \n",
       "1773             Graduate program (second cycle)   \n",
       "1774             Graduate program (second cycle)   \n",
       "1775              Graduate program (third cycle)   \n",
       "1776              Graduate program (third cycle)   \n",
       "1777                         Total, program type   \n",
       "1778                         Total, program type   \n",
       "1779                         Total, program type   \n",
       "1780                         Total, program type   \n",
       "1781                         Total, program type   \n",
       "1782                       Undergraduate program   \n",
       "1783                       Undergraduate program   \n",
       "1784                       Undergraduate program   \n",
       "\n",
       "Canadian Status                   Credential type  Domestic Enrolment  \\\n",
       "1772             Degree (includes applied degree)                1704   \n",
       "1773                                      Diploma                   9   \n",
       "1774                       Total, credential type                1716   \n",
       "1775             Degree (includes applied degree)                1485   \n",
       "1776                       Total, credential type                1485   \n",
       "1777                                  Certificate                  21   \n",
       "1778             Degree (includes applied degree)               36054   \n",
       "1779                                      Diploma                   9   \n",
       "1780              Not applicable, credential type                  57   \n",
       "1781                       Total, credential type               36144   \n",
       "1782                                  Certificate                  21   \n",
       "1783             Degree (includes applied degree)               32862   \n",
       "1784                       Total, credential type               32883   \n",
       "\n",
       "Canadian Status  International Enrolment  \n",
       "1772                                1008  \n",
       "1773                                   9  \n",
       "1774                                1014  \n",
       "1775                                 357  \n",
       "1776                                 357  \n",
       "1777                                   6  \n",
       "1778                                8379  \n",
       "1779                                   9  \n",
       "1780                                 300  \n",
       "1781                                8697  \n",
       "1782                                   6  \n",
       "1783                                7017  \n",
       "1784                                7020  "
      ]
     },
     "metadata": {},
     "output_type": "display_data"
    }
   ],
   "source": [
    "# search for York University\n",
    "cleaned_program_df[cleaned_program_df['Institution Name'].str.contains('York')]"
   ]
  },
  {
   "cell_type": "markdown",
   "metadata": {},
   "source": [
    "# To do Feb 19 - explore programs data here, compare intl/dom enrolment, compare overall enrolment in categories\n",
    "- EDA of the cleaned programs dataframe - which are the most popular programs, use the enrolment to determine which are the program categories of greatest relevance to revenue for schools.\n",
    "- Use existing knowledge e.g. graduate certificate, graduate diploma programs growing to see which institutions invested in these.\n",
    "- Any Program/Credential type categories which are esoteric or unknown, check their enrolment, if they are very small across the board we could remove them"
   ]
  },
  {
   "cell_type": "markdown",
   "metadata": {},
   "source": [
    "### Audit enrolment numbers against `combined_df` and Canada-wide totals before analysis of program/credential level enrolment."
   ]
  },
  {
   "cell_type": "markdown",
   "metadata": {},
   "source": [
    "#### Individual Schools spot check"
   ]
  },
  {
   "cell_type": "code",
   "execution_count": null,
   "metadata": {},
   "outputs": [
    {
     "data": {
      "text/html": [
       "<div>\n",
       "<style scoped>\n",
       "    .dataframe tbody tr th:only-of-type {\n",
       "        vertical-align: middle;\n",
       "    }\n",
       "\n",
       "    .dataframe tbody tr th {\n",
       "        vertical-align: top;\n",
       "    }\n",
       "\n",
       "    .dataframe thead th {\n",
       "        text-align: right;\n",
       "    }\n",
       "</style>\n",
       "<table border=\"1\" class=\"dataframe\">\n",
       "  <thead>\n",
       "    <tr style=\"text-align: right;\">\n",
       "      <th>Canadian Status</th>\n",
       "      <th>FY Start</th>\n",
       "      <th>Institution Name</th>\n",
       "      <th>Domestic Enrolment</th>\n",
       "      <th>International Enrolment</th>\n",
       "    </tr>\n",
       "  </thead>\n",
       "  <tbody>\n",
       "    <tr>\n",
       "      <th>269</th>\n",
       "      <td>2022</td>\n",
       "      <td>U of Alberta</td>\n",
       "      <td>34653</td>\n",
       "      <td>8361</td>\n",
       "    </tr>\n",
       "    <tr>\n",
       "      <th>647</th>\n",
       "      <td>2022</td>\n",
       "      <td>U of BC</td>\n",
       "      <td>36735</td>\n",
       "      <td>14472</td>\n",
       "    </tr>\n",
       "    <tr>\n",
       "      <th>1781</th>\n",
       "      <td>2022</td>\n",
       "      <td>York U</td>\n",
       "      <td>36144</td>\n",
       "      <td>8697</td>\n",
       "    </tr>\n",
       "  </tbody>\n",
       "</table>\n",
       "</div>"
      ],
      "text/plain": [
       "Canadian Status FY Start Institution Name  Domestic Enrolment  \\\n",
       "269                 2022     U of Alberta               34653   \n",
       "647                 2022          U of BC               36735   \n",
       "1781                2022           York U               36144   \n",
       "\n",
       "Canadian Status  International Enrolment  \n",
       "269                                 8361  \n",
       "647                                14472  \n",
       "1781                                8697  "
      ]
     },
     "metadata": {},
     "output_type": "display_data"
    }
   ],
   "source": [
    "cleaned_program_df[(cleaned_program_df['Institution Name'].isin(['U of BC', 'York U', 'U of Alberta'])) \n",
    "                   & (cleaned_program_df['Program type'] == 'Total, program type') \n",
    "                   & (cleaned_program_df['Credential type'] == 'Total, credential type')][['FY Start', 'Institution Name', 'Domestic Enrolment', 'International Enrolment']]"
   ]
  },
  {
   "cell_type": "code",
   "execution_count": null,
   "metadata": {},
   "outputs": [
    {
     "data": {
      "text/html": [
       "<div>\n",
       "<style scoped>\n",
       "    .dataframe tbody tr th:only-of-type {\n",
       "        vertical-align: middle;\n",
       "    }\n",
       "\n",
       "    .dataframe tbody tr th {\n",
       "        vertical-align: top;\n",
       "    }\n",
       "\n",
       "    .dataframe thead th {\n",
       "        text-align: right;\n",
       "    }\n",
       "</style>\n",
       "<table border=\"1\" class=\"dataframe\">\n",
       "  <thead>\n",
       "    <tr style=\"text-align: right;\">\n",
       "      <th></th>\n",
       "      <th>FY Start</th>\n",
       "      <th>Institution Name</th>\n",
       "      <th>Domestic Enrolment</th>\n",
       "      <th>International Enrolment</th>\n",
       "    </tr>\n",
       "  </thead>\n",
       "  <tbody>\n",
       "    <tr>\n",
       "      <th>2859</th>\n",
       "      <td>2022</td>\n",
       "      <td>U of Alberta</td>\n",
       "      <td>34653</td>\n",
       "      <td>8361</td>\n",
       "    </tr>\n",
       "    <tr>\n",
       "      <th>2873</th>\n",
       "      <td>2022</td>\n",
       "      <td>U of BC</td>\n",
       "      <td>36735</td>\n",
       "      <td>14472</td>\n",
       "    </tr>\n",
       "    <tr>\n",
       "      <th>3181</th>\n",
       "      <td>2022</td>\n",
       "      <td>York U</td>\n",
       "      <td>36144</td>\n",
       "      <td>8697</td>\n",
       "    </tr>\n",
       "  </tbody>\n",
       "</table>\n",
       "</div>"
      ],
      "text/plain": [
       "      FY Start Institution Name  Domestic Enrolment  International Enrolment\n",
       "2859      2022     U of Alberta               34653                     8361\n",
       "2873      2022          U of BC               36735                    14472\n",
       "3181      2022           York U               36144                     8697"
      ]
     },
     "metadata": {},
     "output_type": "display_data"
    }
   ],
   "source": [
    "combined_df[(combined_df['Institution Name'].isin(['U of BC', 'York U', 'U of Alberta']))\n",
    "            & (combined_df['FY Start'] == 2022)][['FY Start', 'Institution Name', 'Domestic Enrolment', 'International Enrolment']]"
   ]
  },
  {
   "cell_type": "markdown",
   "metadata": {},
   "source": [
    "All three institutions align in numbers so we can probably trust the numbers are good at the collection level. It was important to check here because we may remove low enrolment programs/credentials not hugely relevant to tuition fee revenue on the whole, as the analysis goes on here."
   ]
  },
  {
   "cell_type": "markdown",
   "metadata": {},
   "source": [
    "#### National/Provincial totals audited vs Canadian nationwide totals (avoid double counting total rows)"
   ]
  },
  {
   "cell_type": "markdown",
   "metadata": {},
   "source": [
    "In the earlier sections analysing Canada-wide statistics before breaking into province/PSI level:\n",
    "\n",
    "- Canada-wide total domestic enrolment in 2022/23 (FY start 2022) was **1,320,684 students**\n",
    "- Canada-wide total international enrolment in 2022/23 (FY start 2022) was **421,008 students**"
   ]
  },
  {
   "cell_type": "code",
   "execution_count": null,
   "metadata": {},
   "outputs": [
    {
     "data": {
      "text/html": [
       "<div>\n",
       "<style scoped>\n",
       "    .dataframe tbody tr th:only-of-type {\n",
       "        vertical-align: middle;\n",
       "    }\n",
       "\n",
       "    .dataframe tbody tr th {\n",
       "        vertical-align: top;\n",
       "    }\n",
       "\n",
       "    .dataframe thead th {\n",
       "        text-align: right;\n",
       "    }\n",
       "</style>\n",
       "<table border=\"1\" class=\"dataframe\">\n",
       "  <thead>\n",
       "    <tr style=\"text-align: right;\">\n",
       "      <th></th>\n",
       "      <th>FY Start</th>\n",
       "      <th>Canadian Status</th>\n",
       "      <th>Enrolment</th>\n",
       "      <th>Institution Name</th>\n",
       "      <th>Province/Territory</th>\n",
       "    </tr>\n",
       "  </thead>\n",
       "  <tbody>\n",
       "    <tr>\n",
       "      <th>13</th>\n",
       "      <td>2022</td>\n",
       "      <td>Canadian students</td>\n",
       "      <td>1320684</td>\n",
       "      <td>Canada (total)</td>\n",
       "      <td>Canada</td>\n",
       "    </tr>\n",
       "  </tbody>\n",
       "</table>\n",
       "</div>"
      ],
      "text/plain": [
       "    FY Start    Canadian Status  Enrolment Institution Name Province/Territory\n",
       "13      2022  Canadian students    1320684   Canada (total)             Canada"
      ]
     },
     "metadata": {},
     "output_type": "display_data"
    }
   ],
   "source": [
    "# canada_dom is the domestic student data originally imported - 1.32 million students in 2022/23\n",
    "canada_dom[canada_dom['FY Start'] == 2022]"
   ]
  },
  {
   "cell_type": "code",
   "execution_count": null,
   "metadata": {},
   "outputs": [
    {
     "data": {
      "text/html": [
       "<div>\n",
       "<style scoped>\n",
       "    .dataframe tbody tr th:only-of-type {\n",
       "        vertical-align: middle;\n",
       "    }\n",
       "\n",
       "    .dataframe tbody tr th {\n",
       "        vertical-align: top;\n",
       "    }\n",
       "\n",
       "    .dataframe thead th {\n",
       "        text-align: right;\n",
       "    }\n",
       "</style>\n",
       "<table border=\"1\" class=\"dataframe\">\n",
       "  <thead>\n",
       "    <tr style=\"text-align: right;\">\n",
       "      <th></th>\n",
       "      <th>FY Start</th>\n",
       "      <th>Canadian Status</th>\n",
       "      <th>Enrolment</th>\n",
       "      <th>Institution Name</th>\n",
       "      <th>Province/Territory</th>\n",
       "    </tr>\n",
       "  </thead>\n",
       "  <tbody>\n",
       "    <tr>\n",
       "      <th>13</th>\n",
       "      <td>2022</td>\n",
       "      <td>International students</td>\n",
       "      <td>421008</td>\n",
       "      <td>Canada (total)</td>\n",
       "      <td>Canada</td>\n",
       "    </tr>\n",
       "  </tbody>\n",
       "</table>\n",
       "</div>"
      ],
      "text/plain": [
       "    FY Start         Canadian Status  Enrolment Institution Name  \\\n",
       "13      2022  International students     421008   Canada (total)   \n",
       "\n",
       "   Province/Territory  \n",
       "13             Canada  "
      ]
     },
     "metadata": {},
     "output_type": "display_data"
    }
   ],
   "source": [
    "canada_intl[canada_intl['FY Start'] == 2022]"
   ]
  },
  {
   "cell_type": "markdown",
   "metadata": {},
   "source": [
    "The `cleaned_program_df` will have several instances of double-counting at the provincial total levels counting total program types and total credential types (see cell below)"
   ]
  },
  {
   "cell_type": "code",
   "execution_count": null,
   "metadata": {},
   "outputs": [
    {
     "data": {
      "text/html": [
       "<div>\n",
       "<style scoped>\n",
       "    .dataframe tbody tr th:only-of-type {\n",
       "        vertical-align: middle;\n",
       "    }\n",
       "\n",
       "    .dataframe tbody tr th {\n",
       "        vertical-align: top;\n",
       "    }\n",
       "\n",
       "    .dataframe thead th {\n",
       "        text-align: right;\n",
       "    }\n",
       "</style>\n",
       "<table border=\"1\" class=\"dataframe\">\n",
       "  <thead>\n",
       "    <tr style=\"text-align: right;\">\n",
       "      <th>Canadian Status</th>\n",
       "      <th>FY Start</th>\n",
       "      <th>Province/Territory</th>\n",
       "      <th>Institution Name</th>\n",
       "      <th>Program type</th>\n",
       "      <th>Credential type</th>\n",
       "      <th>Domestic Enrolment</th>\n",
       "      <th>International Enrolment</th>\n",
       "    </tr>\n",
       "  </thead>\n",
       "  <tbody>\n",
       "    <tr>\n",
       "      <th>1551</th>\n",
       "      <td>2022</td>\n",
       "      <td>Ontario</td>\n",
       "      <td>Ontario (total)</td>\n",
       "      <td>Total, program type</td>\n",
       "      <td>Total, credential type</td>\n",
       "      <td>546672</td>\n",
       "      <td>236769</td>\n",
       "    </tr>\n",
       "    <tr>\n",
       "      <th>1547</th>\n",
       "      <td>2022</td>\n",
       "      <td>Ontario</td>\n",
       "      <td>Ontario (total)</td>\n",
       "      <td>Total, program type</td>\n",
       "      <td>Degree (includes applied degree)</td>\n",
       "      <td>414537</td>\n",
       "      <td>93018</td>\n",
       "    </tr>\n",
       "    <tr>\n",
       "      <th>1557</th>\n",
       "      <td>2022</td>\n",
       "      <td>Ontario</td>\n",
       "      <td>Ontario (total)</td>\n",
       "      <td>Undergraduate program</td>\n",
       "      <td>Total, credential type</td>\n",
       "      <td>361329</td>\n",
       "      <td>69291</td>\n",
       "    </tr>\n",
       "    <tr>\n",
       "      <th>1553</th>\n",
       "      <td>2022</td>\n",
       "      <td>Ontario</td>\n",
       "      <td>Ontario (total)</td>\n",
       "      <td>Undergraduate program</td>\n",
       "      <td>Degree (includes applied degree)</td>\n",
       "      <td>359139</td>\n",
       "      <td>67233</td>\n",
       "    </tr>\n",
       "    <tr>\n",
       "      <th>2385</th>\n",
       "      <td>2022</td>\n",
       "      <td>Quebec</td>\n",
       "      <td>Quebec (total)</td>\n",
       "      <td>Total, program type</td>\n",
       "      <td>Total, credential type</td>\n",
       "      <td>344982</td>\n",
       "      <td>59814</td>\n",
       "    </tr>\n",
       "  </tbody>\n",
       "</table>\n",
       "</div>"
      ],
      "text/plain": [
       "Canadian Status FY Start Province/Territory Institution Name  \\\n",
       "1551                2022            Ontario  Ontario (total)   \n",
       "1547                2022            Ontario  Ontario (total)   \n",
       "1557                2022            Ontario  Ontario (total)   \n",
       "1553                2022            Ontario  Ontario (total)   \n",
       "2385                2022             Quebec   Quebec (total)   \n",
       "\n",
       "Canadian Status           Program type                   Credential type  \\\n",
       "1551               Total, program type            Total, credential type   \n",
       "1547               Total, program type  Degree (includes applied degree)   \n",
       "1557             Undergraduate program            Total, credential type   \n",
       "1553             Undergraduate program  Degree (includes applied degree)   \n",
       "2385               Total, program type            Total, credential type   \n",
       "\n",
       "Canadian Status  Domestic Enrolment  International Enrolment  \n",
       "1551                         546672                   236769  \n",
       "1547                         414537                    93018  \n",
       "1557                         361329                    69291  \n",
       "1553                         359139                    67233  \n",
       "2385                         344982                    59814  "
      ]
     },
     "metadata": {},
     "output_type": "display_data"
    }
   ],
   "source": [
    "# Note the total, program type, total credential type rows which are double counting enrolment\n",
    "cleaned_program_df.sort_values(by='Domestic Enrolment', ascending=False).head(5)"
   ]
  },
  {
   "cell_type": "markdown",
   "metadata": {},
   "source": [
    "This is just an extract showing the double counting. We want to show this data agrees with the previous set.\n",
    "\n",
    "Let's reconcile by grabbing the provincial totals in one dataframe and all the individual institutions and programs in another. They are just two different methods of counting enrolment with varying degrees of granularity.\n",
    "\n",
    "Below, `programs_prov_totals` will consist only of records of the provincial totals across all programs and credentials for each province."
   ]
  },
  {
   "cell_type": "code",
   "execution_count": null,
   "metadata": {},
   "outputs": [
    {
     "name": "stderr",
     "output_type": "stream",
     "text": [
      "/var/folders/jj/bww8jnqd2lg73nm4k1z5kbmc0000gn/T/ipykernel_35167/2269312988.py:2: UserWarning:\n",
      "\n",
      "This pattern is interpreted as a regular expression, and has match groups. To actually get the groups, use str.extract.\n",
      "\n"
     ]
    }
   ],
   "source": [
    "programs_prov_totals = cleaned_program_df[(cleaned_program_df['Institution Name'].str.contains('(total)')) & \n",
    "                                          (cleaned_program_df['Program type'] == 'Total, program type') & \n",
    "                                          (cleaned_program_df['Credential type'] == 'Total, credential type')\n",
    "                                          ]"
   ]
  },
  {
   "cell_type": "code",
   "execution_count": null,
   "metadata": {},
   "outputs": [
    {
     "data": {
      "text/html": [
       "<div>\n",
       "<style scoped>\n",
       "    .dataframe tbody tr th:only-of-type {\n",
       "        vertical-align: middle;\n",
       "    }\n",
       "\n",
       "    .dataframe tbody tr th {\n",
       "        vertical-align: top;\n",
       "    }\n",
       "\n",
       "    .dataframe thead th {\n",
       "        text-align: right;\n",
       "    }\n",
       "</style>\n",
       "<table border=\"1\" class=\"dataframe\">\n",
       "  <thead>\n",
       "    <tr style=\"text-align: right;\">\n",
       "      <th>Canadian Status</th>\n",
       "      <th>FY Start</th>\n",
       "      <th>Province/Territory</th>\n",
       "      <th>Institution Name</th>\n",
       "      <th>Program type</th>\n",
       "      <th>Credential type</th>\n",
       "      <th>Domestic Enrolment</th>\n",
       "      <th>International Enrolment</th>\n",
       "    </tr>\n",
       "  </thead>\n",
       "  <tbody>\n",
       "    <tr>\n",
       "      <th>20</th>\n",
       "      <td>2022</td>\n",
       "      <td>Alberta</td>\n",
       "      <td>Alberta (total)</td>\n",
       "      <td>Total, program type</td>\n",
       "      <td>Total, credential type</td>\n",
       "      <td>153537</td>\n",
       "      <td>29139</td>\n",
       "    </tr>\n",
       "    <tr>\n",
       "      <th>330</th>\n",
       "      <td>2022</td>\n",
       "      <td>British Columbia</td>\n",
       "      <td>BC (total)</td>\n",
       "      <td>Total, program type</td>\n",
       "      <td>Total, credential type</td>\n",
       "      <td>123987</td>\n",
       "      <td>53583</td>\n",
       "    </tr>\n",
       "    <tr>\n",
       "      <th>799</th>\n",
       "      <td>2022</td>\n",
       "      <td>Manitoba</td>\n",
       "      <td>Manitoba (total)</td>\n",
       "      <td>Total, program type</td>\n",
       "      <td>Total, credential type</td>\n",
       "      <td>38181</td>\n",
       "      <td>10563</td>\n",
       "    </tr>\n",
       "    <tr>\n",
       "      <th>925</th>\n",
       "      <td>2022</td>\n",
       "      <td>New Brunswick</td>\n",
       "      <td>New Brunswick (total)</td>\n",
       "      <td>Total, program type</td>\n",
       "      <td>Total, credential type</td>\n",
       "      <td>18150</td>\n",
       "      <td>5439</td>\n",
       "    </tr>\n",
       "    <tr>\n",
       "      <th>1045</th>\n",
       "      <td>2022</td>\n",
       "      <td>Newfoundland and Labrador</td>\n",
       "      <td>Newfoundland and Labrador (total)</td>\n",
       "      <td>Total, program type</td>\n",
       "      <td>Total, credential type</td>\n",
       "      <td>15288</td>\n",
       "      <td>4725</td>\n",
       "    </tr>\n",
       "    <tr>\n",
       "      <th>1147</th>\n",
       "      <td>2022</td>\n",
       "      <td>Nova Scotia</td>\n",
       "      <td>Nova Scotia (total)</td>\n",
       "      <td>Total, program type</td>\n",
       "      <td>Total, credential type</td>\n",
       "      <td>38049</td>\n",
       "      <td>11805</td>\n",
       "    </tr>\n",
       "    <tr>\n",
       "      <th>1551</th>\n",
       "      <td>2022</td>\n",
       "      <td>Ontario</td>\n",
       "      <td>Ontario (total)</td>\n",
       "      <td>Total, program type</td>\n",
       "      <td>Total, credential type</td>\n",
       "      <td>546672</td>\n",
       "      <td>236769</td>\n",
       "    </tr>\n",
       "    <tr>\n",
       "      <th>1815</th>\n",
       "      <td>2022</td>\n",
       "      <td>Prince Edward Island</td>\n",
       "      <td>Prince Edward Island (total)</td>\n",
       "      <td>Total, program type</td>\n",
       "      <td>Total, credential type</td>\n",
       "      <td>4992</td>\n",
       "      <td>2121</td>\n",
       "    </tr>\n",
       "    <tr>\n",
       "      <th>2385</th>\n",
       "      <td>2022</td>\n",
       "      <td>Quebec</td>\n",
       "      <td>Quebec (total)</td>\n",
       "      <td>Total, program type</td>\n",
       "      <td>Total, credential type</td>\n",
       "      <td>344982</td>\n",
       "      <td>59814</td>\n",
       "    </tr>\n",
       "    <tr>\n",
       "      <th>2594</th>\n",
       "      <td>2022</td>\n",
       "      <td>Saskatchewan</td>\n",
       "      <td>Saskatchewan (total)</td>\n",
       "      <td>Total, program type</td>\n",
       "      <td>Total, credential type</td>\n",
       "      <td>35247</td>\n",
       "      <td>7032</td>\n",
       "    </tr>\n",
       "  </tbody>\n",
       "</table>\n",
       "</div>"
      ],
      "text/plain": [
       "Canadian Status FY Start         Province/Territory  \\\n",
       "20                  2022                    Alberta   \n",
       "330                 2022           British Columbia   \n",
       "799                 2022                   Manitoba   \n",
       "925                 2022              New Brunswick   \n",
       "1045                2022  Newfoundland and Labrador   \n",
       "1147                2022                Nova Scotia   \n",
       "1551                2022                    Ontario   \n",
       "1815                2022       Prince Edward Island   \n",
       "2385                2022                     Quebec   \n",
       "2594                2022               Saskatchewan   \n",
       "\n",
       "Canadian Status                   Institution Name         Program type  \\\n",
       "20                                 Alberta (total)  Total, program type   \n",
       "330                                     BC (total)  Total, program type   \n",
       "799                               Manitoba (total)  Total, program type   \n",
       "925                          New Brunswick (total)  Total, program type   \n",
       "1045             Newfoundland and Labrador (total)  Total, program type   \n",
       "1147                           Nova Scotia (total)  Total, program type   \n",
       "1551                               Ontario (total)  Total, program type   \n",
       "1815                  Prince Edward Island (total)  Total, program type   \n",
       "2385                                Quebec (total)  Total, program type   \n",
       "2594                          Saskatchewan (total)  Total, program type   \n",
       "\n",
       "Canadian Status         Credential type  Domestic Enrolment  \\\n",
       "20               Total, credential type              153537   \n",
       "330              Total, credential type              123987   \n",
       "799              Total, credential type               38181   \n",
       "925              Total, credential type               18150   \n",
       "1045             Total, credential type               15288   \n",
       "1147             Total, credential type               38049   \n",
       "1551             Total, credential type              546672   \n",
       "1815             Total, credential type                4992   \n",
       "2385             Total, credential type              344982   \n",
       "2594             Total, credential type               35247   \n",
       "\n",
       "Canadian Status  International Enrolment  \n",
       "20                                 29139  \n",
       "330                                53583  \n",
       "799                                10563  \n",
       "925                                 5439  \n",
       "1045                                4725  \n",
       "1147                               11805  \n",
       "1551                              236769  \n",
       "1815                                2121  \n",
       "2385                               59814  \n",
       "2594                                7032  "
      ]
     },
     "metadata": {},
     "output_type": "display_data"
    }
   ],
   "source": [
    "programs_prov_totals"
   ]
  },
  {
   "cell_type": "code",
   "execution_count": null,
   "metadata": {},
   "outputs": [
    {
     "name": "stdout",
     "output_type": "stream",
     "text": [
      "Total Domestic enrolment across all provinces combined is 1319085, compared to earlier dataset of 1320684\n",
      "Total International enrolment across all provinces combined is 420990, compared to earlier dataset of 421008\n"
     ]
    }
   ],
   "source": [
    "print(f\"Total Domestic enrolment across all provinces combined is {programs_prov_totals['Domestic Enrolment'].sum()}, compared to earlier dataset of {canada_dom[canada_dom['FY Start'] == 2022]['Enrolment'].sum()}\")\n",
    "print(f\"Total International enrolment across all provinces combined is {programs_prov_totals['International Enrolment'].sum()}, compared to earlier dataset of {canada_intl[canada_intl['FY Start'] == 2022]['Enrolment'].sum()}\")"
   ]
  },
  {
   "cell_type": "markdown",
   "metadata": {},
   "source": [
    "**To audit properly, we will use the above comparison statement to get the new dataset as close as possible to the Canadian nationwide numbers we pulled at the very beginning of the project. Namely 1.320m Domestic Canadian students in 2022/23 and 421,008 international students.** \n",
    "\n",
    "At the provincial total level, it's a very close matches! Likely just missing the territories which we removed in the second dataset, but not the first. These data are reconciled for all practical intents and purposes.\n",
    "\n",
    "\n",
    "#### Schools Total\n",
    "\n",
    "As for the individual credential/program dataframe, we need to be a bit more precise. \n",
    "\n",
    "- We should exclude the provincial totals which are double counting the enrolment at the individual schools.\n",
    "- The individual institutions will also be aggregating the total program/credential type on top of the individual programs and credentials.\n",
    "\n",
    "Doing this step by step, we have province level totals reconciled, now reconcile institution totals across program/credential:"
   ]
  },
  {
   "cell_type": "code",
   "execution_count": null,
   "metadata": {},
   "outputs": [
    {
     "name": "stderr",
     "output_type": "stream",
     "text": [
      "/var/folders/jj/bww8jnqd2lg73nm4k1z5kbmc0000gn/T/ipykernel_35167/2617945864.py:1: UserWarning:\n",
      "\n",
      "This pattern is interpreted as a regular expression, and has match groups. To actually get the groups, use str.extract.\n",
      "\n"
     ]
    }
   ],
   "source": [
    "programs_no_totals = cleaned_program_df[~(cleaned_program_df['Institution Name'].str.contains('(total)')) & \n",
    "                                        (cleaned_program_df['Program type'] == 'Total, program type') & \n",
    "                                        (cleaned_program_df['Credential type'] == 'Total, credential type')\n",
    "                                        ]"
   ]
  },
  {
   "cell_type": "code",
   "execution_count": null,
   "metadata": {},
   "outputs": [
    {
     "data": {
      "text/plain": [
       "1319103"
      ]
     },
     "metadata": {},
     "output_type": "display_data"
    }
   ],
   "source": [
    "programs_no_totals['Domestic Enrolment'].sum()"
   ]
  },
  {
   "cell_type": "code",
   "execution_count": null,
   "metadata": {},
   "outputs": [
    {
     "data": {
      "text/html": [
       "<div>\n",
       "<style scoped>\n",
       "    .dataframe tbody tr th:only-of-type {\n",
       "        vertical-align: middle;\n",
       "    }\n",
       "\n",
       "    .dataframe tbody tr th {\n",
       "        vertical-align: top;\n",
       "    }\n",
       "\n",
       "    .dataframe thead th {\n",
       "        text-align: right;\n",
       "    }\n",
       "</style>\n",
       "<table border=\"1\" class=\"dataframe\">\n",
       "  <thead>\n",
       "    <tr style=\"text-align: right;\">\n",
       "      <th>Canadian Status</th>\n",
       "      <th>FY Start</th>\n",
       "      <th>Province/Territory</th>\n",
       "      <th>Institution Name</th>\n",
       "      <th>Program type</th>\n",
       "      <th>Credential type</th>\n",
       "      <th>Domestic Enrolment</th>\n",
       "      <th>International Enrolment</th>\n",
       "    </tr>\n",
       "  </thead>\n",
       "  <tbody>\n",
       "    <tr>\n",
       "      <th>1715</th>\n",
       "      <td>2022</td>\n",
       "      <td>Ontario</td>\n",
       "      <td>U of Toronto</td>\n",
       "      <td>Total, program type</td>\n",
       "      <td>Total, credential type</td>\n",
       "      <td>62826</td>\n",
       "      <td>26856</td>\n",
       "    </tr>\n",
       "    <tr>\n",
       "      <th>2434</th>\n",
       "      <td>2022</td>\n",
       "      <td>Quebec</td>\n",
       "      <td>U de Montréal</td>\n",
       "      <td>Total, program type</td>\n",
       "      <td>Total, credential type</td>\n",
       "      <td>38646</td>\n",
       "      <td>11211</td>\n",
       "    </tr>\n",
       "    <tr>\n",
       "      <th>647</th>\n",
       "      <td>2022</td>\n",
       "      <td>British Columbia</td>\n",
       "      <td>U of BC</td>\n",
       "      <td>Total, program type</td>\n",
       "      <td>Total, credential type</td>\n",
       "      <td>36735</td>\n",
       "      <td>14472</td>\n",
       "    </tr>\n",
       "    <tr>\n",
       "      <th>1781</th>\n",
       "      <td>2022</td>\n",
       "      <td>Ontario</td>\n",
       "      <td>York U</td>\n",
       "      <td>Total, program type</td>\n",
       "      <td>Total, credential type</td>\n",
       "      <td>36144</td>\n",
       "      <td>8697</td>\n",
       "    </tr>\n",
       "    <tr>\n",
       "      <th>1756</th>\n",
       "      <td>2022</td>\n",
       "      <td>Ontario</td>\n",
       "      <td>Western U</td>\n",
       "      <td>Total, program type</td>\n",
       "      <td>Total, credential type</td>\n",
       "      <td>34998</td>\n",
       "      <td>5829</td>\n",
       "    </tr>\n",
       "    <tr>\n",
       "      <th>...</th>\n",
       "      <td>...</td>\n",
       "      <td>...</td>\n",
       "      <td>...</td>\n",
       "      <td>...</td>\n",
       "      <td>...</td>\n",
       "      <td>...</td>\n",
       "      <td>...</td>\n",
       "    </tr>\n",
       "    <tr>\n",
       "      <th>2570</th>\n",
       "      <td>2022</td>\n",
       "      <td>Saskatchewan</td>\n",
       "      <td>Parkland Regional College</td>\n",
       "      <td>Total, program type</td>\n",
       "      <td>Total, credential type</td>\n",
       "      <td>21</td>\n",
       "      <td>0</td>\n",
       "    </tr>\n",
       "    <tr>\n",
       "      <th>1069</th>\n",
       "      <td>2022</td>\n",
       "      <td>Nova Scotia</td>\n",
       "      <td>Atlantic School of Theology</td>\n",
       "      <td>Total, program type</td>\n",
       "      <td>Total, credential type</td>\n",
       "      <td>18</td>\n",
       "      <td>6</td>\n",
       "    </tr>\n",
       "    <tr>\n",
       "      <th>1674</th>\n",
       "      <td>2022</td>\n",
       "      <td>Ontario</td>\n",
       "      <td>U de l'Ontario français</td>\n",
       "      <td>Total, program type</td>\n",
       "      <td>Total, credential type</td>\n",
       "      <td>15</td>\n",
       "      <td>81</td>\n",
       "    </tr>\n",
       "    <tr>\n",
       "      <th>2566</th>\n",
       "      <td>2022</td>\n",
       "      <td>Saskatchewan</td>\n",
       "      <td>Great Plains College</td>\n",
       "      <td>Total, program type</td>\n",
       "      <td>Total, credential type</td>\n",
       "      <td>12</td>\n",
       "      <td>0</td>\n",
       "    </tr>\n",
       "    <tr>\n",
       "      <th>1790</th>\n",
       "      <td>2022</td>\n",
       "      <td>Prince Edward Island</td>\n",
       "      <td>Collège de l'Île</td>\n",
       "      <td>Total, program type</td>\n",
       "      <td>Total, credential type</td>\n",
       "      <td>9</td>\n",
       "      <td>27</td>\n",
       "    </tr>\n",
       "  </tbody>\n",
       "</table>\n",
       "<p>231 rows × 7 columns</p>\n",
       "</div>"
      ],
      "text/plain": [
       "Canadian Status FY Start    Province/Territory             Institution Name  \\\n",
       "1715                2022               Ontario                 U of Toronto   \n",
       "2434                2022                Quebec                U de Montréal   \n",
       "647                 2022      British Columbia                      U of BC   \n",
       "1781                2022               Ontario                       York U   \n",
       "1756                2022               Ontario                    Western U   \n",
       "...                  ...                   ...                          ...   \n",
       "2570                2022          Saskatchewan    Parkland Regional College   \n",
       "1069                2022           Nova Scotia  Atlantic School of Theology   \n",
       "1674                2022               Ontario      U de l'Ontario français   \n",
       "2566                2022          Saskatchewan         Great Plains College   \n",
       "1790                2022  Prince Edward Island             Collège de l'Île   \n",
       "\n",
       "Canadian Status         Program type         Credential type  \\\n",
       "1715             Total, program type  Total, credential type   \n",
       "2434             Total, program type  Total, credential type   \n",
       "647              Total, program type  Total, credential type   \n",
       "1781             Total, program type  Total, credential type   \n",
       "1756             Total, program type  Total, credential type   \n",
       "...                              ...                     ...   \n",
       "2570             Total, program type  Total, credential type   \n",
       "1069             Total, program type  Total, credential type   \n",
       "1674             Total, program type  Total, credential type   \n",
       "2566             Total, program type  Total, credential type   \n",
       "1790             Total, program type  Total, credential type   \n",
       "\n",
       "Canadian Status  Domestic Enrolment  International Enrolment  \n",
       "1715                          62826                    26856  \n",
       "2434                          38646                    11211  \n",
       "647                           36735                    14472  \n",
       "1781                          36144                     8697  \n",
       "1756                          34998                     5829  \n",
       "...                             ...                      ...  \n",
       "2570                             21                        0  \n",
       "1069                             18                        6  \n",
       "1674                             15                       81  \n",
       "2566                             12                        0  \n",
       "1790                              9                       27  \n",
       "\n",
       "[231 rows x 7 columns]"
      ]
     },
     "metadata": {},
     "output_type": "display_data"
    }
   ],
   "source": [
    "programs_no_totals.sort_values(by='Domestic Enrolment', ascending=False)"
   ]
  },
  {
   "cell_type": "markdown",
   "metadata": {},
   "source": [
    "# to-do Feb 24 - try and reconcile the 72k domestic enrolment and 20k international enrolment missing in this data\n",
    "\n",
    "# use the Province (total) records to reconcile 1.32m as above, and then split them off from the main dataframe!!\n",
    "\n",
    "# then you can compare province (total) dataframe for total int'l students and the individual records combined"
   ]
  },
  {
   "cell_type": "markdown",
   "metadata": {},
   "source": [
    "1.25 million is off by 72,000 from 1.32m. May be due to dropping the territories and some other records.\n",
    "\n",
    "For international enrolment (target is 421,008):"
   ]
  },
  {
   "cell_type": "code",
   "execution_count": null,
   "metadata": {},
   "outputs": [
    {
     "data": {
      "text/plain": [
       "398694"
      ]
     },
     "metadata": {},
     "output_type": "display_data"
    }
   ],
   "source": [
    "programs_no_totals['International Enrolment'].sum()"
   ]
  },
  {
   "cell_type": "code",
   "execution_count": null,
   "metadata": {},
   "outputs": [
    {
     "data": {
      "text/html": [
       "<div>\n",
       "<style scoped>\n",
       "    .dataframe tbody tr th:only-of-type {\n",
       "        vertical-align: middle;\n",
       "    }\n",
       "\n",
       "    .dataframe tbody tr th {\n",
       "        vertical-align: top;\n",
       "    }\n",
       "\n",
       "    .dataframe thead th {\n",
       "        text-align: right;\n",
       "    }\n",
       "</style>\n",
       "<table border=\"1\" class=\"dataframe\">\n",
       "  <thead>\n",
       "    <tr style=\"text-align: right;\">\n",
       "      <th>Canadian Status</th>\n",
       "      <th>FY Start</th>\n",
       "      <th>Province/Territory</th>\n",
       "      <th>Institution Name</th>\n",
       "      <th>Program type</th>\n",
       "      <th>Credential type</th>\n",
       "      <th>Domestic Enrolment</th>\n",
       "      <th>International Enrolment</th>\n",
       "    </tr>\n",
       "  </thead>\n",
       "  <tbody>\n",
       "    <tr>\n",
       "      <th>1717</th>\n",
       "      <td>2022</td>\n",
       "      <td>Ontario</td>\n",
       "      <td>U of Toronto</td>\n",
       "      <td>Undergraduate program</td>\n",
       "      <td>Degree (includes applied degree)</td>\n",
       "      <td>44616</td>\n",
       "      <td>19845</td>\n",
       "    </tr>\n",
       "    <tr>\n",
       "      <th>1783</th>\n",
       "      <td>2022</td>\n",
       "      <td>Ontario</td>\n",
       "      <td>York U</td>\n",
       "      <td>Undergraduate program</td>\n",
       "      <td>Degree (includes applied degree)</td>\n",
       "      <td>32862</td>\n",
       "      <td>7017</td>\n",
       "    </tr>\n",
       "    <tr>\n",
       "      <th>270</th>\n",
       "      <td>2022</td>\n",
       "      <td>Alberta</td>\n",
       "      <td>U of Alberta</td>\n",
       "      <td>Undergraduate program</td>\n",
       "      <td>Degree (includes applied degree)</td>\n",
       "      <td>28686</td>\n",
       "      <td>4560</td>\n",
       "    </tr>\n",
       "    <tr>\n",
       "      <th>1730</th>\n",
       "      <td>2022</td>\n",
       "      <td>Ontario</td>\n",
       "      <td>U of Waterloo</td>\n",
       "      <td>Undergraduate program</td>\n",
       "      <td>Degree (includes applied degree)</td>\n",
       "      <td>27897</td>\n",
       "      <td>5973</td>\n",
       "    </tr>\n",
       "    <tr>\n",
       "      <th>1650</th>\n",
       "      <td>2022</td>\n",
       "      <td>Ontario</td>\n",
       "      <td>Toronto Metropolitan U</td>\n",
       "      <td>Undergraduate program</td>\n",
       "      <td>Degree (includes applied degree)</td>\n",
       "      <td>27450</td>\n",
       "      <td>2985</td>\n",
       "    </tr>\n",
       "    <tr>\n",
       "      <th>1757</th>\n",
       "      <td>2022</td>\n",
       "      <td>Ontario</td>\n",
       "      <td>Western U</td>\n",
       "      <td>Undergraduate program</td>\n",
       "      <td>Degree (includes applied degree)</td>\n",
       "      <td>27042</td>\n",
       "      <td>3702</td>\n",
       "    </tr>\n",
       "    <tr>\n",
       "      <th>648</th>\n",
       "      <td>2022</td>\n",
       "      <td>British Columbia</td>\n",
       "      <td>U of BC</td>\n",
       "      <td>Undergraduate program</td>\n",
       "      <td>Degree (includes applied degree)</td>\n",
       "      <td>26601</td>\n",
       "      <td>9915</td>\n",
       "    </tr>\n",
       "    <tr>\n",
       "      <th>1702</th>\n",
       "      <td>2022</td>\n",
       "      <td>Ontario</td>\n",
       "      <td>U of Ottawa-U d'Ottawa</td>\n",
       "      <td>Undergraduate program</td>\n",
       "      <td>Degree (includes applied degree)</td>\n",
       "      <td>26307</td>\n",
       "      <td>6327</td>\n",
       "    </tr>\n",
       "    <tr>\n",
       "      <th>1463</th>\n",
       "      <td>2022</td>\n",
       "      <td>Ontario</td>\n",
       "      <td>McMaster U</td>\n",
       "      <td>Undergraduate program</td>\n",
       "      <td>Degree (includes applied degree)</td>\n",
       "      <td>25518</td>\n",
       "      <td>4530</td>\n",
       "    </tr>\n",
       "    <tr>\n",
       "      <th>2436</th>\n",
       "      <td>2022</td>\n",
       "      <td>Quebec</td>\n",
       "      <td>U de Montréal</td>\n",
       "      <td>Undergraduate program</td>\n",
       "      <td>Degree (includes applied degree)</td>\n",
       "      <td>24579</td>\n",
       "      <td>4086</td>\n",
       "    </tr>\n",
       "    <tr>\n",
       "      <th>285</th>\n",
       "      <td>2022</td>\n",
       "      <td>Alberta</td>\n",
       "      <td>U of Calgary</td>\n",
       "      <td>Undergraduate program</td>\n",
       "      <td>Degree (includes applied degree)</td>\n",
       "      <td>23151</td>\n",
       "      <td>3576</td>\n",
       "    </tr>\n",
       "    <tr>\n",
       "      <th>1686</th>\n",
       "      <td>2022</td>\n",
       "      <td>Ontario</td>\n",
       "      <td>U of Guelph</td>\n",
       "      <td>Undergraduate program</td>\n",
       "      <td>Degree (includes applied degree)</td>\n",
       "      <td>22842</td>\n",
       "      <td>1284</td>\n",
       "    </tr>\n",
       "    <tr>\n",
       "      <th>1581</th>\n",
       "      <td>2022</td>\n",
       "      <td>Ontario</td>\n",
       "      <td>Queen's U</td>\n",
       "      <td>Undergraduate program</td>\n",
       "      <td>Degree (includes applied degree)</td>\n",
       "      <td>18531</td>\n",
       "      <td>1935</td>\n",
       "    </tr>\n",
       "    <tr>\n",
       "      <th>2421</th>\n",
       "      <td>2022</td>\n",
       "      <td>Quebec</td>\n",
       "      <td>U Laval</td>\n",
       "      <td>Undergraduate program</td>\n",
       "      <td>Degree (includes applied degree)</td>\n",
       "      <td>17907</td>\n",
       "      <td>1101</td>\n",
       "    </tr>\n",
       "    <tr>\n",
       "      <th>1986</th>\n",
       "      <td>2022</td>\n",
       "      <td>Quebec</td>\n",
       "      <td>Concordia U</td>\n",
       "      <td>Undergraduate program</td>\n",
       "      <td>Degree (includes applied degree)</td>\n",
       "      <td>17595</td>\n",
       "      <td>3513</td>\n",
       "    </tr>\n",
       "    <tr>\n",
       "      <th>1286</th>\n",
       "      <td>2022</td>\n",
       "      <td>Ontario</td>\n",
       "      <td>Carleton U</td>\n",
       "      <td>Undergraduate program</td>\n",
       "      <td>Degree (includes applied degree)</td>\n",
       "      <td>17400</td>\n",
       "      <td>2220</td>\n",
       "    </tr>\n",
       "    <tr>\n",
       "      <th>872</th>\n",
       "      <td>2022</td>\n",
       "      <td>Manitoba</td>\n",
       "      <td>U of Manitoba</td>\n",
       "      <td>Undergraduate program</td>\n",
       "      <td>Degree (includes applied degree)</td>\n",
       "      <td>16971</td>\n",
       "      <td>4563</td>\n",
       "    </tr>\n",
       "    <tr>\n",
       "      <th>2366</th>\n",
       "      <td>2022</td>\n",
       "      <td>Quebec</td>\n",
       "      <td>McGill U</td>\n",
       "      <td>Undergraduate program</td>\n",
       "      <td>Degree (includes applied degree)</td>\n",
       "      <td>16743</td>\n",
       "      <td>6045</td>\n",
       "    </tr>\n",
       "    <tr>\n",
       "      <th>1770</th>\n",
       "      <td>2022</td>\n",
       "      <td>Ontario</td>\n",
       "      <td>Wilfrid Laurier U</td>\n",
       "      <td>Undergraduate program</td>\n",
       "      <td>Degree (includes applied degree)</td>\n",
       "      <td>15702</td>\n",
       "      <td>867</td>\n",
       "    </tr>\n",
       "    <tr>\n",
       "      <th>2651</th>\n",
       "      <td>2022</td>\n",
       "      <td>Saskatchewan</td>\n",
       "      <td>U of Saskatchewan</td>\n",
       "      <td>Undergraduate program</td>\n",
       "      <td>Degree (includes applied degree)</td>\n",
       "      <td>15357</td>\n",
       "      <td>1311</td>\n",
       "    </tr>\n",
       "    <tr>\n",
       "      <th>1251</th>\n",
       "      <td>2022</td>\n",
       "      <td>Ontario</td>\n",
       "      <td>Brock U</td>\n",
       "      <td>Undergraduate program</td>\n",
       "      <td>Degree (includes applied degree)</td>\n",
       "      <td>12783</td>\n",
       "      <td>1362</td>\n",
       "    </tr>\n",
       "    <tr>\n",
       "      <th>2502</th>\n",
       "      <td>2022</td>\n",
       "      <td>Quebec</td>\n",
       "      <td>U du Québec à Montréal</td>\n",
       "      <td>Undergraduate program</td>\n",
       "      <td>Degree (includes applied degree)</td>\n",
       "      <td>11910</td>\n",
       "      <td>1215</td>\n",
       "    </tr>\n",
       "    <tr>\n",
       "      <th>678</th>\n",
       "      <td>2022</td>\n",
       "      <td>British Columbia</td>\n",
       "      <td>U of Victoria</td>\n",
       "      <td>Undergraduate program</td>\n",
       "      <td>Degree (includes applied degree)</td>\n",
       "      <td>11118</td>\n",
       "      <td>1440</td>\n",
       "    </tr>\n",
       "    <tr>\n",
       "      <th>95</th>\n",
       "      <td>2022</td>\n",
       "      <td>Alberta</td>\n",
       "      <td>Grant MacEwan U</td>\n",
       "      <td>Undergraduate program</td>\n",
       "      <td>Degree (includes applied degree)</td>\n",
       "      <td>10857</td>\n",
       "      <td>318</td>\n",
       "    </tr>\n",
       "    <tr>\n",
       "      <th>2450</th>\n",
       "      <td>2022</td>\n",
       "      <td>Quebec</td>\n",
       "      <td>U de Sherbrooke</td>\n",
       "      <td>Undergraduate program</td>\n",
       "      <td>Degree (includes applied degree)</td>\n",
       "      <td>10815</td>\n",
       "      <td>162</td>\n",
       "    </tr>\n",
       "    <tr>\n",
       "      <th>1095</th>\n",
       "      <td>2022</td>\n",
       "      <td>Nova Scotia</td>\n",
       "      <td>Dalhousie U</td>\n",
       "      <td>Undergraduate program</td>\n",
       "      <td>Degree (includes applied degree)</td>\n",
       "      <td>10461</td>\n",
       "      <td>2583</td>\n",
       "    </tr>\n",
       "    <tr>\n",
       "      <th>156</th>\n",
       "      <td>2022</td>\n",
       "      <td>Alberta</td>\n",
       "      <td>Mount Royal U</td>\n",
       "      <td>Undergraduate program</td>\n",
       "      <td>Degree (includes applied degree)</td>\n",
       "      <td>10425</td>\n",
       "      <td>285</td>\n",
       "    </tr>\n",
       "    <tr>\n",
       "      <th>1228</th>\n",
       "      <td>2022</td>\n",
       "      <td>Ontario</td>\n",
       "      <td>Algonquin College</td>\n",
       "      <td>Career, technical or professional training pro...</td>\n",
       "      <td>Diploma</td>\n",
       "      <td>9987</td>\n",
       "      <td>2496</td>\n",
       "    </tr>\n",
       "    <tr>\n",
       "      <th>1743</th>\n",
       "      <td>2022</td>\n",
       "      <td>Ontario</td>\n",
       "      <td>U of Windsor</td>\n",
       "      <td>Undergraduate program</td>\n",
       "      <td>Degree (includes applied degree)</td>\n",
       "      <td>9498</td>\n",
       "      <td>639</td>\n",
       "    </tr>\n",
       "    <tr>\n",
       "      <th>1022</th>\n",
       "      <td>2022</td>\n",
       "      <td>Newfoundland and Labrador</td>\n",
       "      <td>Memorial U of Newfoundland</td>\n",
       "      <td>Undergraduate program</td>\n",
       "      <td>Degree (includes applied degree)</td>\n",
       "      <td>8994</td>\n",
       "      <td>2535</td>\n",
       "    </tr>\n",
       "    <tr>\n",
       "      <th>1704</th>\n",
       "      <td>2022</td>\n",
       "      <td>Ontario</td>\n",
       "      <td>U of Toronto</td>\n",
       "      <td>Graduate program (second cycle)</td>\n",
       "      <td>Degree (includes applied degree)</td>\n",
       "      <td>8961</td>\n",
       "      <td>3033</td>\n",
       "    </tr>\n",
       "    <tr>\n",
       "      <th>1387</th>\n",
       "      <td>2022</td>\n",
       "      <td>Ontario</td>\n",
       "      <td>Humber College North Campus</td>\n",
       "      <td>Career, technical or professional training pro...</td>\n",
       "      <td>Diploma</td>\n",
       "      <td>8793</td>\n",
       "      <td>3393</td>\n",
       "    </tr>\n",
       "    <tr>\n",
       "      <th>2630</th>\n",
       "      <td>2022</td>\n",
       "      <td>Saskatchewan</td>\n",
       "      <td>U of Regina</td>\n",
       "      <td>Undergraduate program</td>\n",
       "      <td>Degree (includes applied degree)</td>\n",
       "      <td>8700</td>\n",
       "      <td>1161</td>\n",
       "    </tr>\n",
       "    <tr>\n",
       "      <th>1567</th>\n",
       "      <td>2022</td>\n",
       "      <td>Ontario</td>\n",
       "      <td>Ontario Tech U</td>\n",
       "      <td>Undergraduate program</td>\n",
       "      <td>Degree (includes applied degree)</td>\n",
       "      <td>8535</td>\n",
       "      <td>804</td>\n",
       "    </tr>\n",
       "    <tr>\n",
       "      <th>611</th>\n",
       "      <td>2022</td>\n",
       "      <td>British Columbia</td>\n",
       "      <td>Simon Fraser U</td>\n",
       "      <td>Undergraduate program</td>\n",
       "      <td>Degree (includes applied degree)</td>\n",
       "      <td>8268</td>\n",
       "      <td>1641</td>\n",
       "    </tr>\n",
       "    <tr>\n",
       "      <th>1664</th>\n",
       "      <td>2022</td>\n",
       "      <td>Ontario</td>\n",
       "      <td>Trent U</td>\n",
       "      <td>Undergraduate program</td>\n",
       "      <td>Degree (includes applied degree)</td>\n",
       "      <td>8250</td>\n",
       "      <td>1167</td>\n",
       "    </tr>\n",
       "    <tr>\n",
       "      <th>1598</th>\n",
       "      <td>2022</td>\n",
       "      <td>Ontario</td>\n",
       "      <td>Seneca College</td>\n",
       "      <td>Career, technical or professional training pro...</td>\n",
       "      <td>Diploma</td>\n",
       "      <td>7506</td>\n",
       "      <td>7638</td>\n",
       "    </tr>\n",
       "    <tr>\n",
       "      <th>1343</th>\n",
       "      <td>2022</td>\n",
       "      <td>Ontario</td>\n",
       "      <td>Fanshawe College</td>\n",
       "      <td>Career, technical or professional training pro...</td>\n",
       "      <td>Diploma</td>\n",
       "      <td>7335</td>\n",
       "      <td>3537</td>\n",
       "    </tr>\n",
       "    <tr>\n",
       "      <th>1363</th>\n",
       "      <td>2022</td>\n",
       "      <td>Ontario</td>\n",
       "      <td>George Brown College</td>\n",
       "      <td>Career, technical or professional training pro...</td>\n",
       "      <td>Diploma</td>\n",
       "      <td>7242</td>\n",
       "      <td>3663</td>\n",
       "    </tr>\n",
       "    <tr>\n",
       "      <th>1291</th>\n",
       "      <td>2022</td>\n",
       "      <td>Ontario</td>\n",
       "      <td>Centennial College</td>\n",
       "      <td>Career, technical or professional training pro...</td>\n",
       "      <td>Diploma</td>\n",
       "      <td>6516</td>\n",
       "      <td>8391</td>\n",
       "    </tr>\n",
       "    <tr>\n",
       "      <th>303</th>\n",
       "      <td>2022</td>\n",
       "      <td>Alberta</td>\n",
       "      <td>U of Lethbridge</td>\n",
       "      <td>Undergraduate program</td>\n",
       "      <td>Degree (includes applied degree)</td>\n",
       "      <td>6429</td>\n",
       "      <td>516</td>\n",
       "    </tr>\n",
       "    <tr>\n",
       "      <th>1467</th>\n",
       "      <td>2022</td>\n",
       "      <td>Ontario</td>\n",
       "      <td>Mohawk College</td>\n",
       "      <td>Career, technical or professional training pro...</td>\n",
       "      <td>Diploma</td>\n",
       "      <td>6363</td>\n",
       "      <td>2673</td>\n",
       "    </tr>\n",
       "    <tr>\n",
       "      <th>171</th>\n",
       "      <td>2022</td>\n",
       "      <td>Alberta</td>\n",
       "      <td>Northern Alberta Institute of Technology</td>\n",
       "      <td>Career, technical or professional training pro...</td>\n",
       "      <td>Diploma</td>\n",
       "      <td>6015</td>\n",
       "      <td>1818</td>\n",
       "    </tr>\n",
       "    <tr>\n",
       "      <th>884</th>\n",
       "      <td>2022</td>\n",
       "      <td>Manitoba</td>\n",
       "      <td>U of Winnipeg</td>\n",
       "      <td>Undergraduate program</td>\n",
       "      <td>Degree (includes applied degree)</td>\n",
       "      <td>5964</td>\n",
       "      <td>1287</td>\n",
       "    </tr>\n",
       "    <tr>\n",
       "      <th>2424</th>\n",
       "      <td>2022</td>\n",
       "      <td>Quebec</td>\n",
       "      <td>U de Montréal</td>\n",
       "      <td>Graduate program (second cycle)</td>\n",
       "      <td>Degree (includes applied degree)</td>\n",
       "      <td>5853</td>\n",
       "      <td>2661</td>\n",
       "    </tr>\n",
       "    <tr>\n",
       "      <th>1706</th>\n",
       "      <td>2022</td>\n",
       "      <td>Ontario</td>\n",
       "      <td>U of Toronto</td>\n",
       "      <td>Graduate program (third cycle)</td>\n",
       "      <td>Degree (includes applied degree)</td>\n",
       "      <td>5730</td>\n",
       "      <td>2223</td>\n",
       "    </tr>\n",
       "    <tr>\n",
       "      <th>1332</th>\n",
       "      <td>2022</td>\n",
       "      <td>Ontario</td>\n",
       "      <td>Durham College</td>\n",
       "      <td>Career, technical or professional training pro...</td>\n",
       "      <td>Diploma</td>\n",
       "      <td>5598</td>\n",
       "      <td>1455</td>\n",
       "    </tr>\n",
       "    <tr>\n",
       "      <th>2528</th>\n",
       "      <td>2022</td>\n",
       "      <td>Quebec</td>\n",
       "      <td>U du Québec à Trois-Rivières</td>\n",
       "      <td>Undergraduate program</td>\n",
       "      <td>Degree (includes applied degree)</td>\n",
       "      <td>5532</td>\n",
       "      <td>942</td>\n",
       "    </tr>\n",
       "    <tr>\n",
       "      <th>235</th>\n",
       "      <td>2022</td>\n",
       "      <td>Alberta</td>\n",
       "      <td>Southern Alberta Institute of Technology</td>\n",
       "      <td>Career, technical or professional training pro...</td>\n",
       "      <td>Diploma</td>\n",
       "      <td>5526</td>\n",
       "      <td>2685</td>\n",
       "    </tr>\n",
       "    <tr>\n",
       "      <th>987</th>\n",
       "      <td>2022</td>\n",
       "      <td>New Brunswick</td>\n",
       "      <td>U of New Brunswick</td>\n",
       "      <td>Undergraduate program</td>\n",
       "      <td>Degree (includes applied degree)</td>\n",
       "      <td>5259</td>\n",
       "      <td>888</td>\n",
       "    </tr>\n",
       "  </tbody>\n",
       "</table>\n",
       "</div>"
      ],
      "text/plain": [
       "Canadian Status FY Start         Province/Territory  \\\n",
       "1717                2022                    Ontario   \n",
       "1783                2022                    Ontario   \n",
       "270                 2022                    Alberta   \n",
       "1730                2022                    Ontario   \n",
       "1650                2022                    Ontario   \n",
       "1757                2022                    Ontario   \n",
       "648                 2022           British Columbia   \n",
       "1702                2022                    Ontario   \n",
       "1463                2022                    Ontario   \n",
       "2436                2022                     Quebec   \n",
       "285                 2022                    Alberta   \n",
       "1686                2022                    Ontario   \n",
       "1581                2022                    Ontario   \n",
       "2421                2022                     Quebec   \n",
       "1986                2022                     Quebec   \n",
       "1286                2022                    Ontario   \n",
       "872                 2022                   Manitoba   \n",
       "2366                2022                     Quebec   \n",
       "1770                2022                    Ontario   \n",
       "2651                2022               Saskatchewan   \n",
       "1251                2022                    Ontario   \n",
       "2502                2022                     Quebec   \n",
       "678                 2022           British Columbia   \n",
       "95                  2022                    Alberta   \n",
       "2450                2022                     Quebec   \n",
       "1095                2022                Nova Scotia   \n",
       "156                 2022                    Alberta   \n",
       "1228                2022                    Ontario   \n",
       "1743                2022                    Ontario   \n",
       "1022                2022  Newfoundland and Labrador   \n",
       "1704                2022                    Ontario   \n",
       "1387                2022                    Ontario   \n",
       "2630                2022               Saskatchewan   \n",
       "1567                2022                    Ontario   \n",
       "611                 2022           British Columbia   \n",
       "1664                2022                    Ontario   \n",
       "1598                2022                    Ontario   \n",
       "1343                2022                    Ontario   \n",
       "1363                2022                    Ontario   \n",
       "1291                2022                    Ontario   \n",
       "303                 2022                    Alberta   \n",
       "1467                2022                    Ontario   \n",
       "171                 2022                    Alberta   \n",
       "884                 2022                   Manitoba   \n",
       "2424                2022                     Quebec   \n",
       "1706                2022                    Ontario   \n",
       "1332                2022                    Ontario   \n",
       "2528                2022                     Quebec   \n",
       "235                 2022                    Alberta   \n",
       "987                 2022              New Brunswick   \n",
       "\n",
       "Canadian Status                          Institution Name  \\\n",
       "1717                                         U of Toronto   \n",
       "1783                                               York U   \n",
       "270                                          U of Alberta   \n",
       "1730                                        U of Waterloo   \n",
       "1650                               Toronto Metropolitan U   \n",
       "1757                                            Western U   \n",
       "648                                               U of BC   \n",
       "1702                               U of Ottawa-U d'Ottawa   \n",
       "1463                                           McMaster U   \n",
       "2436                                        U de Montréal   \n",
       "285                                          U of Calgary   \n",
       "1686                                          U of Guelph   \n",
       "1581                                            Queen's U   \n",
       "2421                                              U Laval   \n",
       "1986                                          Concordia U   \n",
       "1286                                           Carleton U   \n",
       "872                                         U of Manitoba   \n",
       "2366                                             McGill U   \n",
       "1770                                    Wilfrid Laurier U   \n",
       "2651                                    U of Saskatchewan   \n",
       "1251                                              Brock U   \n",
       "2502                               U du Québec à Montréal   \n",
       "678                                         U of Victoria   \n",
       "95                                        Grant MacEwan U   \n",
       "2450                                      U de Sherbrooke   \n",
       "1095                                          Dalhousie U   \n",
       "156                                         Mount Royal U   \n",
       "1228                                    Algonquin College   \n",
       "1743                                         U of Windsor   \n",
       "1022                           Memorial U of Newfoundland   \n",
       "1704                                         U of Toronto   \n",
       "1387                          Humber College North Campus   \n",
       "2630                                          U of Regina   \n",
       "1567                                       Ontario Tech U   \n",
       "611                                        Simon Fraser U   \n",
       "1664                                              Trent U   \n",
       "1598                                       Seneca College   \n",
       "1343                                     Fanshawe College   \n",
       "1363                                 George Brown College   \n",
       "1291                                   Centennial College   \n",
       "303                                       U of Lethbridge   \n",
       "1467                                       Mohawk College   \n",
       "171              Northern Alberta Institute of Technology   \n",
       "884                                         U of Winnipeg   \n",
       "2424                                        U de Montréal   \n",
       "1706                                         U of Toronto   \n",
       "1332                                       Durham College   \n",
       "2528                         U du Québec à Trois-Rivières   \n",
       "235              Southern Alberta Institute of Technology   \n",
       "987                                    U of New Brunswick   \n",
       "\n",
       "Canadian Status                                       Program type  \\\n",
       "1717                                         Undergraduate program   \n",
       "1783                                         Undergraduate program   \n",
       "270                                          Undergraduate program   \n",
       "1730                                         Undergraduate program   \n",
       "1650                                         Undergraduate program   \n",
       "1757                                         Undergraduate program   \n",
       "648                                          Undergraduate program   \n",
       "1702                                         Undergraduate program   \n",
       "1463                                         Undergraduate program   \n",
       "2436                                         Undergraduate program   \n",
       "285                                          Undergraduate program   \n",
       "1686                                         Undergraduate program   \n",
       "1581                                         Undergraduate program   \n",
       "2421                                         Undergraduate program   \n",
       "1986                                         Undergraduate program   \n",
       "1286                                         Undergraduate program   \n",
       "872                                          Undergraduate program   \n",
       "2366                                         Undergraduate program   \n",
       "1770                                         Undergraduate program   \n",
       "2651                                         Undergraduate program   \n",
       "1251                                         Undergraduate program   \n",
       "2502                                         Undergraduate program   \n",
       "678                                          Undergraduate program   \n",
       "95                                           Undergraduate program   \n",
       "2450                                         Undergraduate program   \n",
       "1095                                         Undergraduate program   \n",
       "156                                          Undergraduate program   \n",
       "1228             Career, technical or professional training pro...   \n",
       "1743                                         Undergraduate program   \n",
       "1022                                         Undergraduate program   \n",
       "1704                               Graduate program (second cycle)   \n",
       "1387             Career, technical or professional training pro...   \n",
       "2630                                         Undergraduate program   \n",
       "1567                                         Undergraduate program   \n",
       "611                                          Undergraduate program   \n",
       "1664                                         Undergraduate program   \n",
       "1598             Career, technical or professional training pro...   \n",
       "1343             Career, technical or professional training pro...   \n",
       "1363             Career, technical or professional training pro...   \n",
       "1291             Career, technical or professional training pro...   \n",
       "303                                          Undergraduate program   \n",
       "1467             Career, technical or professional training pro...   \n",
       "171              Career, technical or professional training pro...   \n",
       "884                                          Undergraduate program   \n",
       "2424                               Graduate program (second cycle)   \n",
       "1706                                Graduate program (third cycle)   \n",
       "1332             Career, technical or professional training pro...   \n",
       "2528                                         Undergraduate program   \n",
       "235              Career, technical or professional training pro...   \n",
       "987                                          Undergraduate program   \n",
       "\n",
       "Canadian Status                   Credential type  Domestic Enrolment  \\\n",
       "1717             Degree (includes applied degree)               44616   \n",
       "1783             Degree (includes applied degree)               32862   \n",
       "270              Degree (includes applied degree)               28686   \n",
       "1730             Degree (includes applied degree)               27897   \n",
       "1650             Degree (includes applied degree)               27450   \n",
       "1757             Degree (includes applied degree)               27042   \n",
       "648              Degree (includes applied degree)               26601   \n",
       "1702             Degree (includes applied degree)               26307   \n",
       "1463             Degree (includes applied degree)               25518   \n",
       "2436             Degree (includes applied degree)               24579   \n",
       "285              Degree (includes applied degree)               23151   \n",
       "1686             Degree (includes applied degree)               22842   \n",
       "1581             Degree (includes applied degree)               18531   \n",
       "2421             Degree (includes applied degree)               17907   \n",
       "1986             Degree (includes applied degree)               17595   \n",
       "1286             Degree (includes applied degree)               17400   \n",
       "872              Degree (includes applied degree)               16971   \n",
       "2366             Degree (includes applied degree)               16743   \n",
       "1770             Degree (includes applied degree)               15702   \n",
       "2651             Degree (includes applied degree)               15357   \n",
       "1251             Degree (includes applied degree)               12783   \n",
       "2502             Degree (includes applied degree)               11910   \n",
       "678              Degree (includes applied degree)               11118   \n",
       "95               Degree (includes applied degree)               10857   \n",
       "2450             Degree (includes applied degree)               10815   \n",
       "1095             Degree (includes applied degree)               10461   \n",
       "156              Degree (includes applied degree)               10425   \n",
       "1228                                      Diploma                9987   \n",
       "1743             Degree (includes applied degree)                9498   \n",
       "1022             Degree (includes applied degree)                8994   \n",
       "1704             Degree (includes applied degree)                8961   \n",
       "1387                                      Diploma                8793   \n",
       "2630             Degree (includes applied degree)                8700   \n",
       "1567             Degree (includes applied degree)                8535   \n",
       "611              Degree (includes applied degree)                8268   \n",
       "1664             Degree (includes applied degree)                8250   \n",
       "1598                                      Diploma                7506   \n",
       "1343                                      Diploma                7335   \n",
       "1363                                      Diploma                7242   \n",
       "1291                                      Diploma                6516   \n",
       "303              Degree (includes applied degree)                6429   \n",
       "1467                                      Diploma                6363   \n",
       "171                                       Diploma                6015   \n",
       "884              Degree (includes applied degree)                5964   \n",
       "2424             Degree (includes applied degree)                5853   \n",
       "1706             Degree (includes applied degree)                5730   \n",
       "1332                                      Diploma                5598   \n",
       "2528             Degree (includes applied degree)                5532   \n",
       "235                                       Diploma                5526   \n",
       "987              Degree (includes applied degree)                5259   \n",
       "\n",
       "Canadian Status  International Enrolment  \n",
       "1717                               19845  \n",
       "1783                                7017  \n",
       "270                                 4560  \n",
       "1730                                5973  \n",
       "1650                                2985  \n",
       "1757                                3702  \n",
       "648                                 9915  \n",
       "1702                                6327  \n",
       "1463                                4530  \n",
       "2436                                4086  \n",
       "285                                 3576  \n",
       "1686                                1284  \n",
       "1581                                1935  \n",
       "2421                                1101  \n",
       "1986                                3513  \n",
       "1286                                2220  \n",
       "872                                 4563  \n",
       "2366                                6045  \n",
       "1770                                 867  \n",
       "2651                                1311  \n",
       "1251                                1362  \n",
       "2502                                1215  \n",
       "678                                 1440  \n",
       "95                                   318  \n",
       "2450                                 162  \n",
       "1095                                2583  \n",
       "156                                  285  \n",
       "1228                                2496  \n",
       "1743                                 639  \n",
       "1022                                2535  \n",
       "1704                                3033  \n",
       "1387                                3393  \n",
       "2630                                1161  \n",
       "1567                                 804  \n",
       "611                                 1641  \n",
       "1664                                1167  \n",
       "1598                                7638  \n",
       "1343                                3537  \n",
       "1363                                3663  \n",
       "1291                                8391  \n",
       "303                                  516  \n",
       "1467                                2673  \n",
       "171                                 1818  \n",
       "884                                 1287  \n",
       "2424                                2661  \n",
       "1706                                2223  \n",
       "1332                                1455  \n",
       "2528                                 942  \n",
       "235                                 2685  \n",
       "987                                  888  "
      ]
     },
     "metadata": {},
     "output_type": "display_data"
    }
   ],
   "source": [
    "programs_no_totals.sort_values(by='Domestic Enrolment', ascending=False).head(50)"
   ]
  },
  {
   "cell_type": "markdown",
   "metadata": {},
   "source": [
    "### EDA - Key Questions to answer and important program grey areas\n",
    "\n",
    "[Notes from StatCan on classification of programs](https://www23.statcan.gc.ca/imdb/p3VD.pl?Function=getVD&TVD=1252482)\n",
    "\n",
    "1. Where is the most significant enrolment for international students going? Undergrad? Graduate 2nd Cycle --> degree or certificate/diploma?\n",
    "\n",
    "2. Any program/credential types e.g. pre-university that are unanimously low enrolment so they can be removed? Growth in particular program areas?\n",
    "\n",
    "3. Any provincial or program specific to be mindful of?\n",
    "    - **Code 5 in Ontario, Graduate certificates** are in Post Career, technical or professional training program. Is this true of other provinces?\n",
    "    - **Code 6 from notes Pre-university programs** include university-stream programs at Colleges and CEGEPs in Quebec - are other provinces using this as university-transfer stream programs at college?\n",
    "    - **Code 9 Post-baccalaureate non-graduate program** includes programs that require a bachelor's degree for admission but can also capture programs at undergrad level which complete at a level beyond bachelor's degree, due to depth of learning (e.g. LLB or MD Degree). **Some flexibility** in how provinces can choose to report these professional degree programs. B.Ed are either here or undergraduate degrees depending on whether they're considered post-degree in outcome.\n",
    "\n",
    "\n"
   ]
  },
  {
   "cell_type": "code",
   "execution_count": null,
   "metadata": {},
   "outputs": [
    {
     "data": {
      "text/plain": [
       "Program type\n",
       "Total, program type                                        974\n",
       "Career, technical or professional training program         420\n",
       "Undergraduate program                                      414\n",
       "Graduate program (second cycle)                            241\n",
       "Pre-university program                                     170\n",
       "Post-baccalaureate non-graduate program                    160\n",
       "Graduate program (third cycle)                             139\n",
       "Post career, technical or professional training program    136\n",
       "Name: count, dtype: int64"
      ]
     },
     "metadata": {},
     "output_type": "display_data"
    }
   ],
   "source": [
    "cleaned_program_df['Program type'].value_counts()"
   ]
  },
  {
   "cell_type": "code",
   "execution_count": null,
   "metadata": {},
   "outputs": [
    {
     "data": {
      "text/plain": [
       "Credential type\n",
       "Total, credential type                                891\n",
       "Diploma                                               558\n",
       "Degree (includes applied degree)                      463\n",
       "Certificate                                           377\n",
       "Not applicable, credential type                       267\n",
       "Other type of credential associated with a program     58\n",
       "Associate degree                                       40\n",
       "Name: count, dtype: int64"
      ]
     },
     "metadata": {},
     "output_type": "display_data"
    }
   ],
   "source": [
    "cleaned_program_df['Credential type'].value_counts()"
   ]
  },
  {
   "cell_type": "markdown",
   "metadata": {},
   "source": [
    "The dicrepancy between the Total (for both Credential type and Program type) and the individual types of programs/credentials may have come from the fact they are contributed to by individual categories that aren't present in the data uploaded. There were numerous program types for example like *Basic Education & Skills* (high school) and Health-related residency program that I did not import, and several non-program categories. These were generally quite small in number and are focused on domestic students and thus wouldn't be impacting revenue in the same way as the programs listed above would."
   ]
  },
  {
   "cell_type": "markdown",
   "metadata": {},
   "source": [
    "## Exploring credential types and their enrolment"
   ]
  },
  {
   "cell_type": "markdown",
   "metadata": {},
   "source": [
    "Before looking directly at enrolment this section's goal is to explore the confluence of Program type / Credential type across the provinces, as the StatCan source shows there are different interpretations of the categories by province. We should try not to make an apples to oranges comparison.\n",
    "\n",
    "We'll start by doing a pie chart to see the breakdown of enrolment in different program types - what programs are international and domestic students joining?"
   ]
  },
  {
   "cell_type": "code",
   "execution_count": null,
   "metadata": {},
   "outputs": [],
   "source": [
    "# Filter out \"total, program type\" and \"total, credential type\" as they'll be double counting enrolment otherwise\n",
    "pie_df_programs = cleaned_program_df[\n",
    "    (cleaned_program_df['Program type'] != 'Total, program type') &\n",
    "    (cleaned_program_df['Credential type'] != 'Total, credential type')\n",
    "]\n",
    "\n",
    "# Aggregate Domestic and International enrolment by Program type\n",
    "domestic_agg = pie_df_programs.groupby('Program type', as_index=False)['Domestic Enrolment'].sum()\n",
    "international_agg = pie_df_programs.groupby('Program type', as_index=False)['International Enrolment'].sum()"
   ]
  },
  {
   "cell_type": "code",
   "execution_count": null,
   "metadata": {},
   "outputs": [
    {
     "data": {
      "text/plain": [
       "2502237"
      ]
     },
     "metadata": {},
     "output_type": "display_data"
    }
   ],
   "source": [
    "pie_df_programs['Domestic Enrolment'].sum()"
   ]
  },
  {
   "cell_type": "code",
   "execution_count": null,
   "metadata": {},
   "outputs": [
    {
     "data": {
      "text/html": [
       "<div>\n",
       "<style scoped>\n",
       "    .dataframe tbody tr th:only-of-type {\n",
       "        vertical-align: middle;\n",
       "    }\n",
       "\n",
       "    .dataframe tbody tr th {\n",
       "        vertical-align: top;\n",
       "    }\n",
       "\n",
       "    .dataframe thead th {\n",
       "        text-align: right;\n",
       "    }\n",
       "</style>\n",
       "<table border=\"1\" class=\"dataframe\">\n",
       "  <thead>\n",
       "    <tr style=\"text-align: right;\">\n",
       "      <th></th>\n",
       "      <th>Program type</th>\n",
       "      <th>Domestic Enrolment</th>\n",
       "    </tr>\n",
       "  </thead>\n",
       "  <tbody>\n",
       "    <tr>\n",
       "      <th>0</th>\n",
       "      <td>Career, technical or professional training pro...</td>\n",
       "      <td>550206</td>\n",
       "    </tr>\n",
       "    <tr>\n",
       "      <th>1</th>\n",
       "      <td>Graduate program (second cycle)</td>\n",
       "      <td>151569</td>\n",
       "    </tr>\n",
       "    <tr>\n",
       "      <th>2</th>\n",
       "      <td>Graduate program (third cycle)</td>\n",
       "      <td>70815</td>\n",
       "    </tr>\n",
       "    <tr>\n",
       "      <th>3</th>\n",
       "      <td>Post career, technical or professional trainin...</td>\n",
       "      <td>16449</td>\n",
       "    </tr>\n",
       "    <tr>\n",
       "      <th>4</th>\n",
       "      <td>Post-baccalaureate non-graduate program</td>\n",
       "      <td>27921</td>\n",
       "    </tr>\n",
       "    <tr>\n",
       "      <th>5</th>\n",
       "      <td>Pre-university program</td>\n",
       "      <td>162819</td>\n",
       "    </tr>\n",
       "    <tr>\n",
       "      <th>6</th>\n",
       "      <td>Undergraduate program</td>\n",
       "      <td>1522458</td>\n",
       "    </tr>\n",
       "  </tbody>\n",
       "</table>\n",
       "</div>"
      ],
      "text/plain": [
       "                                        Program type  Domestic Enrolment\n",
       "0  Career, technical or professional training pro...              550206\n",
       "1                    Graduate program (second cycle)              151569\n",
       "2                     Graduate program (third cycle)               70815\n",
       "3  Post career, technical or professional trainin...               16449\n",
       "4            Post-baccalaureate non-graduate program               27921\n",
       "5                             Pre-university program              162819\n",
       "6                              Undergraduate program             1522458"
      ]
     },
     "metadata": {},
     "output_type": "display_data"
    }
   ],
   "source": [
    "domestic_agg"
   ]
  },
  {
   "cell_type": "code",
   "execution_count": null,
   "metadata": {},
   "outputs": [
    {
     "data": {
      "application/vnd.plotly.v1+json": {
       "config": {
        "plotlyServerURL": "https://plot.ly"
       },
       "data": [
        {
         "customdata": {
          "bdata": "PmUIABFQAgCfFAEAQUAAABFtAAADfAIAGjsXAA==",
          "dtype": "i4",
          "shape": "7, 1"
         },
         "domain": {
          "x": [
           0,
           1
          ],
          "y": [
           0,
           1
          ]
         },
         "hovertemplate": "Program type=%{label}<br>Domestic Enrolment=%{customdata[0]}<extra></extra>",
         "labels": [
          "Career, technical or professional training program",
          "Graduate program (second cycle)",
          "Graduate program (third cycle)",
          "Post career, technical or professional training program",
          "Post-baccalaureate non-graduate program",
          "Pre-university program",
          "Undergraduate program"
         ],
         "legendgroup": "",
         "name": "",
         "showlegend": true,
         "type": "pie",
         "values": {
          "bdata": "PmUIABFQAgCfFAEAQUAAABFtAAADfAIAGjsXAA==",
          "dtype": "i4"
         }
        }
       ],
       "layout": {
        "legend": {
         "tracegroupgap": 0
        },
        "template": {
         "data": {
          "bar": [
           {
            "error_x": {
             "color": "#2a3f5f"
            },
            "error_y": {
             "color": "#2a3f5f"
            },
            "marker": {
             "line": {
              "color": "#E5ECF6",
              "width": 0.5
             },
             "pattern": {
              "fillmode": "overlay",
              "size": 10,
              "solidity": 0.2
             }
            },
            "type": "bar"
           }
          ],
          "barpolar": [
           {
            "marker": {
             "line": {
              "color": "#E5ECF6",
              "width": 0.5
             },
             "pattern": {
              "fillmode": "overlay",
              "size": 10,
              "solidity": 0.2
             }
            },
            "type": "barpolar"
           }
          ],
          "carpet": [
           {
            "aaxis": {
             "endlinecolor": "#2a3f5f",
             "gridcolor": "white",
             "linecolor": "white",
             "minorgridcolor": "white",
             "startlinecolor": "#2a3f5f"
            },
            "baxis": {
             "endlinecolor": "#2a3f5f",
             "gridcolor": "white",
             "linecolor": "white",
             "minorgridcolor": "white",
             "startlinecolor": "#2a3f5f"
            },
            "type": "carpet"
           }
          ],
          "choropleth": [
           {
            "colorbar": {
             "outlinewidth": 0,
             "ticks": ""
            },
            "type": "choropleth"
           }
          ],
          "contour": [
           {
            "colorbar": {
             "outlinewidth": 0,
             "ticks": ""
            },
            "colorscale": [
             [
              0,
              "#0d0887"
             ],
             [
              0.1111111111111111,
              "#46039f"
             ],
             [
              0.2222222222222222,
              "#7201a8"
             ],
             [
              0.3333333333333333,
              "#9c179e"
             ],
             [
              0.4444444444444444,
              "#bd3786"
             ],
             [
              0.5555555555555556,
              "#d8576b"
             ],
             [
              0.6666666666666666,
              "#ed7953"
             ],
             [
              0.7777777777777778,
              "#fb9f3a"
             ],
             [
              0.8888888888888888,
              "#fdca26"
             ],
             [
              1,
              "#f0f921"
             ]
            ],
            "type": "contour"
           }
          ],
          "contourcarpet": [
           {
            "colorbar": {
             "outlinewidth": 0,
             "ticks": ""
            },
            "type": "contourcarpet"
           }
          ],
          "heatmap": [
           {
            "colorbar": {
             "outlinewidth": 0,
             "ticks": ""
            },
            "colorscale": [
             [
              0,
              "#0d0887"
             ],
             [
              0.1111111111111111,
              "#46039f"
             ],
             [
              0.2222222222222222,
              "#7201a8"
             ],
             [
              0.3333333333333333,
              "#9c179e"
             ],
             [
              0.4444444444444444,
              "#bd3786"
             ],
             [
              0.5555555555555556,
              "#d8576b"
             ],
             [
              0.6666666666666666,
              "#ed7953"
             ],
             [
              0.7777777777777778,
              "#fb9f3a"
             ],
             [
              0.8888888888888888,
              "#fdca26"
             ],
             [
              1,
              "#f0f921"
             ]
            ],
            "type": "heatmap"
           }
          ],
          "histogram": [
           {
            "marker": {
             "pattern": {
              "fillmode": "overlay",
              "size": 10,
              "solidity": 0.2
             }
            },
            "type": "histogram"
           }
          ],
          "histogram2d": [
           {
            "colorbar": {
             "outlinewidth": 0,
             "ticks": ""
            },
            "colorscale": [
             [
              0,
              "#0d0887"
             ],
             [
              0.1111111111111111,
              "#46039f"
             ],
             [
              0.2222222222222222,
              "#7201a8"
             ],
             [
              0.3333333333333333,
              "#9c179e"
             ],
             [
              0.4444444444444444,
              "#bd3786"
             ],
             [
              0.5555555555555556,
              "#d8576b"
             ],
             [
              0.6666666666666666,
              "#ed7953"
             ],
             [
              0.7777777777777778,
              "#fb9f3a"
             ],
             [
              0.8888888888888888,
              "#fdca26"
             ],
             [
              1,
              "#f0f921"
             ]
            ],
            "type": "histogram2d"
           }
          ],
          "histogram2dcontour": [
           {
            "colorbar": {
             "outlinewidth": 0,
             "ticks": ""
            },
            "colorscale": [
             [
              0,
              "#0d0887"
             ],
             [
              0.1111111111111111,
              "#46039f"
             ],
             [
              0.2222222222222222,
              "#7201a8"
             ],
             [
              0.3333333333333333,
              "#9c179e"
             ],
             [
              0.4444444444444444,
              "#bd3786"
             ],
             [
              0.5555555555555556,
              "#d8576b"
             ],
             [
              0.6666666666666666,
              "#ed7953"
             ],
             [
              0.7777777777777778,
              "#fb9f3a"
             ],
             [
              0.8888888888888888,
              "#fdca26"
             ],
             [
              1,
              "#f0f921"
             ]
            ],
            "type": "histogram2dcontour"
           }
          ],
          "mesh3d": [
           {
            "colorbar": {
             "outlinewidth": 0,
             "ticks": ""
            },
            "type": "mesh3d"
           }
          ],
          "parcoords": [
           {
            "line": {
             "colorbar": {
              "outlinewidth": 0,
              "ticks": ""
             }
            },
            "type": "parcoords"
           }
          ],
          "pie": [
           {
            "automargin": true,
            "type": "pie"
           }
          ],
          "scatter": [
           {
            "fillpattern": {
             "fillmode": "overlay",
             "size": 10,
             "solidity": 0.2
            },
            "type": "scatter"
           }
          ],
          "scatter3d": [
           {
            "line": {
             "colorbar": {
              "outlinewidth": 0,
              "ticks": ""
             }
            },
            "marker": {
             "colorbar": {
              "outlinewidth": 0,
              "ticks": ""
             }
            },
            "type": "scatter3d"
           }
          ],
          "scattercarpet": [
           {
            "marker": {
             "colorbar": {
              "outlinewidth": 0,
              "ticks": ""
             }
            },
            "type": "scattercarpet"
           }
          ],
          "scattergeo": [
           {
            "marker": {
             "colorbar": {
              "outlinewidth": 0,
              "ticks": ""
             }
            },
            "type": "scattergeo"
           }
          ],
          "scattergl": [
           {
            "marker": {
             "colorbar": {
              "outlinewidth": 0,
              "ticks": ""
             }
            },
            "type": "scattergl"
           }
          ],
          "scattermap": [
           {
            "marker": {
             "colorbar": {
              "outlinewidth": 0,
              "ticks": ""
             }
            },
            "type": "scattermap"
           }
          ],
          "scattermapbox": [
           {
            "marker": {
             "colorbar": {
              "outlinewidth": 0,
              "ticks": ""
             }
            },
            "type": "scattermapbox"
           }
          ],
          "scatterpolar": [
           {
            "marker": {
             "colorbar": {
              "outlinewidth": 0,
              "ticks": ""
             }
            },
            "type": "scatterpolar"
           }
          ],
          "scatterpolargl": [
           {
            "marker": {
             "colorbar": {
              "outlinewidth": 0,
              "ticks": ""
             }
            },
            "type": "scatterpolargl"
           }
          ],
          "scatterternary": [
           {
            "marker": {
             "colorbar": {
              "outlinewidth": 0,
              "ticks": ""
             }
            },
            "type": "scatterternary"
           }
          ],
          "surface": [
           {
            "colorbar": {
             "outlinewidth": 0,
             "ticks": ""
            },
            "colorscale": [
             [
              0,
              "#0d0887"
             ],
             [
              0.1111111111111111,
              "#46039f"
             ],
             [
              0.2222222222222222,
              "#7201a8"
             ],
             [
              0.3333333333333333,
              "#9c179e"
             ],
             [
              0.4444444444444444,
              "#bd3786"
             ],
             [
              0.5555555555555556,
              "#d8576b"
             ],
             [
              0.6666666666666666,
              "#ed7953"
             ],
             [
              0.7777777777777778,
              "#fb9f3a"
             ],
             [
              0.8888888888888888,
              "#fdca26"
             ],
             [
              1,
              "#f0f921"
             ]
            ],
            "type": "surface"
           }
          ],
          "table": [
           {
            "cells": {
             "fill": {
              "color": "#EBF0F8"
             },
             "line": {
              "color": "white"
             }
            },
            "header": {
             "fill": {
              "color": "#C8D4E3"
             },
             "line": {
              "color": "white"
             }
            },
            "type": "table"
           }
          ]
         },
         "layout": {
          "annotationdefaults": {
           "arrowcolor": "#2a3f5f",
           "arrowhead": 0,
           "arrowwidth": 1
          },
          "autotypenumbers": "strict",
          "coloraxis": {
           "colorbar": {
            "outlinewidth": 0,
            "ticks": ""
           }
          },
          "colorscale": {
           "diverging": [
            [
             0,
             "#8e0152"
            ],
            [
             0.1,
             "#c51b7d"
            ],
            [
             0.2,
             "#de77ae"
            ],
            [
             0.3,
             "#f1b6da"
            ],
            [
             0.4,
             "#fde0ef"
            ],
            [
             0.5,
             "#f7f7f7"
            ],
            [
             0.6,
             "#e6f5d0"
            ],
            [
             0.7,
             "#b8e186"
            ],
            [
             0.8,
             "#7fbc41"
            ],
            [
             0.9,
             "#4d9221"
            ],
            [
             1,
             "#276419"
            ]
           ],
           "sequential": [
            [
             0,
             "#0d0887"
            ],
            [
             0.1111111111111111,
             "#46039f"
            ],
            [
             0.2222222222222222,
             "#7201a8"
            ],
            [
             0.3333333333333333,
             "#9c179e"
            ],
            [
             0.4444444444444444,
             "#bd3786"
            ],
            [
             0.5555555555555556,
             "#d8576b"
            ],
            [
             0.6666666666666666,
             "#ed7953"
            ],
            [
             0.7777777777777778,
             "#fb9f3a"
            ],
            [
             0.8888888888888888,
             "#fdca26"
            ],
            [
             1,
             "#f0f921"
            ]
           ],
           "sequentialminus": [
            [
             0,
             "#0d0887"
            ],
            [
             0.1111111111111111,
             "#46039f"
            ],
            [
             0.2222222222222222,
             "#7201a8"
            ],
            [
             0.3333333333333333,
             "#9c179e"
            ],
            [
             0.4444444444444444,
             "#bd3786"
            ],
            [
             0.5555555555555556,
             "#d8576b"
            ],
            [
             0.6666666666666666,
             "#ed7953"
            ],
            [
             0.7777777777777778,
             "#fb9f3a"
            ],
            [
             0.8888888888888888,
             "#fdca26"
            ],
            [
             1,
             "#f0f921"
            ]
           ]
          },
          "colorway": [
           "#636efa",
           "#EF553B",
           "#00cc96",
           "#ab63fa",
           "#FFA15A",
           "#19d3f3",
           "#FF6692",
           "#B6E880",
           "#FF97FF",
           "#FECB52"
          ],
          "font": {
           "color": "#2a3f5f"
          },
          "geo": {
           "bgcolor": "white",
           "lakecolor": "white",
           "landcolor": "#E5ECF6",
           "showlakes": true,
           "showland": true,
           "subunitcolor": "white"
          },
          "hoverlabel": {
           "align": "left"
          },
          "hovermode": "closest",
          "mapbox": {
           "style": "light"
          },
          "paper_bgcolor": "white",
          "plot_bgcolor": "#E5ECF6",
          "polar": {
           "angularaxis": {
            "gridcolor": "white",
            "linecolor": "white",
            "ticks": ""
           },
           "bgcolor": "#E5ECF6",
           "radialaxis": {
            "gridcolor": "white",
            "linecolor": "white",
            "ticks": ""
           }
          },
          "scene": {
           "xaxis": {
            "backgroundcolor": "#E5ECF6",
            "gridcolor": "white",
            "gridwidth": 2,
            "linecolor": "white",
            "showbackground": true,
            "ticks": "",
            "zerolinecolor": "white"
           },
           "yaxis": {
            "backgroundcolor": "#E5ECF6",
            "gridcolor": "white",
            "gridwidth": 2,
            "linecolor": "white",
            "showbackground": true,
            "ticks": "",
            "zerolinecolor": "white"
           },
           "zaxis": {
            "backgroundcolor": "#E5ECF6",
            "gridcolor": "white",
            "gridwidth": 2,
            "linecolor": "white",
            "showbackground": true,
            "ticks": "",
            "zerolinecolor": "white"
           }
          },
          "shapedefaults": {
           "line": {
            "color": "#2a3f5f"
           }
          },
          "ternary": {
           "aaxis": {
            "gridcolor": "white",
            "linecolor": "white",
            "ticks": ""
           },
           "baxis": {
            "gridcolor": "white",
            "linecolor": "white",
            "ticks": ""
           },
           "bgcolor": "#E5ECF6",
           "caxis": {
            "gridcolor": "white",
            "linecolor": "white",
            "ticks": ""
           }
          },
          "title": {
           "x": 0.05
          },
          "xaxis": {
           "automargin": true,
           "gridcolor": "white",
           "linecolor": "white",
           "ticks": "",
           "title": {
            "standoff": 15
           },
           "zerolinecolor": "white",
           "zerolinewidth": 2
          },
          "yaxis": {
           "automargin": true,
           "gridcolor": "white",
           "linecolor": "white",
           "ticks": "",
           "title": {
            "standoff": 15
           },
           "zerolinecolor": "white",
           "zerolinewidth": 2
          }
         }
        },
        "title": {
         "text": "Domestic Enrolment by Program Type (2022-23)"
        }
       }
      }
     },
     "metadata": {},
     "output_type": "display_data"
    },
    {
     "data": {
      "application/vnd.plotly.v1+json": {
       "config": {
        "plotlyServerURL": "https://plot.ly"
       },
       "data": [
        {
         "customdata": {
          "bdata": "LuwDAOt/AQAVwAAAqkUBAIlMAAA4CgAAYGIEAA==",
          "dtype": "i4",
          "shape": "7, 1"
         },
         "domain": {
          "x": [
           0,
           1
          ],
          "y": [
           0,
           1
          ]
         },
         "hovertemplate": "Program type=%{label}<br>International Enrolment=%{customdata[0]}<extra></extra>",
         "labels": [
          "Career, technical or professional training program",
          "Graduate program (second cycle)",
          "Graduate program (third cycle)",
          "Post career, technical or professional training program",
          "Post-baccalaureate non-graduate program",
          "Pre-university program",
          "Undergraduate program"
         ],
         "legendgroup": "",
         "name": "",
         "showlegend": true,
         "type": "pie",
         "values": {
          "bdata": "LuwDAOt/AQAVwAAAqkUBAIlMAAA4CgAAYGIEAA==",
          "dtype": "i4"
         }
        }
       ],
       "layout": {
        "legend": {
         "tracegroupgap": 0
        },
        "template": {
         "data": {
          "bar": [
           {
            "error_x": {
             "color": "#2a3f5f"
            },
            "error_y": {
             "color": "#2a3f5f"
            },
            "marker": {
             "line": {
              "color": "#E5ECF6",
              "width": 0.5
             },
             "pattern": {
              "fillmode": "overlay",
              "size": 10,
              "solidity": 0.2
             }
            },
            "type": "bar"
           }
          ],
          "barpolar": [
           {
            "marker": {
             "line": {
              "color": "#E5ECF6",
              "width": 0.5
             },
             "pattern": {
              "fillmode": "overlay",
              "size": 10,
              "solidity": 0.2
             }
            },
            "type": "barpolar"
           }
          ],
          "carpet": [
           {
            "aaxis": {
             "endlinecolor": "#2a3f5f",
             "gridcolor": "white",
             "linecolor": "white",
             "minorgridcolor": "white",
             "startlinecolor": "#2a3f5f"
            },
            "baxis": {
             "endlinecolor": "#2a3f5f",
             "gridcolor": "white",
             "linecolor": "white",
             "minorgridcolor": "white",
             "startlinecolor": "#2a3f5f"
            },
            "type": "carpet"
           }
          ],
          "choropleth": [
           {
            "colorbar": {
             "outlinewidth": 0,
             "ticks": ""
            },
            "type": "choropleth"
           }
          ],
          "contour": [
           {
            "colorbar": {
             "outlinewidth": 0,
             "ticks": ""
            },
            "colorscale": [
             [
              0,
              "#0d0887"
             ],
             [
              0.1111111111111111,
              "#46039f"
             ],
             [
              0.2222222222222222,
              "#7201a8"
             ],
             [
              0.3333333333333333,
              "#9c179e"
             ],
             [
              0.4444444444444444,
              "#bd3786"
             ],
             [
              0.5555555555555556,
              "#d8576b"
             ],
             [
              0.6666666666666666,
              "#ed7953"
             ],
             [
              0.7777777777777778,
              "#fb9f3a"
             ],
             [
              0.8888888888888888,
              "#fdca26"
             ],
             [
              1,
              "#f0f921"
             ]
            ],
            "type": "contour"
           }
          ],
          "contourcarpet": [
           {
            "colorbar": {
             "outlinewidth": 0,
             "ticks": ""
            },
            "type": "contourcarpet"
           }
          ],
          "heatmap": [
           {
            "colorbar": {
             "outlinewidth": 0,
             "ticks": ""
            },
            "colorscale": [
             [
              0,
              "#0d0887"
             ],
             [
              0.1111111111111111,
              "#46039f"
             ],
             [
              0.2222222222222222,
              "#7201a8"
             ],
             [
              0.3333333333333333,
              "#9c179e"
             ],
             [
              0.4444444444444444,
              "#bd3786"
             ],
             [
              0.5555555555555556,
              "#d8576b"
             ],
             [
              0.6666666666666666,
              "#ed7953"
             ],
             [
              0.7777777777777778,
              "#fb9f3a"
             ],
             [
              0.8888888888888888,
              "#fdca26"
             ],
             [
              1,
              "#f0f921"
             ]
            ],
            "type": "heatmap"
           }
          ],
          "histogram": [
           {
            "marker": {
             "pattern": {
              "fillmode": "overlay",
              "size": 10,
              "solidity": 0.2
             }
            },
            "type": "histogram"
           }
          ],
          "histogram2d": [
           {
            "colorbar": {
             "outlinewidth": 0,
             "ticks": ""
            },
            "colorscale": [
             [
              0,
              "#0d0887"
             ],
             [
              0.1111111111111111,
              "#46039f"
             ],
             [
              0.2222222222222222,
              "#7201a8"
             ],
             [
              0.3333333333333333,
              "#9c179e"
             ],
             [
              0.4444444444444444,
              "#bd3786"
             ],
             [
              0.5555555555555556,
              "#d8576b"
             ],
             [
              0.6666666666666666,
              "#ed7953"
             ],
             [
              0.7777777777777778,
              "#fb9f3a"
             ],
             [
              0.8888888888888888,
              "#fdca26"
             ],
             [
              1,
              "#f0f921"
             ]
            ],
            "type": "histogram2d"
           }
          ],
          "histogram2dcontour": [
           {
            "colorbar": {
             "outlinewidth": 0,
             "ticks": ""
            },
            "colorscale": [
             [
              0,
              "#0d0887"
             ],
             [
              0.1111111111111111,
              "#46039f"
             ],
             [
              0.2222222222222222,
              "#7201a8"
             ],
             [
              0.3333333333333333,
              "#9c179e"
             ],
             [
              0.4444444444444444,
              "#bd3786"
             ],
             [
              0.5555555555555556,
              "#d8576b"
             ],
             [
              0.6666666666666666,
              "#ed7953"
             ],
             [
              0.7777777777777778,
              "#fb9f3a"
             ],
             [
              0.8888888888888888,
              "#fdca26"
             ],
             [
              1,
              "#f0f921"
             ]
            ],
            "type": "histogram2dcontour"
           }
          ],
          "mesh3d": [
           {
            "colorbar": {
             "outlinewidth": 0,
             "ticks": ""
            },
            "type": "mesh3d"
           }
          ],
          "parcoords": [
           {
            "line": {
             "colorbar": {
              "outlinewidth": 0,
              "ticks": ""
             }
            },
            "type": "parcoords"
           }
          ],
          "pie": [
           {
            "automargin": true,
            "type": "pie"
           }
          ],
          "scatter": [
           {
            "fillpattern": {
             "fillmode": "overlay",
             "size": 10,
             "solidity": 0.2
            },
            "type": "scatter"
           }
          ],
          "scatter3d": [
           {
            "line": {
             "colorbar": {
              "outlinewidth": 0,
              "ticks": ""
             }
            },
            "marker": {
             "colorbar": {
              "outlinewidth": 0,
              "ticks": ""
             }
            },
            "type": "scatter3d"
           }
          ],
          "scattercarpet": [
           {
            "marker": {
             "colorbar": {
              "outlinewidth": 0,
              "ticks": ""
             }
            },
            "type": "scattercarpet"
           }
          ],
          "scattergeo": [
           {
            "marker": {
             "colorbar": {
              "outlinewidth": 0,
              "ticks": ""
             }
            },
            "type": "scattergeo"
           }
          ],
          "scattergl": [
           {
            "marker": {
             "colorbar": {
              "outlinewidth": 0,
              "ticks": ""
             }
            },
            "type": "scattergl"
           }
          ],
          "scattermap": [
           {
            "marker": {
             "colorbar": {
              "outlinewidth": 0,
              "ticks": ""
             }
            },
            "type": "scattermap"
           }
          ],
          "scattermapbox": [
           {
            "marker": {
             "colorbar": {
              "outlinewidth": 0,
              "ticks": ""
             }
            },
            "type": "scattermapbox"
           }
          ],
          "scatterpolar": [
           {
            "marker": {
             "colorbar": {
              "outlinewidth": 0,
              "ticks": ""
             }
            },
            "type": "scatterpolar"
           }
          ],
          "scatterpolargl": [
           {
            "marker": {
             "colorbar": {
              "outlinewidth": 0,
              "ticks": ""
             }
            },
            "type": "scatterpolargl"
           }
          ],
          "scatterternary": [
           {
            "marker": {
             "colorbar": {
              "outlinewidth": 0,
              "ticks": ""
             }
            },
            "type": "scatterternary"
           }
          ],
          "surface": [
           {
            "colorbar": {
             "outlinewidth": 0,
             "ticks": ""
            },
            "colorscale": [
             [
              0,
              "#0d0887"
             ],
             [
              0.1111111111111111,
              "#46039f"
             ],
             [
              0.2222222222222222,
              "#7201a8"
             ],
             [
              0.3333333333333333,
              "#9c179e"
             ],
             [
              0.4444444444444444,
              "#bd3786"
             ],
             [
              0.5555555555555556,
              "#d8576b"
             ],
             [
              0.6666666666666666,
              "#ed7953"
             ],
             [
              0.7777777777777778,
              "#fb9f3a"
             ],
             [
              0.8888888888888888,
              "#fdca26"
             ],
             [
              1,
              "#f0f921"
             ]
            ],
            "type": "surface"
           }
          ],
          "table": [
           {
            "cells": {
             "fill": {
              "color": "#EBF0F8"
             },
             "line": {
              "color": "white"
             }
            },
            "header": {
             "fill": {
              "color": "#C8D4E3"
             },
             "line": {
              "color": "white"
             }
            },
            "type": "table"
           }
          ]
         },
         "layout": {
          "annotationdefaults": {
           "arrowcolor": "#2a3f5f",
           "arrowhead": 0,
           "arrowwidth": 1
          },
          "autotypenumbers": "strict",
          "coloraxis": {
           "colorbar": {
            "outlinewidth": 0,
            "ticks": ""
           }
          },
          "colorscale": {
           "diverging": [
            [
             0,
             "#8e0152"
            ],
            [
             0.1,
             "#c51b7d"
            ],
            [
             0.2,
             "#de77ae"
            ],
            [
             0.3,
             "#f1b6da"
            ],
            [
             0.4,
             "#fde0ef"
            ],
            [
             0.5,
             "#f7f7f7"
            ],
            [
             0.6,
             "#e6f5d0"
            ],
            [
             0.7,
             "#b8e186"
            ],
            [
             0.8,
             "#7fbc41"
            ],
            [
             0.9,
             "#4d9221"
            ],
            [
             1,
             "#276419"
            ]
           ],
           "sequential": [
            [
             0,
             "#0d0887"
            ],
            [
             0.1111111111111111,
             "#46039f"
            ],
            [
             0.2222222222222222,
             "#7201a8"
            ],
            [
             0.3333333333333333,
             "#9c179e"
            ],
            [
             0.4444444444444444,
             "#bd3786"
            ],
            [
             0.5555555555555556,
             "#d8576b"
            ],
            [
             0.6666666666666666,
             "#ed7953"
            ],
            [
             0.7777777777777778,
             "#fb9f3a"
            ],
            [
             0.8888888888888888,
             "#fdca26"
            ],
            [
             1,
             "#f0f921"
            ]
           ],
           "sequentialminus": [
            [
             0,
             "#0d0887"
            ],
            [
             0.1111111111111111,
             "#46039f"
            ],
            [
             0.2222222222222222,
             "#7201a8"
            ],
            [
             0.3333333333333333,
             "#9c179e"
            ],
            [
             0.4444444444444444,
             "#bd3786"
            ],
            [
             0.5555555555555556,
             "#d8576b"
            ],
            [
             0.6666666666666666,
             "#ed7953"
            ],
            [
             0.7777777777777778,
             "#fb9f3a"
            ],
            [
             0.8888888888888888,
             "#fdca26"
            ],
            [
             1,
             "#f0f921"
            ]
           ]
          },
          "colorway": [
           "#636efa",
           "#EF553B",
           "#00cc96",
           "#ab63fa",
           "#FFA15A",
           "#19d3f3",
           "#FF6692",
           "#B6E880",
           "#FF97FF",
           "#FECB52"
          ],
          "font": {
           "color": "#2a3f5f"
          },
          "geo": {
           "bgcolor": "white",
           "lakecolor": "white",
           "landcolor": "#E5ECF6",
           "showlakes": true,
           "showland": true,
           "subunitcolor": "white"
          },
          "hoverlabel": {
           "align": "left"
          },
          "hovermode": "closest",
          "mapbox": {
           "style": "light"
          },
          "paper_bgcolor": "white",
          "plot_bgcolor": "#E5ECF6",
          "polar": {
           "angularaxis": {
            "gridcolor": "white",
            "linecolor": "white",
            "ticks": ""
           },
           "bgcolor": "#E5ECF6",
           "radialaxis": {
            "gridcolor": "white",
            "linecolor": "white",
            "ticks": ""
           }
          },
          "scene": {
           "xaxis": {
            "backgroundcolor": "#E5ECF6",
            "gridcolor": "white",
            "gridwidth": 2,
            "linecolor": "white",
            "showbackground": true,
            "ticks": "",
            "zerolinecolor": "white"
           },
           "yaxis": {
            "backgroundcolor": "#E5ECF6",
            "gridcolor": "white",
            "gridwidth": 2,
            "linecolor": "white",
            "showbackground": true,
            "ticks": "",
            "zerolinecolor": "white"
           },
           "zaxis": {
            "backgroundcolor": "#E5ECF6",
            "gridcolor": "white",
            "gridwidth": 2,
            "linecolor": "white",
            "showbackground": true,
            "ticks": "",
            "zerolinecolor": "white"
           }
          },
          "shapedefaults": {
           "line": {
            "color": "#2a3f5f"
           }
          },
          "ternary": {
           "aaxis": {
            "gridcolor": "white",
            "linecolor": "white",
            "ticks": ""
           },
           "baxis": {
            "gridcolor": "white",
            "linecolor": "white",
            "ticks": ""
           },
           "bgcolor": "#E5ECF6",
           "caxis": {
            "gridcolor": "white",
            "linecolor": "white",
            "ticks": ""
           }
          },
          "title": {
           "x": 0.05
          },
          "xaxis": {
           "automargin": true,
           "gridcolor": "white",
           "linecolor": "white",
           "ticks": "",
           "title": {
            "standoff": 15
           },
           "zerolinecolor": "white",
           "zerolinewidth": 2
          },
          "yaxis": {
           "automargin": true,
           "gridcolor": "white",
           "linecolor": "white",
           "ticks": "",
           "title": {
            "standoff": 15
           },
           "zerolinecolor": "white",
           "zerolinewidth": 2
          }
         }
        },
        "title": {
         "text": "International Enrolment by Program Type (2022-23)"
        }
       }
      }
     },
     "metadata": {},
     "output_type": "display_data"
    }
   ],
   "source": [
    "# pie chart of the domestic enrolment and international enrolment from the domestic_agg numbers and international_agg numbers\n",
    "fig_dom = px.pie(\n",
    "    domestic_agg,\n",
    "    names='Program type',\n",
    "    values='Domestic Enrolment',\n",
    "    title='Domestic Enrolment by Program Type (2022-23)',\n",
    "    hover_data=['Domestic Enrolment'],\n",
    "    template='plotly'\n",
    ")\n",
    "fig_dom.show()\n",
    "\n",
    "fig_intl = px.pie(\n",
    "    international_agg,\n",
    "    names='Program type',\n",
    "    values='International Enrolment',\n",
    "    title='International Enrolment by Program Type (2022-23)',\n",
    "    hover_data=['International Enrolment'],\n",
    "    template='plotly'\n",
    ")\n",
    "fig_intl.show()"
   ]
  },
  {
   "cell_type": "code",
   "execution_count": null,
   "metadata": {},
   "outputs": [],
   "source": []
  },
  {
   "cell_type": "markdown",
   "metadata": {},
   "source": [
    "Important to remember with credential reporting:\n",
    "- Diplomas will be reported in different program types in different provinces e.g. in Ontario, Graduate program (second cycle) is almost entirely degrees (presumably master's), but there are 2000 diplomas in this Graduate (second cycle)  in Quebec.\n",
    "- If we are exploring any hypothesis of certificates and diplomas being the driver of international enrolment, we need to know exactly how they're reported in each different province.\n",
    "\n",
    "See the below for ON, QC and BC totals - "
   ]
  },
  {
   "cell_type": "code",
   "execution_count": null,
   "metadata": {},
   "outputs": [
    {
     "data": {
      "text/html": [
       "<div>\n",
       "<style scoped>\n",
       "    .dataframe tbody tr th:only-of-type {\n",
       "        vertical-align: middle;\n",
       "    }\n",
       "\n",
       "    .dataframe tbody tr th {\n",
       "        vertical-align: top;\n",
       "    }\n",
       "\n",
       "    .dataframe thead th {\n",
       "        text-align: right;\n",
       "    }\n",
       "</style>\n",
       "<table border=\"1\" class=\"dataframe\">\n",
       "  <thead>\n",
       "    <tr style=\"text-align: right;\">\n",
       "      <th>Canadian Status</th>\n",
       "      <th>FY Start</th>\n",
       "      <th>Province/Territory</th>\n",
       "      <th>Institution Name</th>\n",
       "      <th>Program type</th>\n",
       "      <th>Credential type</th>\n",
       "      <th>Domestic Enrolment</th>\n",
       "      <th>International Enrolment</th>\n",
       "    </tr>\n",
       "  </thead>\n",
       "  <tbody>\n",
       "    <tr>\n",
       "      <th>1534</th>\n",
       "      <td>2022</td>\n",
       "      <td>Ontario</td>\n",
       "      <td>Ontario (total)</td>\n",
       "      <td>Graduate program (second cycle)</td>\n",
       "      <td>Total, credential type</td>\n",
       "      <td>31830</td>\n",
       "      <td>17973</td>\n",
       "    </tr>\n",
       "    <tr>\n",
       "      <th>1531</th>\n",
       "      <td>2022</td>\n",
       "      <td>Ontario</td>\n",
       "      <td>Ontario (total)</td>\n",
       "      <td>Graduate program (second cycle)</td>\n",
       "      <td>Degree (includes applied degree)</td>\n",
       "      <td>31716</td>\n",
       "      <td>17946</td>\n",
       "    </tr>\n",
       "    <tr>\n",
       "      <th>2374</th>\n",
       "      <td>2022</td>\n",
       "      <td>Quebec</td>\n",
       "      <td>Quebec (total)</td>\n",
       "      <td>Graduate program (second cycle)</td>\n",
       "      <td>Total, credential type</td>\n",
       "      <td>22065</td>\n",
       "      <td>15810</td>\n",
       "    </tr>\n",
       "    <tr>\n",
       "      <th>2371</th>\n",
       "      <td>2022</td>\n",
       "      <td>Quebec</td>\n",
       "      <td>Quebec (total)</td>\n",
       "      <td>Graduate program (second cycle)</td>\n",
       "      <td>Degree (includes applied degree)</td>\n",
       "      <td>19737</td>\n",
       "      <td>14478</td>\n",
       "    </tr>\n",
       "    <tr>\n",
       "      <th>313</th>\n",
       "      <td>2022</td>\n",
       "      <td>British Columbia</td>\n",
       "      <td>BC (total)</td>\n",
       "      <td>Graduate program (second cycle)</td>\n",
       "      <td>Total, credential type</td>\n",
       "      <td>7638</td>\n",
       "      <td>5268</td>\n",
       "    </tr>\n",
       "    <tr>\n",
       "      <th>311</th>\n",
       "      <td>2022</td>\n",
       "      <td>British Columbia</td>\n",
       "      <td>BC (total)</td>\n",
       "      <td>Graduate program (second cycle)</td>\n",
       "      <td>Degree (includes applied degree)</td>\n",
       "      <td>7530</td>\n",
       "      <td>4980</td>\n",
       "    </tr>\n",
       "    <tr>\n",
       "      <th>2372</th>\n",
       "      <td>2022</td>\n",
       "      <td>Quebec</td>\n",
       "      <td>Quebec (total)</td>\n",
       "      <td>Graduate program (second cycle)</td>\n",
       "      <td>Diploma</td>\n",
       "      <td>2160</td>\n",
       "      <td>915</td>\n",
       "    </tr>\n",
       "    <tr>\n",
       "      <th>310</th>\n",
       "      <td>2022</td>\n",
       "      <td>British Columbia</td>\n",
       "      <td>BC (total)</td>\n",
       "      <td>Graduate program (second cycle)</td>\n",
       "      <td>Certificate</td>\n",
       "      <td>78</td>\n",
       "      <td>102</td>\n",
       "    </tr>\n",
       "    <tr>\n",
       "      <th>1532</th>\n",
       "      <td>2022</td>\n",
       "      <td>Ontario</td>\n",
       "      <td>Ontario (total)</td>\n",
       "      <td>Graduate program (second cycle)</td>\n",
       "      <td>Diploma</td>\n",
       "      <td>66</td>\n",
       "      <td>18</td>\n",
       "    </tr>\n",
       "    <tr>\n",
       "      <th>1533</th>\n",
       "      <td>2022</td>\n",
       "      <td>Ontario</td>\n",
       "      <td>Ontario (total)</td>\n",
       "      <td>Graduate program (second cycle)</td>\n",
       "      <td>Other type of credential associated with a pro...</td>\n",
       "      <td>48</td>\n",
       "      <td>9</td>\n",
       "    </tr>\n",
       "    <tr>\n",
       "      <th>2370</th>\n",
       "      <td>2022</td>\n",
       "      <td>Quebec</td>\n",
       "      <td>Quebec (total)</td>\n",
       "      <td>Graduate program (second cycle)</td>\n",
       "      <td>Certificate</td>\n",
       "      <td>48</td>\n",
       "      <td>21</td>\n",
       "    </tr>\n",
       "    <tr>\n",
       "      <th>312</th>\n",
       "      <td>2022</td>\n",
       "      <td>British Columbia</td>\n",
       "      <td>BC (total)</td>\n",
       "      <td>Graduate program (second cycle)</td>\n",
       "      <td>Diploma</td>\n",
       "      <td>30</td>\n",
       "      <td>189</td>\n",
       "    </tr>\n",
       "    <tr>\n",
       "      <th>2373</th>\n",
       "      <td>2022</td>\n",
       "      <td>Quebec</td>\n",
       "      <td>Quebec (total)</td>\n",
       "      <td>Graduate program (second cycle)</td>\n",
       "      <td>Not applicable, credential type</td>\n",
       "      <td>0</td>\n",
       "      <td>0</td>\n",
       "    </tr>\n",
       "  </tbody>\n",
       "</table>\n",
       "</div>"
      ],
      "text/plain": [
       "Canadian Status FY Start Province/Territory Institution Name  \\\n",
       "1534                2022            Ontario  Ontario (total)   \n",
       "1531                2022            Ontario  Ontario (total)   \n",
       "2374                2022             Quebec   Quebec (total)   \n",
       "2371                2022             Quebec   Quebec (total)   \n",
       "313                 2022   British Columbia       BC (total)   \n",
       "311                 2022   British Columbia       BC (total)   \n",
       "2372                2022             Quebec   Quebec (total)   \n",
       "310                 2022   British Columbia       BC (total)   \n",
       "1532                2022            Ontario  Ontario (total)   \n",
       "1533                2022            Ontario  Ontario (total)   \n",
       "2370                2022             Quebec   Quebec (total)   \n",
       "312                 2022   British Columbia       BC (total)   \n",
       "2373                2022             Quebec   Quebec (total)   \n",
       "\n",
       "Canadian Status                     Program type  \\\n",
       "1534             Graduate program (second cycle)   \n",
       "1531             Graduate program (second cycle)   \n",
       "2374             Graduate program (second cycle)   \n",
       "2371             Graduate program (second cycle)   \n",
       "313              Graduate program (second cycle)   \n",
       "311              Graduate program (second cycle)   \n",
       "2372             Graduate program (second cycle)   \n",
       "310              Graduate program (second cycle)   \n",
       "1532             Graduate program (second cycle)   \n",
       "1533             Graduate program (second cycle)   \n",
       "2370             Graduate program (second cycle)   \n",
       "312              Graduate program (second cycle)   \n",
       "2373             Graduate program (second cycle)   \n",
       "\n",
       "Canadian Status                                    Credential type  \\\n",
       "1534                                        Total, credential type   \n",
       "1531                              Degree (includes applied degree)   \n",
       "2374                                        Total, credential type   \n",
       "2371                              Degree (includes applied degree)   \n",
       "313                                         Total, credential type   \n",
       "311                               Degree (includes applied degree)   \n",
       "2372                                                       Diploma   \n",
       "310                                                    Certificate   \n",
       "1532                                                       Diploma   \n",
       "1533             Other type of credential associated with a pro...   \n",
       "2370                                                   Certificate   \n",
       "312                                                        Diploma   \n",
       "2373                               Not applicable, credential type   \n",
       "\n",
       "Canadian Status  Domestic Enrolment  International Enrolment  \n",
       "1534                          31830                    17973  \n",
       "1531                          31716                    17946  \n",
       "2374                          22065                    15810  \n",
       "2371                          19737                    14478  \n",
       "313                            7638                     5268  \n",
       "311                            7530                     4980  \n",
       "2372                           2160                      915  \n",
       "310                              78                      102  \n",
       "1532                             66                       18  \n",
       "1533                             48                        9  \n",
       "2370                             48                       21  \n",
       "312                              30                      189  \n",
       "2373                              0                        0  "
      ]
     },
     "metadata": {},
     "output_type": "display_data"
    }
   ],
   "source": [
    "cleaned_program_df[(cleaned_program_df['Institution Name'].isin(['Ontario (total)', 'Quebec (total)', 'BC (total)'])) & \n",
    "                   (cleaned_program_df['Program type'] == 'Graduate program (second cycle)')\n",
    "                   ].sort_values(by='Domestic Enrolment', ascending=False)"
   ]
  },
  {
   "cell_type": "markdown",
   "metadata": {},
   "source": [
    "As we can see above this program type is dominated by degrees in all three provinces but a diploma at this level also exists. It may be analogous to the Pre-University diploma offered in Quebec, but for master's programs. \n",
    "\n",
    "Checking diplomas below:"
   ]
  },
  {
   "cell_type": "code",
   "execution_count": null,
   "metadata": {},
   "outputs": [
    {
     "data": {
      "text/html": [
       "<div>\n",
       "<style scoped>\n",
       "    .dataframe tbody tr th:only-of-type {\n",
       "        vertical-align: middle;\n",
       "    }\n",
       "\n",
       "    .dataframe tbody tr th {\n",
       "        vertical-align: top;\n",
       "    }\n",
       "\n",
       "    .dataframe thead th {\n",
       "        text-align: right;\n",
       "    }\n",
       "</style>\n",
       "<table border=\"1\" class=\"dataframe\">\n",
       "  <thead>\n",
       "    <tr style=\"text-align: right;\">\n",
       "      <th>Canadian Status</th>\n",
       "      <th>FY Start</th>\n",
       "      <th>Province/Territory</th>\n",
       "      <th>Institution Name</th>\n",
       "      <th>Program type</th>\n",
       "      <th>Credential type</th>\n",
       "      <th>Domestic Enrolment</th>\n",
       "      <th>International Enrolment</th>\n",
       "    </tr>\n",
       "  </thead>\n",
       "  <tbody>\n",
       "    <tr>\n",
       "      <th>2383</th>\n",
       "      <td>2022</td>\n",
       "      <td>Quebec</td>\n",
       "      <td>Quebec (total)</td>\n",
       "      <td>Total, program type</td>\n",
       "      <td>Diploma</td>\n",
       "      <td>162006</td>\n",
       "      <td>8619</td>\n",
       "    </tr>\n",
       "    <tr>\n",
       "      <th>1548</th>\n",
       "      <td>2022</td>\n",
       "      <td>Ontario</td>\n",
       "      <td>Ontario (total)</td>\n",
       "      <td>Total, program type</td>\n",
       "      <td>Diploma</td>\n",
       "      <td>98679</td>\n",
       "      <td>79035</td>\n",
       "    </tr>\n",
       "    <tr>\n",
       "      <th>1527</th>\n",
       "      <td>2022</td>\n",
       "      <td>Ontario</td>\n",
       "      <td>Ontario (total)</td>\n",
       "      <td>Career, technical or professional training pro...</td>\n",
       "      <td>Diploma</td>\n",
       "      <td>97485</td>\n",
       "      <td>78930</td>\n",
       "    </tr>\n",
       "    <tr>\n",
       "      <th>2378</th>\n",
       "      <td>2022</td>\n",
       "      <td>Quebec</td>\n",
       "      <td>Quebec (total)</td>\n",
       "      <td>Pre-university program</td>\n",
       "      <td>Diploma</td>\n",
       "      <td>79833</td>\n",
       "      <td>1176</td>\n",
       "    </tr>\n",
       "    <tr>\n",
       "      <th>2368</th>\n",
       "      <td>2022</td>\n",
       "      <td>Quebec</td>\n",
       "      <td>Quebec (total)</td>\n",
       "      <td>Career, technical or professional training pro...</td>\n",
       "      <td>Diploma</td>\n",
       "      <td>76053</td>\n",
       "      <td>5757</td>\n",
       "    </tr>\n",
       "    <tr>\n",
       "      <th>18</th>\n",
       "      <td>2022</td>\n",
       "      <td>Alberta</td>\n",
       "      <td>Alberta (total)</td>\n",
       "      <td>Total, program type</td>\n",
       "      <td>Diploma</td>\n",
       "      <td>25488</td>\n",
       "      <td>9324</td>\n",
       "    </tr>\n",
       "    <tr>\n",
       "      <th>1</th>\n",
       "      <td>2022</td>\n",
       "      <td>Alberta</td>\n",
       "      <td>Alberta (total)</td>\n",
       "      <td>Career, technical or professional training pro...</td>\n",
       "      <td>Diploma</td>\n",
       "      <td>25389</td>\n",
       "      <td>9315</td>\n",
       "    </tr>\n",
       "    <tr>\n",
       "      <th>327</th>\n",
       "      <td>2022</td>\n",
       "      <td>British Columbia</td>\n",
       "      <td>BC (total)</td>\n",
       "      <td>Total, program type</td>\n",
       "      <td>Diploma</td>\n",
       "      <td>16857</td>\n",
       "      <td>16776</td>\n",
       "    </tr>\n",
       "    <tr>\n",
       "      <th>307</th>\n",
       "      <td>2022</td>\n",
       "      <td>British Columbia</td>\n",
       "      <td>BC (total)</td>\n",
       "      <td>Career, technical or professional training pro...</td>\n",
       "      <td>Diploma</td>\n",
       "      <td>16212</td>\n",
       "      <td>9765</td>\n",
       "    </tr>\n",
       "    <tr>\n",
       "      <th>2372</th>\n",
       "      <td>2022</td>\n",
       "      <td>Quebec</td>\n",
       "      <td>Quebec (total)</td>\n",
       "      <td>Graduate program (second cycle)</td>\n",
       "      <td>Diploma</td>\n",
       "      <td>2160</td>\n",
       "      <td>915</td>\n",
       "    </tr>\n",
       "    <tr>\n",
       "      <th>1554</th>\n",
       "      <td>2022</td>\n",
       "      <td>Ontario</td>\n",
       "      <td>Ontario (total)</td>\n",
       "      <td>Undergraduate program</td>\n",
       "      <td>Diploma</td>\n",
       "      <td>597</td>\n",
       "      <td>48</td>\n",
       "    </tr>\n",
       "    <tr>\n",
       "      <th>2388</th>\n",
       "      <td>2022</td>\n",
       "      <td>Quebec</td>\n",
       "      <td>Quebec (total)</td>\n",
       "      <td>Undergraduate program</td>\n",
       "      <td>Diploma</td>\n",
       "      <td>591</td>\n",
       "      <td>123</td>\n",
       "    </tr>\n",
       "    <tr>\n",
       "      <th>321</th>\n",
       "      <td>2022</td>\n",
       "      <td>British Columbia</td>\n",
       "      <td>BC (total)</td>\n",
       "      <td>Post-baccalaureate non-graduate program</td>\n",
       "      <td>Diploma</td>\n",
       "      <td>339</td>\n",
       "      <td>6552</td>\n",
       "    </tr>\n",
       "    <tr>\n",
       "      <th>317</th>\n",
       "      <td>2022</td>\n",
       "      <td>British Columbia</td>\n",
       "      <td>BC (total)</td>\n",
       "      <td>Post career, technical or professional trainin...</td>\n",
       "      <td>Diploma</td>\n",
       "      <td>270</td>\n",
       "      <td>267</td>\n",
       "    </tr>\n",
       "    <tr>\n",
       "      <th>5</th>\n",
       "      <td>2022</td>\n",
       "      <td>Alberta</td>\n",
       "      <td>Alberta (total)</td>\n",
       "      <td>Graduate program (second cycle)</td>\n",
       "      <td>Diploma</td>\n",
       "      <td>87</td>\n",
       "      <td>9</td>\n",
       "    </tr>\n",
       "    <tr>\n",
       "      <th>1532</th>\n",
       "      <td>2022</td>\n",
       "      <td>Ontario</td>\n",
       "      <td>Ontario (total)</td>\n",
       "      <td>Graduate program (second cycle)</td>\n",
       "      <td>Diploma</td>\n",
       "      <td>66</td>\n",
       "      <td>18</td>\n",
       "    </tr>\n",
       "  </tbody>\n",
       "</table>\n",
       "</div>"
      ],
      "text/plain": [
       "Canadian Status FY Start Province/Territory Institution Name  \\\n",
       "2383                2022             Quebec   Quebec (total)   \n",
       "1548                2022            Ontario  Ontario (total)   \n",
       "1527                2022            Ontario  Ontario (total)   \n",
       "2378                2022             Quebec   Quebec (total)   \n",
       "2368                2022             Quebec   Quebec (total)   \n",
       "18                  2022            Alberta  Alberta (total)   \n",
       "1                   2022            Alberta  Alberta (total)   \n",
       "327                 2022   British Columbia       BC (total)   \n",
       "307                 2022   British Columbia       BC (total)   \n",
       "2372                2022             Quebec   Quebec (total)   \n",
       "1554                2022            Ontario  Ontario (total)   \n",
       "2388                2022             Quebec   Quebec (total)   \n",
       "321                 2022   British Columbia       BC (total)   \n",
       "317                 2022   British Columbia       BC (total)   \n",
       "5                   2022            Alberta  Alberta (total)   \n",
       "1532                2022            Ontario  Ontario (total)   \n",
       "\n",
       "Canadian Status                                       Program type  \\\n",
       "2383                                           Total, program type   \n",
       "1548                                           Total, program type   \n",
       "1527             Career, technical or professional training pro...   \n",
       "2378                                        Pre-university program   \n",
       "2368             Career, technical or professional training pro...   \n",
       "18                                             Total, program type   \n",
       "1                Career, technical or professional training pro...   \n",
       "327                                            Total, program type   \n",
       "307              Career, technical or professional training pro...   \n",
       "2372                               Graduate program (second cycle)   \n",
       "1554                                         Undergraduate program   \n",
       "2388                                         Undergraduate program   \n",
       "321                        Post-baccalaureate non-graduate program   \n",
       "317              Post career, technical or professional trainin...   \n",
       "5                                  Graduate program (second cycle)   \n",
       "1532                               Graduate program (second cycle)   \n",
       "\n",
       "Canadian Status Credential type  Domestic Enrolment  International Enrolment  \n",
       "2383                    Diploma              162006                     8619  \n",
       "1548                    Diploma               98679                    79035  \n",
       "1527                    Diploma               97485                    78930  \n",
       "2378                    Diploma               79833                     1176  \n",
       "2368                    Diploma               76053                     5757  \n",
       "18                      Diploma               25488                     9324  \n",
       "1                       Diploma               25389                     9315  \n",
       "327                     Diploma               16857                    16776  \n",
       "307                     Diploma               16212                     9765  \n",
       "2372                    Diploma                2160                      915  \n",
       "1554                    Diploma                 597                       48  \n",
       "2388                    Diploma                 591                      123  \n",
       "321                     Diploma                 339                     6552  \n",
       "317                     Diploma                 270                      267  \n",
       "5                       Diploma                  87                        9  \n",
       "1532                    Diploma                  66                       18  "
      ]
     },
     "metadata": {},
     "output_type": "display_data"
    }
   ],
   "source": [
    "cleaned_program_df[(cleaned_program_df['Institution Name'].isin(['Ontario (total)', 'Quebec (total)', 'BC (total)', 'Alberta (total)'])) &\n",
    "                   (cleaned_program_df['Credential type'] == 'Diploma') &\n",
    "                    (cleaned_program_df['Domestic Enrolment'] > 50) # a few niche programs with very small enrolment hidden\n",
    "                   ].sort_values(by='Domestic Enrolment', ascending=False)"
   ]
  },
  {
   "cell_type": "markdown",
   "metadata": {},
   "source": [
    "Pre-University programs are [unique programs in the Quebec schooling system](https://www.cegepsquebec.ca/en/cegeps/presentation/systeme-scolaire-quebecois/) that prepare students for Undergraduate University programs. \n",
    "\n",
    "As the numbers show, they are highly focused towards domestic students coming from the Quebec secondary school system. It accounts for nearly half of all Quebec Diplomas, with almost the entire other half coming from Career, technical or professional programs as with Ontario. \n",
    "\n",
    "This career, technical or professional category seems the most appropriate category to compare diplomas"
   ]
  },
  {
   "cell_type": "code",
   "execution_count": null,
   "metadata": {},
   "outputs": [
    {
     "data": {
      "application/vnd.plotly.v1+json": {
       "config": {
        "plotlyServerURL": "https://plot.ly"
       },
       "data": [
        {
         "alignmentgroup": "True",
         "boxpoints": "outliers",
         "customdata": [
          [
           "Alberta",
           "Alberta (total)"
          ],
          [
           "Alberta",
           "Alberta (total)"
          ],
          [
           "Alberta",
           "Alberta (total)"
          ],
          [
           "Alberta",
           "Alberta U of the Arts"
          ],
          [
           "Alberta",
           "Alberta U of the Arts"
          ],
          [
           "Alberta",
           "Athabasca U"
          ],
          [
           "Alberta",
           "Athabasca U"
          ],
          [
           "Alberta",
           "Athabasca U"
          ],
          [
           "Alberta",
           "Bow Valley College"
          ],
          [
           "Alberta",
           "Bow Valley College"
          ],
          [
           "Alberta",
           "Bow Valley College"
          ],
          [
           "Alberta",
           "Burman U"
          ],
          [
           "Alberta",
           "Burman U"
          ],
          [
           "Alberta",
           "Grant MacEwan U"
          ],
          [
           "Alberta",
           "Grant MacEwan U"
          ],
          [
           "Alberta",
           "Grant MacEwan U"
          ],
          [
           "Alberta",
           "Keyano College"
          ],
          [
           "Alberta",
           "Keyano College"
          ],
          [
           "Alberta",
           "Keyano College"
          ],
          [
           "Alberta",
           "Lakeland College"
          ],
          [
           "Alberta",
           "Lakeland College"
          ],
          [
           "Alberta",
           "Lakeland College"
          ],
          [
           "Alberta",
           "Lethbridge College"
          ],
          [
           "Alberta",
           "Lethbridge College"
          ],
          [
           "Alberta",
           "Lethbridge College"
          ],
          [
           "Alberta",
           "Medicine Hat College"
          ],
          [
           "Alberta",
           "Medicine Hat College"
          ],
          [
           "Alberta",
           "Medicine Hat College"
          ],
          [
           "Alberta",
           "Mount Royal U"
          ],
          [
           "Alberta",
           "Mount Royal U"
          ],
          [
           "Alberta",
           "Mount Royal U"
          ],
          [
           "Alberta",
           "NorQuest College"
          ],
          [
           "Alberta",
           "NorQuest College"
          ],
          [
           "Alberta",
           "NorQuest College"
          ],
          [
           "Alberta",
           "Northern Alberta Institute of Technology"
          ],
          [
           "Alberta",
           "Northern Alberta Institute of Technology"
          ],
          [
           "Alberta",
           "Northern Alberta Institute of Technology"
          ],
          [
           "Alberta",
           "Northern Lakes College"
          ],
          [
           "Alberta",
           "Northern Lakes College"
          ],
          [
           "Alberta",
           "Northern Lakes College"
          ],
          [
           "Alberta",
           "Northwestern Polytechnic"
          ],
          [
           "Alberta",
           "Northwestern Polytechnic"
          ],
          [
           "Alberta",
           "Northwestern Polytechnic"
          ],
          [
           "Alberta",
           "Olds College"
          ],
          [
           "Alberta",
           "Olds College"
          ],
          [
           "Alberta",
           "Olds College"
          ],
          [
           "Alberta",
           "Portage College"
          ],
          [
           "Alberta",
           "Portage College"
          ],
          [
           "Alberta",
           "Portage College"
          ],
          [
           "Alberta",
           "Red Deer Polytechnic"
          ],
          [
           "Alberta",
           "Red Deer Polytechnic"
          ],
          [
           "Alberta",
           "Red Deer Polytechnic"
          ],
          [
           "Alberta",
           "Southern Alberta Institute of Technology"
          ],
          [
           "Alberta",
           "Southern Alberta Institute of Technology"
          ],
          [
           "Alberta",
           "Southern Alberta Institute of Technology"
          ],
          [
           "Alberta",
           "U of Alberta"
          ],
          [
           "Alberta",
           "U of Alberta"
          ],
          [
           "Alberta",
           "U of Alberta"
          ],
          [
           "Alberta",
           "U of Lethbridge"
          ],
          [
           "Alberta",
           "U of Lethbridge"
          ],
          [
           "Alberta",
           "U of Lethbridge"
          ],
          [
           "British Columbia",
           "BC (total)"
          ],
          [
           "British Columbia",
           "BC (total)"
          ],
          [
           "British Columbia",
           "BC (total)"
          ],
          [
           "British Columbia",
           "BC (total)"
          ],
          [
           "British Columbia",
           "BC Institute of Technology"
          ],
          [
           "British Columbia",
           "BC Institute of Technology"
          ],
          [
           "British Columbia",
           "BC Institute of Technology"
          ],
          [
           "British Columbia",
           "BC Institute of Technology"
          ],
          [
           "British Columbia",
           "Camosun College"
          ],
          [
           "British Columbia",
           "Camosun College"
          ],
          [
           "British Columbia",
           "Camosun College"
          ],
          [
           "British Columbia",
           "Camosun College"
          ],
          [
           "British Columbia",
           "Capilano U"
          ],
          [
           "British Columbia",
           "Capilano U"
          ],
          [
           "British Columbia",
           "Capilano U"
          ],
          [
           "British Columbia",
           "Coast Mountain College"
          ],
          [
           "British Columbia",
           "Coast Mountain College"
          ],
          [
           "British Columbia",
           "Coast Mountain College"
          ],
          [
           "British Columbia",
           "College of New Caledonia"
          ],
          [
           "British Columbia",
           "College of New Caledonia"
          ],
          [
           "British Columbia",
           "College of New Caledonia"
          ],
          [
           "British Columbia",
           "College of the Rockies"
          ],
          [
           "British Columbia",
           "College of the Rockies"
          ],
          [
           "British Columbia",
           "College of the Rockies"
          ],
          [
           "British Columbia",
           "Douglas College"
          ],
          [
           "British Columbia",
           "Douglas College"
          ],
          [
           "British Columbia",
           "Douglas College"
          ],
          [
           "British Columbia",
           "Douglas College"
          ],
          [
           "British Columbia",
           "Justice Institute of BC"
          ],
          [
           "British Columbia",
           "Justice Institute of BC"
          ],
          [
           "British Columbia",
           "Justice Institute of BC"
          ],
          [
           "British Columbia",
           "Kwantlen Polytechnic U"
          ],
          [
           "British Columbia",
           "Kwantlen Polytechnic U"
          ],
          [
           "British Columbia",
           "Kwantlen Polytechnic U"
          ],
          [
           "British Columbia",
           "Langara College"
          ],
          [
           "British Columbia",
           "Langara College"
          ],
          [
           "British Columbia",
           "Langara College"
          ],
          [
           "British Columbia",
           "Nicola Valley Institute of Technology"
          ],
          [
           "British Columbia",
           "Nicola Valley Institute of Technology"
          ],
          [
           "British Columbia",
           "Nicola Valley Institute of Technology"
          ],
          [
           "British Columbia",
           "North Island College"
          ],
          [
           "British Columbia",
           "North Island College"
          ],
          [
           "British Columbia",
           "North Island College"
          ],
          [
           "British Columbia",
           "Northern Lights College"
          ],
          [
           "British Columbia",
           "Northern Lights College"
          ],
          [
           "British Columbia",
           "Northern Lights College"
          ],
          [
           "British Columbia",
           "Okanagan College"
          ],
          [
           "British Columbia",
           "Okanagan College"
          ],
          [
           "British Columbia",
           "Okanagan College"
          ],
          [
           "British Columbia",
           "Selkirk College"
          ],
          [
           "British Columbia",
           "Selkirk College"
          ],
          [
           "British Columbia",
           "Selkirk College"
          ],
          [
           "British Columbia",
           "Thompson Rivers U"
          ],
          [
           "British Columbia",
           "Thompson Rivers U"
          ],
          [
           "British Columbia",
           "Thompson Rivers U"
          ],
          [
           "British Columbia",
           "U of the Fraser Valley"
          ],
          [
           "British Columbia",
           "U of the Fraser Valley"
          ],
          [
           "British Columbia",
           "U of the Fraser Valley"
          ],
          [
           "British Columbia",
           "Vancouver CC"
          ],
          [
           "British Columbia",
           "Vancouver CC"
          ],
          [
           "British Columbia",
           "Vancouver CC"
          ],
          [
           "British Columbia",
           "Vancouver Island U"
          ],
          [
           "British Columbia",
           "Vancouver Island U"
          ],
          [
           "British Columbia",
           "Vancouver Island U"
          ],
          [
           "Manitoba",
           "Assiniboine CC"
          ],
          [
           "Manitoba",
           "Assiniboine CC"
          ],
          [
           "Manitoba",
           "Assiniboine CC"
          ],
          [
           "Manitoba",
           "L'École Technique et Professionnelle"
          ],
          [
           "Manitoba",
           "L'École Technique et Professionnelle"
          ],
          [
           "Manitoba",
           "Manitoba (total)"
          ],
          [
           "Manitoba",
           "Manitoba (total)"
          ],
          [
           "Manitoba",
           "Manitoba (total)"
          ],
          [
           "Manitoba",
           "Manitoba (total)"
          ],
          [
           "Manitoba",
           "Manitoba Institute of Trades and Technology"
          ],
          [
           "Manitoba",
           "Manitoba Institute of Trades and Technology"
          ],
          [
           "Manitoba",
           "Red River College Polytechnic"
          ],
          [
           "Manitoba",
           "Red River College Polytechnic"
          ],
          [
           "Manitoba",
           "Red River College Polytechnic"
          ],
          [
           "Manitoba",
           "Red River College Polytechnic"
          ],
          [
           "Manitoba",
           "U College of the North"
          ],
          [
           "Manitoba",
           "U College of the North"
          ],
          [
           "Manitoba",
           "U College of the North"
          ],
          [
           "Manitoba",
           "U of Manitoba"
          ],
          [
           "Manitoba",
           "U of Manitoba"
          ],
          [
           "New Brunswick",
           "Collège Communautaire du Nouveau-Brunswick"
          ],
          [
           "New Brunswick",
           "Collège Communautaire du Nouveau-Brunswick"
          ],
          [
           "New Brunswick",
           "Collège Communautaire du Nouveau-Brunswick"
          ],
          [
           "New Brunswick",
           "Maritime College of Forest Technology"
          ],
          [
           "New Brunswick",
           "Maritime College of Forest Technology"
          ],
          [
           "New Brunswick",
           "New Brunswick (total)"
          ],
          [
           "New Brunswick",
           "New Brunswick (total)"
          ],
          [
           "New Brunswick",
           "New Brunswick (total)"
          ],
          [
           "New Brunswick",
           "New Brunswick CC"
          ],
          [
           "New Brunswick",
           "New Brunswick CC"
          ],
          [
           "New Brunswick",
           "New Brunswick CC"
          ],
          [
           "New Brunswick",
           "New Brunswick College of Craft and Design"
          ],
          [
           "New Brunswick",
           "New Brunswick College of Craft and Design"
          ],
          [
           "Newfoundland and Labrador",
           "College of the North Atlantic"
          ],
          [
           "Newfoundland and Labrador",
           "College of the North Atlantic"
          ],
          [
           "Newfoundland and Labrador",
           "College of the North Atlantic"
          ],
          [
           "Newfoundland and Labrador",
           "College of the North Atlantic"
          ],
          [
           "Newfoundland and Labrador",
           "College of the North Atlantic"
          ],
          [
           "Newfoundland and Labrador",
           "Memorial U of Newfoundland"
          ],
          [
           "Newfoundland and Labrador",
           "Memorial U of Newfoundland"
          ],
          [
           "Newfoundland and Labrador",
           "Memorial U of Newfoundland"
          ],
          [
           "Newfoundland and Labrador",
           "Newfoundland and Labrador (total)"
          ],
          [
           "Newfoundland and Labrador",
           "Newfoundland and Labrador (total)"
          ],
          [
           "Newfoundland and Labrador",
           "Newfoundland and Labrador (total)"
          ],
          [
           "Newfoundland and Labrador",
           "Newfoundland and Labrador (total)"
          ],
          [
           "Newfoundland and Labrador",
           "Newfoundland and Labrador (total)"
          ],
          [
           "Nova Scotia",
           "Cape Breton U"
          ],
          [
           "Nova Scotia",
           "Cape Breton U"
          ],
          [
           "Nova Scotia",
           "Dalhousie U"
          ],
          [
           "Nova Scotia",
           "Dalhousie U"
          ],
          [
           "Nova Scotia",
           "Nova Scotia (total)"
          ],
          [
           "Nova Scotia",
           "Nova Scotia (total)"
          ],
          [
           "Nova Scotia",
           "Nova Scotia (total)"
          ],
          [
           "Nova Scotia",
           "Nova Scotia (total)"
          ],
          [
           "Nova Scotia",
           "Nova Scotia (total)"
          ],
          [
           "Nova Scotia",
           "Nova Scotia CC (NSCC)"
          ],
          [
           "Nova Scotia",
           "Nova Scotia CC (NSCC)"
          ],
          [
           "Nova Scotia",
           "Nova Scotia CC (NSCC)"
          ],
          [
           "Nova Scotia",
           "Nova Scotia CC (NSCC)"
          ],
          [
           "Nova Scotia",
           "Nova Scotia CC (NSCC)"
          ],
          [
           "Nova Scotia",
           "U Sainte-Anne"
          ],
          [
           "Nova Scotia",
           "U Sainte-Anne"
          ],
          [
           "Nova Scotia",
           "U Sainte-Anne"
          ],
          [
           "Ontario",
           "Algonquin College"
          ],
          [
           "Ontario",
           "Algonquin College"
          ],
          [
           "Ontario",
           "Algonquin College"
          ],
          [
           "Ontario",
           "Cambrian College"
          ],
          [
           "Ontario",
           "Cambrian College"
          ],
          [
           "Ontario",
           "Cambrian College"
          ],
          [
           "Ontario",
           "Canadore College"
          ],
          [
           "Ontario",
           "Canadore College"
          ],
          [
           "Ontario",
           "Canadore College"
          ],
          [
           "Ontario",
           "Centennial College"
          ],
          [
           "Ontario",
           "Centennial College"
          ],
          [
           "Ontario",
           "Centennial College"
          ],
          [
           "Ontario",
           "Collège Boréal"
          ],
          [
           "Ontario",
           "Collège Boréal"
          ],
          [
           "Ontario",
           "Collège Boréal"
          ],
          [
           "Ontario",
           "Conestoga College"
          ],
          [
           "Ontario",
           "Conestoga College"
          ],
          [
           "Ontario",
           "Conestoga College"
          ],
          [
           "Ontario",
           "Confederation College"
          ],
          [
           "Ontario",
           "Confederation College"
          ],
          [
           "Ontario",
           "Confederation College"
          ],
          [
           "Ontario",
           "Confederation College"
          ],
          [
           "Ontario",
           "Durham College"
          ],
          [
           "Ontario",
           "Durham College"
          ],
          [
           "Ontario",
           "Durham College"
          ],
          [
           "Ontario",
           "Fanshawe College"
          ],
          [
           "Ontario",
           "Fanshawe College"
          ],
          [
           "Ontario",
           "Fanshawe College"
          ],
          [
           "Ontario",
           "Fleming College"
          ],
          [
           "Ontario",
           "Fleming College"
          ],
          [
           "Ontario",
           "Fleming College"
          ],
          [
           "Ontario",
           "George Brown College"
          ],
          [
           "Ontario",
           "George Brown College"
          ],
          [
           "Ontario",
           "George Brown College"
          ],
          [
           "Ontario",
           "Georgian College"
          ],
          [
           "Ontario",
           "Georgian College"
          ],
          [
           "Ontario",
           "Georgian College"
          ],
          [
           "Ontario",
           "Humber College North Campus"
          ],
          [
           "Ontario",
           "Humber College North Campus"
          ],
          [
           "Ontario",
           "Humber College North Campus"
          ],
          [
           "Ontario",
           "La Cité collégiale "
          ],
          [
           "Ontario",
           "La Cité collégiale "
          ],
          [
           "Ontario",
           "La Cité collégiale "
          ],
          [
           "Ontario",
           "Lambton College"
          ],
          [
           "Ontario",
           "Lambton College"
          ],
          [
           "Ontario",
           "Lambton College"
          ],
          [
           "Ontario",
           "Loyalist College"
          ],
          [
           "Ontario",
           "Loyalist College"
          ],
          [
           "Ontario",
           "Loyalist College"
          ],
          [
           "Ontario",
           "Loyalist College"
          ],
          [
           "Ontario",
           "Mohawk College"
          ],
          [
           "Ontario",
           "Mohawk College"
          ],
          [
           "Ontario",
           "Mohawk College"
          ],
          [
           "Ontario",
           "Niagara College Canada"
          ],
          [
           "Ontario",
           "Niagara College Canada"
          ],
          [
           "Ontario",
           "Niagara College Canada"
          ],
          [
           "Ontario",
           "Northern College"
          ],
          [
           "Ontario",
           "Northern College"
          ],
          [
           "Ontario",
           "Northern College"
          ],
          [
           "Ontario",
           "Ontario (total)"
          ],
          [
           "Ontario",
           "Ontario (total)"
          ],
          [
           "Ontario",
           "Ontario (total)"
          ],
          [
           "Ontario",
           "Ontario (total)"
          ],
          [
           "Ontario",
           "Ontario (total)"
          ],
          [
           "Ontario",
           "Ridgetown College"
          ],
          [
           "Ontario",
           "Ridgetown College"
          ],
          [
           "Ontario",
           "Sault College"
          ],
          [
           "Ontario",
           "Sault College"
          ],
          [
           "Ontario",
           "Sault College"
          ],
          [
           "Ontario",
           "Seneca College"
          ],
          [
           "Ontario",
           "Seneca College"
          ],
          [
           "Ontario",
           "Seneca College"
          ],
          [
           "Ontario",
           "Sheridan College Institute of Technology"
          ],
          [
           "Ontario",
           "Sheridan College Institute of Technology"
          ],
          [
           "Ontario",
           "Sheridan College Institute of Technology"
          ],
          [
           "Ontario",
           "St. Clair College"
          ],
          [
           "Ontario",
           "St. Clair College"
          ],
          [
           "Ontario",
           "St. Clair College"
          ],
          [
           "Ontario",
           "St. Lawrence College"
          ],
          [
           "Ontario",
           "St. Lawrence College"
          ],
          [
           "Ontario",
           "St. Lawrence College"
          ],
          [
           "Prince Edward Island",
           "Collège de l'Île"
          ],
          [
           "Prince Edward Island",
           "Collège de l'Île"
          ],
          [
           "Prince Edward Island",
           "Collège de l'Île"
          ],
          [
           "Prince Edward Island",
           "Holland College"
          ],
          [
           "Prince Edward Island",
           "Holland College"
          ],
          [
           "Prince Edward Island",
           "Holland College"
          ],
          [
           "Prince Edward Island",
           "Prince Edward Island (total)"
          ],
          [
           "Prince Edward Island",
           "Prince Edward Island (total)"
          ],
          [
           "Prince Edward Island",
           "Prince Edward Island (total)"
          ],
          [
           "Quebec",
           "Campus Notre-Dame-de-Foy"
          ],
          [
           "Quebec",
           "Campus Notre-Dame-de-Foy"
          ],
          [
           "Quebec",
           "Champlain Regional College - St. Lambert Campus"
          ],
          [
           "Quebec",
           "Champlain Regional College - St. Lambert Campus"
          ],
          [
           "Quebec",
           "Collège André-Grasset"
          ],
          [
           "Quebec",
           "Collège André-Grasset"
          ],
          [
           "Quebec",
           "Collège Bart"
          ],
          [
           "Quebec",
           "Collège Bart"
          ],
          [
           "Quebec",
           "Collège Dawson"
          ],
          [
           "Quebec",
           "Collège Dawson"
          ],
          [
           "Quebec",
           "Collège Ellis, campus de Drummondville"
          ],
          [
           "Quebec",
           "Collège Ellis, campus de Drummondville"
          ],
          [
           "Quebec",
           "Collège Heritage / Heritage College"
          ],
          [
           "Quebec",
           "Collège Heritage / Heritage College"
          ],
          [
           "Quebec",
           "Collège LaSalle"
          ],
          [
           "Quebec",
           "Collège LaSalle"
          ],
          [
           "Quebec",
           "Collège Laflèche"
          ],
          [
           "Quebec",
           "Collège Laflèche"
          ],
          [
           "Quebec",
           "Collège Mérici"
          ],
          [
           "Quebec",
           "Collège Mérici"
          ],
          [
           "Quebec",
           "Collège O'Sullivan de Montréal inc"
          ],
          [
           "Quebec",
           "Collège O'Sullivan de Montréal inc"
          ],
          [
           "Quebec",
           "Collège O'Sullivan de Québec inc"
          ],
          [
           "Quebec",
           "Collège O'Sullivan de Québec inc"
          ],
          [
           "Quebec",
           "Collège TAV"
          ],
          [
           "Quebec",
           "Collège TAV"
          ],
          [
           "Quebec",
           "Collège Universel - Campus Gatineau"
          ],
          [
           "Quebec",
           "Collège Universel - Campus Gatineau"
          ],
          [
           "Quebec",
           "Collège Vanier / Vanier College"
          ],
          [
           "Quebec",
           "Collège Vanier / Vanier College"
          ],
          [
           "Quebec",
           "Collège d'Alma"
          ],
          [
           "Quebec",
           "Collège d'Alma"
          ],
          [
           "Quebec",
           "CÉGEP André-Laurendeau"
          ],
          [
           "Quebec",
           "CÉGEP André-Laurendeau"
          ],
          [
           "Quebec",
           "CÉGEP Beauce-Appalaches"
          ],
          [
           "Quebec",
           "CÉGEP Beauce-Appalaches"
          ],
          [
           "Quebec",
           "CÉGEP François-Xavier Garneau"
          ],
          [
           "Quebec",
           "CÉGEP François-Xavier Garneau"
          ],
          [
           "Quebec",
           "CÉGEP Gérald-Godin"
          ],
          [
           "Quebec",
           "CÉGEP Gérald-Godin"
          ],
          [
           "Quebec",
           "CÉGEP John Abbott College"
          ],
          [
           "Quebec",
           "CÉGEP John Abbott College"
          ],
          [
           "Quebec",
           "CÉGEP Limoilou"
          ],
          [
           "Quebec",
           "CÉGEP Limoilou"
          ],
          [
           "Quebec",
           "CÉGEP Lionel-Groulx"
          ],
          [
           "Quebec",
           "CÉGEP Lionel-Groulx"
          ],
          [
           "Quebec",
           "CÉGEP Marie-Victorin"
          ],
          [
           "Quebec",
           "CÉGEP Marie-Victorin"
          ],
          [
           "Quebec",
           "CÉGEP Montmorency"
          ],
          [
           "Quebec",
           "CÉGEP Montmorency"
          ],
          [
           "Quebec",
           "CÉGEP Saint-Jean-sur-Richelieu"
          ],
          [
           "Quebec",
           "CÉGEP Saint-Jean-sur-Richelieu"
          ],
          [
           "Quebec",
           "CÉGEP d'Abitibi-Témiscamingue"
          ],
          [
           "Quebec",
           "CÉGEP d'Abitibi-Témiscamingue"
          ],
          [
           "Quebec",
           "CÉGEP d'Ahuntsic"
          ],
          [
           "Quebec",
           "CÉGEP d'Ahuntsic"
          ],
          [
           "Quebec",
           "CÉGEP de Baie-Comeau"
          ],
          [
           "Quebec",
           "CÉGEP de Baie-Comeau"
          ],
          [
           "Quebec",
           "CÉGEP de Bois-de-Boulogne"
          ],
          [
           "Quebec",
           "CÉGEP de Bois-de-Boulogne"
          ],
          [
           "Quebec",
           "CÉGEP de Chicoutimi"
          ],
          [
           "Quebec",
           "CÉGEP de Chicoutimi"
          ],
          [
           "Quebec",
           "CÉGEP de Drummondville"
          ],
          [
           "Quebec",
           "CÉGEP de Drummondville"
          ],
          [
           "Quebec",
           "CÉGEP de Granby"
          ],
          [
           "Quebec",
           "CÉGEP de Granby"
          ],
          [
           "Quebec",
           "CÉGEP de Jonquière"
          ],
          [
           "Quebec",
           "CÉGEP de Jonquière"
          ],
          [
           "Quebec",
           "CÉGEP de La Pocatière"
          ],
          [
           "Quebec",
           "CÉGEP de La Pocatière"
          ],
          [
           "Quebec",
           "CÉGEP de Lévis-Lauzon"
          ],
          [
           "Quebec",
           "CÉGEP de Lévis-Lauzon"
          ],
          [
           "Quebec",
           "CÉGEP de Maisonneuve"
          ],
          [
           "Quebec",
           "CÉGEP de Maisonneuve"
          ],
          [
           "Quebec",
           "CÉGEP de Matane"
          ],
          [
           "Quebec",
           "CÉGEP de Matane"
          ],
          [
           "Quebec",
           "CÉGEP de Rimouski"
          ],
          [
           "Quebec",
           "CÉGEP de Rimouski"
          ],
          [
           "Quebec",
           "CÉGEP de Rivière-du-Loup"
          ],
          [
           "Quebec",
           "CÉGEP de Rivière-du-Loup"
          ],
          [
           "Quebec",
           "CÉGEP de Rosemont"
          ],
          [
           "Quebec",
           "CÉGEP de Rosemont"
          ],
          [
           "Quebec",
           "CÉGEP de Saint-Félicien"
          ],
          [
           "Quebec",
           "CÉGEP de Saint-Félicien"
          ],
          [
           "Quebec",
           "CÉGEP de Saint-Hyacinthe"
          ],
          [
           "Quebec",
           "CÉGEP de Saint-Hyacinthe"
          ],
          [
           "Quebec",
           "CÉGEP de Saint-Jérôme"
          ],
          [
           "Quebec",
           "CÉGEP de Saint-Jérôme"
          ],
          [
           "Quebec",
           "CÉGEP de Saint-Laurent"
          ],
          [
           "Quebec",
           "CÉGEP de Saint-Laurent"
          ],
          [
           "Quebec",
           "CÉGEP de Sainte-Foy"
          ],
          [
           "Quebec",
           "CÉGEP de Sainte-Foy"
          ],
          [
           "Quebec",
           "CÉGEP de Sept-Îles"
          ],
          [
           "Quebec",
           "CÉGEP de Sept-Îles"
          ],
          [
           "Quebec",
           "CÉGEP de Shawinigan"
          ],
          [
           "Quebec",
           "CÉGEP de Shawinigan"
          ],
          [
           "Quebec",
           "CÉGEP de Sherbrooke"
          ],
          [
           "Quebec",
           "CÉGEP de Sherbrooke"
          ],
          [
           "Quebec",
           "CÉGEP de Sorel-Tracy"
          ],
          [
           "Quebec",
           "CÉGEP de Sorel-Tracy"
          ],
          [
           "Quebec",
           "CÉGEP de Thetford"
          ],
          [
           "Quebec",
           "CÉGEP de Thetford"
          ],
          [
           "Quebec",
           "CÉGEP de Trois-Rivières"
          ],
          [
           "Quebec",
           "CÉGEP de Trois-Rivières"
          ],
          [
           "Quebec",
           "CÉGEP de Valleyfield"
          ],
          [
           "Quebec",
           "CÉGEP de Valleyfield"
          ],
          [
           "Quebec",
           "CÉGEP de Victoriaville"
          ],
          [
           "Quebec",
           "CÉGEP de Victoriaville"
          ],
          [
           "Quebec",
           "CÉGEP de l'Outaouais"
          ],
          [
           "Quebec",
           "CÉGEP de l'Outaouais"
          ],
          [
           "Quebec",
           "CÉGEP de la Gaspésie et des Îles"
          ],
          [
           "Quebec",
           "CÉGEP de la Gaspésie et des Îles"
          ],
          [
           "Quebec",
           "CÉGEP du Vieux Montréal"
          ],
          [
           "Quebec",
           "CÉGEP du Vieux Montréal"
          ],
          [
           "Quebec",
           "CÉGEP régional de Lanaudière à Joliette"
          ],
          [
           "Quebec",
           "CÉGEP régional de Lanaudière à Joliette"
          ],
          [
           "Quebec",
           "CÉGEP régional de Lanaudière à L'Assomption"
          ],
          [
           "Quebec",
           "CÉGEP régional de Lanaudière à L'Assomption"
          ],
          [
           "Quebec",
           "CÉGEP régional de Lanaudière à Terrebonne"
          ],
          [
           "Quebec",
           "CÉGEP régional de Lanaudière à Terrebonne"
          ],
          [
           "Quebec",
           "CÉGEP Édouard-Montpetit"
          ],
          [
           "Quebec",
           "CÉGEP Édouard-Montpetit"
          ],
          [
           "Quebec",
           "Institut Teccart inc."
          ],
          [
           "Quebec",
           "Institut Teccart inc."
          ],
          [
           "Quebec",
           "Institut de tourisme et d'hôtellerie du Québec"
          ],
          [
           "Quebec",
           "Institut de tourisme et d'hôtellerie du Québec"
          ],
          [
           "Quebec",
           "McGill U"
          ],
          [
           "Quebec",
           "McGill U"
          ],
          [
           "Quebec",
           "Quebec (total)"
          ],
          [
           "Quebec",
           "Quebec (total)"
          ],
          [
           "Quebec",
           "Séminaire de Sherbrooke"
          ],
          [
           "Quebec",
           "Séminaire de Sherbrooke"
          ],
          [
           "Quebec",
           "École nationale de Cirque"
          ],
          [
           "Quebec",
           "École nationale de Cirque"
          ],
          [
           "Saskatchewan",
           "Saskatchewan (total)"
          ],
          [
           "Saskatchewan",
           "Saskatchewan (total)"
          ],
          [
           "Saskatchewan",
           "Saskatchewan (total)"
          ],
          [
           "Saskatchewan",
           "Saskatchewan (total)"
          ],
          [
           "Saskatchewan",
           "Saskatchewan Polytechnic"
          ],
          [
           "Saskatchewan",
           "Saskatchewan Polytechnic"
          ],
          [
           "Saskatchewan",
           "Saskatchewan Polytechnic"
          ],
          [
           "Saskatchewan",
           "Saskatchewan Polytechnic"
          ]
         ],
         "hovertemplate": "Program type=%{x}<br>Domestic Enrolment=%{y}<br>Province/Territory=%{customdata[0]}<br>Institution Name=%{customdata[1]}<extra></extra>",
         "legendgroup": "Career, technical or professional training program",
         "marker": {
          "color": "#636efa"
         },
         "name": "Career, technical or professional training program",
         "notched": false,
         "offsetgroup": "Career, technical or professional training program",
         "orientation": "v",
         "showlegend": true,
         "type": "box",
         "x": [
          "Career, technical or professional training program",
          "Career, technical or professional training program",
          "Career, technical or professional training program",
          "Career, technical or professional training program",
          "Career, technical or professional training program",
          "Career, technical or professional training program",
          "Career, technical or professional training program",
          "Career, technical or professional training program",
          "Career, technical or professional training program",
          "Career, technical or professional training program",
          "Career, technical or professional training program",
          "Career, technical or professional training program",
          "Career, technical or professional training program",
          "Career, technical or professional training program",
          "Career, technical or professional training program",
          "Career, technical or professional training program",
          "Career, technical or professional training program",
          "Career, technical or professional training program",
          "Career, technical or professional training program",
          "Career, technical or professional training program",
          "Career, technical or professional training program",
          "Career, technical or professional training program",
          "Career, technical or professional training program",
          "Career, technical or professional training program",
          "Career, technical or professional training program",
          "Career, technical or professional training program",
          "Career, technical or professional training program",
          "Career, technical or professional training program",
          "Career, technical or professional training program",
          "Career, technical or professional training program",
          "Career, technical or professional training program",
          "Career, technical or professional training program",
          "Career, technical or professional training program",
          "Career, technical or professional training program",
          "Career, technical or professional training program",
          "Career, technical or professional training program",
          "Career, technical or professional training program",
          "Career, technical or professional training program",
          "Career, technical or professional training program",
          "Career, technical or professional training program",
          "Career, technical or professional training program",
          "Career, technical or professional training program",
          "Career, technical or professional training program",
          "Career, technical or professional training program",
          "Career, technical or professional training program",
          "Career, technical or professional training program",
          "Career, technical or professional training program",
          "Career, technical or professional training program",
          "Career, technical or professional training program",
          "Career, technical or professional training program",
          "Career, technical or professional training program",
          "Career, technical or professional training program",
          "Career, technical or professional training program",
          "Career, technical or professional training program",
          "Career, technical or professional training program",
          "Career, technical or professional training program",
          "Career, technical or professional training program",
          "Career, technical or professional training program",
          "Career, technical or professional training program",
          "Career, technical or professional training program",
          "Career, technical or professional training program",
          "Career, technical or professional training program",
          "Career, technical or professional training program",
          "Career, technical or professional training program",
          "Career, technical or professional training program",
          "Career, technical or professional training program",
          "Career, technical or professional training program",
          "Career, technical or professional training program",
          "Career, technical or professional training program",
          "Career, technical or professional training program",
          "Career, technical or professional training program",
          "Career, technical or professional training program",
          "Career, technical or professional training program",
          "Career, technical or professional training program",
          "Career, technical or professional training program",
          "Career, technical or professional training program",
          "Career, technical or professional training program",
          "Career, technical or professional training program",
          "Career, technical or professional training program",
          "Career, technical or professional training program",
          "Career, technical or professional training program",
          "Career, technical or professional training program",
          "Career, technical or professional training program",
          "Career, technical or professional training program",
          "Career, technical or professional training program",
          "Career, technical or professional training program",
          "Career, technical or professional training program",
          "Career, technical or professional training program",
          "Career, technical or professional training program",
          "Career, technical or professional training program",
          "Career, technical or professional training program",
          "Career, technical or professional training program",
          "Career, technical or professional training program",
          "Career, technical or professional training program",
          "Career, technical or professional training program",
          "Career, technical or professional training program",
          "Career, technical or professional training program",
          "Career, technical or professional training program",
          "Career, technical or professional training program",
          "Career, technical or professional training program",
          "Career, technical or professional training program",
          "Career, technical or professional training program",
          "Career, technical or professional training program",
          "Career, technical or professional training program",
          "Career, technical or professional training program",
          "Career, technical or professional training program",
          "Career, technical or professional training program",
          "Career, technical or professional training program",
          "Career, technical or professional training program",
          "Career, technical or professional training program",
          "Career, technical or professional training program",
          "Career, technical or professional training program",
          "Career, technical or professional training program",
          "Career, technical or professional training program",
          "Career, technical or professional training program",
          "Career, technical or professional training program",
          "Career, technical or professional training program",
          "Career, technical or professional training program",
          "Career, technical or professional training program",
          "Career, technical or professional training program",
          "Career, technical or professional training program",
          "Career, technical or professional training program",
          "Career, technical or professional training program",
          "Career, technical or professional training program",
          "Career, technical or professional training program",
          "Career, technical or professional training program",
          "Career, technical or professional training program",
          "Career, technical or professional training program",
          "Career, technical or professional training program",
          "Career, technical or professional training program",
          "Career, technical or professional training program",
          "Career, technical or professional training program",
          "Career, technical or professional training program",
          "Career, technical or professional training program",
          "Career, technical or professional training program",
          "Career, technical or professional training program",
          "Career, technical or professional training program",
          "Career, technical or professional training program",
          "Career, technical or professional training program",
          "Career, technical or professional training program",
          "Career, technical or professional training program",
          "Career, technical or professional training program",
          "Career, technical or professional training program",
          "Career, technical or professional training program",
          "Career, technical or professional training program",
          "Career, technical or professional training program",
          "Career, technical or professional training program",
          "Career, technical or professional training program",
          "Career, technical or professional training program",
          "Career, technical or professional training program",
          "Career, technical or professional training program",
          "Career, technical or professional training program",
          "Career, technical or professional training program",
          "Career, technical or professional training program",
          "Career, technical or professional training program",
          "Career, technical or professional training program",
          "Career, technical or professional training program",
          "Career, technical or professional training program",
          "Career, technical or professional training program",
          "Career, technical or professional training program",
          "Career, technical or professional training program",
          "Career, technical or professional training program",
          "Career, technical or professional training program",
          "Career, technical or professional training program",
          "Career, technical or professional training program",
          "Career, technical or professional training program",
          "Career, technical or professional training program",
          "Career, technical or professional training program",
          "Career, technical or professional training program",
          "Career, technical or professional training program",
          "Career, technical or professional training program",
          "Career, technical or professional training program",
          "Career, technical or professional training program",
          "Career, technical or professional training program",
          "Career, technical or professional training program",
          "Career, technical or professional training program",
          "Career, technical or professional training program",
          "Career, technical or professional training program",
          "Career, technical or professional training program",
          "Career, technical or professional training program",
          "Career, technical or professional training program",
          "Career, technical or professional training program",
          "Career, technical or professional training program",
          "Career, technical or professional training program",
          "Career, technical or professional training program",
          "Career, technical or professional training program",
          "Career, technical or professional training program",
          "Career, technical or professional training program",
          "Career, technical or professional training program",
          "Career, technical or professional training program",
          "Career, technical or professional training program",
          "Career, technical or professional training program",
          "Career, technical or professional training program",
          "Career, technical or professional training program",
          "Career, technical or professional training program",
          "Career, technical or professional training program",
          "Career, technical or professional training program",
          "Career, technical or professional training program",
          "Career, technical or professional training program",
          "Career, technical or professional training program",
          "Career, technical or professional training program",
          "Career, technical or professional training program",
          "Career, technical or professional training program",
          "Career, technical or professional training program",
          "Career, technical or professional training program",
          "Career, technical or professional training program",
          "Career, technical or professional training program",
          "Career, technical or professional training program",
          "Career, technical or professional training program",
          "Career, technical or professional training program",
          "Career, technical or professional training program",
          "Career, technical or professional training program",
          "Career, technical or professional training program",
          "Career, technical or professional training program",
          "Career, technical or professional training program",
          "Career, technical or professional training program",
          "Career, technical or professional training program",
          "Career, technical or professional training program",
          "Career, technical or professional training program",
          "Career, technical or professional training program",
          "Career, technical or professional training program",
          "Career, technical or professional training program",
          "Career, technical or professional training program",
          "Career, technical or professional training program",
          "Career, technical or professional training program",
          "Career, technical or professional training program",
          "Career, technical or professional training program",
          "Career, technical or professional training program",
          "Career, technical or professional training program",
          "Career, technical or professional training program",
          "Career, technical or professional training program",
          "Career, technical or professional training program",
          "Career, technical or professional training program",
          "Career, technical or professional training program",
          "Career, technical or professional training program",
          "Career, technical or professional training program",
          "Career, technical or professional training program",
          "Career, technical or professional training program",
          "Career, technical or professional training program",
          "Career, technical or professional training program",
          "Career, technical or professional training program",
          "Career, technical or professional training program",
          "Career, technical or professional training program",
          "Career, technical or professional training program",
          "Career, technical or professional training program",
          "Career, technical or professional training program",
          "Career, technical or professional training program",
          "Career, technical or professional training program",
          "Career, technical or professional training program",
          "Career, technical or professional training program",
          "Career, technical or professional training program",
          "Career, technical or professional training program",
          "Career, technical or professional training program",
          "Career, technical or professional training program",
          "Career, technical or professional training program",
          "Career, technical or professional training program",
          "Career, technical or professional training program",
          "Career, technical or professional training program",
          "Career, technical or professional training program",
          "Career, technical or professional training program",
          "Career, technical or professional training program",
          "Career, technical or professional training program",
          "Career, technical or professional training program",
          "Career, technical or professional training program",
          "Career, technical or professional training program",
          "Career, technical or professional training program",
          "Career, technical or professional training program",
          "Career, technical or professional training program",
          "Career, technical or professional training program",
          "Career, technical or professional training program",
          "Career, technical or professional training program",
          "Career, technical or professional training program",
          "Career, technical or professional training program",
          "Career, technical or professional training program",
          "Career, technical or professional training program",
          "Career, technical or professional training program",
          "Career, technical or professional training program",
          "Career, technical or professional training program",
          "Career, technical or professional training program",
          "Career, technical or professional training program",
          "Career, technical or professional training program",
          "Career, technical or professional training program",
          "Career, technical or professional training program",
          "Career, technical or professional training program",
          "Career, technical or professional training program",
          "Career, technical or professional training program",
          "Career, technical or professional training program",
          "Career, technical or professional training program",
          "Career, technical or professional training program",
          "Career, technical or professional training program",
          "Career, technical or professional training program",
          "Career, technical or professional training program",
          "Career, technical or professional training program",
          "Career, technical or professional training program",
          "Career, technical or professional training program",
          "Career, technical or professional training program",
          "Career, technical or professional training program",
          "Career, technical or professional training program",
          "Career, technical or professional training program",
          "Career, technical or professional training program",
          "Career, technical or professional training program",
          "Career, technical or professional training program",
          "Career, technical or professional training program",
          "Career, technical or professional training program",
          "Career, technical or professional training program",
          "Career, technical or professional training program",
          "Career, technical or professional training program",
          "Career, technical or professional training program",
          "Career, technical or professional training program",
          "Career, technical or professional training program",
          "Career, technical or professional training program",
          "Career, technical or professional training program",
          "Career, technical or professional training program",
          "Career, technical or professional training program",
          "Career, technical or professional training program",
          "Career, technical or professional training program",
          "Career, technical or professional training program",
          "Career, technical or professional training program",
          "Career, technical or professional training program",
          "Career, technical or professional training program",
          "Career, technical or professional training program",
          "Career, technical or professional training program",
          "Career, technical or professional training program",
          "Career, technical or professional training program",
          "Career, technical or professional training program",
          "Career, technical or professional training program",
          "Career, technical or professional training program",
          "Career, technical or professional training program",
          "Career, technical or professional training program",
          "Career, technical or professional training program",
          "Career, technical or professional training program",
          "Career, technical or professional training program",
          "Career, technical or professional training program",
          "Career, technical or professional training program",
          "Career, technical or professional training program",
          "Career, technical or professional training program",
          "Career, technical or professional training program",
          "Career, technical or professional training program",
          "Career, technical or professional training program",
          "Career, technical or professional training program",
          "Career, technical or professional training program",
          "Career, technical or professional training program",
          "Career, technical or professional training program",
          "Career, technical or professional training program",
          "Career, technical or professional training program",
          "Career, technical or professional training program",
          "Career, technical or professional training program",
          "Career, technical or professional training program",
          "Career, technical or professional training program",
          "Career, technical or professional training program",
          "Career, technical or professional training program",
          "Career, technical or professional training program",
          "Career, technical or professional training program",
          "Career, technical or professional training program",
          "Career, technical or professional training program",
          "Career, technical or professional training program",
          "Career, technical or professional training program",
          "Career, technical or professional training program",
          "Career, technical or professional training program",
          "Career, technical or professional training program",
          "Career, technical or professional training program",
          "Career, technical or professional training program",
          "Career, technical or professional training program",
          "Career, technical or professional training program",
          "Career, technical or professional training program",
          "Career, technical or professional training program",
          "Career, technical or professional training program",
          "Career, technical or professional training program",
          "Career, technical or professional training program",
          "Career, technical or professional training program",
          "Career, technical or professional training program",
          "Career, technical or professional training program",
          "Career, technical or professional training program",
          "Career, technical or professional training program",
          "Career, technical or professional training program",
          "Career, technical or professional training program",
          "Career, technical or professional training program",
          "Career, technical or professional training program",
          "Career, technical or professional training program",
          "Career, technical or professional training program",
          "Career, technical or professional training program",
          "Career, technical or professional training program",
          "Career, technical or professional training program",
          "Career, technical or professional training program",
          "Career, technical or professional training program",
          "Career, technical or professional training program",
          "Career, technical or professional training program",
          "Career, technical or professional training program",
          "Career, technical or professional training program",
          "Career, technical or professional training program",
          "Career, technical or professional training program",
          "Career, technical or professional training program",
          "Career, technical or professional training program",
          "Career, technical or professional training program",
          "Career, technical or professional training program",
          "Career, technical or professional training program",
          "Career, technical or professional training program",
          "Career, technical or professional training program",
          "Career, technical or professional training program",
          "Career, technical or professional training program",
          "Career, technical or professional training program",
          "Career, technical or professional training program",
          "Career, technical or professional training program",
          "Career, technical or professional training program",
          "Career, technical or professional training program",
          "Career, technical or professional training program",
          "Career, technical or professional training program",
          "Career, technical or professional training program",
          "Career, technical or professional training program",
          "Career, technical or professional training program",
          "Career, technical or professional training program",
          "Career, technical or professional training program",
          "Career, technical or professional training program",
          "Career, technical or professional training program",
          "Career, technical or professional training program",
          "Career, technical or professional training program",
          "Career, technical or professional training program",
          "Career, technical or professional training program",
          "Career, technical or professional training program",
          "Career, technical or professional training program"
         ],
         "x0": " ",
         "xaxis": "x",
         "y": {
          "bdata": "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",
          "dtype": "i4"
         },
         "y0": " ",
         "yaxis": "y"
        },
        {
         "alignmentgroup": "True",
         "boxpoints": "outliers",
         "customdata": [
          [
           "Alberta",
           "Alberta (total)"
          ],
          [
           "Alberta",
           "Alberta (total)"
          ],
          [
           "Alberta",
           "Alberta (total)"
          ],
          [
           "Alberta",
           "Alberta (total)"
          ],
          [
           "Alberta",
           "Alberta U of the Arts"
          ],
          [
           "Alberta",
           "Alberta U of the Arts"
          ],
          [
           "Alberta",
           "Athabasca U"
          ],
          [
           "Alberta",
           "Athabasca U"
          ],
          [
           "Alberta",
           "Athabasca U"
          ],
          [
           "Alberta",
           "Athabasca U"
          ],
          [
           "Alberta",
           "Concordia U of Edmonton"
          ],
          [
           "Alberta",
           "Concordia U of Edmonton"
          ],
          [
           "Alberta",
           "U of Alberta"
          ],
          [
           "Alberta",
           "U of Alberta"
          ],
          [
           "Alberta",
           "U of Alberta"
          ],
          [
           "Alberta",
           "U of Alberta"
          ],
          [
           "Alberta",
           "U of Calgary"
          ],
          [
           "Alberta",
           "U of Calgary"
          ],
          [
           "Alberta",
           "U of Calgary"
          ],
          [
           "Alberta",
           "U of Calgary"
          ],
          [
           "Alberta",
           "U of Lethbridge"
          ],
          [
           "Alberta",
           "U of Lethbridge"
          ],
          [
           "Alberta",
           "U of Lethbridge"
          ],
          [
           "Alberta",
           "U of Lethbridge"
          ],
          [
           "British Columbia",
           "BC (total)"
          ],
          [
           "British Columbia",
           "BC (total)"
          ],
          [
           "British Columbia",
           "BC (total)"
          ],
          [
           "British Columbia",
           "BC (total)"
          ],
          [
           "British Columbia",
           "BC Institute of Technology"
          ],
          [
           "British Columbia",
           "BC Institute of Technology"
          ],
          [
           "British Columbia",
           "BC Institute of Technology"
          ],
          [
           "British Columbia",
           "Emily Carr U of Art and Design"
          ],
          [
           "British Columbia",
           "Emily Carr U of Art and Design"
          ],
          [
           "British Columbia",
           "Kwantlen Polytechnic U"
          ],
          [
           "British Columbia",
           "Kwantlen Polytechnic U"
          ],
          [
           "British Columbia",
           "Royal Roads U"
          ],
          [
           "British Columbia",
           "Royal Roads U"
          ],
          [
           "British Columbia",
           "Royal Roads U"
          ],
          [
           "British Columbia",
           "Royal Roads U"
          ],
          [
           "British Columbia",
           "Simon Fraser U"
          ],
          [
           "British Columbia",
           "Simon Fraser U"
          ],
          [
           "British Columbia",
           "Simon Fraser U"
          ],
          [
           "British Columbia",
           "Simon Fraser U"
          ],
          [
           "British Columbia",
           "Thompson Rivers U"
          ],
          [
           "British Columbia",
           "Thompson Rivers U"
          ],
          [
           "British Columbia",
           "Thompson Rivers U"
          ],
          [
           "British Columbia",
           "Thompson Rivers U"
          ],
          [
           "British Columbia",
           "U of BC"
          ],
          [
           "British Columbia",
           "U of BC"
          ],
          [
           "British Columbia",
           "U of Northern BC"
          ],
          [
           "British Columbia",
           "U of Northern BC"
          ],
          [
           "British Columbia",
           "U of Victoria"
          ],
          [
           "British Columbia",
           "U of Victoria"
          ],
          [
           "British Columbia",
           "U of Victoria"
          ],
          [
           "British Columbia",
           "Vancouver Island U"
          ],
          [
           "British Columbia",
           "Vancouver Island U"
          ],
          [
           "British Columbia",
           "Vancouver Island U"
          ],
          [
           "British Columbia",
           "Vancouver Island U"
          ],
          [
           "Manitoba",
           "Brandon U"
          ],
          [
           "Manitoba",
           "Brandon U"
          ],
          [
           "Manitoba",
           "Brandon U"
          ],
          [
           "Manitoba",
           "Canadian Mennonite U"
          ],
          [
           "Manitoba",
           "Canadian Mennonite U"
          ],
          [
           "Manitoba",
           "Manitoba (total)"
          ],
          [
           "Manitoba",
           "Manitoba (total)"
          ],
          [
           "Manitoba",
           "Manitoba (total)"
          ],
          [
           "Manitoba",
           "Manitoba (total)"
          ],
          [
           "Manitoba",
           "Providence U College and Theological Seminary"
          ],
          [
           "Manitoba",
           "Providence U College and Theological Seminary"
          ],
          [
           "Manitoba",
           "Providence U College and Theological Seminary"
          ],
          [
           "Manitoba",
           "U of Manitoba"
          ],
          [
           "Manitoba",
           "U of Manitoba"
          ],
          [
           "Manitoba",
           "U of Winnipeg"
          ],
          [
           "Manitoba",
           "U of Winnipeg"
          ],
          [
           "New Brunswick",
           "Mount Allison U"
          ],
          [
           "New Brunswick",
           "Mount Allison U"
          ],
          [
           "New Brunswick",
           "New Brunswick (total)"
          ],
          [
           "New Brunswick",
           "New Brunswick (total)"
          ],
          [
           "New Brunswick",
           "New Brunswick (total)"
          ],
          [
           "New Brunswick",
           "New Brunswick (total)"
          ],
          [
           "New Brunswick",
           "St. Thomas U"
          ],
          [
           "New Brunswick",
           "St. Thomas U"
          ],
          [
           "New Brunswick",
           "U de Moncton"
          ],
          [
           "New Brunswick",
           "U de Moncton"
          ],
          [
           "New Brunswick",
           "U de Moncton"
          ],
          [
           "New Brunswick",
           "U of New Brunswick"
          ],
          [
           "New Brunswick",
           "U of New Brunswick"
          ],
          [
           "New Brunswick",
           "U of New Brunswick"
          ],
          [
           "Newfoundland and Labrador",
           "Memorial U of Newfoundland"
          ],
          [
           "Newfoundland and Labrador",
           "Memorial U of Newfoundland"
          ],
          [
           "Newfoundland and Labrador",
           "Memorial U of Newfoundland"
          ],
          [
           "Newfoundland and Labrador",
           "Newfoundland and Labrador (total)"
          ],
          [
           "Newfoundland and Labrador",
           "Newfoundland and Labrador (total)"
          ],
          [
           "Newfoundland and Labrador",
           "Newfoundland and Labrador (total)"
          ],
          [
           "Nova Scotia",
           "Acadia U"
          ],
          [
           "Nova Scotia",
           "Acadia U"
          ],
          [
           "Nova Scotia",
           "Atlantic School of Theology"
          ],
          [
           "Nova Scotia",
           "Atlantic School of Theology"
          ],
          [
           "Nova Scotia",
           "Atlantic School of Theology"
          ],
          [
           "Nova Scotia",
           "Cape Breton U"
          ],
          [
           "Nova Scotia",
           "Cape Breton U"
          ],
          [
           "Nova Scotia",
           "Dalhousie U"
          ],
          [
           "Nova Scotia",
           "Dalhousie U"
          ],
          [
           "Nova Scotia",
           "Dalhousie U"
          ],
          [
           "Nova Scotia",
           "Mount Saint Vincent U"
          ],
          [
           "Nova Scotia",
           "Mount Saint Vincent U"
          ],
          [
           "Nova Scotia",
           "NSCAD U"
          ],
          [
           "Nova Scotia",
           "NSCAD U"
          ],
          [
           "Nova Scotia",
           "Nova Scotia (total)"
          ],
          [
           "Nova Scotia",
           "Nova Scotia (total)"
          ],
          [
           "Nova Scotia",
           "Nova Scotia (total)"
          ],
          [
           "Nova Scotia",
           "Nova Scotia (total)"
          ],
          [
           "Nova Scotia",
           "Saint Mary's U"
          ],
          [
           "Nova Scotia",
           "Saint Mary's U"
          ],
          [
           "Nova Scotia",
           "St. Francis Xavier U"
          ],
          [
           "Nova Scotia",
           "St. Francis Xavier U"
          ],
          [
           "Nova Scotia",
           "U Sainte-Anne"
          ],
          [
           "Nova Scotia",
           "U Sainte-Anne"
          ],
          [
           "Nova Scotia",
           "U of King's College"
          ],
          [
           "Nova Scotia",
           "U of King's College"
          ],
          [
           "Ontario",
           "Brock U"
          ],
          [
           "Ontario",
           "Brock U"
          ],
          [
           "Ontario",
           "Brock U"
          ],
          [
           "Ontario",
           "Carleton U"
          ],
          [
           "Ontario",
           "Carleton U"
          ],
          [
           "Ontario",
           "Carleton U"
          ],
          [
           "Ontario",
           "Lakehead U"
          ],
          [
           "Ontario",
           "Lakehead U"
          ],
          [
           "Ontario",
           "Lakehead U"
          ],
          [
           "Ontario",
           "Laurentian U"
          ],
          [
           "Ontario",
           "Laurentian U"
          ],
          [
           "Ontario",
           "McMaster U"
          ],
          [
           "Ontario",
           "McMaster U"
          ],
          [
           "Ontario",
           "Nipissing U"
          ],
          [
           "Ontario",
           "Nipissing U"
          ],
          [
           "Ontario",
           "Northern Ontario School of Medicine"
          ],
          [
           "Ontario",
           "Northern Ontario School of Medicine"
          ],
          [
           "Ontario",
           "OCAD U"
          ],
          [
           "Ontario",
           "OCAD U"
          ],
          [
           "Ontario",
           "Ontario (total)"
          ],
          [
           "Ontario",
           "Ontario (total)"
          ],
          [
           "Ontario",
           "Ontario (total)"
          ],
          [
           "Ontario",
           "Ontario (total)"
          ],
          [
           "Ontario",
           "Ontario Tech U"
          ],
          [
           "Ontario",
           "Ontario Tech U"
          ],
          [
           "Ontario",
           "Ontario Tech U"
          ],
          [
           "Ontario",
           "Queen's U"
          ],
          [
           "Ontario",
           "Queen's U"
          ],
          [
           "Ontario",
           "Toronto Metropolitan U"
          ],
          [
           "Ontario",
           "Toronto Metropolitan U"
          ],
          [
           "Ontario",
           "Toronto Metropolitan U"
          ],
          [
           "Ontario",
           "Trent U"
          ],
          [
           "Ontario",
           "Trent U"
          ],
          [
           "Ontario",
           "U of Guelph"
          ],
          [
           "Ontario",
           "U of Guelph"
          ],
          [
           "Ontario",
           "U of Ottawa-U d'Ottawa"
          ],
          [
           "Ontario",
           "U of Ottawa-U d'Ottawa"
          ],
          [
           "Ontario",
           "U of Ottawa-U d'Ottawa"
          ],
          [
           "Ontario",
           "U of Toronto"
          ],
          [
           "Ontario",
           "U of Toronto"
          ],
          [
           "Ontario",
           "U of Waterloo"
          ],
          [
           "Ontario",
           "U of Waterloo"
          ],
          [
           "Ontario",
           "U of Windsor"
          ],
          [
           "Ontario",
           "U of Windsor"
          ],
          [
           "Ontario",
           "Western U"
          ],
          [
           "Ontario",
           "Western U"
          ],
          [
           "Ontario",
           "Western U"
          ],
          [
           "Ontario",
           "Wilfrid Laurier U"
          ],
          [
           "Ontario",
           "Wilfrid Laurier U"
          ],
          [
           "Ontario",
           "York U"
          ],
          [
           "Ontario",
           "York U"
          ],
          [
           "Ontario",
           "York U"
          ],
          [
           "Prince Edward Island",
           "Prince Edward Island (total)"
          ],
          [
           "Prince Edward Island",
           "Prince Edward Island (total)"
          ],
          [
           "Prince Edward Island",
           "U of Prince Edward Island"
          ],
          [
           "Prince Edward Island",
           "U of Prince Edward Island"
          ],
          [
           "Quebec",
           "Bishop's U"
          ],
          [
           "Quebec",
           "Bishop's U"
          ],
          [
           "Quebec",
           "Bishop's U"
          ],
          [
           "Quebec",
           "Concordia U"
          ],
          [
           "Quebec",
           "Concordia U"
          ],
          [
           "Quebec",
           "Concordia U"
          ],
          [
           "Quebec",
           "Concordia U"
          ],
          [
           "Quebec",
           "Concordia U"
          ],
          [
           "Quebec",
           "Institut national de la recherche scientifique"
          ],
          [
           "Quebec",
           "Institut national de la recherche scientifique"
          ],
          [
           "Quebec",
           "Institut national de la recherche scientifique"
          ],
          [
           "Quebec",
           "McGill U"
          ],
          [
           "Quebec",
           "McGill U"
          ],
          [
           "Quebec",
           "McGill U"
          ],
          [
           "Quebec",
           "McGill U"
          ],
          [
           "Quebec",
           "Quebec (total)"
          ],
          [
           "Quebec",
           "Quebec (total)"
          ],
          [
           "Quebec",
           "Quebec (total)"
          ],
          [
           "Quebec",
           "Quebec (total)"
          ],
          [
           "Quebec",
           "Quebec (total)"
          ],
          [
           "Quebec",
           "Télé-université"
          ],
          [
           "Quebec",
           "Télé-université"
          ],
          [
           "Quebec",
           "Télé-université"
          ],
          [
           "Quebec",
           "U Laval"
          ],
          [
           "Quebec",
           "U Laval"
          ],
          [
           "Quebec",
           "U Laval"
          ],
          [
           "Quebec",
           "U de Montréal"
          ],
          [
           "Quebec",
           "U de Montréal"
          ],
          [
           "Quebec",
           "U de Montréal"
          ],
          [
           "Quebec",
           "U de Montréal"
          ],
          [
           "Quebec",
           "U de Sherbrooke"
          ],
          [
           "Quebec",
           "U de Sherbrooke"
          ],
          [
           "Quebec",
           "U de Sherbrooke"
          ],
          [
           "Quebec",
           "U du Québec en Abitibi-Témiscamingue"
          ],
          [
           "Quebec",
           "U du Québec en Abitibi-Témiscamingue"
          ],
          [
           "Quebec",
           "U du Québec en Abitibi-Témiscamingue"
          ],
          [
           "Quebec",
           "U du Québec en Outaouais"
          ],
          [
           "Quebec",
           "U du Québec en Outaouais"
          ],
          [
           "Quebec",
           "U du Québec en Outaouais"
          ],
          [
           "Quebec",
           "U du Québec à Chicoutimi"
          ],
          [
           "Quebec",
           "U du Québec à Chicoutimi"
          ],
          [
           "Quebec",
           "U du Québec à Chicoutimi"
          ],
          [
           "Quebec",
           "U du Québec à Montréal"
          ],
          [
           "Quebec",
           "U du Québec à Montréal"
          ],
          [
           "Quebec",
           "U du Québec à Montréal"
          ],
          [
           "Quebec",
           "U du Québec à Rimouski"
          ],
          [
           "Quebec",
           "U du Québec à Rimouski"
          ],
          [
           "Quebec",
           "U du Québec à Rimouski"
          ],
          [
           "Quebec",
           "U du Québec à Trois-Rivières"
          ],
          [
           "Quebec",
           "U du Québec à Trois-Rivières"
          ],
          [
           "Quebec",
           "U du Québec à Trois-Rivières"
          ],
          [
           "Quebec",
           "École de technologie supérieure"
          ],
          [
           "Quebec",
           "École de technologie supérieure"
          ],
          [
           "Quebec",
           "École de technologie supérieure"
          ],
          [
           "Quebec",
           "École nationale d'administration publique"
          ],
          [
           "Quebec",
           "École nationale d'administration publique"
          ],
          [
           "Quebec",
           "École nationale d'administration publique"
          ],
          [
           "Saskatchewan",
           "Saskatchewan (total)"
          ],
          [
           "Saskatchewan",
           "Saskatchewan (total)"
          ],
          [
           "Saskatchewan",
           "Saskatchewan (total)"
          ],
          [
           "Saskatchewan",
           "U of Regina"
          ],
          [
           "Saskatchewan",
           "U of Regina"
          ],
          [
           "Saskatchewan",
           "U of Regina"
          ],
          [
           "Saskatchewan",
           "U of Saskatchewan"
          ],
          [
           "Saskatchewan",
           "U of Saskatchewan"
          ]
         ],
         "hovertemplate": "Program type=%{x}<br>Domestic Enrolment=%{y}<br>Province/Territory=%{customdata[0]}<br>Institution Name=%{customdata[1]}<extra></extra>",
         "legendgroup": "Graduate program (second cycle)",
         "marker": {
          "color": "#EF553B"
         },
         "name": "Graduate program (second cycle)",
         "notched": false,
         "offsetgroup": "Graduate program (second cycle)",
         "orientation": "v",
         "showlegend": true,
         "type": "box",
         "x": [
          "Graduate program (second cycle)",
          "Graduate program (second cycle)",
          "Graduate program (second cycle)",
          "Graduate program (second cycle)",
          "Graduate program (second cycle)",
          "Graduate program (second cycle)",
          "Graduate program (second cycle)",
          "Graduate program (second cycle)",
          "Graduate program (second cycle)",
          "Graduate program (second cycle)",
          "Graduate program (second cycle)",
          "Graduate program (second cycle)",
          "Graduate program (second cycle)",
          "Graduate program (second cycle)",
          "Graduate program (second cycle)",
          "Graduate program (second cycle)",
          "Graduate program (second cycle)",
          "Graduate program (second cycle)",
          "Graduate program (second cycle)",
          "Graduate program (second cycle)",
          "Graduate program (second cycle)",
          "Graduate program (second cycle)",
          "Graduate program (second cycle)",
          "Graduate program (second cycle)",
          "Graduate program (second cycle)",
          "Graduate program (second cycle)",
          "Graduate program (second cycle)",
          "Graduate program (second cycle)",
          "Graduate program (second cycle)",
          "Graduate program (second cycle)",
          "Graduate program (second cycle)",
          "Graduate program (second cycle)",
          "Graduate program (second cycle)",
          "Graduate program (second cycle)",
          "Graduate program (second cycle)",
          "Graduate program (second cycle)",
          "Graduate program (second cycle)",
          "Graduate program (second cycle)",
          "Graduate program (second cycle)",
          "Graduate program (second cycle)",
          "Graduate program (second cycle)",
          "Graduate program (second cycle)",
          "Graduate program (second cycle)",
          "Graduate program (second cycle)",
          "Graduate program (second cycle)",
          "Graduate program (second cycle)",
          "Graduate program (second cycle)",
          "Graduate program (second cycle)",
          "Graduate program (second cycle)",
          "Graduate program (second cycle)",
          "Graduate program (second cycle)",
          "Graduate program (second cycle)",
          "Graduate program (second cycle)",
          "Graduate program (second cycle)",
          "Graduate program (second cycle)",
          "Graduate program (second cycle)",
          "Graduate program (second cycle)",
          "Graduate program (second cycle)",
          "Graduate program (second cycle)",
          "Graduate program (second cycle)",
          "Graduate program (second cycle)",
          "Graduate program (second cycle)",
          "Graduate program (second cycle)",
          "Graduate program (second cycle)",
          "Graduate program (second cycle)",
          "Graduate program (second cycle)",
          "Graduate program (second cycle)",
          "Graduate program (second cycle)",
          "Graduate program (second cycle)",
          "Graduate program (second cycle)",
          "Graduate program (second cycle)",
          "Graduate program (second cycle)",
          "Graduate program (second cycle)",
          "Graduate program (second cycle)",
          "Graduate program (second cycle)",
          "Graduate program (second cycle)",
          "Graduate program (second cycle)",
          "Graduate program (second cycle)",
          "Graduate program (second cycle)",
          "Graduate program (second cycle)",
          "Graduate program (second cycle)",
          "Graduate program (second cycle)",
          "Graduate program (second cycle)",
          "Graduate program (second cycle)",
          "Graduate program (second cycle)",
          "Graduate program (second cycle)",
          "Graduate program (second cycle)",
          "Graduate program (second cycle)",
          "Graduate program (second cycle)",
          "Graduate program (second cycle)",
          "Graduate program (second cycle)",
          "Graduate program (second cycle)",
          "Graduate program (second cycle)",
          "Graduate program (second cycle)",
          "Graduate program (second cycle)",
          "Graduate program (second cycle)",
          "Graduate program (second cycle)",
          "Graduate program (second cycle)",
          "Graduate program (second cycle)",
          "Graduate program (second cycle)",
          "Graduate program (second cycle)",
          "Graduate program (second cycle)",
          "Graduate program (second cycle)",
          "Graduate program (second cycle)",
          "Graduate program (second cycle)",
          "Graduate program (second cycle)",
          "Graduate program (second cycle)",
          "Graduate program (second cycle)",
          "Graduate program (second cycle)",
          "Graduate program (second cycle)",
          "Graduate program (second cycle)",
          "Graduate program (second cycle)",
          "Graduate program (second cycle)",
          "Graduate program (second cycle)",
          "Graduate program (second cycle)",
          "Graduate program (second cycle)",
          "Graduate program (second cycle)",
          "Graduate program (second cycle)",
          "Graduate program (second cycle)",
          "Graduate program (second cycle)",
          "Graduate program (second cycle)",
          "Graduate program (second cycle)",
          "Graduate program (second cycle)",
          "Graduate program (second cycle)",
          "Graduate program (second cycle)",
          "Graduate program (second cycle)",
          "Graduate program (second cycle)",
          "Graduate program (second cycle)",
          "Graduate program (second cycle)",
          "Graduate program (second cycle)",
          "Graduate program (second cycle)",
          "Graduate program (second cycle)",
          "Graduate program (second cycle)",
          "Graduate program (second cycle)",
          "Graduate program (second cycle)",
          "Graduate program (second cycle)",
          "Graduate program (second cycle)",
          "Graduate program (second cycle)",
          "Graduate program (second cycle)",
          "Graduate program (second cycle)",
          "Graduate program (second cycle)",
          "Graduate program (second cycle)",
          "Graduate program (second cycle)",
          "Graduate program (second cycle)",
          "Graduate program (second cycle)",
          "Graduate program (second cycle)",
          "Graduate program (second cycle)",
          "Graduate program (second cycle)",
          "Graduate program (second cycle)",
          "Graduate program (second cycle)",
          "Graduate program (second cycle)",
          "Graduate program (second cycle)",
          "Graduate program (second cycle)",
          "Graduate program (second cycle)",
          "Graduate program (second cycle)",
          "Graduate program (second cycle)",
          "Graduate program (second cycle)",
          "Graduate program (second cycle)",
          "Graduate program (second cycle)",
          "Graduate program (second cycle)",
          "Graduate program (second cycle)",
          "Graduate program (second cycle)",
          "Graduate program (second cycle)",
          "Graduate program (second cycle)",
          "Graduate program (second cycle)",
          "Graduate program (second cycle)",
          "Graduate program (second cycle)",
          "Graduate program (second cycle)",
          "Graduate program (second cycle)",
          "Graduate program (second cycle)",
          "Graduate program (second cycle)",
          "Graduate program (second cycle)",
          "Graduate program (second cycle)",
          "Graduate program (second cycle)",
          "Graduate program (second cycle)",
          "Graduate program (second cycle)",
          "Graduate program (second cycle)",
          "Graduate program (second cycle)",
          "Graduate program (second cycle)",
          "Graduate program (second cycle)",
          "Graduate program (second cycle)",
          "Graduate program (second cycle)",
          "Graduate program (second cycle)",
          "Graduate program (second cycle)",
          "Graduate program (second cycle)",
          "Graduate program (second cycle)",
          "Graduate program (second cycle)",
          "Graduate program (second cycle)",
          "Graduate program (second cycle)",
          "Graduate program (second cycle)",
          "Graduate program (second cycle)",
          "Graduate program (second cycle)",
          "Graduate program (second cycle)",
          "Graduate program (second cycle)",
          "Graduate program (second cycle)",
          "Graduate program (second cycle)",
          "Graduate program (second cycle)",
          "Graduate program (second cycle)",
          "Graduate program (second cycle)",
          "Graduate program (second cycle)",
          "Graduate program (second cycle)",
          "Graduate program (second cycle)",
          "Graduate program (second cycle)",
          "Graduate program (second cycle)",
          "Graduate program (second cycle)",
          "Graduate program (second cycle)",
          "Graduate program (second cycle)",
          "Graduate program (second cycle)",
          "Graduate program (second cycle)",
          "Graduate program (second cycle)",
          "Graduate program (second cycle)",
          "Graduate program (second cycle)",
          "Graduate program (second cycle)",
          "Graduate program (second cycle)",
          "Graduate program (second cycle)",
          "Graduate program (second cycle)",
          "Graduate program (second cycle)",
          "Graduate program (second cycle)",
          "Graduate program (second cycle)",
          "Graduate program (second cycle)",
          "Graduate program (second cycle)",
          "Graduate program (second cycle)",
          "Graduate program (second cycle)",
          "Graduate program (second cycle)",
          "Graduate program (second cycle)",
          "Graduate program (second cycle)",
          "Graduate program (second cycle)",
          "Graduate program (second cycle)",
          "Graduate program (second cycle)",
          "Graduate program (second cycle)",
          "Graduate program (second cycle)",
          "Graduate program (second cycle)",
          "Graduate program (second cycle)",
          "Graduate program (second cycle)",
          "Graduate program (second cycle)",
          "Graduate program (second cycle)",
          "Graduate program (second cycle)",
          "Graduate program (second cycle)",
          "Graduate program (second cycle)",
          "Graduate program (second cycle)",
          "Graduate program (second cycle)"
         ],
         "x0": " ",
         "xaxis": "x",
         "y": {
          "bdata": "9QERGVcAWhsDAAMAGACaAgkAvgIMAAwAkwD1CgkAlAsvASkKOQCOCxUATQEJAG4BTgBqHR4A1h0GABUAGwAtAC0AAwADAAYAAQIAAAcCDwCQBhUAtAYAADAAAwAzANQN1A04ATgBKgAlBU8FCQA5AAYARQCQAAAAkAAJAAkAAwDDBgAAxgYDAGkAbABVBVUFbwBvAAYABgADAH8CAACCAhUAFQDYAAAA2AADAI8BjwHcAhIA8QLcAhIA8QJvAG8AAAASABIAKgAqANMFCQDcBTYANgAqACoAAADyBwkA+weuAK4AFQAVAAYABgBLAEsAtQIDALUC2wYYAPAGUgIJAF4CbgFuAYwHjAdyAHIAAwADAHsAewDke0IAMABWfP8ACQAFAREKEQp7BhgAlgb2APYAfwV/BWIKHgB9CgEjASMABgAGpASkBOEMBgDnDIgCiAKoBgkAtAZBAUEBQQFBAQkAFQAhAAAA+gV7AAAAdQZyAAMAdQAeAGcLaQDxCzAAGU1wCAAAMVYeADkAWgB6DfAAhQ4JAN0WdQOaGu4FigCKBmkAFQB+AIMBVwDaATsBLQBoAfAGVwBKB2UBSwCtAc0ClgBsAxEBBgAaAXQBigD7ARIAPgdQBxIAagJ8AtcE1wQ=",
          "dtype": "i2"
         },
         "y0": " ",
         "yaxis": "y"
        },
        {
         "alignmentgroup": "True",
         "boxpoints": "outliers",
         "customdata": [
          [
           "Alberta",
           "Alberta (total)"
          ],
          [
           "Alberta",
           "Alberta (total)"
          ],
          [
           "Alberta",
           "Alberta (total)"
          ],
          [
           "Alberta",
           "Alberta (total)"
          ],
          [
           "Alberta",
           "Athabasca U"
          ],
          [
           "Alberta",
           "Athabasca U"
          ],
          [
           "Alberta",
           "Athabasca U"
          ],
          [
           "Alberta",
           "Athabasca U"
          ],
          [
           "Alberta",
           "Concordia U of Edmonton"
          ],
          [
           "Alberta",
           "Concordia U of Edmonton"
          ],
          [
           "Alberta",
           "U of Alberta"
          ],
          [
           "Alberta",
           "U of Alberta"
          ],
          [
           "Alberta",
           "U of Alberta"
          ],
          [
           "Alberta",
           "U of Calgary"
          ],
          [
           "Alberta",
           "U of Calgary"
          ],
          [
           "Alberta",
           "U of Lethbridge"
          ],
          [
           "Alberta",
           "U of Lethbridge"
          ],
          [
           "British Columbia",
           "BC (total)"
          ],
          [
           "British Columbia",
           "BC (total)"
          ],
          [
           "British Columbia",
           "Royal Roads U"
          ],
          [
           "British Columbia",
           "Royal Roads U"
          ],
          [
           "British Columbia",
           "Simon Fraser U"
          ],
          [
           "British Columbia",
           "Simon Fraser U"
          ],
          [
           "British Columbia",
           "U of BC"
          ],
          [
           "British Columbia",
           "U of BC"
          ],
          [
           "British Columbia",
           "U of Northern BC"
          ],
          [
           "British Columbia",
           "U of Northern BC"
          ],
          [
           "British Columbia",
           "U of Victoria"
          ],
          [
           "British Columbia",
           "U of Victoria"
          ],
          [
           "Manitoba",
           "Manitoba (total)"
          ],
          [
           "Manitoba",
           "Manitoba (total)"
          ],
          [
           "Manitoba",
           "Providence U College and Theological Seminary"
          ],
          [
           "Manitoba",
           "Providence U College and Theological Seminary"
          ],
          [
           "Manitoba",
           "U of Manitoba"
          ],
          [
           "Manitoba",
           "U of Manitoba"
          ],
          [
           "New Brunswick",
           "New Brunswick (total)"
          ],
          [
           "New Brunswick",
           "New Brunswick (total)"
          ],
          [
           "New Brunswick",
           "U de Moncton"
          ],
          [
           "New Brunswick",
           "U de Moncton"
          ],
          [
           "New Brunswick",
           "U of New Brunswick"
          ],
          [
           "New Brunswick",
           "U of New Brunswick"
          ],
          [
           "Newfoundland and Labrador",
           "Memorial U of Newfoundland"
          ],
          [
           "Newfoundland and Labrador",
           "Memorial U of Newfoundland"
          ],
          [
           "Newfoundland and Labrador",
           "Newfoundland and Labrador (total)"
          ],
          [
           "Newfoundland and Labrador",
           "Newfoundland and Labrador (total)"
          ],
          [
           "Nova Scotia",
           "Acadia U"
          ],
          [
           "Nova Scotia",
           "Acadia U"
          ],
          [
           "Nova Scotia",
           "Dalhousie U"
          ],
          [
           "Nova Scotia",
           "Dalhousie U"
          ],
          [
           "Nova Scotia",
           "Mount Saint Vincent U"
          ],
          [
           "Nova Scotia",
           "Mount Saint Vincent U"
          ],
          [
           "Nova Scotia",
           "Nova Scotia (total)"
          ],
          [
           "Nova Scotia",
           "Nova Scotia (total)"
          ],
          [
           "Nova Scotia",
           "Saint Mary's U"
          ],
          [
           "Nova Scotia",
           "Saint Mary's U"
          ],
          [
           "Ontario",
           "Brock U"
          ],
          [
           "Ontario",
           "Brock U"
          ],
          [
           "Ontario",
           "Carleton U"
          ],
          [
           "Ontario",
           "Carleton U"
          ],
          [
           "Ontario",
           "Lakehead U"
          ],
          [
           "Ontario",
           "Lakehead U"
          ],
          [
           "Ontario",
           "Laurentian U"
          ],
          [
           "Ontario",
           "Laurentian U"
          ],
          [
           "Ontario",
           "McMaster U"
          ],
          [
           "Ontario",
           "McMaster U"
          ],
          [
           "Ontario",
           "Nipissing U"
          ],
          [
           "Ontario",
           "Nipissing U"
          ],
          [
           "Ontario",
           "Ontario (total)"
          ],
          [
           "Ontario",
           "Ontario (total)"
          ],
          [
           "Ontario",
           "Ontario Tech U"
          ],
          [
           "Ontario",
           "Ontario Tech U"
          ],
          [
           "Ontario",
           "Queen's U"
          ],
          [
           "Ontario",
           "Queen's U"
          ],
          [
           "Ontario",
           "Toronto Metropolitan U"
          ],
          [
           "Ontario",
           "Toronto Metropolitan U"
          ],
          [
           "Ontario",
           "Trent U"
          ],
          [
           "Ontario",
           "Trent U"
          ],
          [
           "Ontario",
           "U of Guelph"
          ],
          [
           "Ontario",
           "U of Guelph"
          ],
          [
           "Ontario",
           "U of Ottawa-U d'Ottawa"
          ],
          [
           "Ontario",
           "U of Ottawa-U d'Ottawa"
          ],
          [
           "Ontario",
           "U of Toronto"
          ],
          [
           "Ontario",
           "U of Toronto"
          ],
          [
           "Ontario",
           "U of Waterloo"
          ],
          [
           "Ontario",
           "U of Waterloo"
          ],
          [
           "Ontario",
           "U of Windsor"
          ],
          [
           "Ontario",
           "U of Windsor"
          ],
          [
           "Ontario",
           "Western U"
          ],
          [
           "Ontario",
           "Western U"
          ],
          [
           "Ontario",
           "Wilfrid Laurier U"
          ],
          [
           "Ontario",
           "Wilfrid Laurier U"
          ],
          [
           "Ontario",
           "York U"
          ],
          [
           "Ontario",
           "York U"
          ],
          [
           "Prince Edward Island",
           "Prince Edward Island (total)"
          ],
          [
           "Prince Edward Island",
           "Prince Edward Island (total)"
          ],
          [
           "Prince Edward Island",
           "U of Prince Edward Island"
          ],
          [
           "Prince Edward Island",
           "U of Prince Edward Island"
          ],
          [
           "Quebec",
           "Concordia U"
          ],
          [
           "Quebec",
           "Concordia U"
          ],
          [
           "Quebec",
           "Institut national de la recherche scientifique"
          ],
          [
           "Quebec",
           "Institut national de la recherche scientifique"
          ],
          [
           "Quebec",
           "McGill U"
          ],
          [
           "Quebec",
           "McGill U"
          ],
          [
           "Quebec",
           "Quebec (total)"
          ],
          [
           "Quebec",
           "Quebec (total)"
          ],
          [
           "Quebec",
           "Quebec (total)"
          ],
          [
           "Quebec",
           "Télé-université"
          ],
          [
           "Quebec",
           "Télé-université"
          ],
          [
           "Quebec",
           "U Laval"
          ],
          [
           "Quebec",
           "U Laval"
          ],
          [
           "Quebec",
           "U de Montréal"
          ],
          [
           "Quebec",
           "U de Montréal"
          ],
          [
           "Quebec",
           "U de Montréal"
          ],
          [
           "Quebec",
           "U de Sherbrooke"
          ],
          [
           "Quebec",
           "U de Sherbrooke"
          ],
          [
           "Quebec",
           "U du Québec en Abitibi-Témiscamingue"
          ],
          [
           "Quebec",
           "U du Québec en Abitibi-Témiscamingue"
          ],
          [
           "Quebec",
           "U du Québec en Outaouais"
          ],
          [
           "Quebec",
           "U du Québec en Outaouais"
          ],
          [
           "Quebec",
           "U du Québec à Chicoutimi"
          ],
          [
           "Quebec",
           "U du Québec à Chicoutimi"
          ],
          [
           "Quebec",
           "U du Québec à Montréal"
          ],
          [
           "Quebec",
           "U du Québec à Montréal"
          ],
          [
           "Quebec",
           "U du Québec à Rimouski"
          ],
          [
           "Quebec",
           "U du Québec à Rimouski"
          ],
          [
           "Quebec",
           "U du Québec à Trois-Rivières"
          ],
          [
           "Quebec",
           "U du Québec à Trois-Rivières"
          ],
          [
           "Quebec",
           "École de technologie supérieure"
          ],
          [
           "Quebec",
           "École de technologie supérieure"
          ],
          [
           "Quebec",
           "École nationale d'administration publique"
          ],
          [
           "Quebec",
           "École nationale d'administration publique"
          ],
          [
           "Saskatchewan",
           "Saskatchewan (total)"
          ],
          [
           "Saskatchewan",
           "Saskatchewan (total)"
          ],
          [
           "Saskatchewan",
           "Saskatchewan (total)"
          ],
          [
           "Saskatchewan",
           "U of Regina"
          ],
          [
           "Saskatchewan",
           "U of Regina"
          ],
          [
           "Saskatchewan",
           "U of Saskatchewan"
          ],
          [
           "Saskatchewan",
           "U of Saskatchewan"
          ],
          [
           "Saskatchewan",
           "U of Saskatchewan"
          ]
         ],
         "hovertemplate": "Program type=%{x}<br>Domestic Enrolment=%{y}<br>Province/Territory=%{customdata[0]}<br>Institution Name=%{customdata[1]}<extra></extra>",
         "legendgroup": "Graduate program (third cycle)",
         "marker": {
          "color": "#00cc96"
         },
         "name": "Graduate program (third cycle)",
         "notched": false,
         "offsetgroup": "Graduate program (third cycle)",
         "orientation": "v",
         "showlegend": true,
         "type": "box",
         "x": [
          "Graduate program (third cycle)",
          "Graduate program (third cycle)",
          "Graduate program (third cycle)",
          "Graduate program (third cycle)",
          "Graduate program (third cycle)",
          "Graduate program (third cycle)",
          "Graduate program (third cycle)",
          "Graduate program (third cycle)",
          "Graduate program (third cycle)",
          "Graduate program (third cycle)",
          "Graduate program (third cycle)",
          "Graduate program (third cycle)",
          "Graduate program (third cycle)",
          "Graduate program (third cycle)",
          "Graduate program (third cycle)",
          "Graduate program (third cycle)",
          "Graduate program (third cycle)",
          "Graduate program (third cycle)",
          "Graduate program (third cycle)",
          "Graduate program (third cycle)",
          "Graduate program (third cycle)",
          "Graduate program (third cycle)",
          "Graduate program (third cycle)",
          "Graduate program (third cycle)",
          "Graduate program (third cycle)",
          "Graduate program (third cycle)",
          "Graduate program (third cycle)",
          "Graduate program (third cycle)",
          "Graduate program (third cycle)",
          "Graduate program (third cycle)",
          "Graduate program (third cycle)",
          "Graduate program (third cycle)",
          "Graduate program (third cycle)",
          "Graduate program (third cycle)",
          "Graduate program (third cycle)",
          "Graduate program (third cycle)",
          "Graduate program (third cycle)",
          "Graduate program (third cycle)",
          "Graduate program (third cycle)",
          "Graduate program (third cycle)",
          "Graduate program (third cycle)",
          "Graduate program (third cycle)",
          "Graduate program (third cycle)",
          "Graduate program (third cycle)",
          "Graduate program (third cycle)",
          "Graduate program (third cycle)",
          "Graduate program (third cycle)",
          "Graduate program (third cycle)",
          "Graduate program (third cycle)",
          "Graduate program (third cycle)",
          "Graduate program (third cycle)",
          "Graduate program (third cycle)",
          "Graduate program (third cycle)",
          "Graduate program (third cycle)",
          "Graduate program (third cycle)",
          "Graduate program (third cycle)",
          "Graduate program (third cycle)",
          "Graduate program (third cycle)",
          "Graduate program (third cycle)",
          "Graduate program (third cycle)",
          "Graduate program (third cycle)",
          "Graduate program (third cycle)",
          "Graduate program (third cycle)",
          "Graduate program (third cycle)",
          "Graduate program (third cycle)",
          "Graduate program (third cycle)",
          "Graduate program (third cycle)",
          "Graduate program (third cycle)",
          "Graduate program (third cycle)",
          "Graduate program (third cycle)",
          "Graduate program (third cycle)",
          "Graduate program (third cycle)",
          "Graduate program (third cycle)",
          "Graduate program (third cycle)",
          "Graduate program (third cycle)",
          "Graduate program (third cycle)",
          "Graduate program (third cycle)",
          "Graduate program (third cycle)",
          "Graduate program (third cycle)",
          "Graduate program (third cycle)",
          "Graduate program (third cycle)",
          "Graduate program (third cycle)",
          "Graduate program (third cycle)",
          "Graduate program (third cycle)",
          "Graduate program (third cycle)",
          "Graduate program (third cycle)",
          "Graduate program (third cycle)",
          "Graduate program (third cycle)",
          "Graduate program (third cycle)",
          "Graduate program (third cycle)",
          "Graduate program (third cycle)",
          "Graduate program (third cycle)",
          "Graduate program (third cycle)",
          "Graduate program (third cycle)",
          "Graduate program (third cycle)",
          "Graduate program (third cycle)",
          "Graduate program (third cycle)",
          "Graduate program (third cycle)",
          "Graduate program (third cycle)",
          "Graduate program (third cycle)",
          "Graduate program (third cycle)",
          "Graduate program (third cycle)",
          "Graduate program (third cycle)",
          "Graduate program (third cycle)",
          "Graduate program (third cycle)",
          "Graduate program (third cycle)",
          "Graduate program (third cycle)",
          "Graduate program (third cycle)",
          "Graduate program (third cycle)",
          "Graduate program (third cycle)",
          "Graduate program (third cycle)",
          "Graduate program (third cycle)",
          "Graduate program (third cycle)",
          "Graduate program (third cycle)",
          "Graduate program (third cycle)",
          "Graduate program (third cycle)",
          "Graduate program (third cycle)",
          "Graduate program (third cycle)",
          "Graduate program (third cycle)",
          "Graduate program (third cycle)",
          "Graduate program (third cycle)",
          "Graduate program (third cycle)",
          "Graduate program (third cycle)",
          "Graduate program (third cycle)",
          "Graduate program (third cycle)",
          "Graduate program (third cycle)",
          "Graduate program (third cycle)",
          "Graduate program (third cycle)",
          "Graduate program (third cycle)",
          "Graduate program (third cycle)",
          "Graduate program (third cycle)",
          "Graduate program (third cycle)",
          "Graduate program (third cycle)",
          "Graduate program (third cycle)",
          "Graduate program (third cycle)",
          "Graduate program (third cycle)",
          "Graduate program (third cycle)",
          "Graduate program (third cycle)",
          "Graduate program (third cycle)"
         ],
         "x0": " ",
         "xaxis": "x",
         "y": {
          "bdata": "AwCkCgwAsAoDAFQADABjABIAEgAAABAFEwXIBMgEYwBjABYOFg5yAHIA7gLuAk8ITwgnACcAQwJDAkMCQwIAAAAAQAJAAjgBOAFgAGAA1QDVAEACQAJAAkACGAAYABkCGQIkACQAfwJ/Ai0ALQCcAJwAGAMYA28AbwBIAEgAGgQaBDAAMABxQHFAVABUACkEKQTvAe8BdQB1AM0CzQLcBdwFYhZiFhQEFAQgASABAAYABtIA0gDNBc0FQgBCAEIAQgAkAyQDZgBmAPgH+AezJQYAvyUDAAMAKAUoBXAIBgB2CMECygI5ADkAwADAAH4AfgBbBVsFUQBRAMsBywHGAMYAHgAeAAMA3wLlArQAtAADACsCLgI=",
          "dtype": "i2"
         },
         "y0": " ",
         "yaxis": "y"
        },
        {
         "alignmentgroup": "True",
         "boxpoints": "outliers",
         "customdata": [
          [
           "Alberta",
           "Alberta (total)"
          ],
          [
           "Alberta",
           "Alberta (total)"
          ],
          [
           "Alberta",
           "Alberta (total)"
          ],
          [
           "Alberta",
           "Bow Valley College"
          ],
          [
           "Alberta",
           "Bow Valley College"
          ],
          [
           "Alberta",
           "Grant MacEwan U"
          ],
          [
           "Alberta",
           "Grant MacEwan U"
          ],
          [
           "Alberta",
           "Grant MacEwan U"
          ],
          [
           "Alberta",
           "Medicine Hat College"
          ],
          [
           "Alberta",
           "Medicine Hat College"
          ],
          [
           "Alberta",
           "Mount Royal U"
          ],
          [
           "Alberta",
           "Mount Royal U"
          ],
          [
           "Alberta",
           "NorQuest College"
          ],
          [
           "Alberta",
           "NorQuest College"
          ],
          [
           "Alberta",
           "Northern Alberta Institute of Technology"
          ],
          [
           "Alberta",
           "Northern Alberta Institute of Technology"
          ],
          [
           "Alberta",
           "Olds College"
          ],
          [
           "Alberta",
           "Olds College"
          ],
          [
           "Alberta",
           "Southern Alberta Institute of Technology"
          ],
          [
           "Alberta",
           "Southern Alberta Institute of Technology"
          ],
          [
           "British Columbia",
           "BC (total)"
          ],
          [
           "British Columbia",
           "BC (total)"
          ],
          [
           "British Columbia",
           "BC (total)"
          ],
          [
           "British Columbia",
           "BC Institute of Technology"
          ],
          [
           "British Columbia",
           "BC Institute of Technology"
          ],
          [
           "British Columbia",
           "BC Institute of Technology"
          ],
          [
           "British Columbia",
           "Camosun College"
          ],
          [
           "British Columbia",
           "Camosun College"
          ],
          [
           "British Columbia",
           "Camosun College"
          ],
          [
           "British Columbia",
           "College of New Caledonia"
          ],
          [
           "British Columbia",
           "College of New Caledonia"
          ],
          [
           "British Columbia",
           "Douglas College"
          ],
          [
           "British Columbia",
           "Douglas College"
          ],
          [
           "British Columbia",
           "Justice Institute of BC"
          ],
          [
           "British Columbia",
           "Justice Institute of BC"
          ],
          [
           "British Columbia",
           "Justice Institute of BC"
          ],
          [
           "British Columbia",
           "North Island College"
          ],
          [
           "British Columbia",
           "North Island College"
          ],
          [
           "British Columbia",
           "North Island College"
          ],
          [
           "British Columbia",
           "Northern Lights College"
          ],
          [
           "British Columbia",
           "Northern Lights College"
          ],
          [
           "British Columbia",
           "Okanagan College"
          ],
          [
           "British Columbia",
           "Okanagan College"
          ],
          [
           "British Columbia",
           "Selkirk College"
          ],
          [
           "British Columbia",
           "Selkirk College"
          ],
          [
           "British Columbia",
           "U of the Fraser Valley"
          ],
          [
           "British Columbia",
           "U of the Fraser Valley"
          ],
          [
           "British Columbia",
           "Vancouver Island U"
          ],
          [
           "British Columbia",
           "Vancouver Island U"
          ],
          [
           "Manitoba",
           "Assiniboine CC"
          ],
          [
           "Manitoba",
           "Assiniboine CC"
          ],
          [
           "Manitoba",
           "Manitoba (total)"
          ],
          [
           "Manitoba",
           "Manitoba (total)"
          ],
          [
           "Manitoba",
           "Red River College Polytechnic"
          ],
          [
           "Manitoba",
           "Red River College Polytechnic"
          ],
          [
           "New Brunswick",
           "Collège Communautaire du Nouveau-Brunswick"
          ],
          [
           "New Brunswick",
           "Collège Communautaire du Nouveau-Brunswick"
          ],
          [
           "New Brunswick",
           "New Brunswick (total)"
          ],
          [
           "New Brunswick",
           "New Brunswick (total)"
          ],
          [
           "New Brunswick",
           "New Brunswick (total)"
          ],
          [
           "New Brunswick",
           "New Brunswick CC"
          ],
          [
           "New Brunswick",
           "New Brunswick CC"
          ],
          [
           "New Brunswick",
           "New Brunswick CC"
          ],
          [
           "New Brunswick",
           "New Brunswick College of Craft and Design"
          ],
          [
           "New Brunswick",
           "New Brunswick College of Craft and Design"
          ],
          [
           "Newfoundland and Labrador",
           "College of the North Atlantic"
          ],
          [
           "Newfoundland and Labrador",
           "College of the North Atlantic"
          ],
          [
           "Newfoundland and Labrador",
           "Memorial U of Newfoundland"
          ],
          [
           "Newfoundland and Labrador",
           "Memorial U of Newfoundland"
          ],
          [
           "Newfoundland and Labrador",
           "Memorial U of Newfoundland"
          ],
          [
           "Newfoundland and Labrador",
           "Newfoundland and Labrador (total)"
          ],
          [
           "Newfoundland and Labrador",
           "Newfoundland and Labrador (total)"
          ],
          [
           "Newfoundland and Labrador",
           "Newfoundland and Labrador (total)"
          ],
          [
           "Nova Scotia",
           "Nova Scotia (total)"
          ],
          [
           "Nova Scotia",
           "Nova Scotia (total)"
          ],
          [
           "Nova Scotia",
           "Nova Scotia (total)"
          ],
          [
           "Nova Scotia",
           "Nova Scotia CC (NSCC)"
          ],
          [
           "Nova Scotia",
           "Nova Scotia CC (NSCC)"
          ],
          [
           "Nova Scotia",
           "Nova Scotia CC (NSCC)"
          ],
          [
           "Ontario",
           "Algonquin College"
          ],
          [
           "Ontario",
           "Algonquin College"
          ],
          [
           "Ontario",
           "Cambrian College"
          ],
          [
           "Ontario",
           "Cambrian College"
          ],
          [
           "Ontario",
           "Canadore College"
          ],
          [
           "Ontario",
           "Canadore College"
          ],
          [
           "Ontario",
           "Centennial College"
          ],
          [
           "Ontario",
           "Centennial College"
          ],
          [
           "Ontario",
           "Collège Boréal"
          ],
          [
           "Ontario",
           "Collège Boréal"
          ],
          [
           "Ontario",
           "Conestoga College"
          ],
          [
           "Ontario",
           "Conestoga College"
          ],
          [
           "Ontario",
           "Confederation College"
          ],
          [
           "Ontario",
           "Confederation College"
          ],
          [
           "Ontario",
           "Durham College"
          ],
          [
           "Ontario",
           "Durham College"
          ],
          [
           "Ontario",
           "Fanshawe College"
          ],
          [
           "Ontario",
           "Fanshawe College"
          ],
          [
           "Ontario",
           "Fleming College"
          ],
          [
           "Ontario",
           "Fleming College"
          ],
          [
           "Ontario",
           "George Brown College"
          ],
          [
           "Ontario",
           "George Brown College"
          ],
          [
           "Ontario",
           "Georgian College"
          ],
          [
           "Ontario",
           "Georgian College"
          ],
          [
           "Ontario",
           "Humber College North Campus"
          ],
          [
           "Ontario",
           "Humber College North Campus"
          ],
          [
           "Ontario",
           "La Cité collégiale "
          ],
          [
           "Ontario",
           "La Cité collégiale "
          ],
          [
           "Ontario",
           "Loyalist College"
          ],
          [
           "Ontario",
           "Loyalist College"
          ],
          [
           "Ontario",
           "Mohawk College"
          ],
          [
           "Ontario",
           "Mohawk College"
          ],
          [
           "Ontario",
           "Niagara College Canada"
          ],
          [
           "Ontario",
           "Niagara College Canada"
          ],
          [
           "Ontario",
           "Northern College"
          ],
          [
           "Ontario",
           "Northern College"
          ],
          [
           "Ontario",
           "Northern College"
          ],
          [
           "Ontario",
           "Ontario (total)"
          ],
          [
           "Ontario",
           "Ontario (total)"
          ],
          [
           "Ontario",
           "Ontario (total)"
          ],
          [
           "Ontario",
           "Ontario (total)"
          ],
          [
           "Ontario",
           "Seneca College"
          ],
          [
           "Ontario",
           "Seneca College"
          ],
          [
           "Ontario",
           "Sheridan College Institute of Technology"
          ],
          [
           "Ontario",
           "Sheridan College Institute of Technology"
          ],
          [
           "Ontario",
           "St. Clair College"
          ],
          [
           "Ontario",
           "St. Clair College"
          ],
          [
           "Ontario",
           "St. Lawrence College"
          ],
          [
           "Ontario",
           "St. Lawrence College"
          ],
          [
           "Prince Edward Island",
           "Holland College"
          ],
          [
           "Prince Edward Island",
           "Holland College"
          ],
          [
           "Prince Edward Island",
           "Prince Edward Island (total)"
          ],
          [
           "Prince Edward Island",
           "Prince Edward Island (total)"
          ],
          [
           "Saskatchewan",
           "Saskatchewan (total)"
          ],
          [
           "Saskatchewan",
           "Saskatchewan (total)"
          ],
          [
           "Saskatchewan",
           "Saskatchewan Polytechnic"
          ],
          [
           "Saskatchewan",
           "Saskatchewan Polytechnic"
          ]
         ],
         "hovertemplate": "Program type=%{x}<br>Domestic Enrolment=%{y}<br>Province/Territory=%{customdata[0]}<br>Institution Name=%{customdata[1]}<extra></extra>",
         "legendgroup": "Post career, technical or professional training program",
         "marker": {
          "color": "#ab63fa"
         },
         "name": "Post career, technical or professional training program",
         "notched": false,
         "offsetgroup": "Post career, technical or professional training program",
         "orientation": "v",
         "showlegend": true,
         "type": "box",
         "x": [
          "Post career, technical or professional training program",
          "Post career, technical or professional training program",
          "Post career, technical or professional training program",
          "Post career, technical or professional training program",
          "Post career, technical or professional training program",
          "Post career, technical or professional training program",
          "Post career, technical or professional training program",
          "Post career, technical or professional training program",
          "Post career, technical or professional training program",
          "Post career, technical or professional training program",
          "Post career, technical or professional training program",
          "Post career, technical or professional training program",
          "Post career, technical or professional training program",
          "Post career, technical or professional training program",
          "Post career, technical or professional training program",
          "Post career, technical or professional training program",
          "Post career, technical or professional training program",
          "Post career, technical or professional training program",
          "Post career, technical or professional training program",
          "Post career, technical or professional training program",
          "Post career, technical or professional training program",
          "Post career, technical or professional training program",
          "Post career, technical or professional training program",
          "Post career, technical or professional training program",
          "Post career, technical or professional training program",
          "Post career, technical or professional training program",
          "Post career, technical or professional training program",
          "Post career, technical or professional training program",
          "Post career, technical or professional training program",
          "Post career, technical or professional training program",
          "Post career, technical or professional training program",
          "Post career, technical or professional training program",
          "Post career, technical or professional training program",
          "Post career, technical or professional training program",
          "Post career, technical or professional training program",
          "Post career, technical or professional training program",
          "Post career, technical or professional training program",
          "Post career, technical or professional training program",
          "Post career, technical or professional training program",
          "Post career, technical or professional training program",
          "Post career, technical or professional training program",
          "Post career, technical or professional training program",
          "Post career, technical or professional training program",
          "Post career, technical or professional training program",
          "Post career, technical or professional training program",
          "Post career, technical or professional training program",
          "Post career, technical or professional training program",
          "Post career, technical or professional training program",
          "Post career, technical or professional training program",
          "Post career, technical or professional training program",
          "Post career, technical or professional training program",
          "Post career, technical or professional training program",
          "Post career, technical or professional training program",
          "Post career, technical or professional training program",
          "Post career, technical or professional training program",
          "Post career, technical or professional training program",
          "Post career, technical or professional training program",
          "Post career, technical or professional training program",
          "Post career, technical or professional training program",
          "Post career, technical or professional training program",
          "Post career, technical or professional training program",
          "Post career, technical or professional training program",
          "Post career, technical or professional training program",
          "Post career, technical or professional training program",
          "Post career, technical or professional training program",
          "Post career, technical or professional training program",
          "Post career, technical or professional training program",
          "Post career, technical or professional training program",
          "Post career, technical or professional training program",
          "Post career, technical or professional training program",
          "Post career, technical or professional training program",
          "Post career, technical or professional training program",
          "Post career, technical or professional training program",
          "Post career, technical or professional training program",
          "Post career, technical or professional training program",
          "Post career, technical or professional training program",
          "Post career, technical or professional training program",
          "Post career, technical or professional training program",
          "Post career, technical or professional training program",
          "Post career, technical or professional training program",
          "Post career, technical or professional training program",
          "Post career, technical or professional training program",
          "Post career, technical or professional training program",
          "Post career, technical or professional training program",
          "Post career, technical or professional training program",
          "Post career, technical or professional training program",
          "Post career, technical or professional training program",
          "Post career, technical or professional training program",
          "Post career, technical or professional training program",
          "Post career, technical or professional training program",
          "Post career, technical or professional training program",
          "Post career, technical or professional training program",
          "Post career, technical or professional training program",
          "Post career, technical or professional training program",
          "Post career, technical or professional training program",
          "Post career, technical or professional training program",
          "Post career, technical or professional training program",
          "Post career, technical or professional training program",
          "Post career, technical or professional training program",
          "Post career, technical or professional training program",
          "Post career, technical or professional training program",
          "Post career, technical or professional training program",
          "Post career, technical or professional training program",
          "Post career, technical or professional training program",
          "Post career, technical or professional training program",
          "Post career, technical or professional training program",
          "Post career, technical or professional training program",
          "Post career, technical or professional training program",
          "Post career, technical or professional training program",
          "Post career, technical or professional training program",
          "Post career, technical or professional training program",
          "Post career, technical or professional training program",
          "Post career, technical or professional training program",
          "Post career, technical or professional training program",
          "Post career, technical or professional training program",
          "Post career, technical or professional training program",
          "Post career, technical or professional training program",
          "Post career, technical or professional training program",
          "Post career, technical or professional training program",
          "Post career, technical or professional training program",
          "Post career, technical or professional training program",
          "Post career, technical or professional training program",
          "Post career, technical or professional training program",
          "Post career, technical or professional training program",
          "Post career, technical or professional training program",
          "Post career, technical or professional training program",
          "Post career, technical or professional training program",
          "Post career, technical or professional training program",
          "Post career, technical or professional training program",
          "Post career, technical or professional training program",
          "Post career, technical or professional training program",
          "Post career, technical or professional training program",
          "Post career, technical or professional training program",
          "Post career, technical or professional training program",
          "Post career, technical or professional training program",
          "Post career, technical or professional training program"
         ],
         "x0": " ",
         "xaxis": "x",
         "y": {
          "bdata": "xQEAAMUBNgA2AJMAAACWAAMAAwAAAAAAGwAbAK4ArgADAAMAKgAqAJ8ADgGqAXsAWgDVAA8ASwBaAAMAAwADAAMAAwAkACoAAAAAAAAACQAJAAMAAwA2ADYAAAAAAAkACQAMAAwAGwAbAAwADAAMAAwAMACZAMkAMAAwAGAAWgBaAFoAWgADAAMABgADAF0AYABOAEgAkwBOAEgAkwCvAq8CaQBpAB4AHgAlAiUCKgAqACYBJgFCAEIAkgGSAfUB9QG6ALoAPAM8A9UA1QBlBGUEXQBdACEAIQBoAWgBqwCrAAkADAAYAD0aDABCAIsayAHIAVABUAHDAMMAbABsACEAIQAhACEALQAtAC0ALQA=",
          "dtype": "i2"
         },
         "y0": " ",
         "yaxis": "y"
        },
        {
         "alignmentgroup": "True",
         "boxpoints": "outliers",
         "customdata": [
          [
           "Alberta",
           "Alberta (total)"
          ],
          [
           "Alberta",
           "Alberta (total)"
          ],
          [
           "Alberta",
           "Athabasca U"
          ],
          [
           "Alberta",
           "Athabasca U"
          ],
          [
           "Alberta",
           "Lakeland College"
          ],
          [
           "Alberta",
           "Lakeland College"
          ],
          [
           "Alberta",
           "Mount Royal U"
          ],
          [
           "Alberta",
           "Mount Royal U"
          ],
          [
           "Alberta",
           "NorQuest College"
          ],
          [
           "Alberta",
           "NorQuest College"
          ],
          [
           "Alberta",
           "Red Deer Polytechnic"
          ],
          [
           "Alberta",
           "Red Deer Polytechnic"
          ],
          [
           "Alberta",
           "U of Calgary"
          ],
          [
           "Alberta",
           "U of Calgary"
          ],
          [
           "Alberta",
           "U of Lethbridge"
          ],
          [
           "Alberta",
           "U of Lethbridge"
          ],
          [
           "British Columbia",
           "BC (total)"
          ],
          [
           "British Columbia",
           "BC (total)"
          ],
          [
           "British Columbia",
           "BC (total)"
          ],
          [
           "British Columbia",
           "BC (total)"
          ],
          [
           "British Columbia",
           "BC (total)"
          ],
          [
           "British Columbia",
           "Camosun College"
          ],
          [
           "British Columbia",
           "Camosun College"
          ],
          [
           "British Columbia",
           "Capilano U"
          ],
          [
           "British Columbia",
           "Capilano U"
          ],
          [
           "British Columbia",
           "Capilano U"
          ],
          [
           "British Columbia",
           "College of New Caledonia"
          ],
          [
           "British Columbia",
           "College of New Caledonia"
          ],
          [
           "British Columbia",
           "College of the Rockies"
          ],
          [
           "British Columbia",
           "College of the Rockies"
          ],
          [
           "British Columbia",
           "Douglas College"
          ],
          [
           "British Columbia",
           "Douglas College"
          ],
          [
           "British Columbia",
           "Justice Institute of BC"
          ],
          [
           "British Columbia",
           "Justice Institute of BC"
          ],
          [
           "British Columbia",
           "Kwantlen Polytechnic U"
          ],
          [
           "British Columbia",
           "Kwantlen Polytechnic U"
          ],
          [
           "British Columbia",
           "Langara College"
          ],
          [
           "British Columbia",
           "Langara College"
          ],
          [
           "British Columbia",
           "North Island College"
          ],
          [
           "British Columbia",
           "North Island College"
          ],
          [
           "British Columbia",
           "North Island College"
          ],
          [
           "British Columbia",
           "Northern Lights College"
          ],
          [
           "British Columbia",
           "Northern Lights College"
          ],
          [
           "British Columbia",
           "Okanagan College"
          ],
          [
           "British Columbia",
           "Okanagan College"
          ],
          [
           "British Columbia",
           "Selkirk College"
          ],
          [
           "British Columbia",
           "Selkirk College"
          ],
          [
           "British Columbia",
           "Simon Fraser U"
          ],
          [
           "British Columbia",
           "Simon Fraser U"
          ],
          [
           "British Columbia",
           "Simon Fraser U"
          ],
          [
           "British Columbia",
           "Simon Fraser U"
          ],
          [
           "British Columbia",
           "Thompson Rivers U"
          ],
          [
           "British Columbia",
           "Thompson Rivers U"
          ],
          [
           "British Columbia",
           "Thompson Rivers U"
          ],
          [
           "British Columbia",
           "Thompson Rivers U"
          ],
          [
           "British Columbia",
           "U of BC"
          ],
          [
           "British Columbia",
           "U of BC"
          ],
          [
           "British Columbia",
           "U of BC"
          ],
          [
           "British Columbia",
           "U of BC"
          ],
          [
           "British Columbia",
           "U of Northern BC"
          ],
          [
           "British Columbia",
           "U of Northern BC"
          ],
          [
           "British Columbia",
           "U of Victoria"
          ],
          [
           "British Columbia",
           "U of Victoria"
          ],
          [
           "British Columbia",
           "U of Victoria"
          ],
          [
           "British Columbia",
           "U of Victoria"
          ],
          [
           "British Columbia",
           "U of the Fraser Valley"
          ],
          [
           "British Columbia",
           "U of the Fraser Valley"
          ],
          [
           "British Columbia",
           "Vancouver CC"
          ],
          [
           "British Columbia",
           "Vancouver CC"
          ],
          [
           "British Columbia",
           "Vancouver Island U"
          ],
          [
           "British Columbia",
           "Vancouver Island U"
          ],
          [
           "Manitoba",
           "Brandon U"
          ],
          [
           "Manitoba",
           "Brandon U"
          ],
          [
           "Manitoba",
           "Manitoba (total)"
          ],
          [
           "Manitoba",
           "Manitoba (total)"
          ],
          [
           "Manitoba",
           "Manitoba (total)"
          ],
          [
           "Manitoba",
           "U of Manitoba"
          ],
          [
           "Manitoba",
           "U of Manitoba"
          ],
          [
           "Manitoba",
           "U of Winnipeg"
          ],
          [
           "Manitoba",
           "U of Winnipeg"
          ],
          [
           "New Brunswick",
           "New Brunswick (total)"
          ],
          [
           "New Brunswick",
           "New Brunswick (total)"
          ],
          [
           "New Brunswick",
           "St. Thomas U"
          ],
          [
           "New Brunswick",
           "St. Thomas U"
          ],
          [
           "New Brunswick",
           "U de Moncton"
          ],
          [
           "New Brunswick",
           "U de Moncton"
          ],
          [
           "New Brunswick",
           "U of New Brunswick"
          ],
          [
           "New Brunswick",
           "U of New Brunswick"
          ],
          [
           "Newfoundland and Labrador",
           "Memorial U of Newfoundland"
          ],
          [
           "Newfoundland and Labrador",
           "Memorial U of Newfoundland"
          ],
          [
           "Newfoundland and Labrador",
           "Newfoundland and Labrador (total)"
          ],
          [
           "Newfoundland and Labrador",
           "Newfoundland and Labrador (total)"
          ],
          [
           "Nova Scotia",
           "Acadia U"
          ],
          [
           "Nova Scotia",
           "Acadia U"
          ],
          [
           "Nova Scotia",
           "Acadia U"
          ],
          [
           "Nova Scotia",
           "Cape Breton U"
          ],
          [
           "Nova Scotia",
           "Cape Breton U"
          ],
          [
           "Nova Scotia",
           "Cape Breton U"
          ],
          [
           "Nova Scotia",
           "Mount Saint Vincent U"
          ],
          [
           "Nova Scotia",
           "Mount Saint Vincent U"
          ],
          [
           "Nova Scotia",
           "NSCAD U"
          ],
          [
           "Nova Scotia",
           "NSCAD U"
          ],
          [
           "Nova Scotia",
           "Nova Scotia (total)"
          ],
          [
           "Nova Scotia",
           "Nova Scotia (total)"
          ],
          [
           "Nova Scotia",
           "Nova Scotia (total)"
          ],
          [
           "Nova Scotia",
           "Nova Scotia (total)"
          ],
          [
           "Nova Scotia",
           "Nova Scotia CC (NSCC)"
          ],
          [
           "Nova Scotia",
           "Nova Scotia CC (NSCC)"
          ],
          [
           "Nova Scotia",
           "Saint Mary's U"
          ],
          [
           "Nova Scotia",
           "Saint Mary's U"
          ],
          [
           "Nova Scotia",
           "St. Francis Xavier U"
          ],
          [
           "Nova Scotia",
           "St. Francis Xavier U"
          ],
          [
           "Nova Scotia",
           "St. Francis Xavier U"
          ],
          [
           "Nova Scotia",
           "U Sainte-Anne"
          ],
          [
           "Nova Scotia",
           "U Sainte-Anne"
          ],
          [
           "Nova Scotia",
           "U of King's College"
          ],
          [
           "Nova Scotia",
           "U of King's College"
          ],
          [
           "Ontario",
           "Brock U"
          ],
          [
           "Ontario",
           "Brock U"
          ],
          [
           "Ontario",
           "Carleton U"
          ],
          [
           "Ontario",
           "Carleton U"
          ],
          [
           "Ontario",
           "Lakehead U"
          ],
          [
           "Ontario",
           "Lakehead U"
          ],
          [
           "Ontario",
           "Nipissing U"
          ],
          [
           "Ontario",
           "Nipissing U"
          ],
          [
           "Ontario",
           "Ontario (total)"
          ],
          [
           "Ontario",
           "Ontario (total)"
          ],
          [
           "Ontario",
           "Ontario (total)"
          ],
          [
           "Ontario",
           "Ontario (total)"
          ],
          [
           "Ontario",
           "Ontario (total)"
          ],
          [
           "Ontario",
           "Queen's U"
          ],
          [
           "Ontario",
           "Queen's U"
          ],
          [
           "Ontario",
           "Trent U"
          ],
          [
           "Ontario",
           "Trent U"
          ],
          [
           "Ontario",
           "U of Ottawa-U d'Ottawa"
          ],
          [
           "Ontario",
           "U of Ottawa-U d'Ottawa"
          ],
          [
           "Ontario",
           "U of Toronto"
          ],
          [
           "Ontario",
           "U of Toronto"
          ],
          [
           "Ontario",
           "U of Toronto"
          ],
          [
           "Ontario",
           "U of Waterloo"
          ],
          [
           "Ontario",
           "U of Waterloo"
          ],
          [
           "Ontario",
           "Western U"
          ],
          [
           "Ontario",
           "Western U"
          ],
          [
           "Ontario",
           "Wilfrid Laurier U"
          ],
          [
           "Ontario",
           "Wilfrid Laurier U"
          ],
          [
           "Prince Edward Island",
           "Prince Edward Island (total)"
          ],
          [
           "Prince Edward Island",
           "Prince Edward Island (total)"
          ],
          [
           "Prince Edward Island",
           "U of Prince Edward Island"
          ],
          [
           "Prince Edward Island",
           "U of Prince Edward Island"
          ],
          [
           "Saskatchewan",
           "Saskatchewan (total)"
          ],
          [
           "Saskatchewan",
           "Saskatchewan (total)"
          ],
          [
           "Saskatchewan",
           "Saskatchewan (total)"
          ],
          [
           "Saskatchewan",
           "Saskatchewan (total)"
          ],
          [
           "Saskatchewan",
           "Saskatchewan Polytechnic"
          ],
          [
           "Saskatchewan",
           "Saskatchewan Polytechnic"
          ],
          [
           "Saskatchewan",
           "U of Regina"
          ],
          [
           "Saskatchewan",
           "U of Regina"
          ],
          [
           "Saskatchewan",
           "U of Saskatchewan"
          ],
          [
           "Saskatchewan",
           "U of Saskatchewan"
          ],
          [
           "Saskatchewan",
           "U of Saskatchewan"
          ]
         ],
         "hovertemplate": "Program type=%{x}<br>Domestic Enrolment=%{y}<br>Province/Territory=%{customdata[0]}<br>Institution Name=%{customdata[1]}<extra></extra>",
         "legendgroup": "Post-baccalaureate non-graduate program",
         "marker": {
          "color": "#FFA15A"
         },
         "name": "Post-baccalaureate non-graduate program",
         "notched": false,
         "offsetgroup": "Post-baccalaureate non-graduate program",
         "orientation": "v",
         "showlegend": true,
         "type": "box",
         "x": [
          "Post-baccalaureate non-graduate program",
          "Post-baccalaureate non-graduate program",
          "Post-baccalaureate non-graduate program",
          "Post-baccalaureate non-graduate program",
          "Post-baccalaureate non-graduate program",
          "Post-baccalaureate non-graduate program",
          "Post-baccalaureate non-graduate program",
          "Post-baccalaureate non-graduate program",
          "Post-baccalaureate non-graduate program",
          "Post-baccalaureate non-graduate program",
          "Post-baccalaureate non-graduate program",
          "Post-baccalaureate non-graduate program",
          "Post-baccalaureate non-graduate program",
          "Post-baccalaureate non-graduate program",
          "Post-baccalaureate non-graduate program",
          "Post-baccalaureate non-graduate program",
          "Post-baccalaureate non-graduate program",
          "Post-baccalaureate non-graduate program",
          "Post-baccalaureate non-graduate program",
          "Post-baccalaureate non-graduate program",
          "Post-baccalaureate non-graduate program",
          "Post-baccalaureate non-graduate program",
          "Post-baccalaureate non-graduate program",
          "Post-baccalaureate non-graduate program",
          "Post-baccalaureate non-graduate program",
          "Post-baccalaureate non-graduate program",
          "Post-baccalaureate non-graduate program",
          "Post-baccalaureate non-graduate program",
          "Post-baccalaureate non-graduate program",
          "Post-baccalaureate non-graduate program",
          "Post-baccalaureate non-graduate program",
          "Post-baccalaureate non-graduate program",
          "Post-baccalaureate non-graduate program",
          "Post-baccalaureate non-graduate program",
          "Post-baccalaureate non-graduate program",
          "Post-baccalaureate non-graduate program",
          "Post-baccalaureate non-graduate program",
          "Post-baccalaureate non-graduate program",
          "Post-baccalaureate non-graduate program",
          "Post-baccalaureate non-graduate program",
          "Post-baccalaureate non-graduate program",
          "Post-baccalaureate non-graduate program",
          "Post-baccalaureate non-graduate program",
          "Post-baccalaureate non-graduate program",
          "Post-baccalaureate non-graduate program",
          "Post-baccalaureate non-graduate program",
          "Post-baccalaureate non-graduate program",
          "Post-baccalaureate non-graduate program",
          "Post-baccalaureate non-graduate program",
          "Post-baccalaureate non-graduate program",
          "Post-baccalaureate non-graduate program",
          "Post-baccalaureate non-graduate program",
          "Post-baccalaureate non-graduate program",
          "Post-baccalaureate non-graduate program",
          "Post-baccalaureate non-graduate program",
          "Post-baccalaureate non-graduate program",
          "Post-baccalaureate non-graduate program",
          "Post-baccalaureate non-graduate program",
          "Post-baccalaureate non-graduate program",
          "Post-baccalaureate non-graduate program",
          "Post-baccalaureate non-graduate program",
          "Post-baccalaureate non-graduate program",
          "Post-baccalaureate non-graduate program",
          "Post-baccalaureate non-graduate program",
          "Post-baccalaureate non-graduate program",
          "Post-baccalaureate non-graduate program",
          "Post-baccalaureate non-graduate program",
          "Post-baccalaureate non-graduate program",
          "Post-baccalaureate non-graduate program",
          "Post-baccalaureate non-graduate program",
          "Post-baccalaureate non-graduate program",
          "Post-baccalaureate non-graduate program",
          "Post-baccalaureate non-graduate program",
          "Post-baccalaureate non-graduate program",
          "Post-baccalaureate non-graduate program",
          "Post-baccalaureate non-graduate program",
          "Post-baccalaureate non-graduate program",
          "Post-baccalaureate non-graduate program",
          "Post-baccalaureate non-graduate program",
          "Post-baccalaureate non-graduate program",
          "Post-baccalaureate non-graduate program",
          "Post-baccalaureate non-graduate program",
          "Post-baccalaureate non-graduate program",
          "Post-baccalaureate non-graduate program",
          "Post-baccalaureate non-graduate program",
          "Post-baccalaureate non-graduate program",
          "Post-baccalaureate non-graduate program",
          "Post-baccalaureate non-graduate program",
          "Post-baccalaureate non-graduate program",
          "Post-baccalaureate non-graduate program",
          "Post-baccalaureate non-graduate program",
          "Post-baccalaureate non-graduate program",
          "Post-baccalaureate non-graduate program",
          "Post-baccalaureate non-graduate program",
          "Post-baccalaureate non-graduate program",
          "Post-baccalaureate non-graduate program",
          "Post-baccalaureate non-graduate program",
          "Post-baccalaureate non-graduate program",
          "Post-baccalaureate non-graduate program",
          "Post-baccalaureate non-graduate program",
          "Post-baccalaureate non-graduate program",
          "Post-baccalaureate non-graduate program",
          "Post-baccalaureate non-graduate program",
          "Post-baccalaureate non-graduate program",
          "Post-baccalaureate non-graduate program",
          "Post-baccalaureate non-graduate program",
          "Post-baccalaureate non-graduate program",
          "Post-baccalaureate non-graduate program",
          "Post-baccalaureate non-graduate program",
          "Post-baccalaureate non-graduate program",
          "Post-baccalaureate non-graduate program",
          "Post-baccalaureate non-graduate program",
          "Post-baccalaureate non-graduate program",
          "Post-baccalaureate non-graduate program",
          "Post-baccalaureate non-graduate program",
          "Post-baccalaureate non-graduate program",
          "Post-baccalaureate non-graduate program",
          "Post-baccalaureate non-graduate program",
          "Post-baccalaureate non-graduate program",
          "Post-baccalaureate non-graduate program",
          "Post-baccalaureate non-graduate program",
          "Post-baccalaureate non-graduate program",
          "Post-baccalaureate non-graduate program",
          "Post-baccalaureate non-graduate program",
          "Post-baccalaureate non-graduate program",
          "Post-baccalaureate non-graduate program",
          "Post-baccalaureate non-graduate program",
          "Post-baccalaureate non-graduate program",
          "Post-baccalaureate non-graduate program",
          "Post-baccalaureate non-graduate program",
          "Post-baccalaureate non-graduate program",
          "Post-baccalaureate non-graduate program",
          "Post-baccalaureate non-graduate program",
          "Post-baccalaureate non-graduate program",
          "Post-baccalaureate non-graduate program",
          "Post-baccalaureate non-graduate program",
          "Post-baccalaureate non-graduate program",
          "Post-baccalaureate non-graduate program",
          "Post-baccalaureate non-graduate program",
          "Post-baccalaureate non-graduate program",
          "Post-baccalaureate non-graduate program",
          "Post-baccalaureate non-graduate program",
          "Post-baccalaureate non-graduate program",
          "Post-baccalaureate non-graduate program",
          "Post-baccalaureate non-graduate program",
          "Post-baccalaureate non-graduate program",
          "Post-baccalaureate non-graduate program",
          "Post-baccalaureate non-graduate program",
          "Post-baccalaureate non-graduate program",
          "Post-baccalaureate non-graduate program",
          "Post-baccalaureate non-graduate program",
          "Post-baccalaureate non-graduate program",
          "Post-baccalaureate non-graduate program",
          "Post-baccalaureate non-graduate program",
          "Post-baccalaureate non-graduate program",
          "Post-baccalaureate non-graduate program",
          "Post-baccalaureate non-graduate program",
          "Post-baccalaureate non-graduate program",
          "Post-baccalaureate non-graduate program",
          "Post-baccalaureate non-graduate program"
         ],
         "x0": " ",
         "xaxis": "x",
         "y": {
          "bdata": "XQBdAAwADAAAAAAAHgAeAAAAAAAGAAYAGAAYABUAFQBLADYMUwEkA/gQQgBCAAMAAwAJAAAAAAAAAAAAYABgAAMAAwASABIAIQAhAAAAAwADAAAAAAAVABUAAwADAD8AGwAkA3sDBgDYABIA8wADAGkJJACNCUUARQADALABBgC5AQAAAAADAAMABgAGAJkAmQCZABIAqAAMAAwACQAJAGECYQJUAFQADwAPAPsB+wE7ATsBOwE7AQAAnACfAD8ABgBFABEBEQESABIAEgAhAzMAZgMtAC0AAAAAABQBAAAXARUAFQAJAAkA8wPzAw8ADwA2ADYArgOuAwwADhwGAA8ALxwSBhIGWQFZAQYABgAMAO0D+QNUAFQAhQiFCAYABgBLAEsASwBLAAkA/AAGAA4BBgAGAPYA9gAJAAYADwA=",
          "dtype": "i2"
         },
         "y0": " ",
         "yaxis": "y"
        },
        {
         "alignmentgroup": "True",
         "boxpoints": "outliers",
         "customdata": [
          [
           "Alberta",
           "Alberta (total)"
          ],
          [
           "Alberta",
           "Alberta (total)"
          ],
          [
           "Alberta",
           "Alberta (total)"
          ],
          [
           "Alberta",
           "Alberta U of the Arts"
          ],
          [
           "Alberta",
           "Alberta U of the Arts"
          ],
          [
           "Alberta",
           "Ambrose U"
          ],
          [
           "Alberta",
           "Ambrose U"
          ],
          [
           "Alberta",
           "Athabasca U"
          ],
          [
           "Alberta",
           "Athabasca U"
          ],
          [
           "Alberta",
           "Burman U"
          ],
          [
           "Alberta",
           "Burman U"
          ],
          [
           "Alberta",
           "Concordia U of Edmonton"
          ],
          [
           "Alberta",
           "Concordia U of Edmonton"
          ],
          [
           "Alberta",
           "Grant MacEwan U"
          ],
          [
           "Alberta",
           "Grant MacEwan U"
          ],
          [
           "Alberta",
           "Grant MacEwan U"
          ],
          [
           "Alberta",
           "Keyano College"
          ],
          [
           "Alberta",
           "Keyano College"
          ],
          [
           "Alberta",
           "Lakeland College"
          ],
          [
           "Alberta",
           "Lakeland College"
          ],
          [
           "Alberta",
           "Lakeland College"
          ],
          [
           "Alberta",
           "Lethbridge College"
          ],
          [
           "Alberta",
           "Lethbridge College"
          ],
          [
           "Alberta",
           "Lethbridge College"
          ],
          [
           "Alberta",
           "Medicine Hat College"
          ],
          [
           "Alberta",
           "Medicine Hat College"
          ],
          [
           "Alberta",
           "Medicine Hat College"
          ],
          [
           "Alberta",
           "Mount Royal U"
          ],
          [
           "Alberta",
           "Mount Royal U"
          ],
          [
           "Alberta",
           "Mount Royal U"
          ],
          [
           "Alberta",
           "Northern Alberta Institute of Technology"
          ],
          [
           "Alberta",
           "Northern Alberta Institute of Technology"
          ],
          [
           "Alberta",
           "Northern Lakes College"
          ],
          [
           "Alberta",
           "Northern Lakes College"
          ],
          [
           "Alberta",
           "Northwestern Polytechnic"
          ],
          [
           "Alberta",
           "Northwestern Polytechnic"
          ],
          [
           "Alberta",
           "Olds College"
          ],
          [
           "Alberta",
           "Olds College"
          ],
          [
           "Alberta",
           "Portage College"
          ],
          [
           "Alberta",
           "Portage College"
          ],
          [
           "Alberta",
           "Red Deer Polytechnic"
          ],
          [
           "Alberta",
           "Red Deer Polytechnic"
          ],
          [
           "Alberta",
           "Red Deer Polytechnic"
          ],
          [
           "Alberta",
           "Southern Alberta Institute of Technology"
          ],
          [
           "Alberta",
           "Southern Alberta Institute of Technology"
          ],
          [
           "Alberta",
           "St. Mary's U"
          ],
          [
           "Alberta",
           "St. Mary's U"
          ],
          [
           "Alberta",
           "The King's U"
          ],
          [
           "Alberta",
           "The King's U"
          ],
          [
           "Alberta",
           "U of Alberta"
          ],
          [
           "Alberta",
           "U of Alberta"
          ],
          [
           "Alberta",
           "U of Calgary"
          ],
          [
           "Alberta",
           "U of Calgary"
          ],
          [
           "Alberta",
           "U of Lethbridge"
          ],
          [
           "Alberta",
           "U of Lethbridge"
          ],
          [
           "Alberta",
           "U of Lethbridge"
          ],
          [
           "British Columbia",
           "BC (total)"
          ],
          [
           "British Columbia",
           "BC (total)"
          ],
          [
           "British Columbia",
           "BC (total)"
          ],
          [
           "British Columbia",
           "BC (total)"
          ],
          [
           "British Columbia",
           "BC (total)"
          ],
          [
           "British Columbia",
           "BC Institute of Technology"
          ],
          [
           "British Columbia",
           "BC Institute of Technology"
          ],
          [
           "British Columbia",
           "Camosun College"
          ],
          [
           "British Columbia",
           "Camosun College"
          ],
          [
           "British Columbia",
           "Camosun College"
          ],
          [
           "British Columbia",
           "Capilano U"
          ],
          [
           "British Columbia",
           "Capilano U"
          ],
          [
           "British Columbia",
           "Capilano U"
          ],
          [
           "British Columbia",
           "Coast Mountain College"
          ],
          [
           "British Columbia",
           "Coast Mountain College"
          ],
          [
           "British Columbia",
           "Coast Mountain College"
          ],
          [
           "British Columbia",
           "College of New Caledonia"
          ],
          [
           "British Columbia",
           "College of New Caledonia"
          ],
          [
           "British Columbia",
           "College of New Caledonia"
          ],
          [
           "British Columbia",
           "College of the Rockies"
          ],
          [
           "British Columbia",
           "College of the Rockies"
          ],
          [
           "British Columbia",
           "College of the Rockies"
          ],
          [
           "British Columbia",
           "Douglas College"
          ],
          [
           "British Columbia",
           "Douglas College"
          ],
          [
           "British Columbia",
           "Douglas College"
          ],
          [
           "British Columbia",
           "Emily Carr U of Art and Design"
          ],
          [
           "British Columbia",
           "Emily Carr U of Art and Design"
          ],
          [
           "British Columbia",
           "Justice Institute of BC"
          ],
          [
           "British Columbia",
           "Justice Institute of BC"
          ],
          [
           "British Columbia",
           "Kwantlen Polytechnic U"
          ],
          [
           "British Columbia",
           "Kwantlen Polytechnic U"
          ],
          [
           "British Columbia",
           "Kwantlen Polytechnic U"
          ],
          [
           "British Columbia",
           "Langara College"
          ],
          [
           "British Columbia",
           "Langara College"
          ],
          [
           "British Columbia",
           "Langara College"
          ],
          [
           "British Columbia",
           "Nicola Valley Institute of Technology"
          ],
          [
           "British Columbia",
           "Nicola Valley Institute of Technology"
          ],
          [
           "British Columbia",
           "Nicola Valley Institute of Technology"
          ],
          [
           "British Columbia",
           "North Island College"
          ],
          [
           "British Columbia",
           "North Island College"
          ],
          [
           "British Columbia",
           "North Island College"
          ],
          [
           "British Columbia",
           "Northern Lights College"
          ],
          [
           "British Columbia",
           "Northern Lights College"
          ],
          [
           "British Columbia",
           "Okanagan College"
          ],
          [
           "British Columbia",
           "Okanagan College"
          ],
          [
           "British Columbia",
           "Okanagan College"
          ],
          [
           "British Columbia",
           "Royal Roads U"
          ],
          [
           "British Columbia",
           "Royal Roads U"
          ],
          [
           "British Columbia",
           "Selkirk College"
          ],
          [
           "British Columbia",
           "Selkirk College"
          ],
          [
           "British Columbia",
           "Selkirk College"
          ],
          [
           "British Columbia",
           "Simon Fraser U"
          ],
          [
           "British Columbia",
           "Simon Fraser U"
          ],
          [
           "British Columbia",
           "Simon Fraser U"
          ],
          [
           "British Columbia",
           "Simon Fraser U"
          ],
          [
           "British Columbia",
           "Thompson Rivers U"
          ],
          [
           "British Columbia",
           "Thompson Rivers U"
          ],
          [
           "British Columbia",
           "Thompson Rivers U"
          ],
          [
           "British Columbia",
           "U of BC"
          ],
          [
           "British Columbia",
           "U of BC"
          ],
          [
           "British Columbia",
           "U of Northern BC"
          ],
          [
           "British Columbia",
           "U of Northern BC"
          ],
          [
           "British Columbia",
           "U of Northern BC"
          ],
          [
           "British Columbia",
           "U of Victoria"
          ],
          [
           "British Columbia",
           "U of Victoria"
          ],
          [
           "British Columbia",
           "U of Victoria"
          ],
          [
           "British Columbia",
           "U of Victoria"
          ],
          [
           "British Columbia",
           "U of the Fraser Valley"
          ],
          [
           "British Columbia",
           "U of the Fraser Valley"
          ],
          [
           "British Columbia",
           "U of the Fraser Valley"
          ],
          [
           "British Columbia",
           "Vancouver CC"
          ],
          [
           "British Columbia",
           "Vancouver CC"
          ],
          [
           "British Columbia",
           "Vancouver Island U"
          ],
          [
           "British Columbia",
           "Vancouver Island U"
          ],
          [
           "Manitoba",
           "Booth U College"
          ],
          [
           "Manitoba",
           "Booth U College"
          ],
          [
           "Manitoba",
           "Booth U College"
          ],
          [
           "Manitoba",
           "Booth U College"
          ],
          [
           "Manitoba",
           "Booth U College"
          ],
          [
           "Manitoba",
           "Brandon U"
          ],
          [
           "Manitoba",
           "Brandon U"
          ],
          [
           "Manitoba",
           "Canadian Mennonite U"
          ],
          [
           "Manitoba",
           "Canadian Mennonite U"
          ],
          [
           "Manitoba",
           "Canadian Mennonite U"
          ],
          [
           "Manitoba",
           "L'École Technique et Professionnelle"
          ],
          [
           "Manitoba",
           "L'École Technique et Professionnelle"
          ],
          [
           "Manitoba",
           "Manitoba (total)"
          ],
          [
           "Manitoba",
           "Manitoba (total)"
          ],
          [
           "Manitoba",
           "Manitoba (total)"
          ],
          [
           "Manitoba",
           "Manitoba (total)"
          ],
          [
           "Manitoba",
           "Manitoba (total)"
          ],
          [
           "Manitoba",
           "Manitoba (total)"
          ],
          [
           "Manitoba",
           "Providence U College and Theological Seminary"
          ],
          [
           "Manitoba",
           "Providence U College and Theological Seminary"
          ],
          [
           "Manitoba",
           "Providence U College and Theological Seminary"
          ],
          [
           "Manitoba",
           "Providence U College and Theological Seminary"
          ],
          [
           "Manitoba",
           "Providence U College and Theological Seminary"
          ],
          [
           "Manitoba",
           "Red River College Polytechnic"
          ],
          [
           "Manitoba",
           "Red River College Polytechnic"
          ],
          [
           "Manitoba",
           "Red River College Polytechnic"
          ],
          [
           "Manitoba",
           "Steinbach Bible College"
          ],
          [
           "Manitoba",
           "Steinbach Bible College"
          ],
          [
           "Manitoba",
           "Steinbach Bible College"
          ],
          [
           "Manitoba",
           "Steinbach Bible College"
          ],
          [
           "Manitoba",
           "U College of the North"
          ],
          [
           "Manitoba",
           "U College of the North"
          ],
          [
           "Manitoba",
           "U of Manitoba"
          ],
          [
           "Manitoba",
           "U of Manitoba"
          ],
          [
           "Manitoba",
           "U of Manitoba"
          ],
          [
           "Manitoba",
           "U of Winnipeg"
          ],
          [
           "Manitoba",
           "U of Winnipeg"
          ],
          [
           "New Brunswick",
           "Mount Allison U"
          ],
          [
           "New Brunswick",
           "Mount Allison U"
          ],
          [
           "New Brunswick",
           "Mount Allison U"
          ],
          [
           "New Brunswick",
           "New Brunswick (total)"
          ],
          [
           "New Brunswick",
           "New Brunswick (total)"
          ],
          [
           "New Brunswick",
           "New Brunswick (total)"
          ],
          [
           "New Brunswick",
           "New Brunswick (total)"
          ],
          [
           "New Brunswick",
           "St. Thomas U"
          ],
          [
           "New Brunswick",
           "St. Thomas U"
          ],
          [
           "New Brunswick",
           "St. Thomas U"
          ],
          [
           "New Brunswick",
           "U de Moncton"
          ],
          [
           "New Brunswick",
           "U de Moncton"
          ],
          [
           "New Brunswick",
           "U de Moncton"
          ],
          [
           "New Brunswick",
           "U de Moncton"
          ],
          [
           "New Brunswick",
           "U of New Brunswick"
          ],
          [
           "New Brunswick",
           "U of New Brunswick"
          ],
          [
           "New Brunswick",
           "U of New Brunswick"
          ],
          [
           "New Brunswick",
           "U of New Brunswick"
          ],
          [
           "Newfoundland and Labrador",
           "Memorial U of Newfoundland"
          ],
          [
           "Newfoundland and Labrador",
           "Memorial U of Newfoundland"
          ],
          [
           "Newfoundland and Labrador",
           "Memorial U of Newfoundland"
          ],
          [
           "Newfoundland and Labrador",
           "Memorial U of Newfoundland"
          ],
          [
           "Newfoundland and Labrador",
           "Newfoundland and Labrador (total)"
          ],
          [
           "Newfoundland and Labrador",
           "Newfoundland and Labrador (total)"
          ],
          [
           "Newfoundland and Labrador",
           "Newfoundland and Labrador (total)"
          ],
          [
           "Newfoundland and Labrador",
           "Newfoundland and Labrador (total)"
          ],
          [
           "Nova Scotia",
           "Acadia U"
          ],
          [
           "Nova Scotia",
           "Acadia U"
          ],
          [
           "Nova Scotia",
           "Acadia U"
          ],
          [
           "Nova Scotia",
           "Cape Breton U"
          ],
          [
           "Nova Scotia",
           "Cape Breton U"
          ],
          [
           "Nova Scotia",
           "Cape Breton U"
          ],
          [
           "Nova Scotia",
           "Dalhousie U"
          ],
          [
           "Nova Scotia",
           "Dalhousie U"
          ],
          [
           "Nova Scotia",
           "Dalhousie U"
          ],
          [
           "Nova Scotia",
           "Dalhousie U"
          ],
          [
           "Nova Scotia",
           "Mount Saint Vincent U"
          ],
          [
           "Nova Scotia",
           "Mount Saint Vincent U"
          ],
          [
           "Nova Scotia",
           "Mount Saint Vincent U"
          ],
          [
           "Nova Scotia",
           "Mount Saint Vincent U"
          ],
          [
           "Nova Scotia",
           "NSCAD U"
          ],
          [
           "Nova Scotia",
           "NSCAD U"
          ],
          [
           "Nova Scotia",
           "Nova Scotia (total)"
          ],
          [
           "Nova Scotia",
           "Nova Scotia (total)"
          ],
          [
           "Nova Scotia",
           "Nova Scotia (total)"
          ],
          [
           "Nova Scotia",
           "Nova Scotia (total)"
          ],
          [
           "Nova Scotia",
           "Nova Scotia (total)"
          ],
          [
           "Nova Scotia",
           "Saint Mary's U"
          ],
          [
           "Nova Scotia",
           "Saint Mary's U"
          ],
          [
           "Nova Scotia",
           "Saint Mary's U"
          ],
          [
           "Nova Scotia",
           "Saint Mary's U"
          ],
          [
           "Nova Scotia",
           "St. Francis Xavier U"
          ],
          [
           "Nova Scotia",
           "St. Francis Xavier U"
          ],
          [
           "Nova Scotia",
           "St. Francis Xavier U"
          ],
          [
           "Nova Scotia",
           "U Sainte-Anne"
          ],
          [
           "Nova Scotia",
           "U Sainte-Anne"
          ],
          [
           "Nova Scotia",
           "U Sainte-Anne"
          ],
          [
           "Nova Scotia",
           "U of King's College"
          ],
          [
           "Nova Scotia",
           "U of King's College"
          ],
          [
           "Ontario",
           "Algoma U"
          ],
          [
           "Ontario",
           "Algoma U"
          ],
          [
           "Ontario",
           "Algoma U"
          ],
          [
           "Ontario",
           "Algoma U"
          ],
          [
           "Ontario",
           "Algonquin College"
          ],
          [
           "Ontario",
           "Algonquin College"
          ],
          [
           "Ontario",
           "Brock U"
          ],
          [
           "Ontario",
           "Brock U"
          ],
          [
           "Ontario",
           "Brock U"
          ],
          [
           "Ontario",
           "Cambrian College"
          ],
          [
           "Ontario",
           "Cambrian College"
          ],
          [
           "Ontario",
           "Canadore College"
          ],
          [
           "Ontario",
           "Canadore College"
          ],
          [
           "Ontario",
           "Carleton U"
          ],
          [
           "Ontario",
           "Carleton U"
          ],
          [
           "Ontario",
           "Carleton U"
          ],
          [
           "Ontario",
           "Carleton U"
          ],
          [
           "Ontario",
           "Centennial College"
          ],
          [
           "Ontario",
           "Centennial College"
          ],
          [
           "Ontario",
           "Conestoga College"
          ],
          [
           "Ontario",
           "Conestoga College"
          ],
          [
           "Ontario",
           "Durham College"
          ],
          [
           "Ontario",
           "Durham College"
          ],
          [
           "Ontario",
           "Fanshawe College"
          ],
          [
           "Ontario",
           "Fanshawe College"
          ],
          [
           "Ontario",
           "George Brown College"
          ],
          [
           "Ontario",
           "George Brown College"
          ],
          [
           "Ontario",
           "George Brown College"
          ],
          [
           "Ontario",
           "Georgian College"
          ],
          [
           "Ontario",
           "Georgian College"
          ],
          [
           "Ontario",
           "Humber College North Campus"
          ],
          [
           "Ontario",
           "Humber College North Campus"
          ],
          [
           "Ontario",
           "Humber College North Campus"
          ],
          [
           "Ontario",
           "La Cité collégiale "
          ],
          [
           "Ontario",
           "La Cité collégiale "
          ],
          [
           "Ontario",
           "Lakehead U"
          ],
          [
           "Ontario",
           "Lakehead U"
          ],
          [
           "Ontario",
           "Lakehead U"
          ],
          [
           "Ontario",
           "Lambton College"
          ],
          [
           "Ontario",
           "Lambton College"
          ],
          [
           "Ontario",
           "Laurentian U"
          ],
          [
           "Ontario",
           "Laurentian U"
          ],
          [
           "Ontario",
           "Loyalist College"
          ],
          [
           "Ontario",
           "Loyalist College"
          ],
          [
           "Ontario",
           "McMaster U"
          ],
          [
           "Ontario",
           "McMaster U"
          ],
          [
           "Ontario",
           "McMaster U"
          ],
          [
           "Ontario",
           "Mohawk College"
          ],
          [
           "Ontario",
           "Mohawk College"
          ],
          [
           "Ontario",
           "Niagara College Canada"
          ],
          [
           "Ontario",
           "Niagara College Canada"
          ],
          [
           "Ontario",
           "Nipissing U"
          ],
          [
           "Ontario",
           "Nipissing U"
          ],
          [
           "Ontario",
           "Nipissing U"
          ],
          [
           "Ontario",
           "Northern College"
          ],
          [
           "Ontario",
           "Northern College"
          ],
          [
           "Ontario",
           "Northern Ontario School of Medicine"
          ],
          [
           "Ontario",
           "Northern Ontario School of Medicine"
          ],
          [
           "Ontario",
           "OCAD U"
          ],
          [
           "Ontario",
           "OCAD U"
          ],
          [
           "Ontario",
           "Ontario (total)"
          ],
          [
           "Ontario",
           "Ontario (total)"
          ],
          [
           "Ontario",
           "Ontario (total)"
          ],
          [
           "Ontario",
           "Ontario (total)"
          ],
          [
           "Ontario",
           "Ontario (total)"
          ],
          [
           "Ontario",
           "Ontario (total)"
          ],
          [
           "Ontario",
           "Ontario Tech U"
          ],
          [
           "Ontario",
           "Ontario Tech U"
          ],
          [
           "Ontario",
           "Queen's U"
          ],
          [
           "Ontario",
           "Queen's U"
          ],
          [
           "Ontario",
           "Queen's U"
          ],
          [
           "Ontario",
           "Queen's U"
          ],
          [
           "Ontario",
           "Sault College"
          ],
          [
           "Ontario",
           "Sault College"
          ],
          [
           "Ontario",
           "Seneca College"
          ],
          [
           "Ontario",
           "Seneca College"
          ],
          [
           "Ontario",
           "Sheridan College Institute of Technology"
          ],
          [
           "Ontario",
           "Sheridan College Institute of Technology"
          ],
          [
           "Ontario",
           "St. Clair College"
          ],
          [
           "Ontario",
           "St. Clair College"
          ],
          [
           "Ontario",
           "St. Lawrence College"
          ],
          [
           "Ontario",
           "St. Lawrence College"
          ],
          [
           "Ontario",
           "Toronto Metropolitan U"
          ],
          [
           "Ontario",
           "Toronto Metropolitan U"
          ],
          [
           "Ontario",
           "Trent U"
          ],
          [
           "Ontario",
           "Trent U"
          ],
          [
           "Ontario",
           "Trent U"
          ],
          [
           "Ontario",
           "Trent U"
          ],
          [
           "Ontario",
           "U de Hearst"
          ],
          [
           "Ontario",
           "U de Hearst"
          ],
          [
           "Ontario",
           "U de l'Ontario français"
          ],
          [
           "Ontario",
           "U de l'Ontario français"
          ],
          [
           "Ontario",
           "U of Guelph"
          ],
          [
           "Ontario",
           "U of Guelph"
          ],
          [
           "Ontario",
           "U of Guelph"
          ],
          [
           "Ontario",
           "U of Ottawa-U d'Ottawa"
          ],
          [
           "Ontario",
           "U of Ottawa-U d'Ottawa"
          ],
          [
           "Ontario",
           "U of Ottawa-U d'Ottawa"
          ],
          [
           "Ontario",
           "U of Toronto"
          ],
          [
           "Ontario",
           "U of Toronto"
          ],
          [
           "Ontario",
           "U of Toronto"
          ],
          [
           "Ontario",
           "U of Toronto"
          ],
          [
           "Ontario",
           "U of Waterloo"
          ],
          [
           "Ontario",
           "U of Waterloo"
          ],
          [
           "Ontario",
           "U of Waterloo"
          ],
          [
           "Ontario",
           "U of Windsor"
          ],
          [
           "Ontario",
           "U of Windsor"
          ],
          [
           "Ontario",
           "U of Windsor"
          ],
          [
           "Ontario",
           "U of Windsor"
          ],
          [
           "Ontario",
           "Western U"
          ],
          [
           "Ontario",
           "Western U"
          ],
          [
           "Ontario",
           "Western U"
          ],
          [
           "Ontario",
           "Wilfrid Laurier U"
          ],
          [
           "Ontario",
           "Wilfrid Laurier U"
          ],
          [
           "Ontario",
           "York U"
          ],
          [
           "Ontario",
           "York U"
          ],
          [
           "Ontario",
           "York U"
          ],
          [
           "Prince Edward Island",
           "Prince Edward Island (total)"
          ],
          [
           "Prince Edward Island",
           "Prince Edward Island (total)"
          ],
          [
           "Prince Edward Island",
           "Prince Edward Island (total)"
          ],
          [
           "Prince Edward Island",
           "U of Prince Edward Island"
          ],
          [
           "Prince Edward Island",
           "U of Prince Edward Island"
          ],
          [
           "Prince Edward Island",
           "U of Prince Edward Island"
          ],
          [
           "Quebec",
           "Bishop's U"
          ],
          [
           "Quebec",
           "Bishop's U"
          ],
          [
           "Quebec",
           "Bishop's U"
          ],
          [
           "Quebec",
           "Concordia U"
          ],
          [
           "Quebec",
           "Concordia U"
          ],
          [
           "Quebec",
           "Concordia U"
          ],
          [
           "Quebec",
           "Institut de tourisme et d'hôtellerie du Québec"
          ],
          [
           "Quebec",
           "Institut de tourisme et d'hôtellerie du Québec"
          ],
          [
           "Quebec",
           "McGill U"
          ],
          [
           "Quebec",
           "McGill U"
          ],
          [
           "Quebec",
           "McGill U"
          ],
          [
           "Quebec",
           "Quebec (total)"
          ],
          [
           "Quebec",
           "Quebec (total)"
          ],
          [
           "Quebec",
           "Quebec (total)"
          ],
          [
           "Quebec",
           "Quebec (total)"
          ],
          [
           "Quebec",
           "Télé-université"
          ],
          [
           "Quebec",
           "Télé-université"
          ],
          [
           "Quebec",
           "Télé-université"
          ],
          [
           "Quebec",
           "U Laval"
          ],
          [
           "Quebec",
           "U Laval"
          ],
          [
           "Quebec",
           "U Laval"
          ],
          [
           "Quebec",
           "U de Montréal"
          ],
          [
           "Quebec",
           "U de Montréal"
          ],
          [
           "Quebec",
           "U de Montréal"
          ],
          [
           "Quebec",
           "U de Montréal"
          ],
          [
           "Quebec",
           "U de Sherbrooke"
          ],
          [
           "Quebec",
           "U de Sherbrooke"
          ],
          [
           "Quebec",
           "U de Sherbrooke"
          ],
          [
           "Quebec",
           "U du Québec en Abitibi-Témiscamingue"
          ],
          [
           "Quebec",
           "U du Québec en Abitibi-Témiscamingue"
          ],
          [
           "Quebec",
           "U du Québec en Abitibi-Témiscamingue"
          ],
          [
           "Quebec",
           "U du Québec en Outaouais"
          ],
          [
           "Quebec",
           "U du Québec en Outaouais"
          ],
          [
           "Quebec",
           "U du Québec en Outaouais"
          ],
          [
           "Quebec",
           "U du Québec à Chicoutimi"
          ],
          [
           "Quebec",
           "U du Québec à Chicoutimi"
          ],
          [
           "Quebec",
           "U du Québec à Chicoutimi"
          ],
          [
           "Quebec",
           "U du Québec à Montréal"
          ],
          [
           "Quebec",
           "U du Québec à Montréal"
          ],
          [
           "Quebec",
           "U du Québec à Montréal"
          ],
          [
           "Quebec",
           "U du Québec à Rimouski"
          ],
          [
           "Quebec",
           "U du Québec à Rimouski"
          ],
          [
           "Quebec",
           "U du Québec à Rimouski"
          ],
          [
           "Quebec",
           "U du Québec à Trois-Rivières"
          ],
          [
           "Quebec",
           "U du Québec à Trois-Rivières"
          ],
          [
           "Quebec",
           "U du Québec à Trois-Rivières"
          ],
          [
           "Quebec",
           "École de technologie supérieure"
          ],
          [
           "Quebec",
           "École de technologie supérieure"
          ],
          [
           "Quebec",
           "École de technologie supérieure"
          ],
          [
           "Saskatchewan",
           "Saskatchewan (total)"
          ],
          [
           "Saskatchewan",
           "Saskatchewan (total)"
          ],
          [
           "Saskatchewan",
           "Saskatchewan (total)"
          ],
          [
           "Saskatchewan",
           "Saskatchewan (total)"
          ],
          [
           "Saskatchewan",
           "Saskatchewan (total)"
          ],
          [
           "Saskatchewan",
           "Saskatchewan Polytechnic"
          ],
          [
           "Saskatchewan",
           "Saskatchewan Polytechnic"
          ],
          [
           "Saskatchewan",
           "U of Regina"
          ],
          [
           "Saskatchewan",
           "U of Regina"
          ],
          [
           "Saskatchewan",
           "U of Regina"
          ],
          [
           "Saskatchewan",
           "U of Regina"
          ],
          [
           "Saskatchewan",
           "U of Regina"
          ],
          [
           "Saskatchewan",
           "U of Saskatchewan"
          ],
          [
           "Saskatchewan",
           "U of Saskatchewan"
          ],
          [
           "Saskatchewan",
           "U of Saskatchewan"
          ],
          [
           "Saskatchewan",
           "U of Saskatchewan"
          ]
         ],
         "hovertemplate": "Program type=%{x}<br>Domestic Enrolment=%{y}<br>Province/Territory=%{customdata[0]}<br>Institution Name=%{customdata[1]}<extra></extra>",
         "legendgroup": "Undergraduate program",
         "marker": {
          "color": "#19d3f3"
         },
         "name": "Undergraduate program",
         "notched": false,
         "offsetgroup": "Undergraduate program",
         "orientation": "v",
         "showlegend": true,
         "type": "box",
         "x": [
          "Undergraduate program",
          "Undergraduate program",
          "Undergraduate program",
          "Undergraduate program",
          "Undergraduate program",
          "Undergraduate program",
          "Undergraduate program",
          "Undergraduate program",
          "Undergraduate program",
          "Undergraduate program",
          "Undergraduate program",
          "Undergraduate program",
          "Undergraduate program",
          "Undergraduate program",
          "Undergraduate program",
          "Undergraduate program",
          "Undergraduate program",
          "Undergraduate program",
          "Undergraduate program",
          "Undergraduate program",
          "Undergraduate program",
          "Undergraduate program",
          "Undergraduate program",
          "Undergraduate program",
          "Undergraduate program",
          "Undergraduate program",
          "Undergraduate program",
          "Undergraduate program",
          "Undergraduate program",
          "Undergraduate program",
          "Undergraduate program",
          "Undergraduate program",
          "Undergraduate program",
          "Undergraduate program",
          "Undergraduate program",
          "Undergraduate program",
          "Undergraduate program",
          "Undergraduate program",
          "Undergraduate program",
          "Undergraduate program",
          "Undergraduate program",
          "Undergraduate program",
          "Undergraduate program",
          "Undergraduate program",
          "Undergraduate program",
          "Undergraduate program",
          "Undergraduate program",
          "Undergraduate program",
          "Undergraduate program",
          "Undergraduate program",
          "Undergraduate program",
          "Undergraduate program",
          "Undergraduate program",
          "Undergraduate program",
          "Undergraduate program",
          "Undergraduate program",
          "Undergraduate program",
          "Undergraduate program",
          "Undergraduate program",
          "Undergraduate program",
          "Undergraduate program",
          "Undergraduate program",
          "Undergraduate program",
          "Undergraduate program",
          "Undergraduate program",
          "Undergraduate program",
          "Undergraduate program",
          "Undergraduate program",
          "Undergraduate program",
          "Undergraduate program",
          "Undergraduate program",
          "Undergraduate program",
          "Undergraduate program",
          "Undergraduate program",
          "Undergraduate program",
          "Undergraduate program",
          "Undergraduate program",
          "Undergraduate program",
          "Undergraduate program",
          "Undergraduate program",
          "Undergraduate program",
          "Undergraduate program",
          "Undergraduate program",
          "Undergraduate program",
          "Undergraduate program",
          "Undergraduate program",
          "Undergraduate program",
          "Undergraduate program",
          "Undergraduate program",
          "Undergraduate program",
          "Undergraduate program",
          "Undergraduate program",
          "Undergraduate program",
          "Undergraduate program",
          "Undergraduate program",
          "Undergraduate program",
          "Undergraduate program",
          "Undergraduate program",
          "Undergraduate program",
          "Undergraduate program",
          "Undergraduate program",
          "Undergraduate program",
          "Undergraduate program",
          "Undergraduate program",
          "Undergraduate program",
          "Undergraduate program",
          "Undergraduate program",
          "Undergraduate program",
          "Undergraduate program",
          "Undergraduate program",
          "Undergraduate program",
          "Undergraduate program",
          "Undergraduate program",
          "Undergraduate program",
          "Undergraduate program",
          "Undergraduate program",
          "Undergraduate program",
          "Undergraduate program",
          "Undergraduate program",
          "Undergraduate program",
          "Undergraduate program",
          "Undergraduate program",
          "Undergraduate program",
          "Undergraduate program",
          "Undergraduate program",
          "Undergraduate program",
          "Undergraduate program",
          "Undergraduate program",
          "Undergraduate program",
          "Undergraduate program",
          "Undergraduate program",
          "Undergraduate program",
          "Undergraduate program",
          "Undergraduate program",
          "Undergraduate program",
          "Undergraduate program",
          "Undergraduate program",
          "Undergraduate program",
          "Undergraduate program",
          "Undergraduate program",
          "Undergraduate program",
          "Undergraduate program",
          "Undergraduate program",
          "Undergraduate program",
          "Undergraduate program",
          "Undergraduate program",
          "Undergraduate program",
          "Undergraduate program",
          "Undergraduate program",
          "Undergraduate program",
          "Undergraduate program",
          "Undergraduate program",
          "Undergraduate program",
          "Undergraduate program",
          "Undergraduate program",
          "Undergraduate program",
          "Undergraduate program",
          "Undergraduate program",
          "Undergraduate program",
          "Undergraduate program",
          "Undergraduate program",
          "Undergraduate program",
          "Undergraduate program",
          "Undergraduate program",
          "Undergraduate program",
          "Undergraduate program",
          "Undergraduate program",
          "Undergraduate program",
          "Undergraduate program",
          "Undergraduate program",
          "Undergraduate program",
          "Undergraduate program",
          "Undergraduate program",
          "Undergraduate program",
          "Undergraduate program",
          "Undergraduate program",
          "Undergraduate program",
          "Undergraduate program",
          "Undergraduate program",
          "Undergraduate program",
          "Undergraduate program",
          "Undergraduate program",
          "Undergraduate program",
          "Undergraduate program",
          "Undergraduate program",
          "Undergraduate program",
          "Undergraduate program",
          "Undergraduate program",
          "Undergraduate program",
          "Undergraduate program",
          "Undergraduate program",
          "Undergraduate program",
          "Undergraduate program",
          "Undergraduate program",
          "Undergraduate program",
          "Undergraduate program",
          "Undergraduate program",
          "Undergraduate program",
          "Undergraduate program",
          "Undergraduate program",
          "Undergraduate program",
          "Undergraduate program",
          "Undergraduate program",
          "Undergraduate program",
          "Undergraduate program",
          "Undergraduate program",
          "Undergraduate program",
          "Undergraduate program",
          "Undergraduate program",
          "Undergraduate program",
          "Undergraduate program",
          "Undergraduate program",
          "Undergraduate program",
          "Undergraduate program",
          "Undergraduate program",
          "Undergraduate program",
          "Undergraduate program",
          "Undergraduate program",
          "Undergraduate program",
          "Undergraduate program",
          "Undergraduate program",
          "Undergraduate program",
          "Undergraduate program",
          "Undergraduate program",
          "Undergraduate program",
          "Undergraduate program",
          "Undergraduate program",
          "Undergraduate program",
          "Undergraduate program",
          "Undergraduate program",
          "Undergraduate program",
          "Undergraduate program",
          "Undergraduate program",
          "Undergraduate program",
          "Undergraduate program",
          "Undergraduate program",
          "Undergraduate program",
          "Undergraduate program",
          "Undergraduate program",
          "Undergraduate program",
          "Undergraduate program",
          "Undergraduate program",
          "Undergraduate program",
          "Undergraduate program",
          "Undergraduate program",
          "Undergraduate program",
          "Undergraduate program",
          "Undergraduate program",
          "Undergraduate program",
          "Undergraduate program",
          "Undergraduate program",
          "Undergraduate program",
          "Undergraduate program",
          "Undergraduate program",
          "Undergraduate program",
          "Undergraduate program",
          "Undergraduate program",
          "Undergraduate program",
          "Undergraduate program",
          "Undergraduate program",
          "Undergraduate program",
          "Undergraduate program",
          "Undergraduate program",
          "Undergraduate program",
          "Undergraduate program",
          "Undergraduate program",
          "Undergraduate program",
          "Undergraduate program",
          "Undergraduate program",
          "Undergraduate program",
          "Undergraduate program",
          "Undergraduate program",
          "Undergraduate program",
          "Undergraduate program",
          "Undergraduate program",
          "Undergraduate program",
          "Undergraduate program",
          "Undergraduate program",
          "Undergraduate program",
          "Undergraduate program",
          "Undergraduate program",
          "Undergraduate program",
          "Undergraduate program",
          "Undergraduate program",
          "Undergraduate program",
          "Undergraduate program",
          "Undergraduate program",
          "Undergraduate program",
          "Undergraduate program",
          "Undergraduate program",
          "Undergraduate program",
          "Undergraduate program",
          "Undergraduate program",
          "Undergraduate program",
          "Undergraduate program",
          "Undergraduate program",
          "Undergraduate program",
          "Undergraduate program",
          "Undergraduate program",
          "Undergraduate program",
          "Undergraduate program",
          "Undergraduate program",
          "Undergraduate program",
          "Undergraduate program",
          "Undergraduate program",
          "Undergraduate program",
          "Undergraduate program",
          "Undergraduate program",
          "Undergraduate program",
          "Undergraduate program",
          "Undergraduate program",
          "Undergraduate program",
          "Undergraduate program",
          "Undergraduate program",
          "Undergraduate program",
          "Undergraduate program",
          "Undergraduate program",
          "Undergraduate program",
          "Undergraduate program",
          "Undergraduate program",
          "Undergraduate program",
          "Undergraduate program",
          "Undergraduate program",
          "Undergraduate program",
          "Undergraduate program",
          "Undergraduate program",
          "Undergraduate program",
          "Undergraduate program",
          "Undergraduate program",
          "Undergraduate program",
          "Undergraduate program",
          "Undergraduate program",
          "Undergraduate program",
          "Undergraduate program",
          "Undergraduate program",
          "Undergraduate program",
          "Undergraduate program",
          "Undergraduate program",
          "Undergraduate program",
          "Undergraduate program",
          "Undergraduate program",
          "Undergraduate program",
          "Undergraduate program",
          "Undergraduate program",
          "Undergraduate program",
          "Undergraduate program",
          "Undergraduate program",
          "Undergraduate program",
          "Undergraduate program",
          "Undergraduate program",
          "Undergraduate program",
          "Undergraduate program",
          "Undergraduate program",
          "Undergraduate program",
          "Undergraduate program",
          "Undergraduate program",
          "Undergraduate program",
          "Undergraduate program",
          "Undergraduate program",
          "Undergraduate program",
          "Undergraduate program",
          "Undergraduate program",
          "Undergraduate program",
          "Undergraduate program",
          "Undergraduate program",
          "Undergraduate program",
          "Undergraduate program",
          "Undergraduate program",
          "Undergraduate program",
          "Undergraduate program",
          "Undergraduate program",
          "Undergraduate program",
          "Undergraduate program",
          "Undergraduate program",
          "Undergraduate program",
          "Undergraduate program",
          "Undergraduate program",
          "Undergraduate program",
          "Undergraduate program",
          "Undergraduate program",
          "Undergraduate program",
          "Undergraduate program",
          "Undergraduate program",
          "Undergraduate program",
          "Undergraduate program",
          "Undergraduate program",
          "Undergraduate program",
          "Undergraduate program",
          "Undergraduate program",
          "Undergraduate program",
          "Undergraduate program",
          "Undergraduate program",
          "Undergraduate program",
          "Undergraduate program",
          "Undergraduate program",
          "Undergraduate program",
          "Undergraduate program",
          "Undergraduate program",
          "Undergraduate program",
          "Undergraduate program",
          "Undergraduate program",
          "Undergraduate program",
          "Undergraduate program",
          "Undergraduate program",
          "Undergraduate program",
          "Undergraduate program",
          "Undergraduate program",
          "Undergraduate program",
          "Undergraduate program",
          "Undergraduate program",
          "Undergraduate program",
          "Undergraduate program",
          "Undergraduate program",
          "Undergraduate program"
         ],
         "x0": " ",
         "xaxis": "x",
         "y": {
          "bdata": "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",
          "dtype": "i4"
         },
         "y0": " ",
         "yaxis": "y"
        },
        {
         "alignmentgroup": "True",
         "boxpoints": "outliers",
         "customdata": [
          [
           "Quebec",
           "Campus Notre-Dame-de-Foy"
          ],
          [
           "Quebec",
           "Campus Notre-Dame-de-Foy"
          ],
          [
           "Quebec",
           "Campus Notre-Dame-de-Foy"
          ],
          [
           "Quebec",
           "Champlain Regional College - St. Lambert Campus"
          ],
          [
           "Quebec",
           "Champlain Regional College - St. Lambert Campus"
          ],
          [
           "Quebec",
           "Champlain Regional College - St. Lambert Campus"
          ],
          [
           "Quebec",
           "Collège André-Grasset"
          ],
          [
           "Quebec",
           "Collège André-Grasset"
          ],
          [
           "Quebec",
           "Collège Centennal / Centennial College"
          ],
          [
           "Quebec",
           "Collège Centennal / Centennial College"
          ],
          [
           "Quebec",
           "Collège Dawson"
          ],
          [
           "Quebec",
           "Collège Dawson"
          ],
          [
           "Quebec",
           "Collège Ellis, campus de Drummondville"
          ],
          [
           "Quebec",
           "Collège Ellis, campus de Drummondville"
          ],
          [
           "Quebec",
           "Collège Heritage / Heritage College"
          ],
          [
           "Quebec",
           "Collège Heritage / Heritage College"
          ],
          [
           "Quebec",
           "Collège Jean-de-Brébeuf"
          ],
          [
           "Quebec",
           "Collège Jean-de-Brébeuf"
          ],
          [
           "Quebec",
           "Collège Jean-de-Brébeuf"
          ],
          [
           "Quebec",
           "Collège LaSalle"
          ],
          [
           "Quebec",
           "Collège LaSalle"
          ],
          [
           "Quebec",
           "Collège Laflèche"
          ],
          [
           "Quebec",
           "Collège Laflèche"
          ],
          [
           "Quebec",
           "Collège Laflèche"
          ],
          [
           "Quebec",
           "Collège Mérici"
          ],
          [
           "Quebec",
           "Collège Mérici"
          ],
          [
           "Quebec",
           "Collège Stanislas inc."
          ],
          [
           "Quebec",
           "Collège Stanislas inc."
          ],
          [
           "Quebec",
           "Collège TAV"
          ],
          [
           "Quebec",
           "Collège TAV"
          ],
          [
           "Quebec",
           "Collège Universel - Campus Gatineau"
          ],
          [
           "Quebec",
           "Collège Universel - Campus Gatineau"
          ],
          [
           "Quebec",
           "Collège Vanier / Vanier College"
          ],
          [
           "Quebec",
           "Collège Vanier / Vanier College"
          ],
          [
           "Quebec",
           "Collège Vanier / Vanier College"
          ],
          [
           "Quebec",
           "Collège d'Alma"
          ],
          [
           "Quebec",
           "Collège d'Alma"
          ],
          [
           "Quebec",
           "Collège d'Alma"
          ],
          [
           "Quebec",
           "Collège international Marie de France"
          ],
          [
           "Quebec",
           "Collège international Marie de France"
          ],
          [
           "Quebec",
           "Collégial international Sainte-Anne"
          ],
          [
           "Quebec",
           "Collégial international Sainte-Anne"
          ],
          [
           "Quebec",
           "CÉGEP André-Laurendeau"
          ],
          [
           "Quebec",
           "CÉGEP André-Laurendeau"
          ],
          [
           "Quebec",
           "CÉGEP Beauce-Appalaches"
          ],
          [
           "Quebec",
           "CÉGEP Beauce-Appalaches"
          ],
          [
           "Quebec",
           "CÉGEP Beauce-Appalaches"
          ],
          [
           "Quebec",
           "CÉGEP François-Xavier Garneau"
          ],
          [
           "Quebec",
           "CÉGEP François-Xavier Garneau"
          ],
          [
           "Quebec",
           "CÉGEP Gérald-Godin"
          ],
          [
           "Quebec",
           "CÉGEP Gérald-Godin"
          ],
          [
           "Quebec",
           "CÉGEP Gérald-Godin"
          ],
          [
           "Quebec",
           "CÉGEP John Abbott College"
          ],
          [
           "Quebec",
           "CÉGEP John Abbott College"
          ],
          [
           "Quebec",
           "CÉGEP John Abbott College"
          ],
          [
           "Quebec",
           "CÉGEP Limoilou"
          ],
          [
           "Quebec",
           "CÉGEP Limoilou"
          ],
          [
           "Quebec",
           "CÉGEP Limoilou"
          ],
          [
           "Quebec",
           "CÉGEP Lionel-Groulx"
          ],
          [
           "Quebec",
           "CÉGEP Lionel-Groulx"
          ],
          [
           "Quebec",
           "CÉGEP Lionel-Groulx"
          ],
          [
           "Quebec",
           "CÉGEP Marie-Victorin"
          ],
          [
           "Quebec",
           "CÉGEP Marie-Victorin"
          ],
          [
           "Quebec",
           "CÉGEP Marie-Victorin"
          ],
          [
           "Quebec",
           "CÉGEP Montmorency"
          ],
          [
           "Quebec",
           "CÉGEP Montmorency"
          ],
          [
           "Quebec",
           "CÉGEP Montmorency"
          ],
          [
           "Quebec",
           "CÉGEP Saint-Jean-sur-Richelieu"
          ],
          [
           "Quebec",
           "CÉGEP Saint-Jean-sur-Richelieu"
          ],
          [
           "Quebec",
           "CÉGEP Saint-Jean-sur-Richelieu"
          ],
          [
           "Quebec",
           "CÉGEP d'Abitibi-Témiscamingue"
          ],
          [
           "Quebec",
           "CÉGEP d'Abitibi-Témiscamingue"
          ],
          [
           "Quebec",
           "CÉGEP d'Abitibi-Témiscamingue"
          ],
          [
           "Quebec",
           "CÉGEP d'Ahuntsic"
          ],
          [
           "Quebec",
           "CÉGEP d'Ahuntsic"
          ],
          [
           "Quebec",
           "CÉGEP de Baie-Comeau"
          ],
          [
           "Quebec",
           "CÉGEP de Baie-Comeau"
          ],
          [
           "Quebec",
           "CÉGEP de Bois-de-Boulogne"
          ],
          [
           "Quebec",
           "CÉGEP de Bois-de-Boulogne"
          ],
          [
           "Quebec",
           "CÉGEP de Chicoutimi"
          ],
          [
           "Quebec",
           "CÉGEP de Chicoutimi"
          ],
          [
           "Quebec",
           "CÉGEP de Chicoutimi"
          ],
          [
           "Quebec",
           "CÉGEP de Drummondville"
          ],
          [
           "Quebec",
           "CÉGEP de Drummondville"
          ],
          [
           "Quebec",
           "CÉGEP de Drummondville"
          ],
          [
           "Quebec",
           "CÉGEP de Granby"
          ],
          [
           "Quebec",
           "CÉGEP de Granby"
          ],
          [
           "Quebec",
           "CÉGEP de Jonquière"
          ],
          [
           "Quebec",
           "CÉGEP de Jonquière"
          ],
          [
           "Quebec",
           "CÉGEP de La Pocatière"
          ],
          [
           "Quebec",
           "CÉGEP de La Pocatière"
          ],
          [
           "Quebec",
           "CÉGEP de Lévis-Lauzon"
          ],
          [
           "Quebec",
           "CÉGEP de Lévis-Lauzon"
          ],
          [
           "Quebec",
           "CÉGEP de Lévis-Lauzon"
          ],
          [
           "Quebec",
           "CÉGEP de Maisonneuve"
          ],
          [
           "Quebec",
           "CÉGEP de Maisonneuve"
          ],
          [
           "Quebec",
           "CÉGEP de Maisonneuve"
          ],
          [
           "Quebec",
           "CÉGEP de Matane"
          ],
          [
           "Quebec",
           "CÉGEP de Matane"
          ],
          [
           "Quebec",
           "CÉGEP de Rimouski"
          ],
          [
           "Quebec",
           "CÉGEP de Rimouski"
          ],
          [
           "Quebec",
           "CÉGEP de Rivière-du-Loup"
          ],
          [
           "Quebec",
           "CÉGEP de Rivière-du-Loup"
          ],
          [
           "Quebec",
           "CÉGEP de Rosemont"
          ],
          [
           "Quebec",
           "CÉGEP de Rosemont"
          ],
          [
           "Quebec",
           "CÉGEP de Saint-Félicien"
          ],
          [
           "Quebec",
           "CÉGEP de Saint-Félicien"
          ],
          [
           "Quebec",
           "CÉGEP de Saint-Félicien"
          ],
          [
           "Quebec",
           "CÉGEP de Saint-Hyacinthe"
          ],
          [
           "Quebec",
           "CÉGEP de Saint-Hyacinthe"
          ],
          [
           "Quebec",
           "CÉGEP de Saint-Jérôme"
          ],
          [
           "Quebec",
           "CÉGEP de Saint-Jérôme"
          ],
          [
           "Quebec",
           "CÉGEP de Saint-Jérôme"
          ],
          [
           "Quebec",
           "CÉGEP de Saint-Laurent"
          ],
          [
           "Quebec",
           "CÉGEP de Saint-Laurent"
          ],
          [
           "Quebec",
           "CÉGEP de Saint-Laurent"
          ],
          [
           "Quebec",
           "CÉGEP de Sainte-Foy"
          ],
          [
           "Quebec",
           "CÉGEP de Sainte-Foy"
          ],
          [
           "Quebec",
           "CÉGEP de Sainte-Foy"
          ],
          [
           "Quebec",
           "CÉGEP de Sept-Îles"
          ],
          [
           "Quebec",
           "CÉGEP de Sept-Îles"
          ],
          [
           "Quebec",
           "CÉGEP de Shawinigan"
          ],
          [
           "Quebec",
           "CÉGEP de Shawinigan"
          ],
          [
           "Quebec",
           "CÉGEP de Sherbrooke"
          ],
          [
           "Quebec",
           "CÉGEP de Sherbrooke"
          ],
          [
           "Quebec",
           "CÉGEP de Sherbrooke"
          ],
          [
           "Quebec",
           "CÉGEP de Sorel-Tracy"
          ],
          [
           "Quebec",
           "CÉGEP de Sorel-Tracy"
          ],
          [
           "Quebec",
           "CÉGEP de Thetford"
          ],
          [
           "Quebec",
           "CÉGEP de Thetford"
          ],
          [
           "Quebec",
           "CÉGEP de Trois-Rivières"
          ],
          [
           "Quebec",
           "CÉGEP de Trois-Rivières"
          ],
          [
           "Quebec",
           "CÉGEP de Trois-Rivières"
          ],
          [
           "Quebec",
           "CÉGEP de Valleyfield"
          ],
          [
           "Quebec",
           "CÉGEP de Valleyfield"
          ],
          [
           "Quebec",
           "CÉGEP de Valleyfield"
          ],
          [
           "Quebec",
           "CÉGEP de Victoriaville"
          ],
          [
           "Quebec",
           "CÉGEP de Victoriaville"
          ],
          [
           "Quebec",
           "CÉGEP de l'Outaouais"
          ],
          [
           "Quebec",
           "CÉGEP de l'Outaouais"
          ],
          [
           "Quebec",
           "CÉGEP de la Gaspésie et des Îles"
          ],
          [
           "Quebec",
           "CÉGEP de la Gaspésie et des Îles"
          ],
          [
           "Quebec",
           "CÉGEP du Vieux Montréal"
          ],
          [
           "Quebec",
           "CÉGEP du Vieux Montréal"
          ],
          [
           "Quebec",
           "CÉGEP du Vieux Montréal"
          ],
          [
           "Quebec",
           "CÉGEP régional de Lanaudière à Joliette"
          ],
          [
           "Quebec",
           "CÉGEP régional de Lanaudière à Joliette"
          ],
          [
           "Quebec",
           "CÉGEP régional de Lanaudière à Joliette"
          ],
          [
           "Quebec",
           "CÉGEP régional de Lanaudière à L'Assomption"
          ],
          [
           "Quebec",
           "CÉGEP régional de Lanaudière à L'Assomption"
          ],
          [
           "Quebec",
           "CÉGEP régional de Lanaudière à Terrebonne"
          ],
          [
           "Quebec",
           "CÉGEP régional de Lanaudière à Terrebonne"
          ],
          [
           "Quebec",
           "CÉGEP Édouard-Montpetit"
          ],
          [
           "Quebec",
           "CÉGEP Édouard-Montpetit"
          ],
          [
           "Quebec",
           "CÉGEP Édouard-Montpetit"
          ],
          [
           "Quebec",
           "Marianopolis College"
          ],
          [
           "Quebec",
           "Marianopolis College"
          ],
          [
           "Quebec",
           "Marianopolis College"
          ],
          [
           "Quebec",
           "Quebec (total)"
          ],
          [
           "Quebec",
           "Quebec (total)"
          ],
          [
           "Quebec",
           "Quebec (total)"
          ],
          [
           "Quebec",
           "Séminaire de Sherbrooke"
          ],
          [
           "Quebec",
           "Séminaire de Sherbrooke"
          ],
          [
           "Quebec",
           "École de Musique Vincent d'Indy"
          ],
          [
           "Quebec",
           "École de Musique Vincent d'Indy"
          ],
          [
           "Quebec",
           "École de Musique Vincent d'Indy"
          ],
          [
           "Saskatchewan",
           "Saskatchewan (total)"
          ],
          [
           "Saskatchewan",
           "Saskatchewan (total)"
          ],
          [
           "Saskatchewan",
           "U of Saskatchewan"
          ],
          [
           "Saskatchewan",
           "U of Saskatchewan"
          ]
         ],
         "hovertemplate": "Program type=%{x}<br>Domestic Enrolment=%{y}<br>Province/Territory=%{customdata[0]}<br>Institution Name=%{customdata[1]}<extra></extra>",
         "legendgroup": "Pre-university program",
         "marker": {
          "color": "#FF6692"
         },
         "name": "Pre-university program",
         "notched": false,
         "offsetgroup": "Pre-university program",
         "orientation": "v",
         "showlegend": true,
         "type": "box",
         "x": [
          "Pre-university program",
          "Pre-university program",
          "Pre-university program",
          "Pre-university program",
          "Pre-university program",
          "Pre-university program",
          "Pre-university program",
          "Pre-university program",
          "Pre-university program",
          "Pre-university program",
          "Pre-university program",
          "Pre-university program",
          "Pre-university program",
          "Pre-university program",
          "Pre-university program",
          "Pre-university program",
          "Pre-university program",
          "Pre-university program",
          "Pre-university program",
          "Pre-university program",
          "Pre-university program",
          "Pre-university program",
          "Pre-university program",
          "Pre-university program",
          "Pre-university program",
          "Pre-university program",
          "Pre-university program",
          "Pre-university program",
          "Pre-university program",
          "Pre-university program",
          "Pre-university program",
          "Pre-university program",
          "Pre-university program",
          "Pre-university program",
          "Pre-university program",
          "Pre-university program",
          "Pre-university program",
          "Pre-university program",
          "Pre-university program",
          "Pre-university program",
          "Pre-university program",
          "Pre-university program",
          "Pre-university program",
          "Pre-university program",
          "Pre-university program",
          "Pre-university program",
          "Pre-university program",
          "Pre-university program",
          "Pre-university program",
          "Pre-university program",
          "Pre-university program",
          "Pre-university program",
          "Pre-university program",
          "Pre-university program",
          "Pre-university program",
          "Pre-university program",
          "Pre-university program",
          "Pre-university program",
          "Pre-university program",
          "Pre-university program",
          "Pre-university program",
          "Pre-university program",
          "Pre-university program",
          "Pre-university program",
          "Pre-university program",
          "Pre-university program",
          "Pre-university program",
          "Pre-university program",
          "Pre-university program",
          "Pre-university program",
          "Pre-university program",
          "Pre-university program",
          "Pre-university program",
          "Pre-university program",
          "Pre-university program",
          "Pre-university program",
          "Pre-university program",
          "Pre-university program",
          "Pre-university program",
          "Pre-university program",
          "Pre-university program",
          "Pre-university program",
          "Pre-university program",
          "Pre-university program",
          "Pre-university program",
          "Pre-university program",
          "Pre-university program",
          "Pre-university program",
          "Pre-university program",
          "Pre-university program",
          "Pre-university program",
          "Pre-university program",
          "Pre-university program",
          "Pre-university program",
          "Pre-university program",
          "Pre-university program",
          "Pre-university program",
          "Pre-university program",
          "Pre-university program",
          "Pre-university program",
          "Pre-university program",
          "Pre-university program",
          "Pre-university program",
          "Pre-university program",
          "Pre-university program",
          "Pre-university program",
          "Pre-university program",
          "Pre-university program",
          "Pre-university program",
          "Pre-university program",
          "Pre-university program",
          "Pre-university program",
          "Pre-university program",
          "Pre-university program",
          "Pre-university program",
          "Pre-university program",
          "Pre-university program",
          "Pre-university program",
          "Pre-university program",
          "Pre-university program",
          "Pre-university program",
          "Pre-university program",
          "Pre-university program",
          "Pre-university program",
          "Pre-university program",
          "Pre-university program",
          "Pre-university program",
          "Pre-university program",
          "Pre-university program",
          "Pre-university program",
          "Pre-university program",
          "Pre-university program",
          "Pre-university program",
          "Pre-university program",
          "Pre-university program",
          "Pre-university program",
          "Pre-university program",
          "Pre-university program",
          "Pre-university program",
          "Pre-university program",
          "Pre-university program",
          "Pre-university program",
          "Pre-university program",
          "Pre-university program",
          "Pre-university program",
          "Pre-university program",
          "Pre-university program",
          "Pre-university program",
          "Pre-university program",
          "Pre-university program",
          "Pre-university program",
          "Pre-university program",
          "Pre-university program",
          "Pre-university program",
          "Pre-university program",
          "Pre-university program",
          "Pre-university program",
          "Pre-university program",
          "Pre-university program",
          "Pre-university program",
          "Pre-university program",
          "Pre-university program",
          "Pre-university program",
          "Pre-university program",
          "Pre-university program",
          "Pre-university program",
          "Pre-university program",
          "Pre-university program",
          "Pre-university program",
          "Pre-university program"
         ],
         "x0": " ",
         "xaxis": "x",
         "y": {
          "bdata": "0gAAAAYAAADVAAAAdQ8AAB4AAACQDwAA4wQAAOMEAAAwAAAAMAAAADoUAAA6FAAANgAAADYAAACyAgAAsgIAAEgGAAAMAAAAVwYAACoAAAAqAAAAGgEAAAMAAAAaAQAAMAAAADAAAABBAQAAQQEAANUAAADVAAAAZgAAAGYAAADwDwAAMAAAAB0QAABoAQAAAwAAAGsBAADDAAAAwwAAAJUBAACVAQAAbgQAAG4EAADNAgAAAwAAAM0CAABTCgAAUwoAAMECAAASAAAA1gIAALsRAABFAAAAABIAAMwGAAAnAAAA8AYAABQNAAAYAAAALw0AANgDAAAnAAAA/wMAAJsNAAAtAAAAyw0AAL4FAAAYAAAA2QUAAKMCAAAMAAAAsgIAABkIAAAZCAAAnwAAAJ8AAACUCAAAlAgAADoCAAAGAAAAQAIAAEIDAAA8AAAAfgMAAMoCAADKAgAAbQIAAG0CAADMAAAAzAAAAKgDAABCAAAA5wMAAOEMAAAnAAAABQ0AAIEAAACBAAAAggIAAIICAADzAAAA8wAAAKIDAACiAwAA4QAAAAwAAADtAAAASQgAAEkIAAAeBgAAJAAAAEIGAADwBgAAmQAAAIkHAABzCwAAdQAAAOULAADVAAAA1QAAAA4BAAAOAQAA6QcAABsAAAABCAAAJgEAACYBAAA+AQAAPgEAAPoFAAAPAAAACQYAAAMDAAAGAAAACQMAANoBAADaAQAALggAAC4IAADqAAAA6gAAAGIHAAAbAAAAfQcAALgCAAAPAAAAxwIAALEDAACxAwAAjQMAAI0DAADoCwAABgAAAO4LAADnBgAAFQAAAP8GAADZNwEA/QUAANY9AQDGAAAAxgAAAB4AAAAtAAAASwAAACQAAAAkAAAAJAAAACQAAAA=",
          "dtype": "i4"
         },
         "y0": " ",
         "yaxis": "y"
        }
       ],
       "layout": {
        "boxmode": "overlay",
        "legend": {
         "title": {
          "text": "Program type"
         },
         "tracegroupgap": 0
        },
        "template": {
         "data": {
          "bar": [
           {
            "error_x": {
             "color": "#2a3f5f"
            },
            "error_y": {
             "color": "#2a3f5f"
            },
            "marker": {
             "line": {
              "color": "#E5ECF6",
              "width": 0.5
             },
             "pattern": {
              "fillmode": "overlay",
              "size": 10,
              "solidity": 0.2
             }
            },
            "type": "bar"
           }
          ],
          "barpolar": [
           {
            "marker": {
             "line": {
              "color": "#E5ECF6",
              "width": 0.5
             },
             "pattern": {
              "fillmode": "overlay",
              "size": 10,
              "solidity": 0.2
             }
            },
            "type": "barpolar"
           }
          ],
          "carpet": [
           {
            "aaxis": {
             "endlinecolor": "#2a3f5f",
             "gridcolor": "white",
             "linecolor": "white",
             "minorgridcolor": "white",
             "startlinecolor": "#2a3f5f"
            },
            "baxis": {
             "endlinecolor": "#2a3f5f",
             "gridcolor": "white",
             "linecolor": "white",
             "minorgridcolor": "white",
             "startlinecolor": "#2a3f5f"
            },
            "type": "carpet"
           }
          ],
          "choropleth": [
           {
            "colorbar": {
             "outlinewidth": 0,
             "ticks": ""
            },
            "type": "choropleth"
           }
          ],
          "contour": [
           {
            "colorbar": {
             "outlinewidth": 0,
             "ticks": ""
            },
            "colorscale": [
             [
              0,
              "#0d0887"
             ],
             [
              0.1111111111111111,
              "#46039f"
             ],
             [
              0.2222222222222222,
              "#7201a8"
             ],
             [
              0.3333333333333333,
              "#9c179e"
             ],
             [
              0.4444444444444444,
              "#bd3786"
             ],
             [
              0.5555555555555556,
              "#d8576b"
             ],
             [
              0.6666666666666666,
              "#ed7953"
             ],
             [
              0.7777777777777778,
              "#fb9f3a"
             ],
             [
              0.8888888888888888,
              "#fdca26"
             ],
             [
              1,
              "#f0f921"
             ]
            ],
            "type": "contour"
           }
          ],
          "contourcarpet": [
           {
            "colorbar": {
             "outlinewidth": 0,
             "ticks": ""
            },
            "type": "contourcarpet"
           }
          ],
          "heatmap": [
           {
            "colorbar": {
             "outlinewidth": 0,
             "ticks": ""
            },
            "colorscale": [
             [
              0,
              "#0d0887"
             ],
             [
              0.1111111111111111,
              "#46039f"
             ],
             [
              0.2222222222222222,
              "#7201a8"
             ],
             [
              0.3333333333333333,
              "#9c179e"
             ],
             [
              0.4444444444444444,
              "#bd3786"
             ],
             [
              0.5555555555555556,
              "#d8576b"
             ],
             [
              0.6666666666666666,
              "#ed7953"
             ],
             [
              0.7777777777777778,
              "#fb9f3a"
             ],
             [
              0.8888888888888888,
              "#fdca26"
             ],
             [
              1,
              "#f0f921"
             ]
            ],
            "type": "heatmap"
           }
          ],
          "histogram": [
           {
            "marker": {
             "pattern": {
              "fillmode": "overlay",
              "size": 10,
              "solidity": 0.2
             }
            },
            "type": "histogram"
           }
          ],
          "histogram2d": [
           {
            "colorbar": {
             "outlinewidth": 0,
             "ticks": ""
            },
            "colorscale": [
             [
              0,
              "#0d0887"
             ],
             [
              0.1111111111111111,
              "#46039f"
             ],
             [
              0.2222222222222222,
              "#7201a8"
             ],
             [
              0.3333333333333333,
              "#9c179e"
             ],
             [
              0.4444444444444444,
              "#bd3786"
             ],
             [
              0.5555555555555556,
              "#d8576b"
             ],
             [
              0.6666666666666666,
              "#ed7953"
             ],
             [
              0.7777777777777778,
              "#fb9f3a"
             ],
             [
              0.8888888888888888,
              "#fdca26"
             ],
             [
              1,
              "#f0f921"
             ]
            ],
            "type": "histogram2d"
           }
          ],
          "histogram2dcontour": [
           {
            "colorbar": {
             "outlinewidth": 0,
             "ticks": ""
            },
            "colorscale": [
             [
              0,
              "#0d0887"
             ],
             [
              0.1111111111111111,
              "#46039f"
             ],
             [
              0.2222222222222222,
              "#7201a8"
             ],
             [
              0.3333333333333333,
              "#9c179e"
             ],
             [
              0.4444444444444444,
              "#bd3786"
             ],
             [
              0.5555555555555556,
              "#d8576b"
             ],
             [
              0.6666666666666666,
              "#ed7953"
             ],
             [
              0.7777777777777778,
              "#fb9f3a"
             ],
             [
              0.8888888888888888,
              "#fdca26"
             ],
             [
              1,
              "#f0f921"
             ]
            ],
            "type": "histogram2dcontour"
           }
          ],
          "mesh3d": [
           {
            "colorbar": {
             "outlinewidth": 0,
             "ticks": ""
            },
            "type": "mesh3d"
           }
          ],
          "parcoords": [
           {
            "line": {
             "colorbar": {
              "outlinewidth": 0,
              "ticks": ""
             }
            },
            "type": "parcoords"
           }
          ],
          "pie": [
           {
            "automargin": true,
            "type": "pie"
           }
          ],
          "scatter": [
           {
            "fillpattern": {
             "fillmode": "overlay",
             "size": 10,
             "solidity": 0.2
            },
            "type": "scatter"
           }
          ],
          "scatter3d": [
           {
            "line": {
             "colorbar": {
              "outlinewidth": 0,
              "ticks": ""
             }
            },
            "marker": {
             "colorbar": {
              "outlinewidth": 0,
              "ticks": ""
             }
            },
            "type": "scatter3d"
           }
          ],
          "scattercarpet": [
           {
            "marker": {
             "colorbar": {
              "outlinewidth": 0,
              "ticks": ""
             }
            },
            "type": "scattercarpet"
           }
          ],
          "scattergeo": [
           {
            "marker": {
             "colorbar": {
              "outlinewidth": 0,
              "ticks": ""
             }
            },
            "type": "scattergeo"
           }
          ],
          "scattergl": [
           {
            "marker": {
             "colorbar": {
              "outlinewidth": 0,
              "ticks": ""
             }
            },
            "type": "scattergl"
           }
          ],
          "scattermap": [
           {
            "marker": {
             "colorbar": {
              "outlinewidth": 0,
              "ticks": ""
             }
            },
            "type": "scattermap"
           }
          ],
          "scattermapbox": [
           {
            "marker": {
             "colorbar": {
              "outlinewidth": 0,
              "ticks": ""
             }
            },
            "type": "scattermapbox"
           }
          ],
          "scatterpolar": [
           {
            "marker": {
             "colorbar": {
              "outlinewidth": 0,
              "ticks": ""
             }
            },
            "type": "scatterpolar"
           }
          ],
          "scatterpolargl": [
           {
            "marker": {
             "colorbar": {
              "outlinewidth": 0,
              "ticks": ""
             }
            },
            "type": "scatterpolargl"
           }
          ],
          "scatterternary": [
           {
            "marker": {
             "colorbar": {
              "outlinewidth": 0,
              "ticks": ""
             }
            },
            "type": "scatterternary"
           }
          ],
          "surface": [
           {
            "colorbar": {
             "outlinewidth": 0,
             "ticks": ""
            },
            "colorscale": [
             [
              0,
              "#0d0887"
             ],
             [
              0.1111111111111111,
              "#46039f"
             ],
             [
              0.2222222222222222,
              "#7201a8"
             ],
             [
              0.3333333333333333,
              "#9c179e"
             ],
             [
              0.4444444444444444,
              "#bd3786"
             ],
             [
              0.5555555555555556,
              "#d8576b"
             ],
             [
              0.6666666666666666,
              "#ed7953"
             ],
             [
              0.7777777777777778,
              "#fb9f3a"
             ],
             [
              0.8888888888888888,
              "#fdca26"
             ],
             [
              1,
              "#f0f921"
             ]
            ],
            "type": "surface"
           }
          ],
          "table": [
           {
            "cells": {
             "fill": {
              "color": "#EBF0F8"
             },
             "line": {
              "color": "white"
             }
            },
            "header": {
             "fill": {
              "color": "#C8D4E3"
             },
             "line": {
              "color": "white"
             }
            },
            "type": "table"
           }
          ]
         },
         "layout": {
          "annotationdefaults": {
           "arrowcolor": "#2a3f5f",
           "arrowhead": 0,
           "arrowwidth": 1
          },
          "autotypenumbers": "strict",
          "coloraxis": {
           "colorbar": {
            "outlinewidth": 0,
            "ticks": ""
           }
          },
          "colorscale": {
           "diverging": [
            [
             0,
             "#8e0152"
            ],
            [
             0.1,
             "#c51b7d"
            ],
            [
             0.2,
             "#de77ae"
            ],
            [
             0.3,
             "#f1b6da"
            ],
            [
             0.4,
             "#fde0ef"
            ],
            [
             0.5,
             "#f7f7f7"
            ],
            [
             0.6,
             "#e6f5d0"
            ],
            [
             0.7,
             "#b8e186"
            ],
            [
             0.8,
             "#7fbc41"
            ],
            [
             0.9,
             "#4d9221"
            ],
            [
             1,
             "#276419"
            ]
           ],
           "sequential": [
            [
             0,
             "#0d0887"
            ],
            [
             0.1111111111111111,
             "#46039f"
            ],
            [
             0.2222222222222222,
             "#7201a8"
            ],
            [
             0.3333333333333333,
             "#9c179e"
            ],
            [
             0.4444444444444444,
             "#bd3786"
            ],
            [
             0.5555555555555556,
             "#d8576b"
            ],
            [
             0.6666666666666666,
             "#ed7953"
            ],
            [
             0.7777777777777778,
             "#fb9f3a"
            ],
            [
             0.8888888888888888,
             "#fdca26"
            ],
            [
             1,
             "#f0f921"
            ]
           ],
           "sequentialminus": [
            [
             0,
             "#0d0887"
            ],
            [
             0.1111111111111111,
             "#46039f"
            ],
            [
             0.2222222222222222,
             "#7201a8"
            ],
            [
             0.3333333333333333,
             "#9c179e"
            ],
            [
             0.4444444444444444,
             "#bd3786"
            ],
            [
             0.5555555555555556,
             "#d8576b"
            ],
            [
             0.6666666666666666,
             "#ed7953"
            ],
            [
             0.7777777777777778,
             "#fb9f3a"
            ],
            [
             0.8888888888888888,
             "#fdca26"
            ],
            [
             1,
             "#f0f921"
            ]
           ]
          },
          "colorway": [
           "#636efa",
           "#EF553B",
           "#00cc96",
           "#ab63fa",
           "#FFA15A",
           "#19d3f3",
           "#FF6692",
           "#B6E880",
           "#FF97FF",
           "#FECB52"
          ],
          "font": {
           "color": "#2a3f5f"
          },
          "geo": {
           "bgcolor": "white",
           "lakecolor": "white",
           "landcolor": "#E5ECF6",
           "showlakes": true,
           "showland": true,
           "subunitcolor": "white"
          },
          "hoverlabel": {
           "align": "left"
          },
          "hovermode": "closest",
          "mapbox": {
           "style": "light"
          },
          "paper_bgcolor": "white",
          "plot_bgcolor": "#E5ECF6",
          "polar": {
           "angularaxis": {
            "gridcolor": "white",
            "linecolor": "white",
            "ticks": ""
           },
           "bgcolor": "#E5ECF6",
           "radialaxis": {
            "gridcolor": "white",
            "linecolor": "white",
            "ticks": ""
           }
          },
          "scene": {
           "xaxis": {
            "backgroundcolor": "#E5ECF6",
            "gridcolor": "white",
            "gridwidth": 2,
            "linecolor": "white",
            "showbackground": true,
            "ticks": "",
            "zerolinecolor": "white"
           },
           "yaxis": {
            "backgroundcolor": "#E5ECF6",
            "gridcolor": "white",
            "gridwidth": 2,
            "linecolor": "white",
            "showbackground": true,
            "ticks": "",
            "zerolinecolor": "white"
           },
           "zaxis": {
            "backgroundcolor": "#E5ECF6",
            "gridcolor": "white",
            "gridwidth": 2,
            "linecolor": "white",
            "showbackground": true,
            "ticks": "",
            "zerolinecolor": "white"
           }
          },
          "shapedefaults": {
           "line": {
            "color": "#2a3f5f"
           }
          },
          "ternary": {
           "aaxis": {
            "gridcolor": "white",
            "linecolor": "white",
            "ticks": ""
           },
           "baxis": {
            "gridcolor": "white",
            "linecolor": "white",
            "ticks": ""
           },
           "bgcolor": "#E5ECF6",
           "caxis": {
            "gridcolor": "white",
            "linecolor": "white",
            "ticks": ""
           }
          },
          "title": {
           "x": 0.05
          },
          "xaxis": {
           "automargin": true,
           "gridcolor": "white",
           "linecolor": "white",
           "ticks": "",
           "title": {
            "standoff": 15
           },
           "zerolinecolor": "white",
           "zerolinewidth": 2
          },
          "yaxis": {
           "automargin": true,
           "gridcolor": "white",
           "linecolor": "white",
           "ticks": "",
           "title": {
            "standoff": 15
           },
           "zerolinecolor": "white",
           "zerolinewidth": 2
          }
         }
        },
        "title": {
         "text": "Domestic Enrolment by Program Type (Excluding Total)"
        },
        "xaxis": {
         "anchor": "y",
         "categoryarray": [
          "Career, technical or professional training program",
          "Graduate program (second cycle)",
          "Graduate program (third cycle)",
          "Post career, technical or professional training program",
          "Post-baccalaureate non-graduate program",
          "Undergraduate program",
          "Pre-university program"
         ],
         "categoryorder": "array",
         "domain": [
          0,
          1
         ],
         "title": {
          "text": "Program type"
         }
        },
        "yaxis": {
         "anchor": "x",
         "domain": [
          0,
          1
         ],
         "title": {
          "text": "Domestic Enrolment"
         }
        }
       }
      }
     },
     "metadata": {},
     "output_type": "display_data"
    }
   ],
   "source": [
    "# box plot of program types and their domestic enrolment, excluding Total, program type\n",
    "\n",
    "fig = px.box(\n",
    "    cleaned_program_df[\n",
    "        cleaned_program_df['Program type'] != 'Total, program type'\n",
    "    ],\n",
    "    x='Program type',\n",
    "    y='Domestic Enrolment',\n",
    "    color='Program type',\n",
    "    hover_data=['Province/Territory', 'Institution Name'],\n",
    "    points='outliers',\n",
    "    title='Domestic Enrolment by Program Type (Excluding Total)',\n",
    "    template='plotly'\n",
    ")\n",
    "\n",
    "fig.show()"
   ]
  },
  {
   "cell_type": "markdown",
   "metadata": {},
   "source": [
    "**Associate Degree** is the smallest category - is it because only a few provinces use it?\n"
   ]
  },
  {
   "cell_type": "code",
   "execution_count": null,
   "metadata": {},
   "outputs": [
    {
     "data": {
      "text/plain": [
       "array(['British Columbia', 'Manitoba'], dtype=object)"
      ]
     },
     "metadata": {},
     "output_type": "display_data"
    }
   ],
   "source": [
    "# find Associate degree and list the provinces it is used in\n",
    "cleaned_program_df[cleaned_program_df['Credential type'] == 'Associate degree']['Province/Territory'].unique()\n",
    "\n",
    "# cleaned_program_df[(cleaned_program_df['Credential type'] == 'Associate degree') ]"
   ]
  },
  {
   "cell_type": "markdown",
   "metadata": {},
   "source": [
    "Only BC and Manitoba seem to offer Associate degrees. This is a good opportunity to do some more data audit"
   ]
  },
  {
   "cell_type": "code",
   "execution_count": null,
   "metadata": {},
   "outputs": [
    {
     "data": {
      "text/html": [
       "<div>\n",
       "<style scoped>\n",
       "    .dataframe tbody tr th:only-of-type {\n",
       "        vertical-align: middle;\n",
       "    }\n",
       "\n",
       "    .dataframe tbody tr th {\n",
       "        vertical-align: top;\n",
       "    }\n",
       "\n",
       "    .dataframe thead th {\n",
       "        text-align: right;\n",
       "    }\n",
       "</style>\n",
       "<table border=\"1\" class=\"dataframe\">\n",
       "  <thead>\n",
       "    <tr style=\"text-align: right;\">\n",
       "      <th>Canadian Status</th>\n",
       "      <th>FY Start</th>\n",
       "      <th>Province/Territory</th>\n",
       "      <th>Institution Name</th>\n",
       "      <th>Program type</th>\n",
       "      <th>Credential type</th>\n",
       "      <th>Domestic Enrolment</th>\n",
       "      <th>International Enrolment</th>\n",
       "    </tr>\n",
       "  </thead>\n",
       "  <tbody>\n",
       "    <tr>\n",
       "      <th>324</th>\n",
       "      <td>2022</td>\n",
       "      <td>British Columbia</td>\n",
       "      <td>BC (total)</td>\n",
       "      <td>Total, program type</td>\n",
       "      <td>Associate degree</td>\n",
       "      <td>4725</td>\n",
       "      <td>3603</td>\n",
       "    </tr>\n",
       "    <tr>\n",
       "      <th>362</th>\n",
       "      <td>2022</td>\n",
       "      <td>British Columbia</td>\n",
       "      <td>Camosun College</td>\n",
       "      <td>Total, program type</td>\n",
       "      <td>Associate degree</td>\n",
       "      <td>351</td>\n",
       "      <td>102</td>\n",
       "    </tr>\n",
       "    <tr>\n",
       "      <th>378</th>\n",
       "      <td>2022</td>\n",
       "      <td>British Columbia</td>\n",
       "      <td>Capilano U</td>\n",
       "      <td>Total, program type</td>\n",
       "      <td>Associate degree</td>\n",
       "      <td>264</td>\n",
       "      <td>534</td>\n",
       "    </tr>\n",
       "    <tr>\n",
       "      <th>391</th>\n",
       "      <td>2022</td>\n",
       "      <td>British Columbia</td>\n",
       "      <td>Coast Mountain College</td>\n",
       "      <td>Total, program type</td>\n",
       "      <td>Associate degree</td>\n",
       "      <td>15</td>\n",
       "      <td>42</td>\n",
       "    </tr>\n",
       "    <tr>\n",
       "      <th>408</th>\n",
       "      <td>2022</td>\n",
       "      <td>British Columbia</td>\n",
       "      <td>College of New Caledonia</td>\n",
       "      <td>Total, program type</td>\n",
       "      <td>Associate degree</td>\n",
       "      <td>75</td>\n",
       "      <td>207</td>\n",
       "    </tr>\n",
       "    <tr>\n",
       "      <th>423</th>\n",
       "      <td>2022</td>\n",
       "      <td>British Columbia</td>\n",
       "      <td>College of the Rockies</td>\n",
       "      <td>Total, program type</td>\n",
       "      <td>Associate degree</td>\n",
       "      <td>48</td>\n",
       "      <td>15</td>\n",
       "    </tr>\n",
       "    <tr>\n",
       "      <th>441</th>\n",
       "      <td>2022</td>\n",
       "      <td>British Columbia</td>\n",
       "      <td>Douglas College</td>\n",
       "      <td>Total, program type</td>\n",
       "      <td>Associate degree</td>\n",
       "      <td>1296</td>\n",
       "      <td>438</td>\n",
       "    </tr>\n",
       "    <tr>\n",
       "      <th>480</th>\n",
       "      <td>2022</td>\n",
       "      <td>British Columbia</td>\n",
       "      <td>Kwantlen Polytechnic U</td>\n",
       "      <td>Total, program type</td>\n",
       "      <td>Associate degree</td>\n",
       "      <td>18</td>\n",
       "      <td>72</td>\n",
       "    </tr>\n",
       "    <tr>\n",
       "      <th>495</th>\n",
       "      <td>2022</td>\n",
       "      <td>British Columbia</td>\n",
       "      <td>Langara College</td>\n",
       "      <td>Total, program type</td>\n",
       "      <td>Associate degree</td>\n",
       "      <td>1575</td>\n",
       "      <td>1503</td>\n",
       "    </tr>\n",
       "    <tr>\n",
       "      <th>506</th>\n",
       "      <td>2022</td>\n",
       "      <td>British Columbia</td>\n",
       "      <td>Nicola Valley Institute of Technology</td>\n",
       "      <td>Total, program type</td>\n",
       "      <td>Associate degree</td>\n",
       "      <td>54</td>\n",
       "      <td>0</td>\n",
       "    </tr>\n",
       "    <tr>\n",
       "      <th>524</th>\n",
       "      <td>2022</td>\n",
       "      <td>British Columbia</td>\n",
       "      <td>North Island College</td>\n",
       "      <td>Total, program type</td>\n",
       "      <td>Associate degree</td>\n",
       "      <td>153</td>\n",
       "      <td>78</td>\n",
       "    </tr>\n",
       "    <tr>\n",
       "      <th>540</th>\n",
       "      <td>2022</td>\n",
       "      <td>British Columbia</td>\n",
       "      <td>Northern Lights College</td>\n",
       "      <td>Total, program type</td>\n",
       "      <td>Associate degree</td>\n",
       "      <td>42</td>\n",
       "      <td>96</td>\n",
       "    </tr>\n",
       "    <tr>\n",
       "      <th>555</th>\n",
       "      <td>2022</td>\n",
       "      <td>British Columbia</td>\n",
       "      <td>Okanagan College</td>\n",
       "      <td>Total, program type</td>\n",
       "      <td>Associate degree</td>\n",
       "      <td>681</td>\n",
       "      <td>306</td>\n",
       "    </tr>\n",
       "    <tr>\n",
       "      <th>585</th>\n",
       "      <td>2022</td>\n",
       "      <td>British Columbia</td>\n",
       "      <td>Selkirk College</td>\n",
       "      <td>Total, program type</td>\n",
       "      <td>Associate degree</td>\n",
       "      <td>132</td>\n",
       "      <td>90</td>\n",
       "    </tr>\n",
       "    <tr>\n",
       "      <th>625</th>\n",
       "      <td>2022</td>\n",
       "      <td>British Columbia</td>\n",
       "      <td>Thompson Rivers U</td>\n",
       "      <td>Total, program type</td>\n",
       "      <td>Associate degree</td>\n",
       "      <td>15</td>\n",
       "      <td>48</td>\n",
       "    </tr>\n",
       "    <tr>\n",
       "      <th>688</th>\n",
       "      <td>2022</td>\n",
       "      <td>British Columbia</td>\n",
       "      <td>U of the Fraser Valley</td>\n",
       "      <td>Total, program type</td>\n",
       "      <td>Associate degree</td>\n",
       "      <td>12</td>\n",
       "      <td>84</td>\n",
       "    </tr>\n",
       "    <tr>\n",
       "      <th>739</th>\n",
       "      <td>2022</td>\n",
       "      <td>Manitoba</td>\n",
       "      <td>Booth U College</td>\n",
       "      <td>Total, program type</td>\n",
       "      <td>Associate degree</td>\n",
       "      <td>0</td>\n",
       "      <td>0</td>\n",
       "    </tr>\n",
       "    <tr>\n",
       "      <th>793</th>\n",
       "      <td>2022</td>\n",
       "      <td>Manitoba</td>\n",
       "      <td>Manitoba (total)</td>\n",
       "      <td>Total, program type</td>\n",
       "      <td>Associate degree</td>\n",
       "      <td>12</td>\n",
       "      <td>3</td>\n",
       "    </tr>\n",
       "    <tr>\n",
       "      <th>816</th>\n",
       "      <td>2022</td>\n",
       "      <td>Manitoba</td>\n",
       "      <td>Providence U College and Theological Seminary</td>\n",
       "      <td>Total, program type</td>\n",
       "      <td>Associate degree</td>\n",
       "      <td>3</td>\n",
       "      <td>0</td>\n",
       "    </tr>\n",
       "    <tr>\n",
       "      <th>841</th>\n",
       "      <td>2022</td>\n",
       "      <td>Manitoba</td>\n",
       "      <td>Steinbach Bible College</td>\n",
       "      <td>Total, program type</td>\n",
       "      <td>Associate degree</td>\n",
       "      <td>6</td>\n",
       "      <td>0</td>\n",
       "    </tr>\n",
       "  </tbody>\n",
       "</table>\n",
       "</div>"
      ],
      "text/plain": [
       "Canadian Status FY Start Province/Territory  \\\n",
       "324                 2022   British Columbia   \n",
       "362                 2022   British Columbia   \n",
       "378                 2022   British Columbia   \n",
       "391                 2022   British Columbia   \n",
       "408                 2022   British Columbia   \n",
       "423                 2022   British Columbia   \n",
       "441                 2022   British Columbia   \n",
       "480                 2022   British Columbia   \n",
       "495                 2022   British Columbia   \n",
       "506                 2022   British Columbia   \n",
       "524                 2022   British Columbia   \n",
       "540                 2022   British Columbia   \n",
       "555                 2022   British Columbia   \n",
       "585                 2022   British Columbia   \n",
       "625                 2022   British Columbia   \n",
       "688                 2022   British Columbia   \n",
       "739                 2022           Manitoba   \n",
       "793                 2022           Manitoba   \n",
       "816                 2022           Manitoba   \n",
       "841                 2022           Manitoba   \n",
       "\n",
       "Canadian Status                               Institution Name  \\\n",
       "324                                                 BC (total)   \n",
       "362                                            Camosun College   \n",
       "378                                                 Capilano U   \n",
       "391                                     Coast Mountain College   \n",
       "408                                   College of New Caledonia   \n",
       "423                                     College of the Rockies   \n",
       "441                                            Douglas College   \n",
       "480                                     Kwantlen Polytechnic U   \n",
       "495                                            Langara College   \n",
       "506                      Nicola Valley Institute of Technology   \n",
       "524                                       North Island College   \n",
       "540                                    Northern Lights College   \n",
       "555                                           Okanagan College   \n",
       "585                                            Selkirk College   \n",
       "625                                          Thompson Rivers U   \n",
       "688                                     U of the Fraser Valley   \n",
       "739                                            Booth U College   \n",
       "793                                           Manitoba (total)   \n",
       "816              Providence U College and Theological Seminary   \n",
       "841                                    Steinbach Bible College   \n",
       "\n",
       "Canadian Status         Program type   Credential type  Domestic Enrolment  \\\n",
       "324              Total, program type  Associate degree                4725   \n",
       "362              Total, program type  Associate degree                 351   \n",
       "378              Total, program type  Associate degree                 264   \n",
       "391              Total, program type  Associate degree                  15   \n",
       "408              Total, program type  Associate degree                  75   \n",
       "423              Total, program type  Associate degree                  48   \n",
       "441              Total, program type  Associate degree                1296   \n",
       "480              Total, program type  Associate degree                  18   \n",
       "495              Total, program type  Associate degree                1575   \n",
       "506              Total, program type  Associate degree                  54   \n",
       "524              Total, program type  Associate degree                 153   \n",
       "540              Total, program type  Associate degree                  42   \n",
       "555              Total, program type  Associate degree                 681   \n",
       "585              Total, program type  Associate degree                 132   \n",
       "625              Total, program type  Associate degree                  15   \n",
       "688              Total, program type  Associate degree                  12   \n",
       "739              Total, program type  Associate degree                   0   \n",
       "793              Total, program type  Associate degree                  12   \n",
       "816              Total, program type  Associate degree                   3   \n",
       "841              Total, program type  Associate degree                   6   \n",
       "\n",
       "Canadian Status  International Enrolment  \n",
       "324                                 3603  \n",
       "362                                  102  \n",
       "378                                  534  \n",
       "391                                   42  \n",
       "408                                  207  \n",
       "423                                   15  \n",
       "441                                  438  \n",
       "480                                   72  \n",
       "495                                 1503  \n",
       "506                                    0  \n",
       "524                                   78  \n",
       "540                                   96  \n",
       "555                                  306  \n",
       "585                                   90  \n",
       "625                                   48  \n",
       "688                                   84  \n",
       "739                                    0  \n",
       "793                                    3  \n",
       "816                                    0  \n",
       "841                                    0  "
      ]
     },
     "metadata": {},
     "output_type": "display_data"
    }
   ],
   "source": [
    "cleaned_program_df[((cleaned_program_df['Credential type'] == 'Associate degree') & (cleaned_program_df['Program type'] == 'Total, program type'))]"
   ]
  },
  {
   "cell_type": "markdown",
   "metadata": {},
   "source": [
    "### Data audit of enrolment records against credential/programs"
   ]
  },
  {
   "cell_type": "markdown",
   "metadata": {},
   "source": [
    "In the last cell, we can see 12 people enrolled in the Associate degree programs, but the individual school entries with Associate degree sums only to 9.\n",
    "\n",
    "We can audit programatically with BC and other credential types."
   ]
  },
  {
   "cell_type": "code",
   "execution_count": null,
   "metadata": {},
   "outputs": [
    {
     "data": {
      "text/html": [
       "<div>\n",
       "<style scoped>\n",
       "    .dataframe tbody tr th:only-of-type {\n",
       "        vertical-align: middle;\n",
       "    }\n",
       "\n",
       "    .dataframe tbody tr th {\n",
       "        vertical-align: top;\n",
       "    }\n",
       "\n",
       "    .dataframe thead th {\n",
       "        text-align: right;\n",
       "    }\n",
       "</style>\n",
       "<table border=\"1\" class=\"dataframe\">\n",
       "  <thead>\n",
       "    <tr style=\"text-align: right;\">\n",
       "      <th>Canadian Status</th>\n",
       "      <th>FY Start</th>\n",
       "      <th>Province/Territory</th>\n",
       "      <th>Institution Name</th>\n",
       "      <th>Program type</th>\n",
       "      <th>Credential type</th>\n",
       "      <th>Domestic Enrolment</th>\n",
       "      <th>International Enrolment</th>\n",
       "    </tr>\n",
       "  </thead>\n",
       "  <tbody>\n",
       "    <tr>\n",
       "      <th>330</th>\n",
       "      <td>2022</td>\n",
       "      <td>British Columbia</td>\n",
       "      <td>BC (total)</td>\n",
       "      <td>Total, program type</td>\n",
       "      <td>Total, credential type</td>\n",
       "      <td>123987</td>\n",
       "      <td>53583</td>\n",
       "    </tr>\n",
       "  </tbody>\n",
       "</table>\n",
       "</div>"
      ],
      "text/plain": [
       "Canadian Status FY Start Province/Territory Institution Name  \\\n",
       "330                 2022   British Columbia       BC (total)   \n",
       "\n",
       "Canadian Status         Program type         Credential type  \\\n",
       "330              Total, program type  Total, credential type   \n",
       "\n",
       "Canadian Status  Domestic Enrolment  International Enrolment  \n",
       "330                          123987                    53583  "
      ]
     },
     "metadata": {},
     "output_type": "display_data"
    }
   ],
   "source": [
    "cleaned_program_df[(cleaned_program_df['Institution Name'] == 'BC (total)') & \n",
    "                   (cleaned_program_df['Program type'] == 'Total, program type') & \n",
    "                   (cleaned_program_df['Credential type'] == 'Total, credential type')]"
   ]
  },
  {
   "cell_type": "code",
   "execution_count": null,
   "metadata": {},
   "outputs": [
    {
     "name": "stdout",
     "output_type": "stream",
     "text": [
      "Total domestic enrolment across BC (All Programs & All Credentials record row): 123987\n",
      "\n",
      "Total domestic enrolment across BC (sum of individual credentials records): 123822\n"
     ]
    }
   ],
   "source": [
    "# Sum of domestic enrolment for BC across all programs and credentials in 2022\n",
    "\n",
    "print(f\"Total domestic enrolment across BC (All Programs & All Credentials record row): {cleaned_program_df[(cleaned_program_df['Institution Name'] == 'BC (total)') & \n",
    "                   (cleaned_program_df['Program type'] == 'Total, program type') & \n",
    "                   (cleaned_program_df['Credential type'] == 'Total, credential type')]['Domestic Enrolment'].sum()}\\n\")\n",
    "\n",
    "print(f\"Total domestic enrolment across BC (sum of individual credentials records): {cleaned_program_df[(cleaned_program_df['Province/Territory'] == 'British Columbia') & \n",
    "                    (cleaned_program_df['Institution Name'] == 'BC (total)') &\n",
    "                    ~(cleaned_program_df['Credential type'] == 'Total, credential type') &\n",
    "                    (cleaned_program_df['Program type'] == 'Total, program type')]['Domestic Enrolment'].sum()}\")"
   ]
  },
  {
   "cell_type": "markdown",
   "metadata": {},
   "source": [
    "The above cell is finding the total domestic enrolment from the individual credential type records (every record in the dataframe extract in the cell below, except the first record) and comparing with the Total all programs / Total all credentials record which is the very top record of the extract below. \n",
    "\n",
    "We can see there is a discrepancy of 165 domestic students - at 124,000 students this is a 0.13% discrepancy\n",
    "\n",
    "I'll now do the same with the international students:"
   ]
  },
  {
   "cell_type": "code",
   "execution_count": null,
   "metadata": {},
   "outputs": [
    {
     "data": {
      "text/html": [
       "<div>\n",
       "<style scoped>\n",
       "    .dataframe tbody tr th:only-of-type {\n",
       "        vertical-align: middle;\n",
       "    }\n",
       "\n",
       "    .dataframe tbody tr th {\n",
       "        vertical-align: top;\n",
       "    }\n",
       "\n",
       "    .dataframe thead th {\n",
       "        text-align: right;\n",
       "    }\n",
       "</style>\n",
       "<table border=\"1\" class=\"dataframe\">\n",
       "  <thead>\n",
       "    <tr style=\"text-align: right;\">\n",
       "      <th>Canadian Status</th>\n",
       "      <th>FY Start</th>\n",
       "      <th>Province/Territory</th>\n",
       "      <th>Institution Name</th>\n",
       "      <th>Program type</th>\n",
       "      <th>Credential type</th>\n",
       "      <th>Domestic Enrolment</th>\n",
       "      <th>International Enrolment</th>\n",
       "    </tr>\n",
       "  </thead>\n",
       "  <tbody>\n",
       "    <tr>\n",
       "      <th>330</th>\n",
       "      <td>2022</td>\n",
       "      <td>British Columbia</td>\n",
       "      <td>BC (total)</td>\n",
       "      <td>Total, program type</td>\n",
       "      <td>Total, credential type</td>\n",
       "      <td>123987</td>\n",
       "      <td>53583</td>\n",
       "    </tr>\n",
       "    <tr>\n",
       "      <th>326</th>\n",
       "      <td>2022</td>\n",
       "      <td>British Columbia</td>\n",
       "      <td>BC (total)</td>\n",
       "      <td>Total, program type</td>\n",
       "      <td>Degree (includes applied degree)</td>\n",
       "      <td>84054</td>\n",
       "      <td>26790</td>\n",
       "    </tr>\n",
       "    <tr>\n",
       "      <th>327</th>\n",
       "      <td>2022</td>\n",
       "      <td>British Columbia</td>\n",
       "      <td>BC (total)</td>\n",
       "      <td>Total, program type</td>\n",
       "      <td>Diploma</td>\n",
       "      <td>16857</td>\n",
       "      <td>16776</td>\n",
       "    </tr>\n",
       "    <tr>\n",
       "      <th>325</th>\n",
       "      <td>2022</td>\n",
       "      <td>British Columbia</td>\n",
       "      <td>BC (total)</td>\n",
       "      <td>Total, program type</td>\n",
       "      <td>Certificate</td>\n",
       "      <td>8589</td>\n",
       "      <td>1107</td>\n",
       "    </tr>\n",
       "    <tr>\n",
       "      <th>328</th>\n",
       "      <td>2022</td>\n",
       "      <td>British Columbia</td>\n",
       "      <td>BC (total)</td>\n",
       "      <td>Total, program type</td>\n",
       "      <td>Not applicable, credential type</td>\n",
       "      <td>6753</td>\n",
       "      <td>5055</td>\n",
       "    </tr>\n",
       "    <tr>\n",
       "      <th>324</th>\n",
       "      <td>2022</td>\n",
       "      <td>British Columbia</td>\n",
       "      <td>BC (total)</td>\n",
       "      <td>Total, program type</td>\n",
       "      <td>Associate degree</td>\n",
       "      <td>4725</td>\n",
       "      <td>3603</td>\n",
       "    </tr>\n",
       "    <tr>\n",
       "      <th>329</th>\n",
       "      <td>2022</td>\n",
       "      <td>British Columbia</td>\n",
       "      <td>BC (total)</td>\n",
       "      <td>Total, program type</td>\n",
       "      <td>Other type of credential associated with a pro...</td>\n",
       "      <td>2844</td>\n",
       "      <td>249</td>\n",
       "    </tr>\n",
       "  </tbody>\n",
       "</table>\n",
       "</div>"
      ],
      "text/plain": [
       "Canadian Status FY Start Province/Territory Institution Name  \\\n",
       "330                 2022   British Columbia       BC (total)   \n",
       "326                 2022   British Columbia       BC (total)   \n",
       "327                 2022   British Columbia       BC (total)   \n",
       "325                 2022   British Columbia       BC (total)   \n",
       "328                 2022   British Columbia       BC (total)   \n",
       "324                 2022   British Columbia       BC (total)   \n",
       "329                 2022   British Columbia       BC (total)   \n",
       "\n",
       "Canadian Status         Program type  \\\n",
       "330              Total, program type   \n",
       "326              Total, program type   \n",
       "327              Total, program type   \n",
       "325              Total, program type   \n",
       "328              Total, program type   \n",
       "324              Total, program type   \n",
       "329              Total, program type   \n",
       "\n",
       "Canadian Status                                    Credential type  \\\n",
       "330                                         Total, credential type   \n",
       "326                               Degree (includes applied degree)   \n",
       "327                                                        Diploma   \n",
       "325                                                    Certificate   \n",
       "328                                Not applicable, credential type   \n",
       "324                                               Associate degree   \n",
       "329              Other type of credential associated with a pro...   \n",
       "\n",
       "Canadian Status  Domestic Enrolment  International Enrolment  \n",
       "330                          123987                    53583  \n",
       "326                           84054                    26790  \n",
       "327                           16857                    16776  \n",
       "325                            8589                     1107  \n",
       "328                            6753                     5055  \n",
       "324                            4725                     3603  \n",
       "329                            2844                      249  "
      ]
     },
     "metadata": {},
     "output_type": "display_data"
    }
   ],
   "source": [
    "cleaned_program_df[(cleaned_program_df['Province/Territory'] == 'British Columbia') & \n",
    "                    (cleaned_program_df['Institution Name'] == 'BC (total)') &\n",
    "                    (cleaned_program_df['Program type'] == 'Total, program type')].sort_values(by='Domestic Enrolment', ascending=False)"
   ]
  },
  {
   "cell_type": "code",
   "execution_count": null,
   "metadata": {},
   "outputs": [
    {
     "name": "stdout",
     "output_type": "stream",
     "text": [
      "Total international enrolment across BC (All Programs & All Credentials record row): 53583\n",
      "Total international enrolment across BC (sum of individual credentials records): 53580\n"
     ]
    }
   ],
   "source": [
    "print(f\"Total international enrolment across BC (All Programs & All Credentials record row): {cleaned_program_df[(cleaned_program_df['Institution Name'] == 'BC (total)') & \n",
    "                   (cleaned_program_df['Program type'] == 'Total, program type') & \n",
    "                   (cleaned_program_df['Credential type'] == 'Total, credential type')]['International Enrolment'].sum()}\")\n",
    "\n",
    "print(f\"Total international enrolment across BC (sum of individual credentials records): {cleaned_program_df[(cleaned_program_df['Province/Territory'] == 'British Columbia') & \n",
    "                    (cleaned_program_df['Institution Name'] == 'BC (total)') &\n",
    "                    ~(cleaned_program_df['Credential type'] == 'Total, credential type') &\n",
    "                    (cleaned_program_df['Program type'] == 'Total, program type')]['International Enrolment'].sum()}\")"
   ]
  },
  {
   "cell_type": "markdown",
   "metadata": {},
   "source": [
    "This discrepancy is 3 out of 53.5k total - not even 0.01%\n",
    "\n",
    "Let's try another province"
   ]
  },
  {
   "cell_type": "code",
   "execution_count": null,
   "metadata": {},
   "outputs": [
    {
     "name": "stdout",
     "output_type": "stream",
     "text": [
      "Total international enrolment across AB (All Programs & All Credentials record row): 29139\n",
      "Total international enrolment across AB (sum of individual credentials records): 29136\n"
     ]
    }
   ],
   "source": [
    "print(f\"Total international enrolment across AB (All Programs & All Credentials record row): {cleaned_program_df[(cleaned_program_df['Institution Name'] == 'Alberta (total)') & \n",
    "                   (cleaned_program_df['Program type'] == 'Total, program type') & \n",
    "                   (cleaned_program_df['Credential type'] == 'Total, credential type')]['International Enrolment'].sum()}\")\n",
    "\n",
    "print(f\"Total international enrolment across AB (sum of individual credentials records): {cleaned_program_df[(cleaned_program_df['Province/Territory'] == 'Alberta') & \n",
    "                    (cleaned_program_df['Institution Name'] == 'Alberta (total)') &\n",
    "                    ~(cleaned_program_df['Credential type'] == 'Total, credential type') &\n",
    "                    (cleaned_program_df['Program type'] == 'Total, program type')]['International Enrolment'].sum()}\")"
   ]
  },
  {
   "cell_type": "code",
   "execution_count": null,
   "metadata": {},
   "outputs": [
    {
     "name": "stdout",
     "output_type": "stream",
     "text": [
      "Total domestic enrolment across AB (All Programs & All Credentials record row): 153537\n",
      "Total domestic enrolment across AB (sum of individual credentials records): 153543\n"
     ]
    }
   ],
   "source": [
    "print(f\"Total domestic enrolment across AB (All Programs & All Credentials record row): {cleaned_program_df[(cleaned_program_df['Institution Name'] == 'Alberta (total)') & \n",
    "                   (cleaned_program_df['Program type'] == 'Total, program type') & \n",
    "                   (cleaned_program_df['Credential type'] == 'Total, credential type')]['Domestic Enrolment'].sum()}\")\n",
    "\n",
    "print(f\"Total domestic enrolment across AB (sum of individual credentials records): {cleaned_program_df[(cleaned_program_df['Province/Territory'] == 'Alberta') & \n",
    "                    (cleaned_program_df['Institution Name'] == 'Alberta (total)') &\n",
    "                    ~(cleaned_program_df['Credential type'] == 'Total, credential type') &\n",
    "                    (cleaned_program_df['Program type'] == 'Total, program type')]['Domestic Enrolment'].sum()}\")"
   ]
  },
  {
   "cell_type": "markdown",
   "metadata": {},
   "source": [
    "Both the above Alberta enrolment stats are within single digits of the comparison - at 29k and 153k these are <0.1% discrepancies we are okay with. "
   ]
  },
  {
   "cell_type": "markdown",
   "metadata": {},
   "source": [
    "### Calculate revenue"
   ]
  },
  {
   "cell_type": "markdown",
   "metadata": {},
   "source": [
    "Things covered in this section:\n",
    "- Combining the tuition fees from `tuition` dataframe with enrolment figures in `enrolment`\n",
    "- Using tuition fees and 22/23 enrolment to calculate revenue from enrolment/tuition fees\n",
    "- Projecting 23/24 enrolment based on international % growth rates and domestic enrolment changes, to provide some estimate of 23/24 enrolment all else being equal.\n",
    "- Using hypothetical scenarios e.g. 10% drop in enrolment, 30% drop, 50% drop from international student enrolment to forecast & estimate revenue losses by school.\n",
    "\n",
    "Notes:\n",
    "- As we go forward, we should spot check enrolment in certain program types and credential types with the international enrolment from combined_df. There are probably going to be at least some inconsistencies in how a 'diploma' or 'certificate' is categorized and the average tuition fee values we're working with mean these will be informed estimates at best. But there should not be instances where specific programs / credentials have more enrolment than entire 'international' or 'domestic' students from combined_df."
   ]
  },
  {
   "cell_type": "markdown",
   "metadata": {},
   "source": [
    "## High-level conclusions:"
   ]
  },
  {
   "cell_type": "code",
   "execution_count": null,
   "metadata": {},
   "outputs": [],
   "source": []
  },
  {
   "cell_type": "markdown",
   "metadata": {},
   "source": [
    "Any relationship to population growth?"
   ]
  },
  {
   "cell_type": "markdown",
   "metadata": {},
   "source": [
    "## Next Steps"
   ]
  }
 ],
 "metadata": {
  "kernelspec": {
   "display_name": "base",
   "language": "python",
   "name": "python3"
  },
  "language_info": {
   "codemirror_mode": {
    "name": "ipython",
    "version": 3
   },
   "file_extension": ".py",
   "mimetype": "text/x-python",
   "name": "python",
   "nbconvert_exporter": "python",
   "pygments_lexer": "ipython3",
   "version": "3.12.2"
  }
 },
 "nbformat": 4,
 "nbformat_minor": 2
}
