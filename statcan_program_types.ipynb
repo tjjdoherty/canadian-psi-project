{
 "cells": [
  {
   "cell_type": "markdown",
   "metadata": {},
   "source": [
    "# StatCan Data on Program and credential type across institutions from 2011-2021"
   ]
  }
 ],
 "metadata": {
  "language_info": {
   "name": "python"
  }
 },
 "nbformat": 4,
 "nbformat_minor": 2
}
