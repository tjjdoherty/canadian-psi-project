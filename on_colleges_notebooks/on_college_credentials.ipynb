{
 "cells": [
  {
   "cell_type": "markdown",
   "metadata": {},
   "source": [
    "# Preparation & Cleaning of the ON Colleges Enrolment by Credentials worksheet"
   ]
  },
  {
   "cell_type": "code",
   "execution_count": 25,
   "metadata": {},
   "outputs": [],
   "source": [
    "# open the excel file on 22-23 Stats sheet as a pandas dataframe\n",
    "# imports\n",
    "\n",
    "import openpyxl\n",
    "import pandas as pd\n",
    "import numpy as np\n",
    "import matplotlib.pyplot as plt\n",
    "import seaborn as sns"
   ]
  },
  {
   "cell_type": "code",
   "execution_count": 26,
   "metadata": {},
   "outputs": [],
   "source": [
    "# load and read the Credentials sheet from the workbook\n",
    "creds_df = pd.read_excel('/Users/thomasdoherty/Desktop/canadian-psi-project/psi_data/cleaning_copy_excel/on_college_2012-/2012-2022 college_enrolment_headcount.xlsx', sheet_name='Credentials')"
   ]
  },
  {
   "cell_type": "code",
   "execution_count": 27,
   "metadata": {},
   "outputs": [
    {
     "data": {
      "text/html": [
       "<div>\n",
       "<style scoped>\n",
       "    .dataframe tbody tr th:only-of-type {\n",
       "        vertical-align: middle;\n",
       "    }\n",
       "\n",
       "    .dataframe tbody tr th {\n",
       "        vertical-align: top;\n",
       "    }\n",
       "\n",
       "    .dataframe thead th {\n",
       "        text-align: right;\n",
       "    }\n",
       "</style>\n",
       "<table border=\"1\" class=\"dataframe\">\n",
       "  <thead>\n",
       "    <tr style=\"text-align: right;\">\n",
       "      <th></th>\n",
       "      <th>College Name</th>\n",
       "      <th>Fiscal Year</th>\n",
       "      <th>Credential Type Description</th>\n",
       "      <th>Headcount Full-Time Fall</th>\n",
       "    </tr>\n",
       "  </thead>\n",
       "  <tbody>\n",
       "    <tr>\n",
       "      <th>0</th>\n",
       "      <td>Algonquin College</td>\n",
       "      <td>2012-2013</td>\n",
       "      <td>Certificate</td>\n",
       "      <td>2577</td>\n",
       "    </tr>\n",
       "    <tr>\n",
       "      <th>1</th>\n",
       "      <td>Algonquin College</td>\n",
       "      <td>2012-2013</td>\n",
       "      <td>Degree (includes applied degree)</td>\n",
       "      <td>381</td>\n",
       "    </tr>\n",
       "    <tr>\n",
       "      <th>2</th>\n",
       "      <td>Algonquin College</td>\n",
       "      <td>2012-2013</td>\n",
       "      <td>Diploma</td>\n",
       "      <td>13110</td>\n",
       "    </tr>\n",
       "    <tr>\n",
       "      <th>3</th>\n",
       "      <td>Algonquin College</td>\n",
       "      <td>2012-2013</td>\n",
       "      <td>General Equivalency Diploma / High School Diploma</td>\n",
       "      <td>0</td>\n",
       "    </tr>\n",
       "    <tr>\n",
       "      <th>4</th>\n",
       "      <td>Algonquin College</td>\n",
       "      <td>2012-2013</td>\n",
       "      <td>Not Available or Not Applicable</td>\n",
       "      <td>0</td>\n",
       "    </tr>\n",
       "    <tr>\n",
       "      <th>...</th>\n",
       "      <td>...</td>\n",
       "      <td>...</td>\n",
       "      <td>...</td>\n",
       "      <td>...</td>\n",
       "    </tr>\n",
       "    <tr>\n",
       "      <th>1159</th>\n",
       "      <td>St. Lawrence College</td>\n",
       "      <td>2022-2023</td>\n",
       "      <td>Certificate</td>\n",
       "      <td>2262</td>\n",
       "    </tr>\n",
       "    <tr>\n",
       "      <th>1160</th>\n",
       "      <td>St. Lawrence College</td>\n",
       "      <td>2022-2023</td>\n",
       "      <td>Degree (includes applied degree)</td>\n",
       "      <td>755</td>\n",
       "    </tr>\n",
       "    <tr>\n",
       "      <th>1161</th>\n",
       "      <td>St. Lawrence College</td>\n",
       "      <td>2022-2023</td>\n",
       "      <td>Diploma</td>\n",
       "      <td>8227</td>\n",
       "    </tr>\n",
       "    <tr>\n",
       "      <th>1162</th>\n",
       "      <td>St. Lawrence College</td>\n",
       "      <td>2022-2023</td>\n",
       "      <td>Not Applicable</td>\n",
       "      <td>0</td>\n",
       "    </tr>\n",
       "    <tr>\n",
       "      <th>1163</th>\n",
       "      <td>St. Lawrence College</td>\n",
       "      <td>2022-2023</td>\n",
       "      <td>Other type of credential associated with a pro...</td>\n",
       "      <td>0</td>\n",
       "    </tr>\n",
       "  </tbody>\n",
       "</table>\n",
       "<p>1164 rows × 4 columns</p>\n",
       "</div>"
      ],
      "text/plain": [
       "              College Name Fiscal Year  \\\n",
       "0        Algonquin College   2012-2013   \n",
       "1        Algonquin College   2012-2013   \n",
       "2        Algonquin College   2012-2013   \n",
       "3        Algonquin College   2012-2013   \n",
       "4        Algonquin College   2012-2013   \n",
       "...                    ...         ...   \n",
       "1159  St. Lawrence College   2022-2023   \n",
       "1160  St. Lawrence College   2022-2023   \n",
       "1161  St. Lawrence College   2022-2023   \n",
       "1162  St. Lawrence College   2022-2023   \n",
       "1163  St. Lawrence College   2022-2023   \n",
       "\n",
       "                            Credential Type Description  \\\n",
       "0                                           Certificate   \n",
       "1                      Degree (includes applied degree)   \n",
       "2                                               Diploma   \n",
       "3     General Equivalency Diploma / High School Diploma   \n",
       "4                       Not Available or Not Applicable   \n",
       "...                                                 ...   \n",
       "1159                                        Certificate   \n",
       "1160                   Degree (includes applied degree)   \n",
       "1161                                            Diploma   \n",
       "1162                                     Not Applicable   \n",
       "1163  Other type of credential associated with a pro...   \n",
       "\n",
       "     Headcount Full-Time Fall  \n",
       "0                        2577  \n",
       "1                         381  \n",
       "2                       13110  \n",
       "3                           0  \n",
       "4                           0  \n",
       "...                       ...  \n",
       "1159                     2262  \n",
       "1160                      755  \n",
       "1161                     8227  \n",
       "1162                        0  \n",
       "1163                        0  \n",
       "\n",
       "[1164 rows x 4 columns]"
      ]
     },
     "execution_count": 27,
     "metadata": {},
     "output_type": "execute_result"
    }
   ],
   "source": [
    "creds_df"
   ]
  },
  {
   "cell_type": "code",
   "execution_count": 28,
   "metadata": {},
   "outputs": [
    {
     "data": {
      "text/plain": [
       "(1164, 4)"
      ]
     },
     "execution_count": 28,
     "metadata": {},
     "output_type": "execute_result"
    }
   ],
   "source": [
    "creds_df.shape"
   ]
  },
  {
   "cell_type": "markdown",
   "metadata": {},
   "source": [
    "**Remember that any instances of between 0-9 in Headcount have * in them from the original MCU Data. We will replace * with 5 as an estimate**"
   ]
  },
  {
   "cell_type": "code",
   "execution_count": 46,
   "metadata": {},
   "outputs": [],
   "source": [
    "# replace instances of * in Headcount with 5\n",
    "creds_df['Headcount Full-Time Fall'] = creds_df['Headcount Full-Time Fall'].replace('*', 5)"
   ]
  },
  {
   "cell_type": "code",
   "execution_count": 47,
   "metadata": {},
   "outputs": [
    {
     "data": {
      "text/plain": [
       "(1164, 4)"
      ]
     },
     "execution_count": 47,
     "metadata": {},
     "output_type": "execute_result"
    }
   ],
   "source": [
    "creds_df.shape"
   ]
  },
  {
   "cell_type": "markdown",
   "metadata": {},
   "source": [
    "### Add a TOTAL Full-Time Enrolment figure for each school in each year, so we can build a % share of the credential in the student body"
   ]
  },
  {
   "cell_type": "code",
   "execution_count": 62,
   "metadata": {},
   "outputs": [
    {
     "data": {
      "text/plain": [
       "College Name          Fiscal Year\n",
       "Algonquin College     2012-2013      16068\n",
       "                      2013-2014      16844\n",
       "                      2014-2015      17025\n",
       "                      2015-2016      17435\n",
       "                      2016-2017      17385\n",
       "                                     ...  \n",
       "St. Lawrence College  2018-2019       8795\n",
       "                      2019-2020       9014\n",
       "                      2020-2021       9228\n",
       "                      2021-2022       9037\n",
       "                      2022-2023      11244\n",
       "Name: Headcount Full-Time Fall, Length: 264, dtype: int64"
      ]
     },
     "execution_count": 62,
     "metadata": {},
     "output_type": "execute_result"
    }
   ],
   "source": [
    "# group the data by each college, every year, and find the total head count\n",
    "creds_df.groupby(['College Name', 'Fiscal Year'])['Headcount Full-Time Fall'].sum()"
   ]
  },
  {
   "cell_type": "code",
   "execution_count": 70,
   "metadata": {},
   "outputs": [],
   "source": [
    "# add a column that displays the total headcount in that year for each college\n",
    "creds_df[\"School's Total Headcount This Year\"] = creds_df.groupby(['College Name', 'Fiscal Year'])['Headcount Full-Time Fall'].transform('sum')"
   ]
  },
  {
   "cell_type": "code",
   "execution_count": 74,
   "metadata": {},
   "outputs": [
    {
     "data": {
      "text/html": [
       "<div>\n",
       "<style scoped>\n",
       "    .dataframe tbody tr th:only-of-type {\n",
       "        vertical-align: middle;\n",
       "    }\n",
       "\n",
       "    .dataframe tbody tr th {\n",
       "        vertical-align: top;\n",
       "    }\n",
       "\n",
       "    .dataframe thead th {\n",
       "        text-align: right;\n",
       "    }\n",
       "</style>\n",
       "<table border=\"1\" class=\"dataframe\">\n",
       "  <thead>\n",
       "    <tr style=\"text-align: right;\">\n",
       "      <th></th>\n",
       "      <th>College Name</th>\n",
       "      <th>Fiscal Year</th>\n",
       "      <th>Credential Type Description</th>\n",
       "      <th>Headcount Full-Time Fall</th>\n",
       "      <th>School's Total Headcount This Year</th>\n",
       "    </tr>\n",
       "  </thead>\n",
       "  <tbody>\n",
       "    <tr>\n",
       "      <th>0</th>\n",
       "      <td>Algonquin College</td>\n",
       "      <td>2012-2013</td>\n",
       "      <td>Certificate</td>\n",
       "      <td>2577</td>\n",
       "      <td>16068</td>\n",
       "    </tr>\n",
       "    <tr>\n",
       "      <th>1</th>\n",
       "      <td>Algonquin College</td>\n",
       "      <td>2012-2013</td>\n",
       "      <td>Degree (includes applied degree)</td>\n",
       "      <td>381</td>\n",
       "      <td>16068</td>\n",
       "    </tr>\n",
       "    <tr>\n",
       "      <th>2</th>\n",
       "      <td>Algonquin College</td>\n",
       "      <td>2012-2013</td>\n",
       "      <td>Diploma</td>\n",
       "      <td>13110</td>\n",
       "      <td>16068</td>\n",
       "    </tr>\n",
       "    <tr>\n",
       "      <th>3</th>\n",
       "      <td>Algonquin College</td>\n",
       "      <td>2012-2013</td>\n",
       "      <td>General Equivalency Diploma / High School Diploma</td>\n",
       "      <td>0</td>\n",
       "      <td>16068</td>\n",
       "    </tr>\n",
       "    <tr>\n",
       "      <th>4</th>\n",
       "      <td>Algonquin College</td>\n",
       "      <td>2012-2013</td>\n",
       "      <td>Not Applicable</td>\n",
       "      <td>0</td>\n",
       "      <td>16068</td>\n",
       "    </tr>\n",
       "    <tr>\n",
       "      <th>...</th>\n",
       "      <td>...</td>\n",
       "      <td>...</td>\n",
       "      <td>...</td>\n",
       "      <td>...</td>\n",
       "      <td>...</td>\n",
       "    </tr>\n",
       "    <tr>\n",
       "      <th>1159</th>\n",
       "      <td>St. Lawrence College</td>\n",
       "      <td>2022-2023</td>\n",
       "      <td>Certificate</td>\n",
       "      <td>2262</td>\n",
       "      <td>11244</td>\n",
       "    </tr>\n",
       "    <tr>\n",
       "      <th>1160</th>\n",
       "      <td>St. Lawrence College</td>\n",
       "      <td>2022-2023</td>\n",
       "      <td>Degree (includes applied degree)</td>\n",
       "      <td>755</td>\n",
       "      <td>11244</td>\n",
       "    </tr>\n",
       "    <tr>\n",
       "      <th>1161</th>\n",
       "      <td>St. Lawrence College</td>\n",
       "      <td>2022-2023</td>\n",
       "      <td>Diploma</td>\n",
       "      <td>8227</td>\n",
       "      <td>11244</td>\n",
       "    </tr>\n",
       "    <tr>\n",
       "      <th>1162</th>\n",
       "      <td>St. Lawrence College</td>\n",
       "      <td>2022-2023</td>\n",
       "      <td>Not Applicable</td>\n",
       "      <td>0</td>\n",
       "      <td>11244</td>\n",
       "    </tr>\n",
       "    <tr>\n",
       "      <th>1163</th>\n",
       "      <td>St. Lawrence College</td>\n",
       "      <td>2022-2023</td>\n",
       "      <td>Other type of credential associated with a pro...</td>\n",
       "      <td>0</td>\n",
       "      <td>11244</td>\n",
       "    </tr>\n",
       "  </tbody>\n",
       "</table>\n",
       "<p>1164 rows × 5 columns</p>\n",
       "</div>"
      ],
      "text/plain": [
       "              College Name Fiscal Year  \\\n",
       "0        Algonquin College   2012-2013   \n",
       "1        Algonquin College   2012-2013   \n",
       "2        Algonquin College   2012-2013   \n",
       "3        Algonquin College   2012-2013   \n",
       "4        Algonquin College   2012-2013   \n",
       "...                    ...         ...   \n",
       "1159  St. Lawrence College   2022-2023   \n",
       "1160  St. Lawrence College   2022-2023   \n",
       "1161  St. Lawrence College   2022-2023   \n",
       "1162  St. Lawrence College   2022-2023   \n",
       "1163  St. Lawrence College   2022-2023   \n",
       "\n",
       "                            Credential Type Description  \\\n",
       "0                                           Certificate   \n",
       "1                      Degree (includes applied degree)   \n",
       "2                                               Diploma   \n",
       "3     General Equivalency Diploma / High School Diploma   \n",
       "4                                        Not Applicable   \n",
       "...                                                 ...   \n",
       "1159                                        Certificate   \n",
       "1160                   Degree (includes applied degree)   \n",
       "1161                                            Diploma   \n",
       "1162                                     Not Applicable   \n",
       "1163  Other type of credential associated with a pro...   \n",
       "\n",
       "      Headcount Full-Time Fall  School's Total Headcount This Year  \n",
       "0                         2577                               16068  \n",
       "1                          381                               16068  \n",
       "2                        13110                               16068  \n",
       "3                            0                               16068  \n",
       "4                            0                               16068  \n",
       "...                        ...                                 ...  \n",
       "1159                      2262                               11244  \n",
       "1160                       755                               11244  \n",
       "1161                      8227                               11244  \n",
       "1162                         0                               11244  \n",
       "1163                         0                               11244  \n",
       "\n",
       "[1164 rows x 5 columns]"
      ]
     },
     "execution_count": 74,
     "metadata": {},
     "output_type": "execute_result"
    }
   ],
   "source": [
    "creds_df"
   ]
  },
  {
   "cell_type": "markdown",
   "metadata": {},
   "source": [
    "Above: I've now added a column which allows us to calculate the share of students non a given Credential type against the entire student body.\n",
    "\n",
    "I want to clean up the lengthy and inconsistent Credential Type Descriptions. Some of the records are 'Not Applicable', some are 'Not Available or Not Applicable' so I will combine the records to state Not Applicable below"
   ]
  },
  {
   "cell_type": "code",
   "execution_count": 67,
   "metadata": {},
   "outputs": [],
   "source": [
    "creds_df.loc[\n",
    "    (creds_df['Credential Type Description'] == 'Not Applicable') | \n",
    "    (creds_df['Credential Type Description'] == 'Not Available or Not Applicable'), \n",
    "    'Credential Type Description'] = 'Not Applicable'"
   ]
  },
  {
   "cell_type": "markdown",
   "metadata": {},
   "source": [
    "I will now add **share of the student headcount** which each credential type has. What credentials dominate the school landscape?"
   ]
  },
  {
   "cell_type": "code",
   "execution_count": 79,
   "metadata": {},
   "outputs": [],
   "source": [
    "# New column which divides Headcount Full-Time Fall by School's Total Headcount This Year\n",
    "creds_df['Credential Share of Headcount'] = round((creds_df['Headcount Full-Time Fall'] / creds_df[\"School's Total Headcount This Year\"]) * 100, 2)"
   ]
  },
  {
   "cell_type": "code",
   "execution_count": 80,
   "metadata": {},
   "outputs": [
    {
     "data": {
      "text/html": [
       "<div>\n",
       "<style scoped>\n",
       "    .dataframe tbody tr th:only-of-type {\n",
       "        vertical-align: middle;\n",
       "    }\n",
       "\n",
       "    .dataframe tbody tr th {\n",
       "        vertical-align: top;\n",
       "    }\n",
       "\n",
       "    .dataframe thead th {\n",
       "        text-align: right;\n",
       "    }\n",
       "</style>\n",
       "<table border=\"1\" class=\"dataframe\">\n",
       "  <thead>\n",
       "    <tr style=\"text-align: right;\">\n",
       "      <th></th>\n",
       "      <th>College Name</th>\n",
       "      <th>Fiscal Year</th>\n",
       "      <th>Credential Type Description</th>\n",
       "      <th>Headcount Full-Time Fall</th>\n",
       "      <th>School's Total Headcount This Year</th>\n",
       "      <th>Credential Share of Headcount</th>\n",
       "    </tr>\n",
       "  </thead>\n",
       "  <tbody>\n",
       "    <tr>\n",
       "      <th>0</th>\n",
       "      <td>Algonquin College</td>\n",
       "      <td>2012-2013</td>\n",
       "      <td>Certificate</td>\n",
       "      <td>2577</td>\n",
       "      <td>16068</td>\n",
       "      <td>16.04</td>\n",
       "    </tr>\n",
       "    <tr>\n",
       "      <th>1</th>\n",
       "      <td>Algonquin College</td>\n",
       "      <td>2012-2013</td>\n",
       "      <td>Degree (includes applied degree)</td>\n",
       "      <td>381</td>\n",
       "      <td>16068</td>\n",
       "      <td>2.37</td>\n",
       "    </tr>\n",
       "    <tr>\n",
       "      <th>2</th>\n",
       "      <td>Algonquin College</td>\n",
       "      <td>2012-2013</td>\n",
       "      <td>Diploma</td>\n",
       "      <td>13110</td>\n",
       "      <td>16068</td>\n",
       "      <td>81.59</td>\n",
       "    </tr>\n",
       "    <tr>\n",
       "      <th>3</th>\n",
       "      <td>Algonquin College</td>\n",
       "      <td>2012-2013</td>\n",
       "      <td>General Equivalency Diploma / High School Diploma</td>\n",
       "      <td>0</td>\n",
       "      <td>16068</td>\n",
       "      <td>0.00</td>\n",
       "    </tr>\n",
       "    <tr>\n",
       "      <th>4</th>\n",
       "      <td>Algonquin College</td>\n",
       "      <td>2012-2013</td>\n",
       "      <td>Not Applicable</td>\n",
       "      <td>0</td>\n",
       "      <td>16068</td>\n",
       "      <td>0.00</td>\n",
       "    </tr>\n",
       "    <tr>\n",
       "      <th>...</th>\n",
       "      <td>...</td>\n",
       "      <td>...</td>\n",
       "      <td>...</td>\n",
       "      <td>...</td>\n",
       "      <td>...</td>\n",
       "      <td>...</td>\n",
       "    </tr>\n",
       "    <tr>\n",
       "      <th>1159</th>\n",
       "      <td>St. Lawrence College</td>\n",
       "      <td>2022-2023</td>\n",
       "      <td>Certificate</td>\n",
       "      <td>2262</td>\n",
       "      <td>11244</td>\n",
       "      <td>20.12</td>\n",
       "    </tr>\n",
       "    <tr>\n",
       "      <th>1160</th>\n",
       "      <td>St. Lawrence College</td>\n",
       "      <td>2022-2023</td>\n",
       "      <td>Degree (includes applied degree)</td>\n",
       "      <td>755</td>\n",
       "      <td>11244</td>\n",
       "      <td>6.71</td>\n",
       "    </tr>\n",
       "    <tr>\n",
       "      <th>1161</th>\n",
       "      <td>St. Lawrence College</td>\n",
       "      <td>2022-2023</td>\n",
       "      <td>Diploma</td>\n",
       "      <td>8227</td>\n",
       "      <td>11244</td>\n",
       "      <td>73.17</td>\n",
       "    </tr>\n",
       "    <tr>\n",
       "      <th>1162</th>\n",
       "      <td>St. Lawrence College</td>\n",
       "      <td>2022-2023</td>\n",
       "      <td>Not Applicable</td>\n",
       "      <td>0</td>\n",
       "      <td>11244</td>\n",
       "      <td>0.00</td>\n",
       "    </tr>\n",
       "    <tr>\n",
       "      <th>1163</th>\n",
       "      <td>St. Lawrence College</td>\n",
       "      <td>2022-2023</td>\n",
       "      <td>Other type of credential associated with a pro...</td>\n",
       "      <td>0</td>\n",
       "      <td>11244</td>\n",
       "      <td>0.00</td>\n",
       "    </tr>\n",
       "  </tbody>\n",
       "</table>\n",
       "<p>1164 rows × 6 columns</p>\n",
       "</div>"
      ],
      "text/plain": [
       "              College Name Fiscal Year  \\\n",
       "0        Algonquin College   2012-2013   \n",
       "1        Algonquin College   2012-2013   \n",
       "2        Algonquin College   2012-2013   \n",
       "3        Algonquin College   2012-2013   \n",
       "4        Algonquin College   2012-2013   \n",
       "...                    ...         ...   \n",
       "1159  St. Lawrence College   2022-2023   \n",
       "1160  St. Lawrence College   2022-2023   \n",
       "1161  St. Lawrence College   2022-2023   \n",
       "1162  St. Lawrence College   2022-2023   \n",
       "1163  St. Lawrence College   2022-2023   \n",
       "\n",
       "                            Credential Type Description  \\\n",
       "0                                           Certificate   \n",
       "1                      Degree (includes applied degree)   \n",
       "2                                               Diploma   \n",
       "3     General Equivalency Diploma / High School Diploma   \n",
       "4                                        Not Applicable   \n",
       "...                                                 ...   \n",
       "1159                                        Certificate   \n",
       "1160                   Degree (includes applied degree)   \n",
       "1161                                            Diploma   \n",
       "1162                                     Not Applicable   \n",
       "1163  Other type of credential associated with a pro...   \n",
       "\n",
       "      Headcount Full-Time Fall  School's Total Headcount This Year  \\\n",
       "0                         2577                               16068   \n",
       "1                          381                               16068   \n",
       "2                        13110                               16068   \n",
       "3                            0                               16068   \n",
       "4                            0                               16068   \n",
       "...                        ...                                 ...   \n",
       "1159                      2262                               11244   \n",
       "1160                       755                               11244   \n",
       "1161                      8227                               11244   \n",
       "1162                         0                               11244   \n",
       "1163                         0                               11244   \n",
       "\n",
       "      Credential Share of Headcount  \n",
       "0                             16.04  \n",
       "1                              2.37  \n",
       "2                             81.59  \n",
       "3                              0.00  \n",
       "4                              0.00  \n",
       "...                             ...  \n",
       "1159                          20.12  \n",
       "1160                           6.71  \n",
       "1161                          73.17  \n",
       "1162                           0.00  \n",
       "1163                           0.00  \n",
       "\n",
       "[1164 rows x 6 columns]"
      ]
     },
     "execution_count": 80,
     "metadata": {},
     "output_type": "execute_result"
    }
   ],
   "source": [
    "creds_df"
   ]
  },
  {
   "cell_type": "code",
   "execution_count": null,
   "metadata": {},
   "outputs": [],
   "source": []
  },
  {
   "cell_type": "code",
   "execution_count": null,
   "metadata": {},
   "outputs": [],
   "source": []
  },
  {
   "cell_type": "code",
   "execution_count": null,
   "metadata": {},
   "outputs": [],
   "source": []
  },
  {
   "cell_type": "markdown",
   "metadata": {},
   "source": []
  },
  {
   "cell_type": "markdown",
   "metadata": {},
   "source": []
  },
  {
   "cell_type": "markdown",
   "metadata": {},
   "source": [
    "## BOUNDARY: Earlier work below which may now be redundant"
   ]
  },
  {
   "cell_type": "code",
   "execution_count": 68,
   "metadata": {},
   "outputs": [
    {
     "data": {
      "text/plain": [
       "Credential Type Description\n",
       "Not Applicable                                          295\n",
       "Certificate                                             264\n",
       "Diploma                                                 264\n",
       "Degree (includes applied degree)                        210\n",
       "Other type of credential associated with a program       79\n",
       "General Equivalency Diploma / High School Diploma        27\n",
       "Attestation and other credentials for short programs     25\n",
       "Name: count, dtype: int64"
      ]
     },
     "execution_count": 68,
     "metadata": {},
     "output_type": "execute_result"
    }
   ],
   "source": [
    "# unique entries for Credential Type Description\n",
    "creds_df['Credential Type Description'].value_counts()"
   ]
  },
  {
   "cell_type": "markdown",
   "metadata": {},
   "source": [
    "I want to note whether these institutions **offer** certain qualifications like degrees, as well as the change in enrolment to these programs."
   ]
  },
  {
   "cell_type": "code",
   "execution_count": 49,
   "metadata": {},
   "outputs": [
    {
     "data": {
      "text/html": [
       "<div>\n",
       "<style scoped>\n",
       "    .dataframe tbody tr th:only-of-type {\n",
       "        vertical-align: middle;\n",
       "    }\n",
       "\n",
       "    .dataframe tbody tr th {\n",
       "        vertical-align: top;\n",
       "    }\n",
       "\n",
       "    .dataframe thead th {\n",
       "        text-align: right;\n",
       "    }\n",
       "</style>\n",
       "<table border=\"1\" class=\"dataframe\">\n",
       "  <thead>\n",
       "    <tr style=\"text-align: right;\">\n",
       "      <th></th>\n",
       "      <th>College Name</th>\n",
       "      <th>Fiscal Year</th>\n",
       "      <th>Credential Type Description</th>\n",
       "      <th>Headcount Full-Time Fall</th>\n",
       "    </tr>\n",
       "  </thead>\n",
       "  <tbody>\n",
       "    <tr>\n",
       "      <th>0</th>\n",
       "      <td>Algonquin College</td>\n",
       "      <td>2012-2013</td>\n",
       "      <td>Certificate</td>\n",
       "      <td>2577</td>\n",
       "    </tr>\n",
       "    <tr>\n",
       "      <th>5</th>\n",
       "      <td>Algonquin College</td>\n",
       "      <td>2013-2014</td>\n",
       "      <td>Certificate</td>\n",
       "      <td>2856</td>\n",
       "    </tr>\n",
       "    <tr>\n",
       "      <th>10</th>\n",
       "      <td>Algonquin College</td>\n",
       "      <td>2014-2015</td>\n",
       "      <td>Certificate</td>\n",
       "      <td>2937</td>\n",
       "    </tr>\n",
       "    <tr>\n",
       "      <th>15</th>\n",
       "      <td>Algonquin College</td>\n",
       "      <td>2015-2016</td>\n",
       "      <td>Certificate</td>\n",
       "      <td>3094</td>\n",
       "    </tr>\n",
       "    <tr>\n",
       "      <th>20</th>\n",
       "      <td>Algonquin College</td>\n",
       "      <td>2016-2017</td>\n",
       "      <td>Certificate</td>\n",
       "      <td>3075</td>\n",
       "    </tr>\n",
       "    <tr>\n",
       "      <th>...</th>\n",
       "      <td>...</td>\n",
       "      <td>...</td>\n",
       "      <td>...</td>\n",
       "      <td>...</td>\n",
       "    </tr>\n",
       "    <tr>\n",
       "      <th>1135</th>\n",
       "      <td>St. Lawrence College</td>\n",
       "      <td>2018-2019</td>\n",
       "      <td>Certificate</td>\n",
       "      <td>1067</td>\n",
       "    </tr>\n",
       "    <tr>\n",
       "      <th>1141</th>\n",
       "      <td>St. Lawrence College</td>\n",
       "      <td>2019-2020</td>\n",
       "      <td>Certificate</td>\n",
       "      <td>1150</td>\n",
       "    </tr>\n",
       "    <tr>\n",
       "      <th>1147</th>\n",
       "      <td>St. Lawrence College</td>\n",
       "      <td>2020-2021</td>\n",
       "      <td>Certificate</td>\n",
       "      <td>1022</td>\n",
       "    </tr>\n",
       "    <tr>\n",
       "      <th>1153</th>\n",
       "      <td>St. Lawrence College</td>\n",
       "      <td>2021-2022</td>\n",
       "      <td>Certificate</td>\n",
       "      <td>1431</td>\n",
       "    </tr>\n",
       "    <tr>\n",
       "      <th>1159</th>\n",
       "      <td>St. Lawrence College</td>\n",
       "      <td>2022-2023</td>\n",
       "      <td>Certificate</td>\n",
       "      <td>2262</td>\n",
       "    </tr>\n",
       "  </tbody>\n",
       "</table>\n",
       "<p>264 rows × 4 columns</p>\n",
       "</div>"
      ],
      "text/plain": [
       "              College Name Fiscal Year Credential Type Description  \\\n",
       "0        Algonquin College   2012-2013                 Certificate   \n",
       "5        Algonquin College   2013-2014                 Certificate   \n",
       "10       Algonquin College   2014-2015                 Certificate   \n",
       "15       Algonquin College   2015-2016                 Certificate   \n",
       "20       Algonquin College   2016-2017                 Certificate   \n",
       "...                    ...         ...                         ...   \n",
       "1135  St. Lawrence College   2018-2019                 Certificate   \n",
       "1141  St. Lawrence College   2019-2020                 Certificate   \n",
       "1147  St. Lawrence College   2020-2021                 Certificate   \n",
       "1153  St. Lawrence College   2021-2022                 Certificate   \n",
       "1159  St. Lawrence College   2022-2023                 Certificate   \n",
       "\n",
       "      Headcount Full-Time Fall  \n",
       "0                         2577  \n",
       "5                         2856  \n",
       "10                        2937  \n",
       "15                        3094  \n",
       "20                        3075  \n",
       "...                        ...  \n",
       "1135                      1067  \n",
       "1141                      1150  \n",
       "1147                      1022  \n",
       "1153                      1431  \n",
       "1159                      2262  \n",
       "\n",
       "[264 rows x 4 columns]"
      ]
     },
     "execution_count": 49,
     "metadata": {},
     "output_type": "execute_result"
    }
   ],
   "source": [
    "# sum of the number of students in each credential type\n",
    "creds_df[creds_df['Credential Type Description'] == 'Certificate']"
   ]
  },
  {
   "cell_type": "markdown",
   "metadata": {},
   "source": [
    "Above: That is every school in every fiscal year that has a record of a certificate credential and the headcount.\n",
    "\n",
    "Below: Same with Degrees, Diplomas, Not Applicable & Other"
   ]
  },
  {
   "cell_type": "code",
   "execution_count": 50,
   "metadata": {},
   "outputs": [],
   "source": [
    "certificates = creds_df[creds_df['Credential Type Description'] == 'Certificate']"
   ]
  },
  {
   "cell_type": "code",
   "execution_count": 51,
   "metadata": {},
   "outputs": [],
   "source": [
    "diplomas = creds_df[creds_df['Credential Type Description'] == 'Diploma']"
   ]
  },
  {
   "cell_type": "code",
   "execution_count": 52,
   "metadata": {},
   "outputs": [],
   "source": [
    "degrees = creds_df[creds_df['Credential Type Description'] == 'Degree (includes applied degree)']"
   ]
  },
  {
   "cell_type": "code",
   "execution_count": 53,
   "metadata": {},
   "outputs": [],
   "source": [
    "cred_na = creds_df[(creds_df['Credential Type Description'] == 'Not Applicable') | (creds_df['Credential Type Description'] == 'Not Available or Not Applicable')]"
   ]
  },
  {
   "cell_type": "code",
   "execution_count": 55,
   "metadata": {},
   "outputs": [],
   "source": [
    "cred_na = creds_df[(creds_df['Credential Type Description'] == 'Not Applicable') | (creds_df['Credential Type Description'] == 'Not Available or Not Applicable')]"
   ]
  },
  {
   "cell_type": "code",
   "execution_count": 56,
   "metadata": {},
   "outputs": [
    {
     "data": {
      "text/plain": [
       "Credential Type Description\n",
       "Not Applicable                                          295\n",
       "Certificate                                             264\n",
       "Diploma                                                 264\n",
       "Degree (includes applied degree)                        210\n",
       "Other type of credential associated with a program       79\n",
       "General Equivalency Diploma / High School Diploma        27\n",
       "Attestation and other credentials for short programs     25\n",
       "Name: count, dtype: int64"
      ]
     },
     "execution_count": 56,
     "metadata": {},
     "output_type": "execute_result"
    }
   ],
   "source": [
    "# check\n",
    "creds_df['Credential Type Description'].value_counts()"
   ]
  },
  {
   "cell_type": "code",
   "execution_count": 57,
   "metadata": {},
   "outputs": [],
   "source": [
    "cred_other = creds_df[creds_df['Credential Type Description'] == 'Other type of credential associated with a program']"
   ]
  },
  {
   "cell_type": "markdown",
   "metadata": {},
   "source": [
    "I don't think the GED / High School or Attestation for short programs are particularly relevant so I will ignore them for now"
   ]
  },
  {
   "cell_type": "markdown",
   "metadata": {},
   "source": [
    "**Next step: Look at the student numbers in each of those Credential types and track their changes Year-on-Year**"
   ]
  },
  {
   "cell_type": "code",
   "execution_count": 69,
   "metadata": {},
   "outputs": [
    {
     "data": {
      "text/plain": [
       "College Name          Fiscal Year\n",
       "Algonquin College     2012-2013      381\n",
       "                      2013-2014      437\n",
       "                      2014-2015      507\n",
       "                      2015-2016      548\n",
       "                      2016-2017      612\n",
       "                                    ... \n",
       "St. Lawrence College  2018-2019      855\n",
       "                      2019-2020      829\n",
       "                      2020-2021      818\n",
       "                      2021-2022      825\n",
       "                      2022-2023      755\n",
       "Name: Headcount Full-Time Fall, Length: 210, dtype: int64"
      ]
     },
     "execution_count": 69,
     "metadata": {},
     "output_type": "execute_result"
    }
   ],
   "source": [
    "# What is the headcount for degree programs for each school in each year?\n",
    "degrees.groupby(['College Name', 'Fiscal Year'])['Headcount Full-Time Fall'].sum()"
   ]
  }
 ],
 "metadata": {
  "kernelspec": {
   "display_name": "base",
   "language": "python",
   "name": "python3"
  },
  "language_info": {
   "codemirror_mode": {
    "name": "ipython",
    "version": 3
   },
   "file_extension": ".py",
   "mimetype": "text/x-python",
   "name": "python",
   "nbconvert_exporter": "python",
   "pygments_lexer": "ipython3",
   "version": "3.12.2"
  }
 },
 "nbformat": 4,
 "nbformat_minor": 2
}
