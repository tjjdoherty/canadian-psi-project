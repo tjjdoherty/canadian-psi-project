{
 "cells": [
  {
   "cell_type": "markdown",
   "metadata": {},
   "source": [
    "# Cleaning & preparation of the ON Colleges Enrolment by Credentials worksheet"
   ]
  },
  {
   "cell_type": "code",
   "execution_count": 23,
   "metadata": {},
   "outputs": [],
   "source": [
    "# open the excel file on 22-23 Stats sheet as a pandas dataframe\n",
    "# imports\n",
    "\n",
    "import openpyxl\n",
    "import pandas as pd\n",
    "import numpy as np\n",
    "import matplotlib.pyplot as plt\n",
    "import seaborn as sns\n"
   ]
  },
  {
   "cell_type": "code",
   "execution_count": 10,
   "metadata": {},
   "outputs": [],
   "source": [
    "# load and read the Credentials sheet from the workbook\n",
    "creds_df = pd.read_excel('/Users/thomasdoherty/Desktop/canadian-psi-project/psi_data/cleaning_copy_excel/on_college_2012-/2012-2022 college_enrolment_headcount.xlsx', sheet_name='Credentials')"
   ]
  },
  {
   "cell_type": "code",
   "execution_count": 11,
   "metadata": {},
   "outputs": [
    {
     "data": {
      "text/html": [
       "<div>\n",
       "<style scoped>\n",
       "    .dataframe tbody tr th:only-of-type {\n",
       "        vertical-align: middle;\n",
       "    }\n",
       "\n",
       "    .dataframe tbody tr th {\n",
       "        vertical-align: top;\n",
       "    }\n",
       "\n",
       "    .dataframe thead th {\n",
       "        text-align: right;\n",
       "    }\n",
       "</style>\n",
       "<table border=\"1\" class=\"dataframe\">\n",
       "  <thead>\n",
       "    <tr style=\"text-align: right;\">\n",
       "      <th></th>\n",
       "      <th>College Name</th>\n",
       "      <th>Fiscal Year</th>\n",
       "      <th>Credential Type Description</th>\n",
       "      <th>Headcount Full-Time Fall</th>\n",
       "    </tr>\n",
       "  </thead>\n",
       "  <tbody>\n",
       "    <tr>\n",
       "      <th>0</th>\n",
       "      <td>Algonquin College</td>\n",
       "      <td>2012-2013</td>\n",
       "      <td>Certificate</td>\n",
       "      <td>2577</td>\n",
       "    </tr>\n",
       "    <tr>\n",
       "      <th>1</th>\n",
       "      <td>Algonquin College</td>\n",
       "      <td>2012-2013</td>\n",
       "      <td>Degree (includes applied degree)</td>\n",
       "      <td>381</td>\n",
       "    </tr>\n",
       "    <tr>\n",
       "      <th>2</th>\n",
       "      <td>Algonquin College</td>\n",
       "      <td>2012-2013</td>\n",
       "      <td>Diploma</td>\n",
       "      <td>13110</td>\n",
       "    </tr>\n",
       "    <tr>\n",
       "      <th>3</th>\n",
       "      <td>Algonquin College</td>\n",
       "      <td>2012-2013</td>\n",
       "      <td>General Equivalency Diploma / High School Diploma</td>\n",
       "      <td>0</td>\n",
       "    </tr>\n",
       "    <tr>\n",
       "      <th>4</th>\n",
       "      <td>Algonquin College</td>\n",
       "      <td>2012-2013</td>\n",
       "      <td>Not Available or Not Applicable</td>\n",
       "      <td>0</td>\n",
       "    </tr>\n",
       "    <tr>\n",
       "      <th>...</th>\n",
       "      <td>...</td>\n",
       "      <td>...</td>\n",
       "      <td>...</td>\n",
       "      <td>...</td>\n",
       "    </tr>\n",
       "    <tr>\n",
       "      <th>1159</th>\n",
       "      <td>St. Lawrence College</td>\n",
       "      <td>2022-2023</td>\n",
       "      <td>Certificate</td>\n",
       "      <td>2262</td>\n",
       "    </tr>\n",
       "    <tr>\n",
       "      <th>1160</th>\n",
       "      <td>St. Lawrence College</td>\n",
       "      <td>2022-2023</td>\n",
       "      <td>Degree (includes applied degree)</td>\n",
       "      <td>755</td>\n",
       "    </tr>\n",
       "    <tr>\n",
       "      <th>1161</th>\n",
       "      <td>St. Lawrence College</td>\n",
       "      <td>2022-2023</td>\n",
       "      <td>Diploma</td>\n",
       "      <td>8227</td>\n",
       "    </tr>\n",
       "    <tr>\n",
       "      <th>1162</th>\n",
       "      <td>St. Lawrence College</td>\n",
       "      <td>2022-2023</td>\n",
       "      <td>Not Applicable</td>\n",
       "      <td>0</td>\n",
       "    </tr>\n",
       "    <tr>\n",
       "      <th>1163</th>\n",
       "      <td>St. Lawrence College</td>\n",
       "      <td>2022-2023</td>\n",
       "      <td>Other type of credential associated with a pro...</td>\n",
       "      <td>0</td>\n",
       "    </tr>\n",
       "  </tbody>\n",
       "</table>\n",
       "<p>1164 rows × 4 columns</p>\n",
       "</div>"
      ],
      "text/plain": [
       "              College Name Fiscal Year  \\\n",
       "0        Algonquin College   2012-2013   \n",
       "1        Algonquin College   2012-2013   \n",
       "2        Algonquin College   2012-2013   \n",
       "3        Algonquin College   2012-2013   \n",
       "4        Algonquin College   2012-2013   \n",
       "...                    ...         ...   \n",
       "1159  St. Lawrence College   2022-2023   \n",
       "1160  St. Lawrence College   2022-2023   \n",
       "1161  St. Lawrence College   2022-2023   \n",
       "1162  St. Lawrence College   2022-2023   \n",
       "1163  St. Lawrence College   2022-2023   \n",
       "\n",
       "                            Credential Type Description  \\\n",
       "0                                           Certificate   \n",
       "1                      Degree (includes applied degree)   \n",
       "2                                               Diploma   \n",
       "3     General Equivalency Diploma / High School Diploma   \n",
       "4                       Not Available or Not Applicable   \n",
       "...                                                 ...   \n",
       "1159                                        Certificate   \n",
       "1160                   Degree (includes applied degree)   \n",
       "1161                                            Diploma   \n",
       "1162                                     Not Applicable   \n",
       "1163  Other type of credential associated with a pro...   \n",
       "\n",
       "     Headcount Full-Time Fall  \n",
       "0                        2577  \n",
       "1                         381  \n",
       "2                       13110  \n",
       "3                           0  \n",
       "4                           0  \n",
       "...                       ...  \n",
       "1159                     2262  \n",
       "1160                      755  \n",
       "1161                     8227  \n",
       "1162                        0  \n",
       "1163                        0  \n",
       "\n",
       "[1164 rows x 4 columns]"
      ]
     },
     "execution_count": 11,
     "metadata": {},
     "output_type": "execute_result"
    }
   ],
   "source": [
    "creds_df"
   ]
  },
  {
   "cell_type": "code",
   "execution_count": 12,
   "metadata": {},
   "outputs": [
    {
     "data": {
      "text/plain": [
       "(1164, 4)"
      ]
     },
     "execution_count": 12,
     "metadata": {},
     "output_type": "execute_result"
    }
   ],
   "source": [
    "creds_df.shape"
   ]
  },
  {
   "cell_type": "code",
   "execution_count": 13,
   "metadata": {},
   "outputs": [
    {
     "data": {
      "text/plain": [
       "Credential Type Description\n",
       "Certificate                                             264\n",
       "Diploma                                                 264\n",
       "Degree (includes applied degree)                        210\n",
       "Not Applicable                                          163\n",
       "Not Available or Not Applicable                         132\n",
       "Other type of credential associated with a program       79\n",
       "General Equivalency Diploma / High School Diploma        27\n",
       "Attestation and other credentials for short programs     25\n",
       "Name: count, dtype: int64"
      ]
     },
     "execution_count": 13,
     "metadata": {},
     "output_type": "execute_result"
    }
   ],
   "source": [
    "# unique entries for Credential Type Description\n",
    "creds_df['Credential Type Description'].value_counts()"
   ]
  },
  {
   "cell_type": "markdown",
   "metadata": {},
   "source": [
    "I need to explore carefully - the above numbers just tell me how many times this field was recorded, nothing about headcount on those programs.\n",
    "\n",
    "I also want to note whether these institutions **offer** certain qualifications like degrees, as well as the change in enrolment to these programs.\n",
    "Structure the call step by step:"
   ]
  },
  {
   "cell_type": "code",
   "execution_count": 14,
   "metadata": {},
   "outputs": [
    {
     "data": {
      "text/html": [
       "<div>\n",
       "<style scoped>\n",
       "    .dataframe tbody tr th:only-of-type {\n",
       "        vertical-align: middle;\n",
       "    }\n",
       "\n",
       "    .dataframe tbody tr th {\n",
       "        vertical-align: top;\n",
       "    }\n",
       "\n",
       "    .dataframe thead th {\n",
       "        text-align: right;\n",
       "    }\n",
       "</style>\n",
       "<table border=\"1\" class=\"dataframe\">\n",
       "  <thead>\n",
       "    <tr style=\"text-align: right;\">\n",
       "      <th></th>\n",
       "      <th>College Name</th>\n",
       "      <th>Fiscal Year</th>\n",
       "      <th>Credential Type Description</th>\n",
       "      <th>Headcount Full-Time Fall</th>\n",
       "    </tr>\n",
       "  </thead>\n",
       "  <tbody>\n",
       "    <tr>\n",
       "      <th>0</th>\n",
       "      <td>Algonquin College</td>\n",
       "      <td>2012-2013</td>\n",
       "      <td>Certificate</td>\n",
       "      <td>2577</td>\n",
       "    </tr>\n",
       "    <tr>\n",
       "      <th>5</th>\n",
       "      <td>Algonquin College</td>\n",
       "      <td>2013-2014</td>\n",
       "      <td>Certificate</td>\n",
       "      <td>2856</td>\n",
       "    </tr>\n",
       "    <tr>\n",
       "      <th>10</th>\n",
       "      <td>Algonquin College</td>\n",
       "      <td>2014-2015</td>\n",
       "      <td>Certificate</td>\n",
       "      <td>2937</td>\n",
       "    </tr>\n",
       "    <tr>\n",
       "      <th>15</th>\n",
       "      <td>Algonquin College</td>\n",
       "      <td>2015-2016</td>\n",
       "      <td>Certificate</td>\n",
       "      <td>3094</td>\n",
       "    </tr>\n",
       "    <tr>\n",
       "      <th>20</th>\n",
       "      <td>Algonquin College</td>\n",
       "      <td>2016-2017</td>\n",
       "      <td>Certificate</td>\n",
       "      <td>3075</td>\n",
       "    </tr>\n",
       "    <tr>\n",
       "      <th>...</th>\n",
       "      <td>...</td>\n",
       "      <td>...</td>\n",
       "      <td>...</td>\n",
       "      <td>...</td>\n",
       "    </tr>\n",
       "    <tr>\n",
       "      <th>1135</th>\n",
       "      <td>St. Lawrence College</td>\n",
       "      <td>2018-2019</td>\n",
       "      <td>Certificate</td>\n",
       "      <td>1067</td>\n",
       "    </tr>\n",
       "    <tr>\n",
       "      <th>1141</th>\n",
       "      <td>St. Lawrence College</td>\n",
       "      <td>2019-2020</td>\n",
       "      <td>Certificate</td>\n",
       "      <td>1150</td>\n",
       "    </tr>\n",
       "    <tr>\n",
       "      <th>1147</th>\n",
       "      <td>St. Lawrence College</td>\n",
       "      <td>2020-2021</td>\n",
       "      <td>Certificate</td>\n",
       "      <td>1022</td>\n",
       "    </tr>\n",
       "    <tr>\n",
       "      <th>1153</th>\n",
       "      <td>St. Lawrence College</td>\n",
       "      <td>2021-2022</td>\n",
       "      <td>Certificate</td>\n",
       "      <td>1431</td>\n",
       "    </tr>\n",
       "    <tr>\n",
       "      <th>1159</th>\n",
       "      <td>St. Lawrence College</td>\n",
       "      <td>2022-2023</td>\n",
       "      <td>Certificate</td>\n",
       "      <td>2262</td>\n",
       "    </tr>\n",
       "  </tbody>\n",
       "</table>\n",
       "<p>264 rows × 4 columns</p>\n",
       "</div>"
      ],
      "text/plain": [
       "              College Name Fiscal Year Credential Type Description  \\\n",
       "0        Algonquin College   2012-2013                 Certificate   \n",
       "5        Algonquin College   2013-2014                 Certificate   \n",
       "10       Algonquin College   2014-2015                 Certificate   \n",
       "15       Algonquin College   2015-2016                 Certificate   \n",
       "20       Algonquin College   2016-2017                 Certificate   \n",
       "...                    ...         ...                         ...   \n",
       "1135  St. Lawrence College   2018-2019                 Certificate   \n",
       "1141  St. Lawrence College   2019-2020                 Certificate   \n",
       "1147  St. Lawrence College   2020-2021                 Certificate   \n",
       "1153  St. Lawrence College   2021-2022                 Certificate   \n",
       "1159  St. Lawrence College   2022-2023                 Certificate   \n",
       "\n",
       "     Headcount Full-Time Fall  \n",
       "0                        2577  \n",
       "5                        2856  \n",
       "10                       2937  \n",
       "15                       3094  \n",
       "20                       3075  \n",
       "...                       ...  \n",
       "1135                     1067  \n",
       "1141                     1150  \n",
       "1147                     1022  \n",
       "1153                     1431  \n",
       "1159                     2262  \n",
       "\n",
       "[264 rows x 4 columns]"
      ]
     },
     "execution_count": 14,
     "metadata": {},
     "output_type": "execute_result"
    }
   ],
   "source": [
    "# sum of the number of students in each credential type\n",
    "creds_df[creds_df['Credential Type Description'] == 'Certificate']"
   ]
  },
  {
   "cell_type": "markdown",
   "metadata": {},
   "source": [
    "Above: That is every school in every fiscal year that has a record of a certificate credential and the headcount.\n",
    "\n",
    "Below: Same with Degrees, Diplomas, Not Applicable & Other"
   ]
  },
  {
   "cell_type": "code",
   "execution_count": 15,
   "metadata": {},
   "outputs": [],
   "source": [
    "certificates = creds_df[creds_df['Credential Type Description'] == 'Certificate']"
   ]
  },
  {
   "cell_type": "code",
   "execution_count": 16,
   "metadata": {},
   "outputs": [],
   "source": [
    "diplomas = creds_df[creds_df['Credential Type Description'] == 'Diploma']"
   ]
  },
  {
   "cell_type": "code",
   "execution_count": 17,
   "metadata": {},
   "outputs": [],
   "source": [
    "degrees = creds_df[creds_df['Credential Type Description'] == 'Degree (includes applied degree)']"
   ]
  },
  {
   "cell_type": "code",
   "execution_count": 18,
   "metadata": {},
   "outputs": [],
   "source": [
    "cred_na = creds_df[(creds_df['Credential Type Description'] == 'Not Applicable') | (creds_df['Credential Type Description'] == 'Not Available or Not Applicable')]"
   ]
  },
  {
   "cell_type": "markdown",
   "metadata": {},
   "source": [
    "Above: Some of the records are 'Not Applicable', some are 'Not Available or Not Applicable' so I will combine the records to state Not Applicable below"
   ]
  },
  {
   "cell_type": "code",
   "execution_count": 19,
   "metadata": {},
   "outputs": [],
   "source": [
    "creds_df.loc[\n",
    "    (creds_df['Credential Type Description'] == 'Not Applicable') | \n",
    "    (creds_df['Credential Type Description'] == 'Not Available or Not Applicable'), \n",
    "    'Credential Type Description'] = 'Not Applicable'"
   ]
  },
  {
   "cell_type": "code",
   "execution_count": 20,
   "metadata": {},
   "outputs": [],
   "source": [
    "cred_na = creds_df[(creds_df['Credential Type Description'] == 'Not Applicable') | (creds_df['Credential Type Description'] == 'Not Available or Not Applicable')]"
   ]
  },
  {
   "cell_type": "code",
   "execution_count": 21,
   "metadata": {},
   "outputs": [
    {
     "data": {
      "text/plain": [
       "Credential Type Description\n",
       "Not Applicable                                          295\n",
       "Certificate                                             264\n",
       "Diploma                                                 264\n",
       "Degree (includes applied degree)                        210\n",
       "Other type of credential associated with a program       79\n",
       "General Equivalency Diploma / High School Diploma        27\n",
       "Attestation and other credentials for short programs     25\n",
       "Name: count, dtype: int64"
      ]
     },
     "execution_count": 21,
     "metadata": {},
     "output_type": "execute_result"
    }
   ],
   "source": [
    "# check\n",
    "creds_df['Credential Type Description'].value_counts()"
   ]
  },
  {
   "cell_type": "code",
   "execution_count": 22,
   "metadata": {},
   "outputs": [],
   "source": [
    "cred_other = creds_df[creds_df['Credential Type Description'] == 'Other type of credential associated with a program']"
   ]
  }
 ],
 "metadata": {
  "kernelspec": {
   "display_name": "base",
   "language": "python",
   "name": "python3"
  },
  "language_info": {
   "codemirror_mode": {
    "name": "ipython",
    "version": 3
   },
   "file_extension": ".py",
   "mimetype": "text/x-python",
   "name": "python",
   "nbconvert_exporter": "python",
   "pygments_lexer": "ipython3",
   "version": "3.12.2"
  }
 },
 "nbformat": 4,
 "nbformat_minor": 2
}
