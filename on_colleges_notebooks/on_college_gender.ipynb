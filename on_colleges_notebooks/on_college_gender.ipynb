{
 "cells": [
  {
   "cell_type": "code",
   "execution_count": null,
   "metadata": {
    "vscode": {
     "languageId": "plaintext"
    }
   },
   "outputs": [],
   "source": [
    "gender_sheet = wb['Gender']\n",
    "\n",
    "gender_data = gender_sheet.values\n",
    "\n",
    "# convert to dataframe, first row is a header as it's column names\n",
    "cols = next(gender_data)\n",
    "gender_df = pd.DataFrame(gender_data, columns=cols)"
   ]
  }
 ],
 "metadata": {
  "language_info": {
   "name": "python"
  }
 },
 "nbformat": 4,
 "nbformat_minor": 2
}
