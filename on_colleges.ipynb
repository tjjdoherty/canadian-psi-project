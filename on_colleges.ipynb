{
 "cells": [
  {
   "cell_type": "markdown",
   "metadata": {},
   "source": [
    "## Data Cleaning & Feature engineering for ON College enrollments via Excel import\n",
    "\n",
    "Some of this has been done for ON 2022-23 in Excel as I knew how to clean in that\n",
    "\n",
    "The excel workbooks for have multiple sheets arranged by student age, gender, status in Canada etc...I will import individual sheets and add columns of interest to one unified df with all the information of interest."
   ]
  }
 ],
 "metadata": {
  "language_info": {
   "name": "python"
  }
 },
 "nbformat": 4,
 "nbformat_minor": 2
}
