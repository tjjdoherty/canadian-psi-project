{
 "cells": [
  {
   "cell_type": "markdown",
   "metadata": {},
   "source": [
    "# ON Colleges - campus enrolment\n",
    "\n",
    "Using the Ontario MCU data to drill into campus (including PCPP) enrolment, growth in each campus."
   ]
  },
  {
   "cell_type": "markdown",
   "metadata": {},
   "source": [
    "## Key Notes\n",
    "\n",
    "The data for Ontario Colleges, with PCPPs that drove a lot of international student growth, are likely worth exploring specifically. \n",
    "- [Ontario MCU's Policy Directive on PCPPs](https://files.ontario.ca/mcu-public-college-private-partnerships-march-2023-en-2023-03-14.pdf). Stipulates a maximum of 7,500 international students enrolled through these schemes, which we can examine here. Which schools got close to this figure / exceeded it, if this rule came in as a revision to the original directive.\n",
    "- [Analysis of PCPPs by HEQC in Ontario](https://heqco.ca/pub/public-college-private-partnerships-lessons-learned-for-ontarios-postsecondary-education-system/) - paper explores the enrolment in the PCPP programs against labour market needs via job postings - I will look at the CIP list by IRCC\n",
    "\n",
    "- [List of PCPPs in Ontario](https://pcici.ca/public-private-partnership-colleges-ontario/). Verify these in conjunction with Ontario enrolment from MCU, which lists enrolment by Campus\n",
    "    - From HEQC above: *A moratorium on new partnerships between 2017 and 2019 followed a government review that documented risks associated with the partnership arrangements. Identified risks included quality assurance and the impact of enrolment growth on students, institutions and the system (Trick, 2017). **At that time, six colleges operated nine PCPP programs.*** Find out who.\n",
    "    - Also scrape their websites to see program offerings and what may have changes (now in 2025)\n",
    "    - Labour Market Information Council (LMIC) Canadian Job Trends dashboard "
   ]
  },
  {
   "cell_type": "code",
   "execution_count": 1,
   "metadata": {},
   "outputs": [],
   "source": [
    "# read the data from the sheet\n",
    "\n",
    "import openpyxl\n",
    "import pandas as pd\n",
    "import numpy as np\n",
    "import matplotlib.pyplot as plt\n",
    "import seaborn as sns\n",
    "\n",
    "# open the excel file\n",
    "wb = openpyxl.load_workbook('/Users/thomasdoherty/Desktop/canadian-psi-project/psi_data/raw_excel/ont_college_2012-/2012-2022 college_enrolment_headcount_raw.xlsx')"
   ]
  },
  {
   "cell_type": "code",
   "execution_count": 2,
   "metadata": {},
   "outputs": [
    {
     "data": {
      "text/plain": [
       "['Age',\n",
       " 'Campus',\n",
       " 'Credentials',\n",
       " 'Gender',\n",
       " 'Study Level',\n",
       " 'Tongue',\n",
       " 'Program',\n",
       " 'Status',\n",
       " 'Country',\n",
       " 'CIP']"
      ]
     },
     "execution_count": 2,
     "metadata": {},
     "output_type": "execute_result"
    }
   ],
   "source": [
    "wb.sheetnames"
   ]
  },
  {
   "cell_type": "code",
   "execution_count": 3,
   "metadata": {},
   "outputs": [],
   "source": [
    "campus = wb['Campus']\n",
    "\n",
    "# convert the wb sheet to a pandas dataframe\n",
    "df = pd.DataFrame(campus.values)\n",
    "# first row is the column names\n",
    "df.columns = df.iloc[0]\n",
    "df = df[1:]\n"
   ]
  },
  {
   "cell_type": "code",
   "execution_count": 4,
   "metadata": {},
   "outputs": [
    {
     "data": {
      "text/html": [
       "<div>\n",
       "<style scoped>\n",
       "    .dataframe tbody tr th:only-of-type {\n",
       "        vertical-align: middle;\n",
       "    }\n",
       "\n",
       "    .dataframe tbody tr th {\n",
       "        vertical-align: top;\n",
       "    }\n",
       "\n",
       "    .dataframe thead th {\n",
       "        text-align: right;\n",
       "    }\n",
       "</style>\n",
       "<table border=\"1\" class=\"dataframe\">\n",
       "  <thead>\n",
       "    <tr style=\"text-align: right;\">\n",
       "      <th></th>\n",
       "      <th>College Name</th>\n",
       "      <th>Fiscal Year</th>\n",
       "      <th>Campus Name</th>\n",
       "      <th>Headcount Full-Time Fall</th>\n",
       "    </tr>\n",
       "  </thead>\n",
       "  <tbody>\n",
       "    <tr>\n",
       "      <th>1</th>\n",
       "      <td>Algonquin College</td>\n",
       "      <td>2012-2013</td>\n",
       "      <td>255 Albert</td>\n",
       "      <td>0</td>\n",
       "    </tr>\n",
       "    <tr>\n",
       "      <th>2</th>\n",
       "      <td>Algonquin College</td>\n",
       "      <td>2012-2013</td>\n",
       "      <td>Confederation High School</td>\n",
       "      <td>0</td>\n",
       "    </tr>\n",
       "    <tr>\n",
       "      <th>3</th>\n",
       "      <td>Algonquin College</td>\n",
       "      <td>2012-2013</td>\n",
       "      <td>Heritage Institute - Perth Campus</td>\n",
       "      <td>251</td>\n",
       "    </tr>\n",
       "    <tr>\n",
       "      <th>4</th>\n",
       "      <td>Algonquin College</td>\n",
       "      <td>2012-2013</td>\n",
       "      <td>Ottawa Campus</td>\n",
       "      <td>15122</td>\n",
       "    </tr>\n",
       "    <tr>\n",
       "      <th>5</th>\n",
       "      <td>Algonquin College</td>\n",
       "      <td>2012-2013</td>\n",
       "      <td>Ottawa Valley - Pembroke Campus</td>\n",
       "      <td>695</td>\n",
       "    </tr>\n",
       "    <tr>\n",
       "      <th>...</th>\n",
       "      <td>...</td>\n",
       "      <td>...</td>\n",
       "      <td>...</td>\n",
       "      <td>...</td>\n",
       "    </tr>\n",
       "    <tr>\n",
       "      <th>1370</th>\n",
       "      <td>St. Lawrence College</td>\n",
       "      <td>2022-2023</td>\n",
       "      <td>Alpha International Academy</td>\n",
       "      <td>3326</td>\n",
       "    </tr>\n",
       "    <tr>\n",
       "      <th>1371</th>\n",
       "      <td>St. Lawrence College</td>\n",
       "      <td>2022-2023</td>\n",
       "      <td>Brockville Campus</td>\n",
       "      <td>631</td>\n",
       "    </tr>\n",
       "    <tr>\n",
       "      <th>1372</th>\n",
       "      <td>St. Lawrence College</td>\n",
       "      <td>2022-2023</td>\n",
       "      <td>Canadian College</td>\n",
       "      <td>1491</td>\n",
       "    </tr>\n",
       "    <tr>\n",
       "      <th>1373</th>\n",
       "      <td>St. Lawrence College</td>\n",
       "      <td>2022-2023</td>\n",
       "      <td>Cornwall Campus</td>\n",
       "      <td>1076</td>\n",
       "    </tr>\n",
       "    <tr>\n",
       "      <th>1374</th>\n",
       "      <td>St. Lawrence College</td>\n",
       "      <td>2022-2023</td>\n",
       "      <td>Kingston Campus</td>\n",
       "      <td>4720</td>\n",
       "    </tr>\n",
       "  </tbody>\n",
       "</table>\n",
       "<p>1374 rows × 4 columns</p>\n",
       "</div>"
      ],
      "text/plain": [
       "0             College Name Fiscal Year                        Campus Name  \\\n",
       "1        Algonquin College   2012-2013                         255 Albert   \n",
       "2        Algonquin College   2012-2013          Confederation High School   \n",
       "3        Algonquin College   2012-2013  Heritage Institute - Perth Campus   \n",
       "4        Algonquin College   2012-2013                      Ottawa Campus   \n",
       "5        Algonquin College   2012-2013    Ottawa Valley - Pembroke Campus   \n",
       "...                    ...         ...                                ...   \n",
       "1370  St. Lawrence College   2022-2023        Alpha International Academy   \n",
       "1371  St. Lawrence College   2022-2023                  Brockville Campus   \n",
       "1372  St. Lawrence College   2022-2023                   Canadian College   \n",
       "1373  St. Lawrence College   2022-2023                    Cornwall Campus   \n",
       "1374  St. Lawrence College   2022-2023                    Kingston Campus   \n",
       "\n",
       "0    Headcount Full-Time Fall  \n",
       "1                           0  \n",
       "2                           0  \n",
       "3                         251  \n",
       "4                       15122  \n",
       "5                         695  \n",
       "...                       ...  \n",
       "1370                     3326  \n",
       "1371                      631  \n",
       "1372                     1491  \n",
       "1373                     1076  \n",
       "1374                     4720  \n",
       "\n",
       "[1374 rows x 4 columns]"
      ]
     },
     "execution_count": 4,
     "metadata": {},
     "output_type": "execute_result"
    }
   ],
   "source": [
    "df"
   ]
  },
  {
   "cell_type": "markdown",
   "metadata": {},
   "source": [
    "Pandas has imported the functions where I calculated the percentage of students, I will go back and copy just the values from Excel"
   ]
  }
 ],
 "metadata": {
  "kernelspec": {
   "display_name": "base",
   "language": "python",
   "name": "python3"
  },
  "language_info": {
   "codemirror_mode": {
    "name": "ipython",
    "version": 3
   },
   "file_extension": ".py",
   "mimetype": "text/x-python",
   "name": "python",
   "nbconvert_exporter": "python",
   "pygments_lexer": "ipython3",
   "version": "3.12.2"
  }
 },
 "nbformat": 4,
 "nbformat_minor": 2
}
