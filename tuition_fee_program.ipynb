{
 "cells": [
  {
   "cell_type": "markdown",
   "metadata": {},
   "source": [
    "## Impact of IRCC changes on tuition fee revenue for schools\n",
    "\n",
    "Goals of this notebook:\n",
    "1. Use the international enrolment data found and analysed above to identify and quantify financial risk of tuition fee revenue decline for institutions, based on the January 2024 IRCC changes.\n",
    "\n",
    "Process & Methodology:\n",
    "1. Finding tuition fees charged by PSIs, starting with provincial and program type averages available on StatCan.\n",
    "2. Finding specific program and credential-type enrolment at PSIs and estimate the 'income' (Tuition multiplied by international enrolment) from these programs that is at risk.\n",
    "3. Project changes based on hypothetical scenarios from best case to worst case\n",
    "\n",
    "Important:\n",
    "- This section relies on projections and estimates of best to worst case scenarios. As 2025 unfolds, the data will become more concrete.\n"
   ]
  },
  {
   "cell_type": "markdown",
   "metadata": {},
   "source": [
    "### Imports, load dataset, create pipeline"
   ]
  },
  {
   "cell_type": "code",
   "execution_count": 1,
   "metadata": {},
   "outputs": [],
   "source": [
    "import pandas as pd\n",
    "import numpy as np\n",
    "import matplotlib.pyplot as plt\n",
    "import seaborn as sns\n",
    "import plotly.graph_objects as go\n",
    "import plotly.express as px\n",
    "\n",
    "# for the preprocessing pipeline\n",
    "from sklearn.base import BaseEstimator, TransformerMixin\n",
    "from sklearn.pipeline import Pipeline"
   ]
  },
  {
   "cell_type": "markdown",
   "metadata": {},
   "source": [
    "From Statistics Canada: \n",
    "- [Canadian and international student tuition fees by level of study (current dollars)](https://www150.statcan.gc.ca/t1/tbl1/en/tv.action?pid=3710004501)\n",
    "\n",
    "This section will import the tuition fees table for 2023/24, as well as the number of graduate and undergraduate enrolments by international/domestic status. \n",
    "\n",
    "Since it was the 2023/2024 FY that the IRCC changes were announced (January 2024) this would be the most accurate point to project losses for postsecondary institutions, beginning with declines in enrolment for September 2024 and onwards, given further updates have occurred throughout the 2024 calendar year.\n",
    "\n",
    "In a later version we may be able to see by number of permits issued specifically (when the data are available), but for now we will estimate based on hypothetical scenarios e.g. a blanket 25% decline for all institutions and other scenarios."
   ]
  },
  {
   "cell_type": "code",
   "execution_count": null,
   "metadata": {},
   "outputs": [],
   "source": [
    "# open the csv file\n",
    "tuition = pd.read_csv('/Users/thomasdoherty/Desktop/canadian-psi-project/psi_data/statcan_data/23-24_fees.csv')"
   ]
  },
  {
   "cell_type": "code",
   "execution_count": null,
   "metadata": {},
   "outputs": [
    {
     "data": {
      "text/html": [
       "<div>\n",
       "<style scoped>\n",
       "    .dataframe tbody tr th:only-of-type {\n",
       "        vertical-align: middle;\n",
       "    }\n",
       "\n",
       "    .dataframe tbody tr th {\n",
       "        vertical-align: top;\n",
       "    }\n",
       "\n",
       "    .dataframe thead th {\n",
       "        text-align: right;\n",
       "    }\n",
       "</style>\n",
       "<table border=\"1\" class=\"dataframe\">\n",
       "  <thead>\n",
       "    <tr style=\"text-align: right;\">\n",
       "      <th></th>\n",
       "      <th>REF_DATE</th>\n",
       "      <th>GEO</th>\n",
       "      <th>DGUID</th>\n",
       "      <th>Level of study</th>\n",
       "      <th>UOM</th>\n",
       "      <th>UOM_ID</th>\n",
       "      <th>SCALAR_FACTOR</th>\n",
       "      <th>SCALAR_ID</th>\n",
       "      <th>VECTOR</th>\n",
       "      <th>COORDINATE</th>\n",
       "      <th>VALUE</th>\n",
       "      <th>STATUS</th>\n",
       "      <th>SYMBOL</th>\n",
       "      <th>TERMINATED</th>\n",
       "      <th>DECIMALS</th>\n",
       "    </tr>\n",
       "  </thead>\n",
       "  <tbody>\n",
       "    <tr>\n",
       "      <th>35</th>\n",
       "      <td>2023/2024</td>\n",
       "      <td>Saskatchewan</td>\n",
       "      <td>2016A000247</td>\n",
       "      <td>International graduate</td>\n",
       "      <td>Current dollars</td>\n",
       "      <td>75</td>\n",
       "      <td>units</td>\n",
       "      <td>0</td>\n",
       "      <td>v96320887</td>\n",
       "      <td>9.4</td>\n",
       "      <td>9280.0</td>\n",
       "      <td>NaN</td>\n",
       "      <td>NaN</td>\n",
       "      <td>NaN</td>\n",
       "      <td>0</td>\n",
       "    </tr>\n",
       "    <tr>\n",
       "      <th>9</th>\n",
       "      <td>2023/2024</td>\n",
       "      <td>Prince Edward Island</td>\n",
       "      <td>2016A000211</td>\n",
       "      <td>Canadian graduate</td>\n",
       "      <td>Current dollars</td>\n",
       "      <td>75</td>\n",
       "      <td>units</td>\n",
       "      <td>0</td>\n",
       "      <td>v96320861</td>\n",
       "      <td>3.2</td>\n",
       "      <td>5750.0</td>\n",
       "      <td>NaN</td>\n",
       "      <td>NaN</td>\n",
       "      <td>NaN</td>\n",
       "      <td>0</td>\n",
       "    </tr>\n",
       "    <tr>\n",
       "      <th>10</th>\n",
       "      <td>2023/2024</td>\n",
       "      <td>Prince Edward Island</td>\n",
       "      <td>2016A000211</td>\n",
       "      <td>International undergraduate</td>\n",
       "      <td>Current dollars</td>\n",
       "      <td>75</td>\n",
       "      <td>units</td>\n",
       "      <td>0</td>\n",
       "      <td>v96320862</td>\n",
       "      <td>3.3</td>\n",
       "      <td>19128.0</td>\n",
       "      <td>NaN</td>\n",
       "      <td>NaN</td>\n",
       "      <td>NaN</td>\n",
       "      <td>0</td>\n",
       "    </tr>\n",
       "    <tr>\n",
       "      <th>2</th>\n",
       "      <td>2023/2024</td>\n",
       "      <td>Canada</td>\n",
       "      <td>2016A000011124</td>\n",
       "      <td>International undergraduate</td>\n",
       "      <td>Current dollars</td>\n",
       "      <td>75</td>\n",
       "      <td>units</td>\n",
       "      <td>0</td>\n",
       "      <td>v96320854</td>\n",
       "      <td>1.3</td>\n",
       "      <td>38251.0</td>\n",
       "      <td>NaN</td>\n",
       "      <td>NaN</td>\n",
       "      <td>NaN</td>\n",
       "      <td>0</td>\n",
       "    </tr>\n",
       "    <tr>\n",
       "      <th>46</th>\n",
       "      <td>2023/2024</td>\n",
       "      <td>Yukon</td>\n",
       "      <td>2016A000260</td>\n",
       "      <td>International undergraduate</td>\n",
       "      <td>Current dollars</td>\n",
       "      <td>75</td>\n",
       "      <td>units</td>\n",
       "      <td>0</td>\n",
       "      <td>v1073542480</td>\n",
       "      <td>12.3</td>\n",
       "      <td>NaN</td>\n",
       "      <td>..</td>\n",
       "      <td>NaN</td>\n",
       "      <td>NaN</td>\n",
       "      <td>0</td>\n",
       "    </tr>\n",
       "  </tbody>\n",
       "</table>\n",
       "</div>"
      ],
      "text/plain": [
       "     REF_DATE                   GEO           DGUID  \\\n",
       "35  2023/2024          Saskatchewan     2016A000247   \n",
       "9   2023/2024  Prince Edward Island     2016A000211   \n",
       "10  2023/2024  Prince Edward Island     2016A000211   \n",
       "2   2023/2024                Canada  2016A000011124   \n",
       "46  2023/2024                 Yukon     2016A000260   \n",
       "\n",
       "                 Level of study              UOM  UOM_ID SCALAR_FACTOR  \\\n",
       "35       International graduate  Current dollars      75         units   \n",
       "9             Canadian graduate  Current dollars      75         units   \n",
       "10  International undergraduate  Current dollars      75         units   \n",
       "2   International undergraduate  Current dollars      75         units   \n",
       "46  International undergraduate  Current dollars      75         units   \n",
       "\n",
       "    SCALAR_ID       VECTOR  COORDINATE    VALUE STATUS  SYMBOL  TERMINATED  \\\n",
       "35          0    v96320887         9.4   9280.0    NaN     NaN         NaN   \n",
       "9           0    v96320861         3.2   5750.0    NaN     NaN         NaN   \n",
       "10          0    v96320862         3.3  19128.0    NaN     NaN         NaN   \n",
       "2           0    v96320854         1.3  38251.0    NaN     NaN         NaN   \n",
       "46          0  v1073542480        12.3      NaN     ..     NaN         NaN   \n",
       "\n",
       "    DECIMALS  \n",
       "35         0  \n",
       "9          0  \n",
       "10         0  \n",
       "2          0  \n",
       "46         0  "
      ]
     },
     "metadata": {},
     "output_type": "display_data"
    }
   ],
   "source": [
    "tuition.sample(5)"
   ]
  },
  {
   "cell_type": "markdown",
   "metadata": {},
   "source": [
    "We'll make a preprocessing pipeline with custom transformers to clean this up as we did for the enrolment data. This pipeline will be useful for the program enrolment data later too as we are still undertaking similar key steps:\n",
    "- Removing many columnsthat are of no interest \n",
    "- Renaming some key columns, and formatting the values."
   ]
  },
  {
   "cell_type": "code",
   "execution_count": null,
   "metadata": {},
   "outputs": [],
   "source": [
    "from sklearn.base import BaseEstimator, TransformerMixin\n",
    "\n",
    "# 1. DropColumns transformer\n",
    "class DropColumns(BaseEstimator, TransformerMixin):\n",
    "    def __init__(self, columns):\n",
    "        self.columns = columns\n",
    "\n",
    "    def fit(self, X, y=None):\n",
    "        return self\n",
    "\n",
    "    def transform(self, X):\n",
    "        return X.drop(columns=self.columns, errors='ignore')\n",
    "\n",
    "# 2. RenameColumns transformer\n",
    "class RenameColumns(BaseEstimator, TransformerMixin):\n",
    "    def __init__(self, rename_map):\n",
    "        \"\"\"\n",
    "        parameter - rename_map: Dict of columns to rename, e.g.\n",
    "        {\"GEO\": \"province/territory\", \"REF_DATE\": \"FY Start\", \"VALUE\": \"Annual Tuition (CAD)\"}\n",
    "        \"\"\"\n",
    "        self.rename_map = rename_map\n",
    "\n",
    "    def fit(self, X, y=None):\n",
    "        return self\n",
    "\n",
    "    def transform(self, X):\n",
    "        return X.rename(columns=self.rename_map)\n",
    "\n",
    "# 3. FormatFYStart transformer\n",
    "class FormatFYStart(BaseEstimator, TransformerMixin):\n",
    "    def __init__(self, column):\n",
    "        \"\"\"\n",
    "        parameter - column: The column containing strings like \"2023/2024\"\n",
    "        \"\"\"\n",
    "        self.column = column\n",
    "\n",
    "    def fit(self, X, y=None):\n",
    "        return self\n",
    "\n",
    "    def transform(self, X):\n",
    "        \"\"\"\n",
    "        Converts something like \"2023/2024\" → \"23/24\" by splitting on '/' \n",
    "        and taking the last two digits of each piece.\n",
    "        \"\"\"\n",
    "        def to_short_fy(fy_str):\n",
    "            # E.g. \"2023/2024\" -> split -> [\"2023\", \"2024\"] -> \"23/24\"\n",
    "            parts = fy_str.split('/')\n",
    "            if len(parts) == 2:\n",
    "                return f\"{parts[0]}\"\n",
    "            # If format is unexpected, just return the original string\n",
    "            return fy_str\n",
    "\n",
    "        X = X.copy()\n",
    "        X[self.column] = X[self.column].astype(str).apply(to_short_fy)\n",
    "        return X\n",
    "\n",
    "\n",
    "# 4. FormatValue transformer\n",
    "class FormatValue(BaseEstimator, TransformerMixin):\n",
    "    def __init__(self, column, fill_value=None):\n",
    "        \"\"\"\n",
    "        parameter - column: The column containing numeric tuition or other values (possibly NaN or trailing .0)\n",
    "        parameter - fill_value: Can be none or 0. If None, keeps NaN (pandas integer compatible)\n",
    "        \"\"\"\n",
    "        self.column = column\n",
    "        self.fill_value = fill_value\n",
    "\n",
    "    def fit(self, X, y=None):\n",
    "        return self\n",
    "\n",
    "    def transform(self, X):\n",
    "        \"\"\"\n",
    "        Converts tuition values to integers (removes trailing .0).\n",
    "        If 'fill_value' is specified, NaN values are replaced with that value.\n",
    "        Otherwise, they remain NaN.\n",
    "        \"\"\"\n",
    "        X = X.copy()\n",
    "        if self.fill_value is not None:\n",
    "            # Optionally fill NaNs with a default value\n",
    "            X[self.column] = X[self.column].fillna(self.fill_value)\n",
    "\n",
    "        # Convert non-NaN values to int\n",
    "        def to_int_or_nan(val):\n",
    "            if pd.isna(val):\n",
    "                return pd.NA  # or leave as np.nan\n",
    "            return int(float(val))\n",
    "\n",
    "        X[self.column] = X[self.column].apply(to_int_or_nan)\n",
    "        return X"
   ]
  },
  {
   "cell_type": "code",
   "execution_count": null,
   "metadata": {},
   "outputs": [],
   "source": [
    "from sklearn.pipeline import Pipeline\n",
    "\n",
    "# Example usage:\n",
    "tuition_pipeline = Pipeline(steps=[\n",
    "    ('drop_columns', DropColumns(columns=[\n",
    "        'DGUID', 'UOM', 'UOM_ID', 'SCALAR_FACTOR', 'SCALAR_ID', 'VECTOR', 'COORDINATE', 'STATUS', 'SYMBOL', 'TERMINATED', 'DECIMALS'\n",
    "    ])),\n",
    "    ('rename_columns', RenameColumns(rename_map={\n",
    "        \"GEO\": \"Province/Territory\",\n",
    "        \"REF_DATE\": \"FY Start\",\n",
    "        \"VALUE\": \"Annual Tuition (CAD)\"\n",
    "    })),\n",
    "    ('format_fy', FormatFYStart(column=\"FY Start\")),\n",
    "    ('format_tuition', FormatValue(column=\"Annual Tuition (CAD)\"))\n",
    "])"
   ]
  },
  {
   "cell_type": "code",
   "execution_count": null,
   "metadata": {},
   "outputs": [],
   "source": [
    "# Apply to the tuition DataFrame\n",
    "cleaned_tuition_df = tuition_pipeline.fit_transform(tuition)"
   ]
  },
  {
   "cell_type": "code",
   "execution_count": null,
   "metadata": {},
   "outputs": [
    {
     "data": {
      "text/html": [
       "<div>\n",
       "<style scoped>\n",
       "    .dataframe tbody tr th:only-of-type {\n",
       "        vertical-align: middle;\n",
       "    }\n",
       "\n",
       "    .dataframe tbody tr th {\n",
       "        vertical-align: top;\n",
       "    }\n",
       "\n",
       "    .dataframe thead th {\n",
       "        text-align: right;\n",
       "    }\n",
       "</style>\n",
       "<table border=\"1\" class=\"dataframe\">\n",
       "  <thead>\n",
       "    <tr style=\"text-align: right;\">\n",
       "      <th></th>\n",
       "      <th>FY Start</th>\n",
       "      <th>Province/Territory</th>\n",
       "      <th>Level of study</th>\n",
       "      <th>Annual Tuition (CAD)</th>\n",
       "    </tr>\n",
       "  </thead>\n",
       "  <tbody>\n",
       "    <tr>\n",
       "      <th>42</th>\n",
       "      <td>2023</td>\n",
       "      <td>British Columbia</td>\n",
       "      <td>International undergraduate</td>\n",
       "      <td>35469</td>\n",
       "    </tr>\n",
       "    <tr>\n",
       "      <th>32</th>\n",
       "      <td>2023</td>\n",
       "      <td>Saskatchewan</td>\n",
       "      <td>Canadian undergraduate</td>\n",
       "      <td>9240</td>\n",
       "    </tr>\n",
       "    <tr>\n",
       "      <th>46</th>\n",
       "      <td>2023</td>\n",
       "      <td>Yukon</td>\n",
       "      <td>International undergraduate</td>\n",
       "      <td>&lt;NA&gt;</td>\n",
       "    </tr>\n",
       "    <tr>\n",
       "      <th>4</th>\n",
       "      <td>2023</td>\n",
       "      <td>Newfoundland and Labrador</td>\n",
       "      <td>Canadian undergraduate</td>\n",
       "      <td>3593</td>\n",
       "    </tr>\n",
       "    <tr>\n",
       "      <th>35</th>\n",
       "      <td>2023</td>\n",
       "      <td>Saskatchewan</td>\n",
       "      <td>International graduate</td>\n",
       "      <td>9280</td>\n",
       "    </tr>\n",
       "  </tbody>\n",
       "</table>\n",
       "</div>"
      ],
      "text/plain": [
       "   FY Start         Province/Territory               Level of study  \\\n",
       "42     2023           British Columbia  International undergraduate   \n",
       "32     2023               Saskatchewan       Canadian undergraduate   \n",
       "46     2023                      Yukon  International undergraduate   \n",
       "4      2023  Newfoundland and Labrador       Canadian undergraduate   \n",
       "35     2023               Saskatchewan       International graduate   \n",
       "\n",
       "   Annual Tuition (CAD)  \n",
       "42                35469  \n",
       "32                 9240  \n",
       "46                 <NA>  \n",
       "4                  3593  \n",
       "35                 9280  "
      ]
     },
     "metadata": {},
     "output_type": "display_data"
    }
   ],
   "source": [
    "cleaned_tuition_df.sample(5)"
   ]
  },
  {
   "cell_type": "code",
   "execution_count": null,
   "metadata": {},
   "outputs": [
    {
     "data": {
      "text/html": [
       "<div>\n",
       "<style scoped>\n",
       "    .dataframe tbody tr th:only-of-type {\n",
       "        vertical-align: middle;\n",
       "    }\n",
       "\n",
       "    .dataframe tbody tr th {\n",
       "        vertical-align: top;\n",
       "    }\n",
       "\n",
       "    .dataframe thead th {\n",
       "        text-align: right;\n",
       "    }\n",
       "</style>\n",
       "<table border=\"1\" class=\"dataframe\">\n",
       "  <thead>\n",
       "    <tr style=\"text-align: right;\">\n",
       "      <th></th>\n",
       "      <th>FY Start</th>\n",
       "      <th>Province/Territory</th>\n",
       "      <th>Level of study</th>\n",
       "      <th>Annual Tuition (CAD)</th>\n",
       "    </tr>\n",
       "  </thead>\n",
       "  <tbody>\n",
       "    <tr>\n",
       "      <th>45</th>\n",
       "      <td>2023</td>\n",
       "      <td>Yukon</td>\n",
       "      <td>Canadian graduate</td>\n",
       "      <td>&lt;NA&gt;</td>\n",
       "    </tr>\n",
       "    <tr>\n",
       "      <th>46</th>\n",
       "      <td>2023</td>\n",
       "      <td>Yukon</td>\n",
       "      <td>International undergraduate</td>\n",
       "      <td>&lt;NA&gt;</td>\n",
       "    </tr>\n",
       "    <tr>\n",
       "      <th>47</th>\n",
       "      <td>2023</td>\n",
       "      <td>Yukon</td>\n",
       "      <td>International graduate</td>\n",
       "      <td>&lt;NA&gt;</td>\n",
       "    </tr>\n",
       "  </tbody>\n",
       "</table>\n",
       "</div>"
      ],
      "text/plain": [
       "   FY Start Province/Territory               Level of study  \\\n",
       "45     2023              Yukon            Canadian graduate   \n",
       "46     2023              Yukon  International undergraduate   \n",
       "47     2023              Yukon       International graduate   \n",
       "\n",
       "   Annual Tuition (CAD)  \n",
       "45                 <NA>  \n",
       "46                 <NA>  \n",
       "47                 <NA>  "
      ]
     },
     "metadata": {},
     "output_type": "display_data"
    }
   ],
   "source": [
    "# any nulls in the tuition fee column of the dataframe\n",
    "cleaned_tuition_df[cleaned_tuition_df['Annual Tuition (CAD)'].isnull()]"
   ]
  },
  {
   "cell_type": "code",
   "execution_count": null,
   "metadata": {},
   "outputs": [],
   "source": [
    "# drop yukon, northwest territories, nunavut - low size and not in psi data\n",
    "cleaned_tuition_df = cleaned_tuition_df[~cleaned_tuition_df['Province/Territory'].isin(territories)]"
   ]
  },
  {
   "cell_type": "markdown",
   "metadata": {},
   "source": [
    "### EDA of Tuition fees"
   ]
  },
  {
   "cell_type": "markdown",
   "metadata": {},
   "source": [
    "Let's do some short EDA work on these tuition fees to see which are the most and least expensive."
   ]
  },
  {
   "cell_type": "code",
   "execution_count": null,
   "metadata": {},
   "outputs": [
    {
     "data": {
      "text/html": [
       "<div>\n",
       "<style scoped>\n",
       "    .dataframe tbody tr th:only-of-type {\n",
       "        vertical-align: middle;\n",
       "    }\n",
       "\n",
       "    .dataframe tbody tr th {\n",
       "        vertical-align: top;\n",
       "    }\n",
       "\n",
       "    .dataframe thead th {\n",
       "        text-align: right;\n",
       "    }\n",
       "</style>\n",
       "<table border=\"1\" class=\"dataframe\">\n",
       "  <thead>\n",
       "    <tr style=\"text-align: right;\">\n",
       "      <th></th>\n",
       "      <th>FY Start</th>\n",
       "      <th>Province/Territory</th>\n",
       "      <th>Level of study</th>\n",
       "      <th>Annual Tuition (CAD)</th>\n",
       "    </tr>\n",
       "  </thead>\n",
       "  <tbody>\n",
       "    <tr>\n",
       "      <th>0</th>\n",
       "      <td>2023</td>\n",
       "      <td>Canada</td>\n",
       "      <td>Canadian undergraduate</td>\n",
       "      <td>7152</td>\n",
       "    </tr>\n",
       "    <tr>\n",
       "      <th>1</th>\n",
       "      <td>2023</td>\n",
       "      <td>Canada</td>\n",
       "      <td>Canadian graduate</td>\n",
       "      <td>7542</td>\n",
       "    </tr>\n",
       "    <tr>\n",
       "      <th>2</th>\n",
       "      <td>2023</td>\n",
       "      <td>Canada</td>\n",
       "      <td>International undergraduate</td>\n",
       "      <td>38251</td>\n",
       "    </tr>\n",
       "    <tr>\n",
       "      <th>3</th>\n",
       "      <td>2023</td>\n",
       "      <td>Canada</td>\n",
       "      <td>International graduate</td>\n",
       "      <td>22114</td>\n",
       "    </tr>\n",
       "  </tbody>\n",
       "</table>\n",
       "</div>"
      ],
      "text/plain": [
       "  FY Start Province/Territory               Level of study  \\\n",
       "0     2023             Canada       Canadian undergraduate   \n",
       "1     2023             Canada            Canadian graduate   \n",
       "2     2023             Canada  International undergraduate   \n",
       "3     2023             Canada       International graduate   \n",
       "\n",
       "  Annual Tuition (CAD)  \n",
       "0                 7152  \n",
       "1                 7542  \n",
       "2                38251  \n",
       "3                22114  "
      ]
     },
     "metadata": {},
     "output_type": "display_data"
    }
   ],
   "source": [
    "cleaned_tuition_df[cleaned_tuition_df['Province/Territory'] == 'Canada']"
   ]
  },
  {
   "cell_type": "code",
   "execution_count": null,
   "metadata": {},
   "outputs": [
    {
     "data": {
      "text/html": [
       "<div>\n",
       "<style scoped>\n",
       "    .dataframe tbody tr th:only-of-type {\n",
       "        vertical-align: middle;\n",
       "    }\n",
       "\n",
       "    .dataframe tbody tr th {\n",
       "        vertical-align: top;\n",
       "    }\n",
       "\n",
       "    .dataframe thead th {\n",
       "        text-align: right;\n",
       "    }\n",
       "</style>\n",
       "<table border=\"1\" class=\"dataframe\">\n",
       "  <thead>\n",
       "    <tr style=\"text-align: right;\">\n",
       "      <th></th>\n",
       "      <th>FY Start</th>\n",
       "      <th>Province/Territory</th>\n",
       "      <th>Level of study</th>\n",
       "      <th>Annual Tuition (CAD)</th>\n",
       "    </tr>\n",
       "  </thead>\n",
       "  <tbody>\n",
       "    <tr>\n",
       "      <th>5</th>\n",
       "      <td>2023</td>\n",
       "      <td>Newfoundland and Labrador</td>\n",
       "      <td>Canadian graduate</td>\n",
       "      <td>3435</td>\n",
       "    </tr>\n",
       "    <tr>\n",
       "      <th>20</th>\n",
       "      <td>2023</td>\n",
       "      <td>Quebec</td>\n",
       "      <td>Canadian undergraduate</td>\n",
       "      <td>3489</td>\n",
       "    </tr>\n",
       "    <tr>\n",
       "      <th>31</th>\n",
       "      <td>2023</td>\n",
       "      <td>Manitoba</td>\n",
       "      <td>International graduate</td>\n",
       "      <td>12730</td>\n",
       "    </tr>\n",
       "  </tbody>\n",
       "</table>\n",
       "</div>"
      ],
      "text/plain": [
       "   FY Start         Province/Territory          Level of study  \\\n",
       "5      2023  Newfoundland and Labrador       Canadian graduate   \n",
       "20     2023                     Quebec  Canadian undergraduate   \n",
       "31     2023                   Manitoba  International graduate   \n",
       "\n",
       "   Annual Tuition (CAD)  \n",
       "5                  3435  \n",
       "20                 3489  \n",
       "31                12730  "
      ]
     },
     "metadata": {},
     "output_type": "display_data"
    }
   ],
   "source": [
    "cleaned_tuition_df.sample(3)"
   ]
  },
  {
   "cell_type": "code",
   "execution_count": null,
   "metadata": {},
   "outputs": [
    {
     "data": {
      "application/vnd.plotly.v1+json": {
       "config": {
        "plotlyServerURL": "https://plot.ly"
       },
       "data": [
        {
         "alignmentgroup": "True",
         "boxpoints": "all",
         "customdata": [
          [
           "Canada"
          ],
          [
           "Canada"
          ],
          [
           "Canada"
          ],
          [
           "Canada"
          ]
         ],
         "fillcolor": "rgba(255,255,255,0)",
         "hoveron": "points",
         "hovertemplate": "Province/Territory=%{customdata[0]}<br>Level of study=%{x}<br>Annual Tuition (CAD)=%{y}<extra></extra>",
         "legendgroup": "Canada",
         "line": {
          "color": "rgba(255,255,255,0)"
         },
         "marker": {
          "color": "black"
         },
         "name": "Canada",
         "offsetgroup": "Canada",
         "orientation": "v",
         "pointpos": 0,
         "showlegend": true,
         "type": "box",
         "x": [
          "Canadian undergraduate",
          "Canadian graduate",
          "International undergraduate",
          "International graduate"
         ],
         "x0": " ",
         "xaxis": "x",
         "y": [
          7152,
          7542,
          38251,
          22114
         ],
         "y0": " ",
         "yaxis": "y"
        },
        {
         "alignmentgroup": "True",
         "boxpoints": "all",
         "customdata": [
          [
           "Newfoundland and Labrador"
          ],
          [
           "Newfoundland and Labrador"
          ],
          [
           "Newfoundland and Labrador"
          ],
          [
           "Newfoundland and Labrador"
          ]
         ],
         "fillcolor": "rgba(255,255,255,0)",
         "hoveron": "points",
         "hovertemplate": "Province/Territory=%{customdata[0]}<br>Level of study=%{x}<br>Annual Tuition (CAD)=%{y}<extra></extra>",
         "legendgroup": "Newfoundland and Labrador",
         "line": {
          "color": "rgba(255,255,255,0)"
         },
         "marker": {
          "color": "#EF553B"
         },
         "name": "Newfoundland and Labrador",
         "offsetgroup": "Newfoundland and Labrador",
         "orientation": "v",
         "pointpos": 0,
         "showlegend": true,
         "type": "box",
         "x": [
          "Canadian undergraduate",
          "Canadian graduate",
          "International undergraduate",
          "International graduate"
         ],
         "x0": " ",
         "xaxis": "x",
         "y": [
          3593,
          3435,
          17515,
          4833
         ],
         "y0": " ",
         "yaxis": "y"
        },
        {
         "alignmentgroup": "True",
         "boxpoints": "all",
         "customdata": [
          [
           "Prince Edward Island"
          ],
          [
           "Prince Edward Island"
          ],
          [
           "Prince Edward Island"
          ],
          [
           "Prince Edward Island"
          ]
         ],
         "fillcolor": "rgba(255,255,255,0)",
         "hoveron": "points",
         "hovertemplate": "Province/Territory=%{customdata[0]}<br>Level of study=%{x}<br>Annual Tuition (CAD)=%{y}<extra></extra>",
         "legendgroup": "Prince Edward Island",
         "line": {
          "color": "rgba(255,255,255,0)"
         },
         "marker": {
          "color": "#00cc96"
         },
         "name": "Prince Edward Island",
         "offsetgroup": "Prince Edward Island",
         "orientation": "v",
         "pointpos": 0,
         "showlegend": true,
         "type": "box",
         "x": [
          "Canadian undergraduate",
          "Canadian graduate",
          "International undergraduate",
          "International graduate"
         ],
         "x0": " ",
         "xaxis": "x",
         "y": [
          7359,
          5750,
          19128,
          11513
         ],
         "y0": " ",
         "yaxis": "y"
        },
        {
         "alignmentgroup": "True",
         "boxpoints": "all",
         "customdata": [
          [
           "Nova Scotia"
          ],
          [
           "Nova Scotia"
          ],
          [
           "Nova Scotia"
          ],
          [
           "Nova Scotia"
          ]
         ],
         "fillcolor": "rgba(255,255,255,0)",
         "hoveron": "points",
         "hovertemplate": "Province/Territory=%{customdata[0]}<br>Level of study=%{x}<br>Annual Tuition (CAD)=%{y}<extra></extra>",
         "legendgroup": "Nova Scotia",
         "line": {
          "color": "rgba(255,255,255,0)"
         },
         "marker": {
          "color": "#ab63fa"
         },
         "name": "Nova Scotia",
         "offsetgroup": "Nova Scotia",
         "orientation": "v",
         "pointpos": 0,
         "showlegend": true,
         "type": "box",
         "x": [
          "Canadian undergraduate",
          "Canadian graduate",
          "International undergraduate",
          "International graduate"
         ],
         "x0": " ",
         "xaxis": "x",
         "y": [
          9551,
          10479,
          25885,
          22501
         ],
         "y0": " ",
         "yaxis": "y"
        },
        {
         "alignmentgroup": "True",
         "boxpoints": "all",
         "customdata": [
          [
           "New Brunswick"
          ],
          [
           "New Brunswick"
          ],
          [
           "New Brunswick"
          ],
          [
           "New Brunswick"
          ]
         ],
         "fillcolor": "rgba(255,255,255,0)",
         "hoveron": "points",
         "hovertemplate": "Province/Territory=%{customdata[0]}<br>Level of study=%{x}<br>Annual Tuition (CAD)=%{y}<extra></extra>",
         "legendgroup": "New Brunswick",
         "line": {
          "color": "rgba(255,255,255,0)"
         },
         "marker": {
          "color": "#FFA15A"
         },
         "name": "New Brunswick",
         "offsetgroup": "New Brunswick",
         "orientation": "v",
         "pointpos": 0,
         "showlegend": true,
         "type": "box",
         "x": [
          "Canadian undergraduate",
          "Canadian graduate",
          "International undergraduate",
          "International graduate"
         ],
         "x0": " ",
         "xaxis": "x",
         "y": [
          8701,
          7774,
          17728,
          16398
         ],
         "y0": " ",
         "yaxis": "y"
        },
        {
         "alignmentgroup": "True",
         "boxpoints": "all",
         "customdata": [
          [
           "Quebec"
          ],
          [
           "Quebec"
          ],
          [
           "Quebec"
          ],
          [
           "Quebec"
          ]
         ],
         "fillcolor": "rgba(255,255,255,0)",
         "hoveron": "points",
         "hovertemplate": "Province/Territory=%{customdata[0]}<br>Level of study=%{x}<br>Annual Tuition (CAD)=%{y}<extra></extra>",
         "legendgroup": "Quebec",
         "line": {
          "color": "rgba(255,255,255,0)"
         },
         "marker": {
          "color": "#19d3f3"
         },
         "name": "Quebec",
         "offsetgroup": "Quebec",
         "orientation": "v",
         "pointpos": 0,
         "showlegend": true,
         "type": "box",
         "x": [
          "Canadian undergraduate",
          "Canadian graduate",
          "International undergraduate",
          "International graduate"
         ],
         "x0": " ",
         "xaxis": "x",
         "y": [
          3489,
          3760,
          32319,
          21115
         ],
         "y0": " ",
         "yaxis": "y"
        },
        {
         "alignmentgroup": "True",
         "boxpoints": "all",
         "customdata": [
          [
           "Ontario"
          ],
          [
           "Ontario"
          ],
          [
           "Ontario"
          ],
          [
           "Ontario"
          ]
         ],
         "fillcolor": "rgba(255,255,255,0)",
         "hoveron": "points",
         "hovertemplate": "Province/Territory=%{customdata[0]}<br>Level of study=%{x}<br>Annual Tuition (CAD)=%{y}<extra></extra>",
         "legendgroup": "Ontario",
         "line": {
          "color": "rgba(255,255,255,0)"
         },
         "marker": {
          "color": "#FF6692"
         },
         "name": "Ontario",
         "offsetgroup": "Ontario",
         "orientation": "v",
         "pointpos": 0,
         "showlegend": true,
         "type": "box",
         "x": [
          "Canadian undergraduate",
          "Canadian graduate",
          "International undergraduate",
          "International graduate"
         ],
         "x0": " ",
         "xaxis": "x",
         "y": [
          8271,
          9522,
          46297,
          27010
         ],
         "y0": " ",
         "yaxis": "y"
        },
        {
         "alignmentgroup": "True",
         "boxpoints": "all",
         "customdata": [
          [
           "Manitoba"
          ],
          [
           "Manitoba"
          ],
          [
           "Manitoba"
          ],
          [
           "Manitoba"
          ]
         ],
         "fillcolor": "rgba(255,255,255,0)",
         "hoveron": "points",
         "hovertemplate": "Province/Territory=%{customdata[0]}<br>Level of study=%{x}<br>Annual Tuition (CAD)=%{y}<extra></extra>",
         "legendgroup": "Manitoba",
         "line": {
          "color": "rgba(255,255,255,0)"
         },
         "marker": {
          "color": "#B6E880"
         },
         "name": "Manitoba",
         "offsetgroup": "Manitoba",
         "orientation": "v",
         "pointpos": 0,
         "showlegend": true,
         "type": "box",
         "x": [
          "Canadian undergraduate",
          "Canadian graduate",
          "International undergraduate",
          "International graduate"
         ],
         "x0": " ",
         "xaxis": "x",
         "y": [
          5390,
          5775,
          18928,
          12730
         ],
         "y0": " ",
         "yaxis": "y"
        },
        {
         "alignmentgroup": "True",
         "boxpoints": "all",
         "customdata": [
          [
           "Saskatchewan"
          ],
          [
           "Saskatchewan"
          ],
          [
           "Saskatchewan"
          ],
          [
           "Saskatchewan"
          ]
         ],
         "fillcolor": "rgba(255,255,255,0)",
         "hoveron": "points",
         "hovertemplate": "Province/Territory=%{customdata[0]}<br>Level of study=%{x}<br>Annual Tuition (CAD)=%{y}<extra></extra>",
         "legendgroup": "Saskatchewan",
         "line": {
          "color": "rgba(255,255,255,0)"
         },
         "marker": {
          "color": "#FF97FF"
         },
         "name": "Saskatchewan",
         "offsetgroup": "Saskatchewan",
         "orientation": "v",
         "pointpos": 0,
         "showlegend": true,
         "type": "box",
         "x": [
          "Canadian undergraduate",
          "Canadian graduate",
          "International undergraduate",
          "International graduate"
         ],
         "x0": " ",
         "xaxis": "x",
         "y": [
          9240,
          5217,
          28090,
          9280
         ],
         "y0": " ",
         "yaxis": "y"
        },
        {
         "alignmentgroup": "True",
         "boxpoints": "all",
         "customdata": [
          [
           "Alberta"
          ],
          [
           "Alberta"
          ],
          [
           "Alberta"
          ],
          [
           "Alberta"
          ]
         ],
         "fillcolor": "rgba(255,255,255,0)",
         "hoveron": "points",
         "hovertemplate": "Province/Territory=%{customdata[0]}<br>Level of study=%{x}<br>Annual Tuition (CAD)=%{y}<extra></extra>",
         "legendgroup": "Alberta",
         "line": {
          "color": "rgba(255,255,255,0)"
         },
         "marker": {
          "color": "#FECB52"
         },
         "name": "Alberta",
         "offsetgroup": "Alberta",
         "orientation": "v",
         "pointpos": 0,
         "showlegend": true,
         "type": "box",
         "x": [
          "Canadian undergraduate",
          "Canadian graduate",
          "International undergraduate",
          "International graduate"
         ],
         "x0": " ",
         "xaxis": "x",
         "y": [
          7561,
          6489,
          31498,
          15302
         ],
         "y0": " ",
         "yaxis": "y"
        },
        {
         "alignmentgroup": "True",
         "boxpoints": "all",
         "customdata": [
          [
           "British Columbia"
          ],
          [
           "British Columbia"
          ],
          [
           "British Columbia"
          ],
          [
           "British Columbia"
          ]
         ],
         "fillcolor": "rgba(255,255,255,0)",
         "hoveron": "points",
         "hovertemplate": "Province/Territory=%{customdata[0]}<br>Level of study=%{x}<br>Annual Tuition (CAD)=%{y}<extra></extra>",
         "legendgroup": "British Columbia",
         "line": {
          "color": "rgba(255,255,255,0)"
         },
         "marker": {
          "color": "#636efa"
         },
         "name": "British Columbia",
         "offsetgroup": "British Columbia",
         "orientation": "v",
         "pointpos": 0,
         "showlegend": true,
         "type": "box",
         "x": [
          "Canadian undergraduate",
          "Canadian graduate",
          "International undergraduate",
          "International graduate"
         ],
         "x0": " ",
         "xaxis": "x",
         "y": [
          6477,
          10803,
          35469,
          24139
         ],
         "y0": " ",
         "yaxis": "y"
        }
       ],
       "layout": {
        "boxmode": "group",
        "legend": {
         "title": {
          "text": "Province/Territory"
         },
         "tracegroupgap": 0
        },
        "margin": {
         "t": 60
        },
        "template": {
         "data": {
          "bar": [
           {
            "error_x": {
             "color": "#2a3f5f"
            },
            "error_y": {
             "color": "#2a3f5f"
            },
            "marker": {
             "line": {
              "color": "#E5ECF6",
              "width": 0.5
             },
             "pattern": {
              "fillmode": "overlay",
              "size": 10,
              "solidity": 0.2
             }
            },
            "type": "bar"
           }
          ],
          "barpolar": [
           {
            "marker": {
             "line": {
              "color": "#E5ECF6",
              "width": 0.5
             },
             "pattern": {
              "fillmode": "overlay",
              "size": 10,
              "solidity": 0.2
             }
            },
            "type": "barpolar"
           }
          ],
          "carpet": [
           {
            "aaxis": {
             "endlinecolor": "#2a3f5f",
             "gridcolor": "white",
             "linecolor": "white",
             "minorgridcolor": "white",
             "startlinecolor": "#2a3f5f"
            },
            "baxis": {
             "endlinecolor": "#2a3f5f",
             "gridcolor": "white",
             "linecolor": "white",
             "minorgridcolor": "white",
             "startlinecolor": "#2a3f5f"
            },
            "type": "carpet"
           }
          ],
          "choropleth": [
           {
            "colorbar": {
             "outlinewidth": 0,
             "ticks": ""
            },
            "type": "choropleth"
           }
          ],
          "contour": [
           {
            "colorbar": {
             "outlinewidth": 0,
             "ticks": ""
            },
            "colorscale": [
             [
              0,
              "#0d0887"
             ],
             [
              0.1111111111111111,
              "#46039f"
             ],
             [
              0.2222222222222222,
              "#7201a8"
             ],
             [
              0.3333333333333333,
              "#9c179e"
             ],
             [
              0.4444444444444444,
              "#bd3786"
             ],
             [
              0.5555555555555556,
              "#d8576b"
             ],
             [
              0.6666666666666666,
              "#ed7953"
             ],
             [
              0.7777777777777778,
              "#fb9f3a"
             ],
             [
              0.8888888888888888,
              "#fdca26"
             ],
             [
              1,
              "#f0f921"
             ]
            ],
            "type": "contour"
           }
          ],
          "contourcarpet": [
           {
            "colorbar": {
             "outlinewidth": 0,
             "ticks": ""
            },
            "type": "contourcarpet"
           }
          ],
          "heatmap": [
           {
            "colorbar": {
             "outlinewidth": 0,
             "ticks": ""
            },
            "colorscale": [
             [
              0,
              "#0d0887"
             ],
             [
              0.1111111111111111,
              "#46039f"
             ],
             [
              0.2222222222222222,
              "#7201a8"
             ],
             [
              0.3333333333333333,
              "#9c179e"
             ],
             [
              0.4444444444444444,
              "#bd3786"
             ],
             [
              0.5555555555555556,
              "#d8576b"
             ],
             [
              0.6666666666666666,
              "#ed7953"
             ],
             [
              0.7777777777777778,
              "#fb9f3a"
             ],
             [
              0.8888888888888888,
              "#fdca26"
             ],
             [
              1,
              "#f0f921"
             ]
            ],
            "type": "heatmap"
           }
          ],
          "histogram": [
           {
            "marker": {
             "pattern": {
              "fillmode": "overlay",
              "size": 10,
              "solidity": 0.2
             }
            },
            "type": "histogram"
           }
          ],
          "histogram2d": [
           {
            "colorbar": {
             "outlinewidth": 0,
             "ticks": ""
            },
            "colorscale": [
             [
              0,
              "#0d0887"
             ],
             [
              0.1111111111111111,
              "#46039f"
             ],
             [
              0.2222222222222222,
              "#7201a8"
             ],
             [
              0.3333333333333333,
              "#9c179e"
             ],
             [
              0.4444444444444444,
              "#bd3786"
             ],
             [
              0.5555555555555556,
              "#d8576b"
             ],
             [
              0.6666666666666666,
              "#ed7953"
             ],
             [
              0.7777777777777778,
              "#fb9f3a"
             ],
             [
              0.8888888888888888,
              "#fdca26"
             ],
             [
              1,
              "#f0f921"
             ]
            ],
            "type": "histogram2d"
           }
          ],
          "histogram2dcontour": [
           {
            "colorbar": {
             "outlinewidth": 0,
             "ticks": ""
            },
            "colorscale": [
             [
              0,
              "#0d0887"
             ],
             [
              0.1111111111111111,
              "#46039f"
             ],
             [
              0.2222222222222222,
              "#7201a8"
             ],
             [
              0.3333333333333333,
              "#9c179e"
             ],
             [
              0.4444444444444444,
              "#bd3786"
             ],
             [
              0.5555555555555556,
              "#d8576b"
             ],
             [
              0.6666666666666666,
              "#ed7953"
             ],
             [
              0.7777777777777778,
              "#fb9f3a"
             ],
             [
              0.8888888888888888,
              "#fdca26"
             ],
             [
              1,
              "#f0f921"
             ]
            ],
            "type": "histogram2dcontour"
           }
          ],
          "mesh3d": [
           {
            "colorbar": {
             "outlinewidth": 0,
             "ticks": ""
            },
            "type": "mesh3d"
           }
          ],
          "parcoords": [
           {
            "line": {
             "colorbar": {
              "outlinewidth": 0,
              "ticks": ""
             }
            },
            "type": "parcoords"
           }
          ],
          "pie": [
           {
            "automargin": true,
            "type": "pie"
           }
          ],
          "scatter": [
           {
            "fillpattern": {
             "fillmode": "overlay",
             "size": 10,
             "solidity": 0.2
            },
            "type": "scatter"
           }
          ],
          "scatter3d": [
           {
            "line": {
             "colorbar": {
              "outlinewidth": 0,
              "ticks": ""
             }
            },
            "marker": {
             "colorbar": {
              "outlinewidth": 0,
              "ticks": ""
             }
            },
            "type": "scatter3d"
           }
          ],
          "scattercarpet": [
           {
            "marker": {
             "colorbar": {
              "outlinewidth": 0,
              "ticks": ""
             }
            },
            "type": "scattercarpet"
           }
          ],
          "scattergeo": [
           {
            "marker": {
             "colorbar": {
              "outlinewidth": 0,
              "ticks": ""
             }
            },
            "type": "scattergeo"
           }
          ],
          "scattergl": [
           {
            "marker": {
             "colorbar": {
              "outlinewidth": 0,
              "ticks": ""
             }
            },
            "type": "scattergl"
           }
          ],
          "scattermap": [
           {
            "marker": {
             "colorbar": {
              "outlinewidth": 0,
              "ticks": ""
             }
            },
            "type": "scattermap"
           }
          ],
          "scattermapbox": [
           {
            "marker": {
             "colorbar": {
              "outlinewidth": 0,
              "ticks": ""
             }
            },
            "type": "scattermapbox"
           }
          ],
          "scatterpolar": [
           {
            "marker": {
             "colorbar": {
              "outlinewidth": 0,
              "ticks": ""
             }
            },
            "type": "scatterpolar"
           }
          ],
          "scatterpolargl": [
           {
            "marker": {
             "colorbar": {
              "outlinewidth": 0,
              "ticks": ""
             }
            },
            "type": "scatterpolargl"
           }
          ],
          "scatterternary": [
           {
            "marker": {
             "colorbar": {
              "outlinewidth": 0,
              "ticks": ""
             }
            },
            "type": "scatterternary"
           }
          ],
          "surface": [
           {
            "colorbar": {
             "outlinewidth": 0,
             "ticks": ""
            },
            "colorscale": [
             [
              0,
              "#0d0887"
             ],
             [
              0.1111111111111111,
              "#46039f"
             ],
             [
              0.2222222222222222,
              "#7201a8"
             ],
             [
              0.3333333333333333,
              "#9c179e"
             ],
             [
              0.4444444444444444,
              "#bd3786"
             ],
             [
              0.5555555555555556,
              "#d8576b"
             ],
             [
              0.6666666666666666,
              "#ed7953"
             ],
             [
              0.7777777777777778,
              "#fb9f3a"
             ],
             [
              0.8888888888888888,
              "#fdca26"
             ],
             [
              1,
              "#f0f921"
             ]
            ],
            "type": "surface"
           }
          ],
          "table": [
           {
            "cells": {
             "fill": {
              "color": "#EBF0F8"
             },
             "line": {
              "color": "white"
             }
            },
            "header": {
             "fill": {
              "color": "#C8D4E3"
             },
             "line": {
              "color": "white"
             }
            },
            "type": "table"
           }
          ]
         },
         "layout": {
          "annotationdefaults": {
           "arrowcolor": "#2a3f5f",
           "arrowhead": 0,
           "arrowwidth": 1
          },
          "autotypenumbers": "strict",
          "coloraxis": {
           "colorbar": {
            "outlinewidth": 0,
            "ticks": ""
           }
          },
          "colorscale": {
           "diverging": [
            [
             0,
             "#8e0152"
            ],
            [
             0.1,
             "#c51b7d"
            ],
            [
             0.2,
             "#de77ae"
            ],
            [
             0.3,
             "#f1b6da"
            ],
            [
             0.4,
             "#fde0ef"
            ],
            [
             0.5,
             "#f7f7f7"
            ],
            [
             0.6,
             "#e6f5d0"
            ],
            [
             0.7,
             "#b8e186"
            ],
            [
             0.8,
             "#7fbc41"
            ],
            [
             0.9,
             "#4d9221"
            ],
            [
             1,
             "#276419"
            ]
           ],
           "sequential": [
            [
             0,
             "#0d0887"
            ],
            [
             0.1111111111111111,
             "#46039f"
            ],
            [
             0.2222222222222222,
             "#7201a8"
            ],
            [
             0.3333333333333333,
             "#9c179e"
            ],
            [
             0.4444444444444444,
             "#bd3786"
            ],
            [
             0.5555555555555556,
             "#d8576b"
            ],
            [
             0.6666666666666666,
             "#ed7953"
            ],
            [
             0.7777777777777778,
             "#fb9f3a"
            ],
            [
             0.8888888888888888,
             "#fdca26"
            ],
            [
             1,
             "#f0f921"
            ]
           ],
           "sequentialminus": [
            [
             0,
             "#0d0887"
            ],
            [
             0.1111111111111111,
             "#46039f"
            ],
            [
             0.2222222222222222,
             "#7201a8"
            ],
            [
             0.3333333333333333,
             "#9c179e"
            ],
            [
             0.4444444444444444,
             "#bd3786"
            ],
            [
             0.5555555555555556,
             "#d8576b"
            ],
            [
             0.6666666666666666,
             "#ed7953"
            ],
            [
             0.7777777777777778,
             "#fb9f3a"
            ],
            [
             0.8888888888888888,
             "#fdca26"
            ],
            [
             1,
             "#f0f921"
            ]
           ]
          },
          "colorway": [
           "#636efa",
           "#EF553B",
           "#00cc96",
           "#ab63fa",
           "#FFA15A",
           "#19d3f3",
           "#FF6692",
           "#B6E880",
           "#FF97FF",
           "#FECB52"
          ],
          "font": {
           "color": "#2a3f5f"
          },
          "geo": {
           "bgcolor": "white",
           "lakecolor": "white",
           "landcolor": "#E5ECF6",
           "showlakes": true,
           "showland": true,
           "subunitcolor": "white"
          },
          "hoverlabel": {
           "align": "left"
          },
          "hovermode": "closest",
          "mapbox": {
           "style": "light"
          },
          "paper_bgcolor": "white",
          "plot_bgcolor": "#E5ECF6",
          "polar": {
           "angularaxis": {
            "gridcolor": "white",
            "linecolor": "white",
            "ticks": ""
           },
           "bgcolor": "#E5ECF6",
           "radialaxis": {
            "gridcolor": "white",
            "linecolor": "white",
            "ticks": ""
           }
          },
          "scene": {
           "xaxis": {
            "backgroundcolor": "#E5ECF6",
            "gridcolor": "white",
            "gridwidth": 2,
            "linecolor": "white",
            "showbackground": true,
            "ticks": "",
            "zerolinecolor": "white"
           },
           "yaxis": {
            "backgroundcolor": "#E5ECF6",
            "gridcolor": "white",
            "gridwidth": 2,
            "linecolor": "white",
            "showbackground": true,
            "ticks": "",
            "zerolinecolor": "white"
           },
           "zaxis": {
            "backgroundcolor": "#E5ECF6",
            "gridcolor": "white",
            "gridwidth": 2,
            "linecolor": "white",
            "showbackground": true,
            "ticks": "",
            "zerolinecolor": "white"
           }
          },
          "shapedefaults": {
           "line": {
            "color": "#2a3f5f"
           }
          },
          "ternary": {
           "aaxis": {
            "gridcolor": "white",
            "linecolor": "white",
            "ticks": ""
           },
           "baxis": {
            "gridcolor": "white",
            "linecolor": "white",
            "ticks": ""
           },
           "bgcolor": "#E5ECF6",
           "caxis": {
            "gridcolor": "white",
            "linecolor": "white",
            "ticks": ""
           }
          },
          "title": {
           "x": 0.05
          },
          "xaxis": {
           "automargin": true,
           "gridcolor": "white",
           "linecolor": "white",
           "ticks": "",
           "title": {
            "standoff": 15
           },
           "zerolinecolor": "white",
           "zerolinewidth": 2
          },
          "yaxis": {
           "automargin": true,
           "gridcolor": "white",
           "linecolor": "white",
           "ticks": "",
           "title": {
            "standoff": 15
           },
           "zerolinecolor": "white",
           "zerolinewidth": 2
          }
         }
        },
        "title": {
         "text": "Tuition Fees by Level of Study (Canada avg in Black)"
        },
        "xaxis": {
         "anchor": "y",
         "domain": [
          0,
          1
         ],
         "title": {
          "text": "Level of Study"
         }
        },
        "yaxis": {
         "anchor": "x",
         "domain": [
          0,
          1
         ],
         "title": {
          "text": "Annual Tuition (CAD)"
         }
        }
       }
      }
     },
     "metadata": {},
     "output_type": "display_data"
    }
   ],
   "source": [
    "fig = px.strip(\n",
    "    cleaned_tuition_df,\n",
    "    x=\"Level of study\",                # Categories on the x-axis (e.g., \"Canadian undergraduate\")\n",
    "    y=\"Annual Tuition (CAD)\",\n",
    "    color=\"Province/Territory\",        # Color by province/territory\n",
    "    color_discrete_map={\"Canada\": \"black\"},  # Specify Canada to appear in black\n",
    "    hover_data=[\"Province/Territory\"], # Hover shows which province a point belongs to\n",
    "    template='plotly'\n",
    ")\n",
    "\n",
    "fig.update_layout(\n",
    "    title=\"Tuition Fees by Level of Study (Canada avg in Black)\",\n",
    "    xaxis_title=\"Level of Study\",\n",
    "    yaxis_title=\"Annual Tuition (CAD)\",\n",
    "    legend_title=\"Province/Territory\"\n",
    ")\n",
    "\n",
    "fig.show()"
   ]
  },
  {
   "cell_type": "code",
   "execution_count": null,
   "metadata": {},
   "outputs": [
    {
     "data": {
      "application/vnd.plotly.v1+json": {
       "config": {
        "plotlyServerURL": "https://plot.ly"
       },
       "data": [
        {
         "alignmentgroup": "True",
         "boxpoints": "outliers",
         "customdata": [
          [
           "Canada"
          ],
          [
           "Newfoundland and Labrador"
          ],
          [
           "Prince Edward Island"
          ],
          [
           "Nova Scotia"
          ],
          [
           "New Brunswick"
          ],
          [
           "Quebec"
          ],
          [
           "Ontario"
          ],
          [
           "Manitoba"
          ],
          [
           "Saskatchewan"
          ],
          [
           "Alberta"
          ],
          [
           "British Columbia"
          ]
         ],
         "hovertemplate": "Level of study=%{x}<br>Annual Tuition (CAD)=%{y}<br>Province/Territory=%{customdata[0]}<extra></extra>",
         "legendgroup": "Canadian undergraduate",
         "marker": {
          "color": "#636efa"
         },
         "name": "Canadian undergraduate",
         "notched": false,
         "offsetgroup": "Canadian undergraduate",
         "orientation": "v",
         "showlegend": true,
         "type": "box",
         "x": [
          "Canadian undergraduate",
          "Canadian undergraduate",
          "Canadian undergraduate",
          "Canadian undergraduate",
          "Canadian undergraduate",
          "Canadian undergraduate",
          "Canadian undergraduate",
          "Canadian undergraduate",
          "Canadian undergraduate",
          "Canadian undergraduate",
          "Canadian undergraduate"
         ],
         "x0": " ",
         "xaxis": "x",
         "y": [
          7152,
          3593,
          7359,
          9551,
          8701,
          3489,
          8271,
          5390,
          9240,
          7561,
          6477
         ],
         "y0": " ",
         "yaxis": "y"
        },
        {
         "alignmentgroup": "True",
         "boxpoints": "outliers",
         "customdata": [
          [
           "Canada"
          ],
          [
           "Newfoundland and Labrador"
          ],
          [
           "Prince Edward Island"
          ],
          [
           "Nova Scotia"
          ],
          [
           "New Brunswick"
          ],
          [
           "Quebec"
          ],
          [
           "Ontario"
          ],
          [
           "Manitoba"
          ],
          [
           "Saskatchewan"
          ],
          [
           "Alberta"
          ],
          [
           "British Columbia"
          ]
         ],
         "hovertemplate": "Level of study=%{x}<br>Annual Tuition (CAD)=%{y}<br>Province/Territory=%{customdata[0]}<extra></extra>",
         "legendgroup": "Canadian graduate",
         "marker": {
          "color": "#EF553B"
         },
         "name": "Canadian graduate",
         "notched": false,
         "offsetgroup": "Canadian graduate",
         "orientation": "v",
         "showlegend": true,
         "type": "box",
         "x": [
          "Canadian graduate",
          "Canadian graduate",
          "Canadian graduate",
          "Canadian graduate",
          "Canadian graduate",
          "Canadian graduate",
          "Canadian graduate",
          "Canadian graduate",
          "Canadian graduate",
          "Canadian graduate",
          "Canadian graduate"
         ],
         "x0": " ",
         "xaxis": "x",
         "y": [
          7542,
          3435,
          5750,
          10479,
          7774,
          3760,
          9522,
          5775,
          5217,
          6489,
          10803
         ],
         "y0": " ",
         "yaxis": "y"
        },
        {
         "alignmentgroup": "True",
         "boxpoints": "outliers",
         "customdata": [
          [
           "Canada"
          ],
          [
           "Newfoundland and Labrador"
          ],
          [
           "Prince Edward Island"
          ],
          [
           "Nova Scotia"
          ],
          [
           "New Brunswick"
          ],
          [
           "Quebec"
          ],
          [
           "Ontario"
          ],
          [
           "Manitoba"
          ],
          [
           "Saskatchewan"
          ],
          [
           "Alberta"
          ],
          [
           "British Columbia"
          ]
         ],
         "hovertemplate": "Level of study=%{x}<br>Annual Tuition (CAD)=%{y}<br>Province/Territory=%{customdata[0]}<extra></extra>",
         "legendgroup": "International undergraduate",
         "marker": {
          "color": "#00cc96"
         },
         "name": "International undergraduate",
         "notched": false,
         "offsetgroup": "International undergraduate",
         "orientation": "v",
         "showlegend": true,
         "type": "box",
         "x": [
          "International undergraduate",
          "International undergraduate",
          "International undergraduate",
          "International undergraduate",
          "International undergraduate",
          "International undergraduate",
          "International undergraduate",
          "International undergraduate",
          "International undergraduate",
          "International undergraduate",
          "International undergraduate"
         ],
         "x0": " ",
         "xaxis": "x",
         "y": [
          38251,
          17515,
          19128,
          25885,
          17728,
          32319,
          46297,
          18928,
          28090,
          31498,
          35469
         ],
         "y0": " ",
         "yaxis": "y"
        },
        {
         "alignmentgroup": "True",
         "boxpoints": "outliers",
         "customdata": [
          [
           "Canada"
          ],
          [
           "Newfoundland and Labrador"
          ],
          [
           "Prince Edward Island"
          ],
          [
           "Nova Scotia"
          ],
          [
           "New Brunswick"
          ],
          [
           "Quebec"
          ],
          [
           "Ontario"
          ],
          [
           "Manitoba"
          ],
          [
           "Saskatchewan"
          ],
          [
           "Alberta"
          ],
          [
           "British Columbia"
          ]
         ],
         "hovertemplate": "Level of study=%{x}<br>Annual Tuition (CAD)=%{y}<br>Province/Territory=%{customdata[0]}<extra></extra>",
         "legendgroup": "International graduate",
         "marker": {
          "color": "#ab63fa"
         },
         "name": "International graduate",
         "notched": false,
         "offsetgroup": "International graduate",
         "orientation": "v",
         "showlegend": true,
         "type": "box",
         "x": [
          "International graduate",
          "International graduate",
          "International graduate",
          "International graduate",
          "International graduate",
          "International graduate",
          "International graduate",
          "International graduate",
          "International graduate",
          "International graduate",
          "International graduate"
         ],
         "x0": " ",
         "xaxis": "x",
         "y": [
          22114,
          4833,
          11513,
          22501,
          16398,
          21115,
          27010,
          12730,
          9280,
          15302,
          24139
         ],
         "y0": " ",
         "yaxis": "y"
        }
       ],
       "layout": {
        "boxmode": "overlay",
        "legend": {
         "title": {
          "text": "Level of study"
         },
         "tracegroupgap": 0
        },
        "margin": {
         "t": 60
        },
        "template": {
         "data": {
          "bar": [
           {
            "error_x": {
             "color": "#2a3f5f"
            },
            "error_y": {
             "color": "#2a3f5f"
            },
            "marker": {
             "line": {
              "color": "#E5ECF6",
              "width": 0.5
             },
             "pattern": {
              "fillmode": "overlay",
              "size": 10,
              "solidity": 0.2
             }
            },
            "type": "bar"
           }
          ],
          "barpolar": [
           {
            "marker": {
             "line": {
              "color": "#E5ECF6",
              "width": 0.5
             },
             "pattern": {
              "fillmode": "overlay",
              "size": 10,
              "solidity": 0.2
             }
            },
            "type": "barpolar"
           }
          ],
          "carpet": [
           {
            "aaxis": {
             "endlinecolor": "#2a3f5f",
             "gridcolor": "white",
             "linecolor": "white",
             "minorgridcolor": "white",
             "startlinecolor": "#2a3f5f"
            },
            "baxis": {
             "endlinecolor": "#2a3f5f",
             "gridcolor": "white",
             "linecolor": "white",
             "minorgridcolor": "white",
             "startlinecolor": "#2a3f5f"
            },
            "type": "carpet"
           }
          ],
          "choropleth": [
           {
            "colorbar": {
             "outlinewidth": 0,
             "ticks": ""
            },
            "type": "choropleth"
           }
          ],
          "contour": [
           {
            "colorbar": {
             "outlinewidth": 0,
             "ticks": ""
            },
            "colorscale": [
             [
              0,
              "#0d0887"
             ],
             [
              0.1111111111111111,
              "#46039f"
             ],
             [
              0.2222222222222222,
              "#7201a8"
             ],
             [
              0.3333333333333333,
              "#9c179e"
             ],
             [
              0.4444444444444444,
              "#bd3786"
             ],
             [
              0.5555555555555556,
              "#d8576b"
             ],
             [
              0.6666666666666666,
              "#ed7953"
             ],
             [
              0.7777777777777778,
              "#fb9f3a"
             ],
             [
              0.8888888888888888,
              "#fdca26"
             ],
             [
              1,
              "#f0f921"
             ]
            ],
            "type": "contour"
           }
          ],
          "contourcarpet": [
           {
            "colorbar": {
             "outlinewidth": 0,
             "ticks": ""
            },
            "type": "contourcarpet"
           }
          ],
          "heatmap": [
           {
            "colorbar": {
             "outlinewidth": 0,
             "ticks": ""
            },
            "colorscale": [
             [
              0,
              "#0d0887"
             ],
             [
              0.1111111111111111,
              "#46039f"
             ],
             [
              0.2222222222222222,
              "#7201a8"
             ],
             [
              0.3333333333333333,
              "#9c179e"
             ],
             [
              0.4444444444444444,
              "#bd3786"
             ],
             [
              0.5555555555555556,
              "#d8576b"
             ],
             [
              0.6666666666666666,
              "#ed7953"
             ],
             [
              0.7777777777777778,
              "#fb9f3a"
             ],
             [
              0.8888888888888888,
              "#fdca26"
             ],
             [
              1,
              "#f0f921"
             ]
            ],
            "type": "heatmap"
           }
          ],
          "histogram": [
           {
            "marker": {
             "pattern": {
              "fillmode": "overlay",
              "size": 10,
              "solidity": 0.2
             }
            },
            "type": "histogram"
           }
          ],
          "histogram2d": [
           {
            "colorbar": {
             "outlinewidth": 0,
             "ticks": ""
            },
            "colorscale": [
             [
              0,
              "#0d0887"
             ],
             [
              0.1111111111111111,
              "#46039f"
             ],
             [
              0.2222222222222222,
              "#7201a8"
             ],
             [
              0.3333333333333333,
              "#9c179e"
             ],
             [
              0.4444444444444444,
              "#bd3786"
             ],
             [
              0.5555555555555556,
              "#d8576b"
             ],
             [
              0.6666666666666666,
              "#ed7953"
             ],
             [
              0.7777777777777778,
              "#fb9f3a"
             ],
             [
              0.8888888888888888,
              "#fdca26"
             ],
             [
              1,
              "#f0f921"
             ]
            ],
            "type": "histogram2d"
           }
          ],
          "histogram2dcontour": [
           {
            "colorbar": {
             "outlinewidth": 0,
             "ticks": ""
            },
            "colorscale": [
             [
              0,
              "#0d0887"
             ],
             [
              0.1111111111111111,
              "#46039f"
             ],
             [
              0.2222222222222222,
              "#7201a8"
             ],
             [
              0.3333333333333333,
              "#9c179e"
             ],
             [
              0.4444444444444444,
              "#bd3786"
             ],
             [
              0.5555555555555556,
              "#d8576b"
             ],
             [
              0.6666666666666666,
              "#ed7953"
             ],
             [
              0.7777777777777778,
              "#fb9f3a"
             ],
             [
              0.8888888888888888,
              "#fdca26"
             ],
             [
              1,
              "#f0f921"
             ]
            ],
            "type": "histogram2dcontour"
           }
          ],
          "mesh3d": [
           {
            "colorbar": {
             "outlinewidth": 0,
             "ticks": ""
            },
            "type": "mesh3d"
           }
          ],
          "parcoords": [
           {
            "line": {
             "colorbar": {
              "outlinewidth": 0,
              "ticks": ""
             }
            },
            "type": "parcoords"
           }
          ],
          "pie": [
           {
            "automargin": true,
            "type": "pie"
           }
          ],
          "scatter": [
           {
            "fillpattern": {
             "fillmode": "overlay",
             "size": 10,
             "solidity": 0.2
            },
            "type": "scatter"
           }
          ],
          "scatter3d": [
           {
            "line": {
             "colorbar": {
              "outlinewidth": 0,
              "ticks": ""
             }
            },
            "marker": {
             "colorbar": {
              "outlinewidth": 0,
              "ticks": ""
             }
            },
            "type": "scatter3d"
           }
          ],
          "scattercarpet": [
           {
            "marker": {
             "colorbar": {
              "outlinewidth": 0,
              "ticks": ""
             }
            },
            "type": "scattercarpet"
           }
          ],
          "scattergeo": [
           {
            "marker": {
             "colorbar": {
              "outlinewidth": 0,
              "ticks": ""
             }
            },
            "type": "scattergeo"
           }
          ],
          "scattergl": [
           {
            "marker": {
             "colorbar": {
              "outlinewidth": 0,
              "ticks": ""
             }
            },
            "type": "scattergl"
           }
          ],
          "scattermap": [
           {
            "marker": {
             "colorbar": {
              "outlinewidth": 0,
              "ticks": ""
             }
            },
            "type": "scattermap"
           }
          ],
          "scattermapbox": [
           {
            "marker": {
             "colorbar": {
              "outlinewidth": 0,
              "ticks": ""
             }
            },
            "type": "scattermapbox"
           }
          ],
          "scatterpolar": [
           {
            "marker": {
             "colorbar": {
              "outlinewidth": 0,
              "ticks": ""
             }
            },
            "type": "scatterpolar"
           }
          ],
          "scatterpolargl": [
           {
            "marker": {
             "colorbar": {
              "outlinewidth": 0,
              "ticks": ""
             }
            },
            "type": "scatterpolargl"
           }
          ],
          "scatterternary": [
           {
            "marker": {
             "colorbar": {
              "outlinewidth": 0,
              "ticks": ""
             }
            },
            "type": "scatterternary"
           }
          ],
          "surface": [
           {
            "colorbar": {
             "outlinewidth": 0,
             "ticks": ""
            },
            "colorscale": [
             [
              0,
              "#0d0887"
             ],
             [
              0.1111111111111111,
              "#46039f"
             ],
             [
              0.2222222222222222,
              "#7201a8"
             ],
             [
              0.3333333333333333,
              "#9c179e"
             ],
             [
              0.4444444444444444,
              "#bd3786"
             ],
             [
              0.5555555555555556,
              "#d8576b"
             ],
             [
              0.6666666666666666,
              "#ed7953"
             ],
             [
              0.7777777777777778,
              "#fb9f3a"
             ],
             [
              0.8888888888888888,
              "#fdca26"
             ],
             [
              1,
              "#f0f921"
             ]
            ],
            "type": "surface"
           }
          ],
          "table": [
           {
            "cells": {
             "fill": {
              "color": "#EBF0F8"
             },
             "line": {
              "color": "white"
             }
            },
            "header": {
             "fill": {
              "color": "#C8D4E3"
             },
             "line": {
              "color": "white"
             }
            },
            "type": "table"
           }
          ]
         },
         "layout": {
          "annotationdefaults": {
           "arrowcolor": "#2a3f5f",
           "arrowhead": 0,
           "arrowwidth": 1
          },
          "autotypenumbers": "strict",
          "coloraxis": {
           "colorbar": {
            "outlinewidth": 0,
            "ticks": ""
           }
          },
          "colorscale": {
           "diverging": [
            [
             0,
             "#8e0152"
            ],
            [
             0.1,
             "#c51b7d"
            ],
            [
             0.2,
             "#de77ae"
            ],
            [
             0.3,
             "#f1b6da"
            ],
            [
             0.4,
             "#fde0ef"
            ],
            [
             0.5,
             "#f7f7f7"
            ],
            [
             0.6,
             "#e6f5d0"
            ],
            [
             0.7,
             "#b8e186"
            ],
            [
             0.8,
             "#7fbc41"
            ],
            [
             0.9,
             "#4d9221"
            ],
            [
             1,
             "#276419"
            ]
           ],
           "sequential": [
            [
             0,
             "#0d0887"
            ],
            [
             0.1111111111111111,
             "#46039f"
            ],
            [
             0.2222222222222222,
             "#7201a8"
            ],
            [
             0.3333333333333333,
             "#9c179e"
            ],
            [
             0.4444444444444444,
             "#bd3786"
            ],
            [
             0.5555555555555556,
             "#d8576b"
            ],
            [
             0.6666666666666666,
             "#ed7953"
            ],
            [
             0.7777777777777778,
             "#fb9f3a"
            ],
            [
             0.8888888888888888,
             "#fdca26"
            ],
            [
             1,
             "#f0f921"
            ]
           ],
           "sequentialminus": [
            [
             0,
             "#0d0887"
            ],
            [
             0.1111111111111111,
             "#46039f"
            ],
            [
             0.2222222222222222,
             "#7201a8"
            ],
            [
             0.3333333333333333,
             "#9c179e"
            ],
            [
             0.4444444444444444,
             "#bd3786"
            ],
            [
             0.5555555555555556,
             "#d8576b"
            ],
            [
             0.6666666666666666,
             "#ed7953"
            ],
            [
             0.7777777777777778,
             "#fb9f3a"
            ],
            [
             0.8888888888888888,
             "#fdca26"
            ],
            [
             1,
             "#f0f921"
            ]
           ]
          },
          "colorway": [
           "#636efa",
           "#EF553B",
           "#00cc96",
           "#ab63fa",
           "#FFA15A",
           "#19d3f3",
           "#FF6692",
           "#B6E880",
           "#FF97FF",
           "#FECB52"
          ],
          "font": {
           "color": "#2a3f5f"
          },
          "geo": {
           "bgcolor": "white",
           "lakecolor": "white",
           "landcolor": "#E5ECF6",
           "showlakes": true,
           "showland": true,
           "subunitcolor": "white"
          },
          "hoverlabel": {
           "align": "left"
          },
          "hovermode": "closest",
          "mapbox": {
           "style": "light"
          },
          "paper_bgcolor": "white",
          "plot_bgcolor": "#E5ECF6",
          "polar": {
           "angularaxis": {
            "gridcolor": "white",
            "linecolor": "white",
            "ticks": ""
           },
           "bgcolor": "#E5ECF6",
           "radialaxis": {
            "gridcolor": "white",
            "linecolor": "white",
            "ticks": ""
           }
          },
          "scene": {
           "xaxis": {
            "backgroundcolor": "#E5ECF6",
            "gridcolor": "white",
            "gridwidth": 2,
            "linecolor": "white",
            "showbackground": true,
            "ticks": "",
            "zerolinecolor": "white"
           },
           "yaxis": {
            "backgroundcolor": "#E5ECF6",
            "gridcolor": "white",
            "gridwidth": 2,
            "linecolor": "white",
            "showbackground": true,
            "ticks": "",
            "zerolinecolor": "white"
           },
           "zaxis": {
            "backgroundcolor": "#E5ECF6",
            "gridcolor": "white",
            "gridwidth": 2,
            "linecolor": "white",
            "showbackground": true,
            "ticks": "",
            "zerolinecolor": "white"
           }
          },
          "shapedefaults": {
           "line": {
            "color": "#2a3f5f"
           }
          },
          "ternary": {
           "aaxis": {
            "gridcolor": "white",
            "linecolor": "white",
            "ticks": ""
           },
           "baxis": {
            "gridcolor": "white",
            "linecolor": "white",
            "ticks": ""
           },
           "bgcolor": "#E5ECF6",
           "caxis": {
            "gridcolor": "white",
            "linecolor": "white",
            "ticks": ""
           }
          },
          "title": {
           "x": 0.05
          },
          "xaxis": {
           "automargin": true,
           "gridcolor": "white",
           "linecolor": "white",
           "ticks": "",
           "title": {
            "standoff": 15
           },
           "zerolinecolor": "white",
           "zerolinewidth": 2
          },
          "yaxis": {
           "automargin": true,
           "gridcolor": "white",
           "linecolor": "white",
           "ticks": "",
           "title": {
            "standoff": 15
           },
           "zerolinecolor": "white",
           "zerolinewidth": 2
          }
         }
        },
        "xaxis": {
         "anchor": "y",
         "categoryarray": [
          "Canadian undergraduate",
          "Canadian graduate",
          "International undergraduate",
          "International graduate"
         ],
         "categoryorder": "array",
         "domain": [
          0,
          1
         ],
         "title": {
          "text": "Level of study"
         }
        },
        "yaxis": {
         "anchor": "x",
         "domain": [
          0,
          1
         ],
         "title": {
          "text": "Annual Tuition (CAD)"
         }
        }
       }
      }
     },
     "metadata": {},
     "output_type": "display_data"
    }
   ],
   "source": [
    "fig = px.box(\n",
    "    cleaned_tuition_df,\n",
    "    x=\"Level of study\",\n",
    "    y=\"Annual Tuition (CAD)\",\n",
    "    color=\"Level of study\",\n",
    "    hover_data=[\"Province/Territory\"],\n",
    "    points=\"outliers\"\n",
    ")\n",
    "fig.show()"
   ]
  },
  {
   "cell_type": "markdown",
   "metadata": {},
   "source": [
    "Canada is deliberately marked in black in the scatter/swarm plot above as a mean marker.\n",
    "\n",
    "There are two ways the 'Canada' figure may have been calculated:\n",
    "1. By treating Canada as it is one single province, multiplying the program fee in each category by the enrolment, making a total sum, and dividing by total student number (assuming that is how the provincial figures were calculated)\n",
    "2. By taking a weighted average of the provincial figures, summing those provincial figures and multiplying each by the share of Canada's population.\n",
    "\n",
    "I'm assuming the first; Canada is calculated with the same logic as the individual provinces, just accounting for every single data point in every province here. Given that Ontario has the most students, it makes sense that the Canada data point sits closest to Ontario, and the highest fees of any province in the International undergraduate category would naturally weigh the Canada average towards Ontario at the higher end of the fees list."
   ]
  }
 ],
 "metadata": {
  "kernelspec": {
   "display_name": "base",
   "language": "python",
   "name": "python3"
  },
  "language_info": {
   "codemirror_mode": {
    "name": "ipython",
    "version": 3
   },
   "file_extension": ".py",
   "mimetype": "text/x-python",
   "name": "python",
   "nbconvert_exporter": "python",
   "pygments_lexer": "ipython3",
   "version": "3.12.2"
  }
 },
 "nbformat": 4,
 "nbformat_minor": 2
}
