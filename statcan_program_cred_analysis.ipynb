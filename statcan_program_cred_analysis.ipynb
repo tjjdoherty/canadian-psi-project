{
 "cells": [
  {
   "cell_type": "markdown",
   "metadata": {},
   "source": [
    "# Feb 2025 Full details version - Enrolment by Program and Credential type & revenue impact"
   ]
  },
  {
   "cell_type": "markdown",
   "metadata": {},
   "source": [
    "## Introduction\n",
    "\n",
    "This notebook looks at enrolment down to the program and credentials level to assess the impact of international enrolment changes on revenue, and other trends that have emerged in the time period.\n",
    "\n",
    "Following on from the lead notebook, this notebook is more thorough look at the data, with program and credential specific analysis. \n",
    "- Unless explicitly stated, all program types, credential types, and other parameters are included in this data sheet at the outset and examined for significance before discarding it, as we move towards\n",
    "\n",
    "Source:\n",
    "[StatCan: Postsecondary enrolments, by detailed field of study, institution, and program and student characteristics](https://www150.statcan.gc.ca/t1/tbl1/en/cv.action?pid=3710027701)\n",
    "\n",
    "**Important notes**\n",
    "\n",
    "1. Statcan's Classification of program types [is here](https://www23.statcan.gc.ca/imdb/p3VD.pl?Function=getVD&TVD=1252482&CVD=1252483&CLV=0&MLV=2&D=1). \n",
    "    - **Graduate (second cycle) means Master's programs, or those that otherwise require a Bachelor's degree**\n",
    "    - **Graduate (third cycle) is PhD**\n",
    "    - Certificates and Diplomas are inconsistent and have different criteria in different provinces, see pt. 4\n",
    "\n",
    "2. I'm using **2022-2023 enrolment data, and 2023/2024 tuition fee figures**, the latest available. We will use 2023-24 tuition fees, and enrolment from 22-23 with hypothetical declines in student enrolment due to IRCC changes made January 2024 to estimate revenue changes into the future.\n",
    "\n",
    "3. The easiest distinction is at Program Type, between undergraduate and graduate degrees for their tuition fee costs. However, you need to look at Credential Type for certificates and diplomas (popular at the colleges)\n",
    "\n",
    "4. There is inconsistency in where graduate diplomas/certificates sit in 'program type'.\n",
    "    - For example there are 509,000 Credential type: Diploma students across all of Canada in 22/23 and 386k of them are in 'Career, Technical or Professional Training Program' Program Type. 85k of these are sitting under 'Pre-University Program' (of 87k total in the Pre-uni category) which makes me think there are PSIs classifying a High School diploma, which wouldn't impact tuition fees. The remaining 55k are scattered across various other program types\n",
    "    - Certificate credentials are clearer - of 190k in Canada, almost all are captured in the 'Career, Technical or Professional Training Program', 'Post Career, Technical or Professional Training Program' or Undergraduate.\n",
    "    - *Post career, technical or professional training program* specifically includes **Ontario graduate certificate programs**\n",
    "\n",
    "5. I only imported the student enrolment from full programs - there were around 100,000 enrolments (out of 2.2m total enrolments in all programs) in 'non-program' some were non credit, some undergraduate, some graduate, I assume this meant students taking individual classes to complete programs at a later date, and not an end-to-end program enrolment on a schedule.\n",
    "6. The above analysis was done on full-time and part time students. As with my analysis earlier, I am only taking full-time PSI student data (a total of 1.7m in Canada)\n",
    "\n",
    "\n",
    "All this is to say the calculations here will be estimates at best, with the heavy lifting being done by the difference between domestic and international tuition fees mostly at the undergraduate and graduate degree level, as these are the most numerous and require somewhat less granularity than fees for certificates/diplomas."
   ]
  },
  {
   "cell_type": "markdown",
   "metadata": {},
   "source": [
    "Need to begin modularising this project"
   ]
  },
  {
   "cell_type": "code",
   "execution_count": 1,
   "metadata": {},
   "outputs": [],
   "source": [
    "import pandas as pd\n",
    "import numpy as np\n",
    "import matplotlib.pyplot as plt\n",
    "import seaborn as sns\n",
    "import plotly.graph_objects as go\n",
    "import plotly.express as px\n",
    "\n",
    "# for the preprocessing pipeline\n",
    "from sklearn.base import BaseEstimator, TransformerMixin\n",
    "from sklearn.pipeline import Pipeline"
   ]
  }
 ],
 "metadata": {
  "kernelspec": {
   "display_name": "base",
   "language": "python",
   "name": "python3"
  },
  "language_info": {
   "codemirror_mode": {
    "name": "ipython",
    "version": 3
   },
   "file_extension": ".py",
   "mimetype": "text/x-python",
   "name": "python",
   "nbconvert_exporter": "python",
   "pygments_lexer": "ipython3",
   "version": "3.12.2"
  }
 },
 "nbformat": 4,
 "nbformat_minor": 2
}
